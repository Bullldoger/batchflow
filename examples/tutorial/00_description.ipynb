{
 "cells": [
  {
   "cell_type": "markdown",
   "metadata": {},
   "source": [
    "# Hello and welcome to the Dataset tutorials!\n",
    "Today you have a unique chance to increase your knowledge with the Dataset library, and the tutorials shown below will help you with these noble purpose. Good luck :)\n",
    "1. [Introduce to the Dataset](./01_dataset.ipynb). This is a long tutorial about what the Dataset is and how you can configurate your dataset models.\n",
    "2. [Batch operations](./02_batch_operations.ipynb). A short guide on how to use the batch class.\n",
    "3. [Pipeline operations](./03_pipeline_operations.ipynb). A short guide on how to use pipelines.\n",
    "4. [Own model](./04_creating_own_model.ipynb). Tutorial, shows how you can create and train your models to recognize the numbers from MNIST.\n",
    "5. [Usage of ready to use models](./05_basic_model_usage.ipynb). Fast guide on how to create and train ready to use models like ResNet, VGG and [others](https://analysiscenter.github.io/dataset/intro/tf_models_zoo.html).\n",
    "6. [Detailed usage of ready to use models](./06_detailed_model_usage.ipynb). The long story about how you can create and configurate implemented models, train it on CIFAR and save the weights of the model.\n",
    "7. [Images batch examples](./07_image_augmentation_examples.ipynb). Examples of using the images batch class."
   ]
  }
 ],
 "metadata": {
  "kernelspec": {
   "display_name": "Python 3",
   "language": "python",
   "name": "python3"
  },
  "language_info": {
   "codemirror_mode": {
    "name": "ipython",
    "version": 3
   },
   "file_extension": ".py",
   "mimetype": "text/x-python",
   "name": "python",
   "nbconvert_exporter": "python",
   "pygments_lexer": "ipython3",
   "version": "3.6.4"
  }
 },
 "nbformat": 4,
 "nbformat_minor": 2
}
