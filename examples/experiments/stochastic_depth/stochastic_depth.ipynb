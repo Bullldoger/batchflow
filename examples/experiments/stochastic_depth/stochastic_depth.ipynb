{
 "cells": [
  {
   "cell_type": "markdown",
   "metadata": {},
   "source": [
    "# Stochastic depth\n",
    "\n",
    "[Dropout](http://www.jmlr.org/papers/volume15/srivastava14a/srivastava14a.pdf) proved to be a working tool that improves the stability of a neural network. Essentially, dropout shuts down some neurons of a specific layer. Gao Huang, Yu Sun, Zhuang Liu What in the [article](https://arxiv.org/abs/1603.09382) _\"Deep Networks with Stochastic Depth\"_ went into further and attempted to shut down whole blocks of layers. \n",
    "\n",
    "In this notebook, we will investigate whether the stochastic depth improves accuracy of neural networks.\n",
    "\n",
    "Pay attention to the [file](./resnet_with_stochastic_depth.py) if you want to know how the Stochastic ResNet is implemented.\n"
   ]
  },
  {
   "cell_type": "code",
   "execution_count": 1,
   "metadata": {},
   "outputs": [
    {
     "name": "stderr",
     "output_type": "stream",
     "text": [
      "/home/anton/anaconda3/envs/tensorflow/lib/python3.6/site-packages/h5py/__init__.py:36: FutureWarning: Conversion of the second argument of issubdtype from `float` to `np.floating` is deprecated. In future, it will be treated as `np.float64 == np.dtype(float).type`.\n",
      "  from ._conv import register_converters as _register_converters\n"
     ]
    }
   ],
   "source": [
    "import sys\n",
    "\n",
    "import matplotlib.pyplot as plt\n",
    "from tqdm import tqdm_notebook as tqn\n",
    "%matplotlib inline\n",
    "\n",
    "sys.path.append('../../..')\n",
    "sys.path.append('../../utils')\n",
    "import utils\n",
    "from resnet_with_stochastic_depth import StochasticResNet\n",
    "from dataset import B, V, F\n",
    "from dataset.opensets import MNIST\n",
    "from dataset.models.tf import ResNet50"
   ]
  },
  {
   "cell_type": "markdown",
   "metadata": {},
   "source": [
    "In our expements we will work with MNIST dataset"
   ]
  },
  {
   "cell_type": "code",
   "execution_count": 2,
   "metadata": {},
   "outputs": [
    {
     "name": "stdout",
     "output_type": "stream",
     "text": [
      "Downloading http://yann.lecun.com/exdb/mnist/train-images-idx3-ubyte.gz\n",
      "Downloading http://yann.lecun.com/exdb/mnist/train-labels-idx1-ubyte.gz\n",
      "Downloading http://yann.lecun.com/exdb/mnist/t10k-images-idx3-ubyte.gz\n",
      "Downloading ExtractingExtractinghttp://yann.lecun.com/exdb/mnist/t10k-labels-idx1-ubyte.gz\n",
      " /tmp/train-images-idx3-ubyte.gz\n",
      " /tmp/t10k-images-idx3-ubyte.gz\n",
      "Extracting /tmp/t10k-labels-idx1-ubyte.gz\n",
      "Extracting /tmp/train-labels-idx1-ubyte.gz\n"
     ]
    }
   ],
   "source": [
    "dset = MNIST()"
   ]
  },
  {
   "cell_type": "markdown",
   "metadata": {},
   "source": [
    "Firstly, let us define the shape of inputs of our model, loss function and an optimizer:"
   ]
  },
  {
   "cell_type": "code",
   "execution_count": 3,
   "metadata": {},
   "outputs": [],
   "source": [
    "ResNet_config = {\n",
    "    'inputs': {'images': {'shape': (28, 28, 1)},\n",
    "               'labels': {'classes': (10),\n",
    "                          'transform': 'ohe',\n",
    "                          'dtype': 'int64',\n",
    "                          'name': 'targets'}},\n",
    "    'input_block/inputs': 'images',\n",
    "    'loss': 'ce',\n",
    "    'body/block/layout': 'cna cna cna',\n",
    "    'optimizer': 'Adam',\n",
    "    'decay': None,\n",
    "    'output': dict(ops=['accuracy'])\n",
    "}\n",
    "\n",
    "Stochastic_config = {**ResNet_config}"
   ]
  },
  {
   "cell_type": "markdown",
   "metadata": {},
   "source": [
    "Secondly, we create pipelines for train and test Simple ResNet model"
   ]
  },
  {
   "cell_type": "code",
   "execution_count": 4,
   "metadata": {},
   "outputs": [],
   "source": [
    "res_train_ppl = (dset.train.p\n",
    "                 .init_model('dynamic',\n",
    "                             ResNet50,\n",
    "                             'resnet',\n",
    "                             config=ResNet_config)\n",
    "                 .train_model('resnet',\n",
    "                              feed_dict={'images': B('images'),\n",
    "                                         'labels': B('labels')}))\n",
    "res_test_ppl = (dset.test.p\n",
    "                .init_variable('resacc', init_on_each_run=list)\n",
    "                .import_model('resnet', res_train_ppl)\n",
    "                .predict_model('resnet',\n",
    "                               fetches='output_accuracy',\n",
    "                               feed_dict={'images': B('images'),\n",
    "                                          'labels': B('labels')},\n",
    "                               save_to=V('resacc'), \n",
    "                               mode='a'))"
   ]
  },
  {
   "cell_type": "markdown",
   "metadata": {},
   "source": [
    "The same thing for Stochastic ResNet model"
   ]
  },
  {
   "cell_type": "code",
   "execution_count": 5,
   "metadata": {},
   "outputs": [],
   "source": [
    "stochastic_train_ppl = (dset.train.p\n",
    "                        .init_model('dynamic',\n",
    "                                    StochasticResNet,\n",
    "                                    'stochastic',\n",
    "                                    config=Stochastic_config)\n",
    "                        .init_variable('stochasticacc', init_on_each_run=list)\n",
    "                        .train_model('stochastic',\n",
    "                                     feed_dict={'images': B('images'),\n",
    "                                                'labels': B('labels')}))\n",
    "stochastic_test_ppl = (dset.test.p\n",
    "                       .init_variable('stochasticacc', init_on_each_run=list)\n",
    "                       .import_model('stochastic', stochastic_train_ppl)\n",
    "                       .predict_model('stochastic',\n",
    "                                      fetches='output_accuracy',\n",
    "                                      feed_dict={'images': B('images'),\n",
    "                                                 'labels': B('labels')},\n",
    "                                      save_to=V('stochasticacc'),\n",
    "                                      mode='a'))"
   ]
  },
  {
   "cell_type": "markdown",
   "metadata": {},
   "source": [
    "Let's train our models"
   ]
  },
  {
   "cell_type": "code",
   "execution_count": 6,
   "metadata": {},
   "outputs": [
    {
     "data": {
      "application/vnd.jupyter.widget-view+json": {
       "model_id": "8e08c1144ace4808b268ba82e4c183c0",
       "version_major": 2,
       "version_minor": 0
      },
      "text/html": [
       "<p>Failed to display Jupyter Widget of type <code>HBox</code>.</p>\n",
       "<p>\n",
       "  If you're reading this message in the Jupyter Notebook or JupyterLab Notebook, it may mean\n",
       "  that the widgets JavaScript is still loading. If this message persists, it\n",
       "  likely means that the widgets JavaScript library is either not installed or\n",
       "  not enabled. See the <a href=\"https://ipywidgets.readthedocs.io/en/stable/user_install.html\">Jupyter\n",
       "  Widgets Documentation</a> for setup instructions.\n",
       "</p>\n",
       "<p>\n",
       "  If you're reading this message in another frontend (for example, a static\n",
       "  rendering on GitHub or <a href=\"https://nbviewer.jupyter.org/\">NBViewer</a>),\n",
       "  it may mean that your frontend doesn't currently support widgets.\n",
       "</p>\n"
      ],
      "text/plain": [
       "HBox(children=(IntProgress(value=0, max=1000), HTML(value='')))"
      ]
     },
     "metadata": {},
     "output_type": "display_data"
    },
    {
     "name": "stdout",
     "output_type": "stream",
     "text": [
      "\n"
     ]
    }
   ],
   "source": [
    "for i in tqn(range(1000)):\n",
    "    res_train_ppl.next_batch(400, n_epochs=None, shuffle=True)\n",
    "    res_test_ppl.next_batch(400, n_epochs=None, shuffle=True)\n",
    "    stochastic_train_ppl.next_batch(400, n_epochs=None, shuffle=True)\n",
    "    stochastic_test_ppl.next_batch(400, n_epochs=None, shuffle=True)"
   ]
  },
  {
   "cell_type": "markdown",
   "metadata": {},
   "source": [
    "Show test accuracy for all iterations"
   ]
  },
  {
   "cell_type": "code",
   "execution_count": 7,
   "metadata": {
    "scrolled": false
   },
   "outputs": [
    {
     "name": "stderr",
     "output_type": "stream",
     "text": [
      "../../utils/utils.py:44: FutureWarning: pd.ewm_mean is deprecated for ndarrays and will be removed in a future version\n",
      "  firt_ewma = ewma(np.array(first), span=window, adjust=False)\n",
      "../../utils/utils.py:45: FutureWarning: pd.ewm_mean is deprecated for ndarrays and will be removed in a future version\n",
      "  second_ewma = ewma(np.array(second), span=window, adjust=False) if second else None\n"
     ]
    },
    {
     "data": {
      "image/png": "[encoded data removed]",
      "text/plain": [
       "<matplotlib.figure.Figure at 0x7f29a6d0a128>"
      ]
     },
     "metadata": {},
     "output_type": "display_data"
    }
   ],
   "source": [
    "plt.style.use('seaborn-poster')\n",
    "resnet_loss = res_test_ppl.get_variable('resacc')\n",
    "stochastic_loss = stochastic_test_ppl.get_variable('stochasticacc')\n",
    "utils.draw(resnet_loss, 'ResNet', stochastic_loss, 'Stochastic', window=20, type_data='accuracy')"
   ]
  },
  {
   "cell_type": "markdown",
   "metadata": {},
   "source": [
    "It can be seen that the model with stochastic depth reaches a better quality faster (by the number of iterations) than the usual model."
   ]
  },
  {
   "cell_type": "markdown",
   "metadata": {},
   "source": [
    "### Conclusion:\n",
    "* Our experement don't show any increase of accuracy for Stochastic ResNet.\n",
    "* Dropping blocks from the network increases the stability of the network.\n",
    "* With the passage of time, both models have the same quality.\n",
    "\n",
    "### And what's next?\n",
    "* In our experiment, we chose a certain shutdown threshold. You can choose another one to achieve better quality.\n",
    "* If you still have not completed our tutorial, you can fix it right [now](./../../tutorial/00_description.ipynb)!\n",
    "* Read and apply another experiments:\n",
    "    * next [experiment](./../squeeze_and_excitation/squeeze_and_excitation.ipynb)\n",
    "    * previous [experiment](./../zeroing_of_weights/zeroing_of_weights.ipynb)\n",
    "    * return to the [table of contents](./../experiments_description.ipynb).\n"
   ]
  }
 ],
 "metadata": {
  "kernelspec": {
   "display_name": "Python 3",
   "language": "python",
   "name": "python3"
  },
  "language_info": {
   "codemirror_mode": {
    "name": "ipython",
    "version": 3
   },
   "file_extension": ".py",
   "mimetype": "text/x-python",
   "name": "python",
   "nbconvert_exporter": "python",
   "pygments_lexer": "ipython3",
   "version": "3.6.4"
  }
 },
 "nbformat": 4,
 "nbformat_minor": 2
}
