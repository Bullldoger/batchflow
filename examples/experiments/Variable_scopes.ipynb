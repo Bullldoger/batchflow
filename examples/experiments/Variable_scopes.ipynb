{
 "cells": [
  {
   "cell_type": "code",
   "execution_count": 2,
   "metadata": {},
   "outputs": [
    {
     "name": "stdout",
     "output_type": "stream",
     "text": [
      "The autoreload extension is already loaded. To reload it, use:\n",
      "  %reload_ext autoreload\n"
     ]
    }
   ],
   "source": [
    "%load_ext autoreload\n",
    "%autoreload 2\n",
    "\n",
    "import tensorflow as tf\n",
    "import warnings\n",
    "warnings.filterwarnings('ignore')\n",
    "import sys\n",
    "\n",
    "import matplotlib.pyplot as plt\n",
    "from batchflow.opensets import MNIST\n",
    "from batchflow.models.tf import TFModel\n",
    "from batchflow import Pipeline, L, F, V, D, B, DatasetIndex, Dataset, ImagesBatch, Config\n",
    "\n",
    "import numpy as np"
   ]
  },
  {
   "cell_type": "code",
   "execution_count": 3,
   "metadata": {},
   "outputs": [
    {
     "name": "stdout",
     "output_type": "stream",
     "text": [
      "Downloading http://yann.lecun.com/exdb/mnist/train-images-idx3-ubyte.gz\n",
      "Downloading http://yann.lecun.com/exdb/mnist/train-labels-idx1-ubyte.gz\n",
      "Downloading http://yann.lecun.com/exdb/mnist/t10k-images-idx3-ubyte.gz\n",
      "Downloading http://yann.lecun.com/exdb/mnist/t10k-labels-idx1-ubyte.gz\n",
      "Extracting /tmp/train-labels-idx1-ubyte.gz\n",
      "Extracting /tmp/t10k-images-idx3-ubyte.gz\n",
      "Extracting /tmp/train-images-idx3-ubyte.gz\n",
      "Extracting /tmp/t10k-labels-idx1-ubyte.gz\n"
     ]
    }
   ],
   "source": [
    "mnist = MNIST(batch_class=ImagesBatch)"
   ]
  },
  {
   "cell_type": "code",
   "execution_count": 4,
   "metadata": {},
   "outputs": [],
   "source": [
    "decay_d = ('exp', {'learning_rate': 0.001,\n",
    "                   'decay_steps': 150,\n",
    "                   'decay_rate': 0.96})\n",
    "\n",
    "model_config = {'inputs': dict(images={'shape': (28, 28, 1)},\n",
    "                               masks={'name': 'targets', 'shape': (28, 28, 1)}),\n",
    "                'initial_block': {'layout': 'cna'*2,\n",
    "                                  'filters': [6]*2, 'kernel_size': [3]*2,\n",
    "                                  'inputs': 'images'},\n",
    "                'body': {'layout': 'nca nca',\n",
    "                         'filters': [8, 1],\n",
    "                         'kernel_size': [3, 3]},\n",
    "                'head': {'layout': 'nca',\n",
    "                         'filters': 1,\n",
    "                         'kernel_size': 3},\n",
    "                'loss': 'mse',\n",
    "#                 'optimizer': 'Adam',\n",
    "                'decay': decay_d,\n",
    "                'train_steps': {'ALL': {'optimizer': 'RMSProp', 'decay': decay_d},\n",
    "                                'BODY': {'optimizer': 'Adam', 'scope': 'body',\n",
    "                                         'loss': ('l1', {'targets': 'body_tensor'})},\n",
    "                                'HEAD': {'optimizer': 'Adagrad', 'scope': 'head', 'decay': decay_d},\n",
    "                                'CUSTOM': {'optimizer': 'Adam', 'scope': '-initial_block/layer-0'}},\n",
    "                'head/units': 10\n",
    "}\n",
    "\n",
    "data_dict = {'images': B('images'),\n",
    "             'masks': B('images')}\n",
    "\n",
    "train_pipeline = (mnist.train.p\n",
    "                 .init_variable('loss_history', init_on_each_run=list)\n",
    "                 .init_variable('current_loss')\n",
    "                 .to_array()\n",
    "                 .multiply(multiplier=1/255., preserve_type=False)\n",
    "                 .init_model('dynamic', TFModel, 'conv', config=model_config)\n",
    "                 .to_array()\n",
    "                 .train_model('conv', fetches='lossALL', feed_dict=data_dict, \n",
    "                              train_mode='ALL',\n",
    "                              save_to=V('current_loss'))\n",
    "                 .update_variable('loss_history', \n",
    "                                  V('current_loss'), \n",
    "                                  mode='a')\n",
    "                  )"
   ]
  },
  {
   "cell_type": "code",
   "execution_count": 6,
   "metadata": {
    "scrolled": true
   },
   "outputs": [
    {
     "name": "stdout",
     "output_type": "stream",
     "text": [
      "CPU times: user 1.37 s, sys: 104 ms, total: 1.48 s\n",
      "Wall time: 528 ms\n"
     ]
    }
   ],
   "source": [
    "%%time\n",
    "n_b = train_pipeline.next_batch(256, n_epochs=None)\n",
    "# n_b = train_pipeline.run(256, n_epochs=2, bar=True)"
   ]
  },
  {
   "cell_type": "code",
   "execution_count": 7,
   "metadata": {},
   "outputs": [
    {
     "name": "stderr",
     "output_type": "stream",
     "text": [
      "100%|█████████▉| 234/235 [02:05<00:00,  1.89it/s]"
     ]
    },
    {
     "name": "stdout",
     "output_type": "stream",
     "text": [
      "CPU times: user 5min 40s, sys: 15.3 s, total: 5min 55s\n",
      "Wall time: 2min 5s\n"
     ]
    },
    {
     "name": "stderr",
     "output_type": "stream",
     "text": [
      "\n"
     ]
    },
    {
     "data": {
      "text/plain": [
       "<batchflow.batchflow.pipeline.Pipeline at 0x7f199de9ada0>"
      ]
     },
     "execution_count": 7,
     "metadata": {},
     "output_type": "execute_result"
    }
   ],
   "source": [
    "%%time\n",
    "train_pipeline.run(batch_size=256, n_epochs=1, bar=True)"
   ]
  },
  {
   "cell_type": "code",
   "execution_count": 8,
   "metadata": {},
   "outputs": [
    {
     "data": {
      "image/png": "[encoded data removed]",
      "text/plain": [
       "<Figure size 432x288 with 1 Axes>"
      ]
     },
     "metadata": {
      "needs_background": "light"
     },
     "output_type": "display_data"
    }
   ],
   "source": [
    "plt.plot(train_pipeline.get_variable(\"loss_history\"))\n",
    "plt.xlabel(\"Iterations\"), plt.ylabel(\"Loss\")\n",
    "plt.show()"
   ]
  },
  {
   "cell_type": "code",
   "execution_count": null,
   "metadata": {
    "scrolled": true
   },
   "outputs": [],
   "source": [
    "model = train_pipeline.get_model_by_name('conv')"
   ]
  },
  {
   "cell_type": "code",
   "execution_count": null,
   "metadata": {},
   "outputs": [],
   "source": [
    "batch = train_pipeline.next_batch(10, n_epochs=None)"
   ]
  },
  {
   "cell_type": "code",
   "execution_count": null,
   "metadata": {},
   "outputs": [],
   "source": [
    "train_pipeline.get_variable('result')[0][1].shape"
   ]
  },
  {
   "cell_type": "code",
   "execution_count": null,
   "metadata": {},
   "outputs": [],
   "source": [
    "model.graph.get_operations()"
   ]
  },
  {
   "cell_type": "code",
   "execution_count": null,
   "metadata": {},
   "outputs": [],
   "source": []
  },
  {
   "cell_type": "code",
   "execution_count": null,
   "metadata": {},
   "outputs": [],
   "source": [
    "tf.get_collection(tf.GraphKeys.TRAINABLE_VARIABLES)"
   ]
  },
  {
   "cell_type": "code",
   "execution_count": null,
   "metadata": {},
   "outputs": [],
   "source": []
  },
  {
   "cell_type": "code",
   "execution_count": null,
   "metadata": {},
   "outputs": [],
   "source": []
  }
 ],
 "metadata": {
  "kernelspec": {
   "display_name": "Python 3",
   "language": "python",
   "name": "python3"
  },
  "language_info": {
   "codemirror_mode": {
    "name": "ipython",
    "version": 3
   },
   "file_extension": ".py",
   "mimetype": "text/x-python",
   "name": "python",
   "nbconvert_exporter": "python",
   "pygments_lexer": "ipython3",
   "version": "3.7.1"
  }
 },
 "nbformat": 4,
 "nbformat_minor": 2
}
