{
 "cells": [
  {
   "cell_type": "code",
   "execution_count": 1,
   "metadata": {},
   "outputs": [],
   "source": [
    "%load_ext autoreload\n",
    "%autoreload 2\n",
    "\n",
    "import tensorflow as tf\n",
    "import warnings\n",
    "warnings.filterwarnings('ignore')\n",
    "import sys\n",
    "\n",
    "sys.path.append('./../../')\n",
    "import matplotlib.pyplot as plt\n",
    "from batchflow.opensets import MNIST\n",
    "from batchflow.models.tf import TFModel\n",
    "from batchflow import Pipeline, L, F, V, D, B, DatasetIndex, Dataset, ImagesBatch, Config\n",
    "\n",
    "import numpy as np"
   ]
  },
  {
   "cell_type": "code",
   "execution_count": 26,
   "metadata": {},
   "outputs": [
    {
     "name": "stdout",
     "output_type": "stream",
     "text": [
      "DownloadingDownloading http://yann.lecun.com/exdb/mnist/train-labels-idx1-ubyte.gz\n",
      " Downloading http://yann.lecun.com/exdb/mnist/t10k-images-idx3-ubyte.gz\n",
      "http://yann.lecun.com/exdb/mnist/train-images-idx3-ubyte.gz\n",
      "Downloading http://yann.lecun.com/exdb/mnist/t10k-labels-idx1-ubyte.gz\n",
      "Downloaded t10k-labels-idx1-ubyte.gz\n",
      "Extracting /tmp/t10k-labels-idx1-ubyte.gz\n",
      "Downloaded train-labels-idx1-ubyte.gz\n",
      "Extracting /tmp/train-labels-idx1-ubyte.gz\n",
      "Downloaded t10k-images-idx3-ubyte.gz\n",
      "Extracting /tmp/t10k-images-idx3-ubyte.gz\n",
      "Downloaded train-images-idx3-ubyte.gz\n",
      "Extracting /tmp/train-images-idx3-ubyte.gz\n"
     ]
    }
   ],
   "source": [
    "mnist = MNIST(batch_class=ImagesBatch)"
   ]
  },
  {
   "cell_type": "code",
   "execution_count": 27,
   "metadata": {},
   "outputs": [],
   "source": [
    "decay_d = ('exp', {'learning_rate': 0.001,\n",
    "                   'decay_steps': 150,\n",
    "                   'decay_rate': 0.96})\n",
    "\n",
    "model_config = {\n",
    "    'inputs': dict(images={'shape': (28, 28, 1)}, labels={'classes': 10}),\n",
    "    'initial_block': {'layout': 'cna'*2,\n",
    "                      'filters': [6]*2, 'kernel_size': [3]*2,\n",
    "                      'inputs': 'images'},\n",
    "    'body': {'layout': 'nca nca',\n",
    "             'filters': [16]*2, 'kernel_size': [3]*2},\n",
    "    'head': {'layout': 'Pfa', 'units': 10},\n",
    "    'loss': 'ce',\n",
    "    'decay': decay_d,\n",
    "    'train_steps': {'ALL': {'optimizer': 'RMSProp', 'decay': decay_d},\n",
    "                    'BODY': {'optimizer': 'Adam', 'scope': 'body', 'loss': 'ce'},\n",
    "                    'HEAD': {'optimizer': 'Adagrad', 'scope': 'head', 'decay': decay_d},\n",
    "                    'CUSTOM': {'optimizer': 'Adam', 'scope': '-initial_block/layer-0'},\n",
    "                    'RRRRRRR': {'optimizer': 'Adam', 'scope': ['initial_block/layer-0', 'initial_block/layer-1']}},\n",
    "}"
   ]
  },
  {
   "cell_type": "code",
   "execution_count": 24,
   "metadata": {},
   "outputs": [
    {
     "name": "stdout",
     "output_type": "stream",
     "text": [
      "\n",
      "ALL\n",
      "<tf.Variable 'TFModel/initial_block/layer-0/conv2d/kernel:0' shape=(3, 3, 1, 6) dtype=float32_ref>\n",
      "<tf.Variable 'TFModel/initial_block/layer-0/conv2d/bias:0' shape=(6,) dtype=float32_ref>\n",
      "<tf.Variable 'TFModel/initial_block/layer-1/batch_normalization/gamma:0' shape=(6,) dtype=float32_ref>\n",
      "<tf.Variable 'TFModel/initial_block/layer-1/batch_normalization/beta:0' shape=(6,) dtype=float32_ref>\n",
      "<tf.Variable 'TFModel/initial_block/layer-3/conv2d/kernel:0' shape=(3, 3, 6, 6) dtype=float32_ref>\n",
      "<tf.Variable 'TFModel/initial_block/layer-3/conv2d/bias:0' shape=(6,) dtype=float32_ref>\n",
      "<tf.Variable 'TFModel/initial_block/layer-4/batch_normalization/gamma:0' shape=(6,) dtype=float32_ref>\n",
      "<tf.Variable 'TFModel/initial_block/layer-4/batch_normalization/beta:0' shape=(6,) dtype=float32_ref>\n",
      "<tf.Variable 'TFModel/body/layer-0/batch_normalization/gamma:0' shape=(6,) dtype=float32_ref>\n",
      "<tf.Variable 'TFModel/body/layer-0/batch_normalization/beta:0' shape=(6,) dtype=float32_ref>\n",
      "<tf.Variable 'TFModel/body/layer-1/conv2d/kernel:0' shape=(3, 3, 6, 16) dtype=float32_ref>\n",
      "<tf.Variable 'TFModel/body/layer-1/conv2d/bias:0' shape=(16,) dtype=float32_ref>\n",
      "<tf.Variable 'TFModel/body/layer-3/batch_normalization/gamma:0' shape=(16,) dtype=float32_ref>\n",
      "<tf.Variable 'TFModel/body/layer-3/batch_normalization/beta:0' shape=(16,) dtype=float32_ref>\n",
      "<tf.Variable 'TFModel/body/layer-4/conv2d/kernel:0' shape=(3, 3, 16, 16) dtype=float32_ref>\n",
      "<tf.Variable 'TFModel/body/layer-4/conv2d/bias:0' shape=(16,) dtype=float32_ref>\n",
      "<tf.Variable 'TFModel/head/layer-1/dense/kernel:0' shape=(16, 10) dtype=float32_ref>\n",
      "<tf.Variable 'TFModel/head/layer-1/dense/bias:0' shape=(10,) dtype=float32_ref>\n",
      "\n",
      "BODY\n",
      "<tf.Variable 'TFModel/body/layer-0/batch_normalization/gamma:0' shape=(6,) dtype=float32_ref>\n",
      "<tf.Variable 'TFModel/body/layer-0/batch_normalization/beta:0' shape=(6,) dtype=float32_ref>\n",
      "<tf.Variable 'TFModel/body/layer-1/conv2d/kernel:0' shape=(3, 3, 6, 16) dtype=float32_ref>\n",
      "<tf.Variable 'TFModel/body/layer-1/conv2d/bias:0' shape=(16,) dtype=float32_ref>\n",
      "<tf.Variable 'TFModel/body/layer-3/batch_normalization/gamma:0' shape=(16,) dtype=float32_ref>\n",
      "<tf.Variable 'TFModel/body/layer-3/batch_normalization/beta:0' shape=(16,) dtype=float32_ref>\n",
      "<tf.Variable 'TFModel/body/layer-4/conv2d/kernel:0' shape=(3, 3, 16, 16) dtype=float32_ref>\n",
      "<tf.Variable 'TFModel/body/layer-4/conv2d/bias:0' shape=(16,) dtype=float32_ref>\n",
      "\n",
      "HEAD\n",
      "<tf.Variable 'TFModel/head/layer-1/dense/kernel:0' shape=(16, 10) dtype=float32_ref>\n",
      "<tf.Variable 'TFModel/head/layer-1/dense/bias:0' shape=(10,) dtype=float32_ref>\n",
      "\n",
      "CUSTOM\n",
      "<tf.Variable 'TFModel/initial_block/layer-1/batch_normalization/gamma:0' shape=(6,) dtype=float32_ref>\n",
      "<tf.Variable 'TFModel/initial_block/layer-1/batch_normalization/beta:0' shape=(6,) dtype=float32_ref>\n",
      "<tf.Variable 'TFModel/initial_block/layer-3/conv2d/kernel:0' shape=(3, 3, 6, 6) dtype=float32_ref>\n",
      "<tf.Variable 'TFModel/initial_block/layer-3/conv2d/bias:0' shape=(6,) dtype=float32_ref>\n",
      "<tf.Variable 'TFModel/initial_block/layer-4/batch_normalization/gamma:0' shape=(6,) dtype=float32_ref>\n",
      "<tf.Variable 'TFModel/initial_block/layer-4/batch_normalization/beta:0' shape=(6,) dtype=float32_ref>\n",
      "<tf.Variable 'TFModel/body/layer-0/batch_normalization/gamma:0' shape=(6,) dtype=float32_ref>\n",
      "<tf.Variable 'TFModel/body/layer-0/batch_normalization/beta:0' shape=(6,) dtype=float32_ref>\n",
      "<tf.Variable 'TFModel/body/layer-1/conv2d/kernel:0' shape=(3, 3, 6, 16) dtype=float32_ref>\n",
      "<tf.Variable 'TFModel/body/layer-1/conv2d/bias:0' shape=(16,) dtype=float32_ref>\n",
      "<tf.Variable 'TFModel/body/layer-3/batch_normalization/gamma:0' shape=(16,) dtype=float32_ref>\n",
      "<tf.Variable 'TFModel/body/layer-3/batch_normalization/beta:0' shape=(16,) dtype=float32_ref>\n",
      "<tf.Variable 'TFModel/body/layer-4/conv2d/kernel:0' shape=(3, 3, 16, 16) dtype=float32_ref>\n",
      "<tf.Variable 'TFModel/body/layer-4/conv2d/bias:0' shape=(16,) dtype=float32_ref>\n",
      "<tf.Variable 'TFModel/head/layer-1/dense/kernel:0' shape=(16, 10) dtype=float32_ref>\n",
      "<tf.Variable 'TFModel/head/layer-1/dense/bias:0' shape=(10,) dtype=float32_ref>\n",
      "\n",
      "RRRRRRR\n",
      "<tf.Variable 'TFModel/initial_block/layer-0/conv2d/kernel:0' shape=(3, 3, 1, 6) dtype=float32_ref>\n",
      "<tf.Variable 'TFModel/initial_block/layer-0/conv2d/bias:0' shape=(6,) dtype=float32_ref>\n",
      "<tf.Variable 'TFModel/initial_block/layer-1/batch_normalization/gamma:0' shape=(6,) dtype=float32_ref>\n",
      "<tf.Variable 'TFModel/initial_block/layer-1/batch_normalization/beta:0' shape=(6,) dtype=float32_ref>\n"
     ]
    },
    {
     "data": {
      "text/plain": [
       "<batchflow.models.tf.base.TFModel at 0x7fd3402612e8>"
      ]
     },
     "execution_count": 24,
     "metadata": {},
     "output_type": "execute_result"
    }
   ],
   "source": [
    "TFModel(model_config)"
   ]
  },
  {
   "cell_type": "code",
   "execution_count": 32,
   "metadata": {},
   "outputs": [],
   "source": [
    "train_pipeline = (mnist.train.p\n",
    "                 .init_variable('loss_history', init_on_each_run=list)\n",
    "                 .init_variable('current_loss')\n",
    "                 .to_array()\n",
    "                 .multiply(multiplier=1/255., preserve_type=False)\n",
    "                 .init_model('dynamic', TFModel, 'conv', config=model_config)\n",
    "                 .to_array()\n",
    "                 .train_model('conv', fetches='loss_RRRRRRR', images=B('images'), labels=B('labels'), \n",
    "                              train_mode='RRRRRRR',\n",
    "                              save_to=V('current_loss'))\n",
    "                 .update_variable('loss_history', \n",
    "                                  V('current_loss'), \n",
    "                                  mode='a')\n",
    "                  )"
   ]
  },
  {
   "cell_type": "code",
   "execution_count": null,
   "metadata": {},
   "outputs": [],
   "source": []
  },
  {
   "cell_type": "code",
   "execution_count": 33,
   "metadata": {
    "scrolled": true
   },
   "outputs": [
    {
     "name": "stdout",
     "output_type": "stream",
     "text": [
      "\n",
      "ALL\n",
      "<tf.Variable 'TFModel/initial_block/layer-0/conv2d/kernel:0' shape=(3, 3, 1, 6) dtype=float32_ref>\n",
      "<tf.Variable 'TFModel/initial_block/layer-0/conv2d/bias:0' shape=(6,) dtype=float32_ref>\n",
      "<tf.Variable 'TFModel/initial_block/layer-1/batch_normalization/gamma:0' shape=(6,) dtype=float32_ref>\n",
      "<tf.Variable 'TFModel/initial_block/layer-1/batch_normalization/beta:0' shape=(6,) dtype=float32_ref>\n",
      "<tf.Variable 'TFModel/initial_block/layer-3/conv2d/kernel:0' shape=(3, 3, 6, 6) dtype=float32_ref>\n",
      "<tf.Variable 'TFModel/initial_block/layer-3/conv2d/bias:0' shape=(6,) dtype=float32_ref>\n",
      "<tf.Variable 'TFModel/initial_block/layer-4/batch_normalization/gamma:0' shape=(6,) dtype=float32_ref>\n",
      "<tf.Variable 'TFModel/initial_block/layer-4/batch_normalization/beta:0' shape=(6,) dtype=float32_ref>\n",
      "<tf.Variable 'TFModel/body/layer-0/batch_normalization/gamma:0' shape=(6,) dtype=float32_ref>\n",
      "<tf.Variable 'TFModel/body/layer-0/batch_normalization/beta:0' shape=(6,) dtype=float32_ref>\n",
      "<tf.Variable 'TFModel/body/layer-1/conv2d/kernel:0' shape=(3, 3, 6, 16) dtype=float32_ref>\n",
      "<tf.Variable 'TFModel/body/layer-1/conv2d/bias:0' shape=(16,) dtype=float32_ref>\n",
      "<tf.Variable 'TFModel/body/layer-3/batch_normalization/gamma:0' shape=(16,) dtype=float32_ref>\n",
      "<tf.Variable 'TFModel/body/layer-3/batch_normalization/beta:0' shape=(16,) dtype=float32_ref>\n",
      "<tf.Variable 'TFModel/body/layer-4/conv2d/kernel:0' shape=(3, 3, 16, 16) dtype=float32_ref>\n",
      "<tf.Variable 'TFModel/body/layer-4/conv2d/bias:0' shape=(16,) dtype=float32_ref>\n",
      "<tf.Variable 'TFModel/head/layer-1/dense/kernel:0' shape=(16, 10) dtype=float32_ref>\n",
      "<tf.Variable 'TFModel/head/layer-1/dense/bias:0' shape=(10,) dtype=float32_ref>\n",
      "\n",
      "BODY\n",
      "<tf.Variable 'TFModel/body/layer-0/batch_normalization/gamma:0' shape=(6,) dtype=float32_ref>\n",
      "<tf.Variable 'TFModel/body/layer-0/batch_normalization/beta:0' shape=(6,) dtype=float32_ref>\n",
      "<tf.Variable 'TFModel/body/layer-1/conv2d/kernel:0' shape=(3, 3, 6, 16) dtype=float32_ref>\n",
      "<tf.Variable 'TFModel/body/layer-1/conv2d/bias:0' shape=(16,) dtype=float32_ref>\n",
      "<tf.Variable 'TFModel/body/layer-3/batch_normalization/gamma:0' shape=(16,) dtype=float32_ref>\n",
      "<tf.Variable 'TFModel/body/layer-3/batch_normalization/beta:0' shape=(16,) dtype=float32_ref>\n",
      "<tf.Variable 'TFModel/body/layer-4/conv2d/kernel:0' shape=(3, 3, 16, 16) dtype=float32_ref>\n",
      "<tf.Variable 'TFModel/body/layer-4/conv2d/bias:0' shape=(16,) dtype=float32_ref>\n",
      "\n",
      "HEAD\n",
      "<tf.Variable 'TFModel/head/layer-1/dense/kernel:0' shape=(16, 10) dtype=float32_ref>\n",
      "<tf.Variable 'TFModel/head/layer-1/dense/bias:0' shape=(10,) dtype=float32_ref>\n",
      "\n",
      "CUSTOM\n",
      "<tf.Variable 'TFModel/initial_block/layer-1/batch_normalization/gamma:0' shape=(6,) dtype=float32_ref>\n",
      "<tf.Variable 'TFModel/initial_block/layer-1/batch_normalization/beta:0' shape=(6,) dtype=float32_ref>\n",
      "<tf.Variable 'TFModel/initial_block/layer-3/conv2d/kernel:0' shape=(3, 3, 6, 6) dtype=float32_ref>\n",
      "<tf.Variable 'TFModel/initial_block/layer-3/conv2d/bias:0' shape=(6,) dtype=float32_ref>\n",
      "<tf.Variable 'TFModel/initial_block/layer-4/batch_normalization/gamma:0' shape=(6,) dtype=float32_ref>\n",
      "<tf.Variable 'TFModel/initial_block/layer-4/batch_normalization/beta:0' shape=(6,) dtype=float32_ref>\n",
      "<tf.Variable 'TFModel/body/layer-0/batch_normalization/gamma:0' shape=(6,) dtype=float32_ref>\n",
      "<tf.Variable 'TFModel/body/layer-0/batch_normalization/beta:0' shape=(6,) dtype=float32_ref>\n",
      "<tf.Variable 'TFModel/body/layer-1/conv2d/kernel:0' shape=(3, 3, 6, 16) dtype=float32_ref>\n",
      "<tf.Variable 'TFModel/body/layer-1/conv2d/bias:0' shape=(16,) dtype=float32_ref>\n",
      "<tf.Variable 'TFModel/body/layer-3/batch_normalization/gamma:0' shape=(16,) dtype=float32_ref>\n",
      "<tf.Variable 'TFModel/body/layer-3/batch_normalization/beta:0' shape=(16,) dtype=float32_ref>\n",
      "<tf.Variable 'TFModel/body/layer-4/conv2d/kernel:0' shape=(3, 3, 16, 16) dtype=float32_ref>\n",
      "<tf.Variable 'TFModel/body/layer-4/conv2d/bias:0' shape=(16,) dtype=float32_ref>\n",
      "<tf.Variable 'TFModel/head/layer-1/dense/kernel:0' shape=(16, 10) dtype=float32_ref>\n",
      "<tf.Variable 'TFModel/head/layer-1/dense/bias:0' shape=(10,) dtype=float32_ref>\n",
      "\n",
      "RRRRRRR\n",
      "<tf.Variable 'TFModel/initial_block/layer-0/conv2d/kernel:0' shape=(3, 3, 1, 6) dtype=float32_ref>\n",
      "<tf.Variable 'TFModel/initial_block/layer-0/conv2d/bias:0' shape=(6,) dtype=float32_ref>\n",
      "<tf.Variable 'TFModel/initial_block/layer-1/batch_normalization/gamma:0' shape=(6,) dtype=float32_ref>\n",
      "<tf.Variable 'TFModel/initial_block/layer-1/batch_normalization/beta:0' shape=(6,) dtype=float32_ref>\n",
      "CPU times: user 3.66 s, sys: 136 ms, total: 3.8 s\n",
      "Wall time: 2.71 s\n"
     ]
    }
   ],
   "source": [
    "%%time\n",
    "n_b = train_pipeline.next_batch(256, n_epochs=None)\n",
    "# n_b = train_pipeline.run(256, n_epochs=2, bar=True)"
   ]
  },
  {
   "cell_type": "code",
   "execution_count": null,
   "metadata": {},
   "outputs": [],
   "source": [
    "%%time\n",
    "_ = train_pipeline.run(batch_size=256, n_epochs=1, bar=True)"
   ]
  },
  {
   "cell_type": "code",
   "execution_count": null,
   "metadata": {},
   "outputs": [],
   "source": [
    "plt.plot(train_pipeline.get_variable(\"loss_history\"))\n",
    "plt.xlabel(\"Iterations\"), plt.ylabel(\"Loss\")\n",
    "plt.show()"
   ]
  },
  {
   "cell_type": "code",
   "execution_count": null,
   "metadata": {},
   "outputs": [],
   "source": []
  }
 ],
 "metadata": {
  "kernelspec": {
   "display_name": "Python 3",
   "language": "python",
   "name": "python3"
  },
  "language_info": {
   "codemirror_mode": {
    "name": "ipython",
    "version": 3
   },
   "file_extension": ".py",
   "mimetype": "text/x-python",
   "name": "python",
   "nbconvert_exporter": "python",
   "pygments_lexer": "ipython3",
   "version": "3.7.1"
  }
 },
 "nbformat": 4,
 "nbformat_minor": 2
}
