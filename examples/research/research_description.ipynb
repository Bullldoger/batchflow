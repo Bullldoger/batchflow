{
 "cells": [
  {
   "cell_type": "markdown",
   "metadata": {},
   "source": [
    " # Hello and welcome to the Dataset research!\n",
    " We are engaged in our research in the implementation of articles and testing hypotheses. Here are some of them:\n",
    "1. [Zeroing of weights](./zeroing_of_weights/zeroing_of_weights.ipynb).\n",
    "2. [ResNet with stochastic depth](./stochastic_depth/stochastic_depth.ipynb).\n",
    "3. [Squeeze and excitation block](./squeeze_and_excitation/squeeze_and_excitation.ipynb) in ResNet\n",
    "4. [FreezeOut](./freezeout/FreezeOut.ipynb) ResNet.\n",
    "5. The impact of [augmentation](./augmentation/augmentation.ipynb) on network quality.\n",
    "6. [A comparison of the distributions](./weights_distributions/weights_distributions.ipynb) of the weights of the two ResNet models.\n",
    "\n",
    "Return to the Dataset [tutorials](./../tutorial/00_description.ipynb)."
   ]
  }
 ],
 "metadata": {
  "kernelspec": {
   "display_name": "Python 3",
   "language": "python",
   "name": "python3"
  },
  "language_info": {
   "codemirror_mode": {
    "name": "ipython",
    "version": 3
   },
   "file_extension": ".py",
   "mimetype": "text/x-python",
   "name": "python",
   "nbconvert_exporter": "python",
   "pygments_lexer": "ipython3",
   "version": "3.6.4"
  }
 },
 "nbformat": 4,
 "nbformat_minor": 2
}
