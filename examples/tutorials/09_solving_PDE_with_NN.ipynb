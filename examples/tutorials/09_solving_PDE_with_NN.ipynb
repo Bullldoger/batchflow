{
 "cells": [
  {
   "cell_type": "markdown",
   "metadata": {},
   "source": [
    "# `DeepGalerkin`-model: solving PDEs with NNs"
   ]
  },
  {
   "cell_type": "markdown",
   "metadata": {},
   "source": [
    "Welcome! In this tutorial you'll learn how to solve partial differential equations (PDEs) with neural networks using `DeepGalerkin`-model from `BatchFlow`. The notebook\n",
    "* starts with general setup of the PDE solved by `DeepGalerkin`\n",
    "* then explains in detail how the model is configured\n",
    "* finally, demonstrates how to use the model for solving common pde-problems, including *2nd-order ordinary differential equation*, *heat-equation* and *wave-equation*.\n",
    "\n",
    "To get full understanding of `DeepGalerkin`, we suggest you to read this tutorial starting from the problem setup. The alternative is to jump straight to the working examples.\n",
    "\n",
    "**Note**: `DeepGalerkin` is written in [TensorFlow](https://www.tensorflow.org/). Throughout the notebook shorthand `tf` will stand for `TensoFlow`."
   ]
  },
  {
   "cell_type": "markdown",
   "metadata": {},
   "source": [
    "## Setup of the PDE-problem"
   ]
  },
  {
   "cell_type": "markdown",
   "metadata": {},
   "source": [
    "Currently, `DeepGalerkin` supports equations of up to the second order with constant coefficients with `Dirichlet` boundary and initial conditions. In general form, the PDE-\n",
    "problem looks as follows:\n",
    "<a id='eq'></a>\n",
    "\\begin{align}\n",
    "\\sum_i a_i \\frac{\\partial u}{\\partial x_i} + \\sum_{i j} b_{i j} \\frac{\\partial^2 u}{\\partial x_i \\partial x_i}  = Q(x). \\\\\n",
    "\\end{align}\n",
    "Where $a_{ij}, b_i $ -  arbitrary constants. PDE is solved on the domain\n",
    "<a id='dom'></a>\n",
    "\\begin{align*}\n",
    "\\Omega = [b_0^1, b_1^1] \\times \\dots \\times [b_0^n, b_1^n] ,\\quad u: \\mathcal{R}^n \\rightarrow \\mathcal{R}\n",
    "\\end{align*}\n",
    "$x$ is $(x_1, \\dots, x_n)$. In many tasks, $x_n$ represents time-dimension $t$. In that case, the initial conditions fix the initial state and evolution rate of the system:\n",
    "<a id='inc_0'></a>\n",
    "\\begin{align*}\n",
    "u(x_1, \\dots, x_{n-1}, b_0^n) = u_0(x_1, \\dots, x_{n-1}),\n",
    "\\end{align*}\n",
    "<a id='inc_1'></a>\n",
    "\\begin{align*}\n",
    "\\frac{\\partial u(x_1, \\dots, x_{n-1}, b_0^n)}{\\partial t} = u_0'(x_1, \\dots, x_{n-1}).\n",
    "\\end{align*}\n",
    "When only first-order time derivative is presented in lhs of PDE, only the initial value of system is needed:\n",
    "\\begin{align*}\n",
    "u(x_1, \\dots, x_{n-1}, b_0^n) = u_0(x_1, \\dots, x_{n-1}),\n",
    "\\end{align*}\n",
    "With `Dirichlet`-boundary conditions:\n",
    "\\begin{align*}\n",
    "u(\\sigma \\Omega) = u_{\\sigma}.\n",
    "\\end{align*}"
   ]
  },
  {
   "cell_type": "markdown",
   "metadata": {},
   "source": [
    "The main idea of `DeepGalerkin` is to fit the parameters $\\theta$ of network $net(x; \\theta)$ so that the difference between left-hand-side (lhs) of the PDE and right-hand-size (rhs) be small:\n",
    "\\begin{align*}\n",
    "Loss(\\theta) = \\int \\limits_{\\Omega} L\\left(\\sum_i a_i \\frac{\\partial net(x; \\theta)}{\\partial x_i} + \\sum_{i j} b_{i j} \\frac{\\partial^2 net(x; \\theta)}{\\partial x_i \\partial x_i} - Q(x)\\right)  \\mathcal{P}( d x) \\rightarrow \\min\\limits_{\\theta}.\n",
    "\\end{align*}\n",
    "\n",
    "**Note:** In practice, $Loss(\\theta)$ is estimated on a sample(batch) of points $\\{(x^i_1,\\dots, x^i_n)\\}_{i=1,\\dots,N}$.\n",
    "As the distribution $\\mathcal{P}$ is not fixed, any sampling scheme can be used."
   ]
  },
  {
   "cell_type": "markdown",
   "metadata": {},
   "source": [
    "## Configuring `DeepGalerkin`"
   ]
  },
  {
   "cell_type": "markdown",
   "metadata": {},
   "source": [
    "`DeepGalerkin`-model is configured with a configuration-dict and comes down to\n",
    "* describing lhs of the [equation](#eq): define coefficients $a_{i}, b_{ij}$. This corresponds to the key `form`:\n",
    "```\n",
    "'form' = {'d1': v, 'd2': m}\n",
    "```\n",
    "where `v` is a vector of $a_i$ and $m$ is a matrix of $b_{ij}$. The number of coefficients in $v$ (alternatively, rows/lines in $m$) defines the dimensionality of the problem.\n",
    "* setting rhs ($Q$) of the [equation](#eq):\n",
    "```\n",
    "Q = tf_callable\n",
    "```\n",
    "where `tf_callable` is a callable, that accepts `tf`-tensor of shape `(batch_size, pde_dimensionality)` and returns a `tf`-tensor of shape `(batch_size, )`.\n",
    "* defining the [domain](#dom) in form\n",
    "```\n",
    "domain = [[b_0^1, b_1^1],...,[b_0^n, b_1^n]]\n",
    "```"
   ]
  },
  {
   "cell_type": "markdown",
   "metadata": {},
   "source": [
    "## Solving common PDEs with `DeepGalerkin`"
   ]
  },
  {
   "cell_type": "code",
   "execution_count": null,
   "metadata": {},
   "outputs": [],
   "source": []
  }
 ],
 "metadata": {
  "kernelspec": {
   "display_name": "Python 3",
   "language": "python",
   "name": "python3"
  },
  "language_info": {
   "codemirror_mode": {
    "name": "ipython",
    "version": 3
   },
   "file_extension": ".py",
   "mimetype": "text/x-python",
   "name": "python",
   "nbconvert_exporter": "python",
   "pygments_lexer": "ipython3",
   "version": "3.6.6+"
  },
  "latex_envs": {
   "LaTeX_envs_menu_present": true,
   "autoclose": false,
   "autocomplete": true,
   "bibliofile": "biblio.bib",
   "cite_by": "apalike",
   "current_citInitial": 1,
   "eqLabelWithNumbers": true,
   "eqNumInitial": 1,
   "hotkeys": {
    "equation": "Ctrl-E",
    "itemize": "Ctrl-I"
   },
   "labels_anchors": false,
   "latex_user_defs": false,
   "report_style_numbering": false,
   "user_envs_cfg": false
  }
 },
 "nbformat": 4,
 "nbformat_minor": 2
}
