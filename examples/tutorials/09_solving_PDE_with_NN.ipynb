{
 "cells": [
  {
   "cell_type": "markdown",
   "metadata": {},
   "source": [
    "# `DeepGalerkin`-model: solving PDEs with NNs"
   ]
  },
  {
   "cell_type": "markdown",
   "metadata": {},
   "source": [
    "Welcome! In this tutorial you'll learn how to solve partial differential equations (PDEs) with neural networks using `DeepGalerkin`-model from `BatchFlow`. The notebook\n",
    "* starts with general setup of the PDE solved by `DeepGalerkin`\n",
    "* then explains in detail how the model is configured\n",
    "* finally, demonstrates how to use the model for solving common pde-problems, including *2nd-order ordinary differential equation*, *heat-equation* and *wave-equation*. "
   ]
  },
  {
   "cell_type": "markdown",
   "metadata": {},
   "source": [
    "## Setup of the PDE-problem"
   ]
  },
  {
   "cell_type": "markdown",
   "metadata": {},
   "source": [
    "Currently, `DeepGalerkin` supports equations of up to the second order with constant coefficients with `Dirichlet` boundary and initial conditions. In general form, the PDE-\n",
    "problem looks as follows:\n",
    "\n",
    "$$\n",
    "\\sum_i a_i \\frac{\\partial u}{\\partial x_i} + \\sum_{i j} b_{i j} \\frac{\\partial^2 u}{\\partial x_i \\partial x_i}  = Q(x)\n",
    "$$\n",
    "$a_{ij}, b_i$ --- arbitrary constants,\n",
    "On the domain\n",
    "$$\n",
    "\\Omega = [b_0^1, b_1^1] \\times \\dots \\times [b_0^n, b_1^n] ,\\quad u: \\mathcal{R}^n \\rightarrow \\mathcal{R}\n",
    "$$\n",
    "$x$ is $(x_1, \\dots, x_n)$. In many tasks, $x_n$ represents time-dimension $t$. In that case, the initial conditions fix the initial value and initial rate of the system:\n",
    "$$\n",
    "u(x_1, \\dots, x_{n-1}, b_0^n) = u_0(x_1, \\dots, x_{n-1}),\n",
    "$$\n",
    "$$\n",
    "\\frac{\\partial u(x_1, \\dots, x_{n-1}, b_0^n)}{\\partial t} = u_0'(x_1, \\dots, x_{n-1}).\n",
    "$$\n",
    "When only first-order time derivative is presented in lhs of PDE, only the initial value of system is needed:\n",
    "$$\n",
    "u(x_1, \\dots, x_{n-1}, b_0^n) = u_0(x_1, \\dots, x_{n-1}),\n",
    "$$\n",
    "With Dirichlet conditions:\n",
    "$$\n",
    "u(\\sigma \\Omega) = u_{\\sigma}\n",
    "$$"
   ]
  },
  {
   "cell_type": "markdown",
   "metadata": {},
   "source": [
    "The main idea goes as follows: approximate the solution with a neural network and fit its parameters so that the difference between left-had-side (lhs) of the PDE and right-hand-size (rhs) be small."
   ]
  },
  {
   "cell_type": "markdown",
   "metadata": {},
   "source": [
    "## Configuring `DeepGalerkin`"
   ]
  },
  {
   "cell_type": "code",
   "execution_count": null,
   "metadata": {},
   "outputs": [],
   "source": []
  },
  {
   "cell_type": "markdown",
   "metadata": {},
   "source": [
    "## Solving common PDEs with `DeepGalerkin`"
   ]
  },
  {
   "cell_type": "code",
   "execution_count": null,
   "metadata": {},
   "outputs": [],
   "source": []
  }
 ],
 "metadata": {
  "kernelspec": {
   "display_name": "Python 3",
   "language": "python",
   "name": "python3"
  },
  "language_info": {
   "codemirror_mode": {
    "name": "ipython",
    "version": 3
   },
   "file_extension": ".py",
   "mimetype": "text/x-python",
   "name": "python",
   "nbconvert_exporter": "python",
   "pygments_lexer": "ipython3",
   "version": "3.6.6+"
  }
 },
 "nbformat": 4,
 "nbformat_minor": 2
}
