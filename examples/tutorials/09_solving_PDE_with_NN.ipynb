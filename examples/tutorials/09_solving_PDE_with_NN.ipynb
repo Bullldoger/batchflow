{
 "cells": [
  {
   "cell_type": "markdown",
   "metadata": {},
   "source": [
    "# `DeepGalerkin`-model: solving PDEs with NNs"
   ]
  },
  {
   "cell_type": "markdown",
   "metadata": {},
   "source": [
    "Welcome! In this tutorial you'll learn how to solve partial differential equations (PDEs) with neural networks using `DeepGalerkin`-model from `BatchFlow`. The notebook\n",
    "* starts with general setup of the PDE solved by `DeepGalerkin`\n",
    "* then explains in detail how the model is configured\n",
    "* finally, demonstrates how to use the model for solving common pde-problems, including *2nd-order ordinary differential equation*, *heat-equation* and *wave-equation*.\n",
    "\n",
    "To get full understanding of `DeepGalerkin`, we suggest you to read this tutorial starting from the problem setup. The alternative is to jump straight to the working examples.\n",
    "\n",
    "**Note**: `DeepGalerkin` is written in [TensorFlow](https://www.tensorflow.org/). Throughout the notebook `tf` will stand for `TensoFlow`."
   ]
  },
  {
   "cell_type": "markdown",
   "metadata": {},
   "source": [
    "## Setup of the PDE-problem"
   ]
  },
  {
   "cell_type": "markdown",
   "metadata": {},
   "source": [
    "Currently, `DeepGalerkin` supports equations of up to the second order with constant coefficients with `Dirichlet` boundary and initial conditions. In general form, the PDE-\n",
    "problem looks as follows:\n",
    "<a id='eq'></a>\n",
    "$$\n",
    "\\sum_i a_i \\frac{\\partial u}{\\partial x_i} + \\sum_{i j} b_{i j} \\frac{\\partial^2 u}{\\partial x_i \\partial x_i}  = Q(x). \\\\\n",
    "$$\n",
    "Where $a_{ij}, b_i $ -  arbitrary constants. PDE is solved on the domain\n",
    "<a id='dom'></a>\n",
    "$$\n",
    "\\Omega = [b_0^1, b_1^1] \\times \\dots \\times [b_0^n, b_1^n] ,\\quad u: \\mathcal{R}^n \\rightarrow \\mathcal{R}\n",
    "$$\n",
    "$x$ is $(x_1, \\dots, x_n)$. In many tasks, $x_n$ represents time-dimension $t$. In that case, the initial conditions fix the initial state and evolution rate of the system:\n",
    "<a id='inc_0'></a>\n",
    "$$\n",
    "u(x_1, \\dots, x_{n-1}, b_0^n) = u_0(x_1, \\dots, x_{n-1}),\n",
    "$$\n",
    "<a id='inc_1'></a>\n",
    "$$\n",
    "\\frac{\\partial u(x_1, \\dots, x_{n-1}, b_0^n)}{\\partial t} = u_0'(x_1, \\dots, x_{n-1}).\n",
    "$$\n",
    "When only first-order time derivative is presented in lhs of PDE, only the initial value of system is needed:\n",
    "$$\n",
    "u(x_1, \\dots, x_{n-1}, b_0^n) = u_0(x_1, \\dots, x_{n-1}),\n",
    "$$\n",
    "With `Dirichlet`-boundary conditions:\n",
    "<a id='inc_3'></a>\n",
    "$$\n",
    "u(\\sigma \\Omega) = u_{\\sigma}.\n",
    "$$"
   ]
  },
  {
   "cell_type": "markdown",
   "metadata": {},
   "source": [
    "The main idea of `DeepGalerkin` is to fit the parameters $\\theta$ of network $net(x; \\theta)$ so that the difference between left-hand-side (lhs) of the PDE and right-hand-size (rhs) be small:\n",
    "\n",
    "$$\n",
    "Loss(\\theta) = \\int \\limits_{\\Omega} L\\left(\\sum_i a_i \\frac{\\partial net(x; \\theta)}{\\partial x_i} + \\sum_{i j} b_{i j} \\frac{\\partial^2 net(x; \\theta)}{\\partial x_i \\partial x_i} - Q(x)\\right)  \\mathcal{P}( d x) \\rightarrow \\min\\limits_{\\theta}.\n",
    "$$\n",
    "\n",
    "**Note:** In practice, $Loss(\\theta)$ is estimated on a sample(batch) of points $\\{(x^i_1,\\dots, x^i_n)\\}_{i=1,\\dots,N}$.\n",
    "As the distribution $\\mathcal{P}$ is not fixed, any sampling scheme can be used."
   ]
  },
  {
   "cell_type": "markdown",
   "metadata": {},
   "source": [
    "## Configuring `DeepGalerkin`"
   ]
  },
  {
   "cell_type": "markdown",
   "metadata": {},
   "source": [
    "Configuring `DeepGalerkin` comes down to\n",
    "* specification of the equation solved by the model in `common`-dict\n",
    "* setting other parameters of the model inherited from base-class [`batchflow.models.TfModel`](https://analysiscenter.github.io/batchflow/api/batchflow.models.tf.base.html), e.g. network-architecture and loss-function"
   ]
  },
  {
   "cell_type": "markdown",
   "metadata": {},
   "source": [
    "### 1.PDE setup in `common`-dict"
   ]
  },
  {
   "cell_type": "markdown",
   "metadata": {},
   "source": [
    "It consists of several steps:\n",
    "* describing lhs of the [equation](#eq): define coefficients $a_{i}, b_{ij}$. This corresponds to the key `form`:\n",
    "```\n",
    "'form' : {'d1': v, 'd2': m}\n",
    "```\n",
    "where `v` is a vector of $a_i$ and $m$ is a matrix of $b_{ij}$. The number of coefficients in $v$ (alternatively, rows/lines in $m$) defines the dimensionality of the problem.\n",
    "* setting rhs ($Q$) of the [equation](#eq):\n",
    "```\n",
    "'Q' : tf_callable\n",
    "```\n",
    "where `tf_callable` is a callable, that accepts `tf`-tensor of shape `(batch_size, pde_dimensionality)` and returns a `tf`-tensor of shape `(batch_size, )`.\n",
    "* defining the [domain](#dom) of the problem:\n",
    "```\n",
    "'domain' : [[b_0^1, b_1^1],...,[b_0^n, b_1^n]]\n",
    "```\n",
    "**Note**: if the key is not specified, the domain is set to `[[0, 1],...,[0, 1]]`\n",
    "* setting initial/boundary conditions. In case of PDEs with time-variable, e.g. heat-equation, one needs to fix initial value of the system ($u(x_1, \\dots, x_n, t=0)$) using `initial_condition`:\n",
    "```\n",
    "'initial_condition': tf_callable\n",
    "```\n",
    "where `tf_callable` accepts `tf`-tensor of shape `(batch_size, pde_dimensionality - 1)` and returns `tf`-tensor of shape `(batch_size, )`. Importantly, when $\\frac{\\partial^2{u}}{\\partial{t^2}}$ is presented in lhs of the [equation](#eq) (e.g. wave equation), one needs to fix **both** initial value and initial rate of the system ($\\frac{\\partial{u}}{\\partial{t}}(x_1, \\dots, x_n, t=0)$):\n",
    "```\n",
    "'initial_condition': (tf_callable_1, tf_callable_2)\n",
    "```\n",
    "When `initial_condition` is not present in configuration-dict, `boundary-condition` [$u_{\\sigma}$](#inc_3) must be supplied:\n",
    "```\n",
    "'boundary_condition': constant\n",
    "```\n",
    "* [optional] choosing the mode of `time_multiplier`: a multiplier, used for binding initial conditions. Can be either `sigmoid` or `polynomial` or callable. Go [here](https://github.com/analysiscenter/batchflow/blob/deep_galerkin/batchflow/models/tf/deep_galerkin.py#L150) for more info."
   ]
  },
  {
   "cell_type": "markdown",
   "metadata": {},
   "source": [
    "### 2. Setting other parameters of `DeepGalerkin`"
   ]
  },
  {
   "cell_type": "markdown",
   "metadata": {},
   "source": [
    "The easiest way to choose the architecture of network $net(x; \\theta)$ is to use [batchflow's convolution block](https://analysiscenter.github.io/batchflow/intro/tf_layers.html) in [network's body](https://analysiscenter.github.io/batchflow/intro/tf_models.html). For instance, this combination of keys\n",
    "```\n",
    "'body':{'layout' : 'fa fa f',\n",
    "        'units' : [10, 15, 1],\n",
    "        'activation' : [tf.nn.tanh, tf.nn.tanh]}\n",
    "```\n",
    "corresponds to a `f`ully-connected network with two hidden layers (of 10 and 15 units) and two `tanh`-`a`ctivations. The specification of `loss` and other parameters is straightforward:\n",
    "```\n",
    "'loss':'mse'\n",
    "```"
   ]
  },
  {
   "cell_type": "markdown",
   "metadata": {},
   "source": [
    "## Examples: Solving common PDEs with `DeepGalerkin`"
   ]
  },
  {
   "cell_type": "code",
   "execution_count": 16,
   "metadata": {},
   "outputs": [],
   "source": [
    "import tensorflow as tf\n",
    "import sys\n",
    "sys.path.append('../..')\n",
    "import matplotlib.pyplot as plt\n",
    "from batchflow.models.tf import DeepGalerkin\n",
    "from batchflow import Pipeline, L, F, V, DatasetIndex, Dataset\n",
    "import numpy as np\n",
    "from batchflow import NumpySampler as NS"
   ]
  },
  {
   "cell_type": "markdown",
   "metadata": {},
   "source": [
    "* first-order ordinary differential equation with simple initial condition\n",
    "$$\n",
    "\\frac{d f}{d t}= 2\\pi\\cos[2 \\pi t]; \\quad t \\in [0, 1],\\ f(0)=1.\n",
    "$$"
   ]
  },
  {
   "cell_type": "code",
   "execution_count": 17,
   "metadata": {},
   "outputs": [],
   "source": [
    "# describing pde-problem in common-dict\n",
    "common = {'form': {'d1': (1, )},\n",
    "          'Q': lambda t: 2 * np.pi * tf.cos(2 * np.pi * t),\n",
    "          'initial_condition': 1,                         # will be transformed into callable returning 1\n",
    "          'time_multiplier': 'sigmoid',\n",
    "          'bind_bc_ic': True}\n",
    "\n",
    "# network-architecture and loss-function\n",
    "body = {'layout': 'fa fa f',\n",
    "        'units': [10, 15, 1],\n",
    "        'activation': [tf.nn.tanh, tf.nn.tanh]}\n",
    "loss = 'mse'\n",
    "\n",
    "# put it together in model-config\n",
    "config = {'inputs': dict(points={'shape': (1, )}),\n",
    "          'initial_block/inputs': 'points',\n",
    "          'body': body,\n",
    "          'common': common,\n",
    "          'loss': loss}\n",
    "\n",
    "# uniform sampling scheme\n",
    "s = NS('u')"
   ]
  },
  {
   "cell_type": "code",
   "execution_count": 18,
   "metadata": {},
   "outputs": [],
   "source": [
    "pipeline = (Pipeline()\n",
    "            .init_variable('loss', default=[])\n",
    "            .init_variable('dt', default=[])\n",
    "            .init_model('static', DeepGalerkin, 'DG', config)\n",
    "            .train_model('DG',\n",
    "                         feed_dict={'points': L(s.sample, size=F(len))},\n",
    "                         fetches='loss',\n",
    "                         save_to=V('loss'), mode='a'))"
   ]
  },
  {
   "cell_type": "code",
   "execution_count": 19,
   "metadata": {},
   "outputs": [],
   "source": [
    "dsix = DatasetIndex(np.arange(100))\n",
    "pipeline_ds = Dataset(dsix) >> pipeline"
   ]
  },
  {
   "cell_type": "markdown",
   "metadata": {},
   "source": [
    "* poisson equation in $\\mathcal{R}^2$ with Dirichlet boundary condition"
   ]
  },
  {
   "cell_type": "markdown",
   "metadata": {},
   "source": [
    "$$\\frac{\\partial^2 f}{\\partial x^2} + \\frac{\\partial^2 f}{\\partial y^2} = \\sin(x + y);\\quad (x, y) \\in [0, 1]^2,\\ f(0, y)=f(x, 0)=1.\n",
    "$$"
   ]
  },
  {
   "cell_type": "code",
   "execution_count": null,
   "metadata": {},
   "outputs": [],
   "source": []
  },
  {
   "cell_type": "markdown",
   "metadata": {},
   "source": [
    "* heat equation in $\\mathcal{R}^2 \\times \\mathcal{R}$ with Dirichlet initial condition"
   ]
  },
  {
   "cell_type": "markdown",
   "metadata": {},
   "source": [
    "$$\\frac{\\partial f}{\\partial t} - \\frac{\\partial^2 f}{\\partial x^2} - \\frac{\\partial^2 f}{\\partial y^2} = \\cos(x + y);\\quad (x, y, t) \\in [0, 1]^2 \\times [0, 1],\\ f(x, y, 0) = x^2 + y^2.\n",
    "$$"
   ]
  },
  {
   "cell_type": "code",
   "execution_count": null,
   "metadata": {},
   "outputs": [],
   "source": []
  },
  {
   "cell_type": "markdown",
   "metadata": {},
   "source": [
    "* wave equation in $\\mathcal{R} \\times \\mathcal{R}$ with Dirichlet initial conditions"
   ]
  },
  {
   "cell_type": "markdown",
   "metadata": {},
   "source": [
    "$$\\frac{\\partial^2 f}{\\partial t^2} - \\frac{\\partial^2 f}{\\partial x^2} = x; \\quad (x, t) \\in [0, 1] \\times [0, 1],\\ f(x, 0)=\\sin(x),\\ \\frac{\\partial f}{\\partial t}(x, 0)= x + 1.\n",
    "$$"
   ]
  },
  {
   "cell_type": "code",
   "execution_count": null,
   "metadata": {},
   "outputs": [],
   "source": []
  }
 ],
 "metadata": {
  "kernelspec": {
   "display_name": "Python 3",
   "language": "python",
   "name": "python3"
  },
  "language_info": {
   "codemirror_mode": {
    "name": "ipython",
    "version": 3
   },
   "file_extension": ".py",
   "mimetype": "text/x-python",
   "name": "python",
   "nbconvert_exporter": "python",
   "pygments_lexer": "ipython3",
   "version": "3.6.6+"
  },
  "latex_envs": {
   "LaTeX_envs_menu_present": true,
   "autoclose": false,
   "autocomplete": true,
   "bibliofile": "biblio.bib",
   "cite_by": "apalike",
   "current_citInitial": 1,
   "eqLabelWithNumbers": true,
   "eqNumInitial": 1,
   "hotkeys": {
    "equation": "Ctrl-E",
    "itemize": "Ctrl-I"
   },
   "labels_anchors": false,
   "latex_user_defs": false,
   "report_style_numbering": false,
   "user_envs_cfg": false
  }
 },
 "nbformat": 4,
 "nbformat_minor": 2
}
