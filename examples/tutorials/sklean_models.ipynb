{
 "cells": [
  {
   "cell_type": "markdown",
   "metadata": {},
   "source": [
    "# Train sklearn models with simple pipeline"
   ]
  },
  {
   "cell_type": "markdown",
   "metadata": {},
   "source": [
    "In this notebook we train Logistic regression and SVM classifier from sklearn and compare their perfomance."
   ]
  },
  {
   "cell_type": "code",
   "execution_count": 1,
   "metadata": {},
   "outputs": [],
   "source": [
    "import sys\n",
    "\n",
    "import numpy as np\n",
    "from sklearn.linear_model import SGDClassifier\n",
    "import matplotlib.pyplot as plt\n",
    "\n",
    "sys.path.append('../..')\n",
    "\n",
    "from batchflow.models import SklearnModel\n",
    "from batchflow.models.torch import VGG7\n",
    "from batchflow.opensets import MNIST\n",
    "from batchflow import B, V, D, Pipeline"
   ]
  },
  {
   "cell_type": "markdown",
   "metadata": {},
   "source": [
    "Load MNIST dataset."
   ]
  },
  {
   "cell_type": "code",
   "execution_count": 2,
   "metadata": {},
   "outputs": [],
   "source": [
    "dataset = MNIST()"
   ]
  },
  {
   "cell_type": "markdown",
   "metadata": {},
   "source": [
    "Pipeline preprocessing image actions include:\n",
    "1. Transform images from PIL to np.array.   \n",
    "2. Reshape them to 2 dimension arrays where the number of rows equal to the batch size."
   ]
  },
  {
   "cell_type": "markdown",
   "metadata": {},
   "source": [
    "You can train during single pipeline execution couple of models.   \n",
    "Each model get the same batch of data."
   ]
  },
  {
   "cell_type": "code",
   "execution_count": 3,
   "metadata": {},
   "outputs": [],
   "source": [
    "BATCH_SIZE = 64\n",
    "num_classes = dataset.num_classes\n",
    "train_pipeline = (dataset.train.p\n",
    "                    .to_array()\n",
    "                    .add_namespace(np)\n",
    "                    .reshape(B('images'), (B('size'), -1), save_to=B('images'))\n",
    "                    .train_model('LogReg', B.images, B.labels, \n",
    "                                 classes=list(range(num_classes)))\n",
    "                    .train_model('SVM', B.images, B.labels, \n",
    "                                 classes=list(range(num_classes)))\n",
    "                    .run_later(BATCH_SIZE, n_iters=100, drop_last=True, shuffle=True, bar=True)\n",
    "           )"
   ]
  },
  {
   "cell_type": "markdown",
   "metadata": {},
   "source": [
    "Sklean models with partial_fit attribute support batch wise training and can be integrated into pipeline."
   ]
  },
  {
   "cell_type": "markdown",
   "metadata": {},
   "source": [
    "Initialize SVM and Logistic Regression models by specifying estimator in the config."
   ]
  },
  {
   "cell_type": "code",
   "execution_count": 4,
   "metadata": {},
   "outputs": [
    {
     "data": {
      "text/plain": [
       "<batchflow.once_pipeline.OncePipeline at 0x7f0e6ffa70b8>"
      ]
     },
     "execution_count": 4,
     "metadata": {},
     "output_type": "execute_result"
    }
   ],
   "source": [
    "(train_pipeline.before\n",
    "        .init_model('static', SklearnModel, 'SVM', \n",
    "                    config = dict(estimator = SGDClassifier(loss='hinge')))\n",
    "        .init_model('static', SklearnModel, 'LogReg',\n",
    "                    config = dict(estimator = SGDClassifier(loss='log')))\n",
    ")"
   ]
  },
  {
   "cell_type": "code",
   "execution_count": 5,
   "metadata": {},
   "outputs": [
    {
     "name": "stderr",
     "output_type": "stream",
     "text": [
      "100%|██████████| 100/100 [00:00<00:00, 117.19it/s]\n"
     ]
    },
    {
     "data": {
      "text/plain": [
       "<batchflow.pipeline.Pipeline at 0x7f0e6ffacfd0>"
      ]
     },
     "execution_count": 5,
     "metadata": {},
     "output_type": "execute_result"
    }
   ],
   "source": [
    "train_pipeline.run()"
   ]
  },
  {
   "cell_type": "markdown",
   "metadata": {},
   "source": [
    "During test pipeline we execute the same steps and calculate metrics for each model."
   ]
  },
  {
   "cell_type": "code",
   "execution_count": 6,
   "metadata": {},
   "outputs": [],
   "source": [
    "test_pipeline = (dataset.test.p\n",
    "                    .import_model('LogReg', train_pipeline)\n",
    "                    .import_model('SVM', train_pipeline)\n",
    "                    .to_array()\n",
    "                    .add_namespace(np)\n",
    "                    .reshape(B('images'), (B('size'), -1), save_to=B('images'))\n",
    "                    .predict_model('LogReg', B('images'), save_to=(V('L_predictions')))\n",
    "                    .predict_model('SVM', B('images'), save_to=(V('S_predictions')))\n",
    "                    .gather_metrics('class', B.labels, V('L_predictions'), num_classes=num_classes,\n",
    "                                    fmt='labels', save_to=V('L_metrics', mode='a'))\n",
    "                    .gather_metrics('class', B.labels, V('S_predictions'), num_classes=num_classes,\n",
    "                                    fmt='labels', save_to=V('S_metrics', mode='a'))\n",
    "                    .run_later(BATCH_SIZE, n_epochs=1, drop_last=False, shuffle=True, bar=True)\n",
    "            )"
   ]
  },
  {
   "cell_type": "code",
   "execution_count": 7,
   "metadata": {},
   "outputs": [
    {
     "data": {
      "text/plain": [
       "<batchflow.once_pipeline.OncePipeline at 0x7f0e6ff57438>"
      ]
     },
     "execution_count": 7,
     "metadata": {},
     "output_type": "execute_result"
    }
   ],
   "source": [
    "(test_pipeline.before\n",
    "            .init_variable('S_metrics', default=None)\n",
    "            .init_variable('L_metrics', default=None)\n",
    "            .init_variable('S_predictions')\n",
    "            .init_variable('L_predictions')\n",
    ")"
   ]
  },
  {
   "cell_type": "code",
   "execution_count": 8,
   "metadata": {},
   "outputs": [
    {
     "name": "stderr",
     "output_type": "stream",
     "text": [
      "100%|██████████| 157/157 [00:01<00:00, 121.91it/s]\n"
     ]
    },
    {
     "data": {
      "text/plain": [
       "<batchflow.pipeline.Pipeline at 0x7f0e6ff57390>"
      ]
     },
     "execution_count": 8,
     "metadata": {},
     "output_type": "execute_result"
    }
   ],
   "source": [
    "test_pipeline.run()"
   ]
  },
  {
   "cell_type": "code",
   "execution_count": 9,
   "metadata": {},
   "outputs": [],
   "source": [
    "logreg_metrics = test_pipeline.v('L_metrics')\n",
    "svm_metrics = test_pipeline.v('S_metrics')"
   ]
  },
  {
   "cell_type": "code",
   "execution_count": 10,
   "metadata": {},
   "outputs": [
    {
     "data": {
      "text/plain": [
       "(0.8460390127388535, 0.7829418789808917)"
      ]
     },
     "execution_count": 10,
     "metadata": {},
     "output_type": "execute_result"
    }
   ],
   "source": [
    "logreg_metrics.evaluate('acc'), svm_metrics.evaluate('acc') "
   ]
  },
  {
   "cell_type": "code",
   "execution_count": 11,
   "metadata": {},
   "outputs": [],
   "source": [
    "batch = test_pipeline.next_batch(5, shuffle=True)"
   ]
  },
  {
   "cell_type": "code",
   "execution_count": 12,
   "metadata": {},
   "outputs": [
    {
     "data": {
      "image/png": "[encoded data removed]",
      "text/plain": [
       "<Figure size 1080x360 with 5 Axes>"
      ]
     },
     "metadata": {
      "needs_background": "light"
     },
     "output_type": "display_data"
    }
   ],
   "source": [
    "fig, ax = plt.subplots(1, 5, figsize=(15, 5))\n",
    "fig.suptitle('SVM predictions')\n",
    "for i in range(len(ax)):\n",
    "    ax[i].imshow((batch.images[i].reshape(28, 28)).astype(int))\n",
    "    class_pred = batch.pipeline.v('S_predictions')[i]\n",
    "    ax[i].title.set_text('prediction - {}'.format(class_pred))"
   ]
  }
 ],
 "metadata": {
  "kernelspec": {
   "display_name": "Python 3",
   "language": "python",
   "name": "python3"
  },
  "language_info": {
   "codemirror_mode": {
    "name": "ipython",
    "version": 3
   },
   "file_extension": ".py",
   "mimetype": "text/x-python",
   "name": "python",
   "nbconvert_exporter": "python",
   "pygments_lexer": "ipython3",
   "version": "3.5.2"
  }
 },
 "nbformat": 4,
 "nbformat_minor": 2
}
