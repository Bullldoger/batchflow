{
 "cells": [
  {
   "cell_type": "markdown",
   "metadata": {},
   "source": [
    "# Different training procedures"
   ]
  },
  {
   "cell_type": "markdown",
   "metadata": {},
   "source": [
    " ## What's it?"
   ]
  },
  {
   "cell_type": "markdown",
   "metadata": {},
   "source": [
    "Using `train_steps`, we  can configure different training procedures. It allows to optimize weights of selected scope using selected optimizer, loss and learning rate decay."
   ]
  },
  {
   "cell_type": "markdown",
   "metadata": {},
   "source": [
    "`scope` – subset of weights to optimize during training. Can be either string or sequence of strings.\n",
    "Value `''` is reserved for optimizing all trainable variables. Putting `-` sign before name stands for complement: optimize everything but the passed scope. Scope can be choosen from masks of the path to the model weights tensors.\n"
   ]
  },
  {
   "cell_type": "code",
   "execution_count": 1,
   "metadata": {},
   "outputs": [],
   "source": [
    "import os\n",
    "import sys\n",
    "import warnings\n",
    "\n",
    "import matplotlib.pyplot as plt\n",
    "\n",
    "sys.path.append('../../..')\n",
    "from batchflow import Pipeline, B, C, V, D\n",
    "from batchflow.opensets import MNIST\n",
    "from batchflow.models.tf import EncoderDecoder"
   ]
  },
  {
   "cell_type": "markdown",
   "metadata": {},
   "source": [
    "Specify which GPU(s) to be used. More about it in [CUDA documentation](https://docs.nvidia.com/cuda/cuda-c-programming-guide/index.html#env-vars)."
   ]
  },
  {
   "cell_type": "code",
   "execution_count": 2,
   "metadata": {},
   "outputs": [
    {
     "name": "stdout",
     "output_type": "stream",
     "text": [
      "env: CUDA_DEVICE_ORDER=PCI_BUS_ID\n",
      "env: CUDA_VISIBLE_DEVICES=5\n"
     ]
    }
   ],
   "source": [
    "%env CUDA_DEVICE_ORDER=PCI_BUS_ID\n",
    "%env CUDA_VISIBLE_DEVICES=5"
   ]
  },
  {
   "cell_type": "markdown",
   "metadata": {},
   "source": [
    "## Create a dataset, define a pipeline config, define a default model config\n"
   ]
  },
  {
   "cell_type": "code",
   "execution_count": 3,
   "metadata": {},
   "outputs": [
    {
     "name": "stderr",
     "output_type": "stream",
     "text": [
      "100%|██████████| 8/8 [00:01<00:00,  1.92it/s]\n"
     ]
    }
   ],
   "source": [
    "BATCH_SIZE = 100\n",
    "\n",
    "dataset = MNIST(bar=True)\n",
    "\n",
    "config = dict(model=EncoderDecoder)\n",
    "\n",
    "model_config = {'inputs': {'images/shape': (28,28,1),\n",
    "                           'masks/shape': (28,28,1)},\n",
    "                'initial_block': {'inputs': 'images'},\n",
    "                'body/encoder/num_stages' : 3,\n",
    "                'body/encoder/blocks': {'layout': 'cna cna',\n",
    "                                        'kernel_size': 3,\n",
    "                                        'filters': [16, 32, 128]},\n",
    "                'body/decoder/blocks': {'layout': 'cna cna',\n",
    "                                        'kernel_size': 3,\n",
    "                                        'filters': [64, 32, 16]},\n",
    "                'head': dict(layout='cna', kernel_size=3, filters=16),\n",
    "                'loss': 'mse'}"
   ]
  },
  {
   "cell_type": "markdown",
   "metadata": {},
   "source": [
    "# Add different training procedures "
   ]
  },
  {
   "cell_type": "markdown",
   "metadata": {},
   "source": [
    "Give name (key of dict) of *train step* as you wish. Choose optimizer, scope of weights of your neural network,\n",
    "and learning rate decay config ([Avalible losses and decays](https://analysiscenter.github.io/batchflow/api/batchflow.models.tf.base.html)). For example:\n",
    "\n",
    "\n",
    "```python\n",
    "'train_steps': {'name_of_train_step': {'optimizer': 'Adam', \n",
    "                                       'scope': 'block/group/layer', \n",
    "                                       'decay': lr_decay_config, \n",
    "                                       'loss': 'mse'}}\n",
    "```"
   ]
  },
  {
   "cell_type": "markdown",
   "metadata": {},
   "source": [
    "Scope can be set up as list of scopes:\n",
    "```python\n",
    "'scope': ['block/group-0/some_layer', 'block/some_group']\n",
    "```"
   ]
  },
  {
   "cell_type": "code",
   "execution_count": 4,
   "metadata": {},
   "outputs": [],
   "source": [
    "model_config.update({'train_steps': \n",
    "                     {\n",
    "                      'encoder': {'optimizer': 'Adam', 'scope': ['body/encoder', 'initial_block'], 'loss': 'mse'},\n",
    "                      'decoder': {'optimizer': 'Adam', 'scope': ['body/decoder', 'head'], 'loss': 'mse'}\n",
    "                     }\n",
    "                    })"
   ]
  },
  {
   "cell_type": "markdown",
   "metadata": {},
   "source": [
    "Optimizer and decay together may be reused by another **train step**. Use key `'use'` and name of *train step* to do that. \n",
    "\n",
    "For example:\n",
    "```python\n",
    "'all': {'optimizer': 'Adam', 'loss': 'mse', 'decay': lr_decay_config}\n",
    "    \n",
    "'head': {'use': 'all', 'scope': 'head', 'loss': 'ce'}\n",
    " ```"
   ]
  },
  {
   "cell_type": "markdown",
   "metadata": {},
   "source": [
    "Also scope contain all trainable variables if it isn't set (as in the case `'all'`)."
   ]
  },
  {
   "cell_type": "markdown",
   "metadata": {},
   "source": [
    "# Example of usage."
   ]
  },
  {
   "cell_type": "markdown",
   "metadata": {},
   "source": [
    "## Train the model"
   ]
  },
  {
   "cell_type": "markdown",
   "metadata": {},
   "source": [
    "Parameter `train_mode` used in train_model to select *train step*. "
   ]
  },
  {
   "cell_type": "markdown",
   "metadata": {},
   "source": [
    "For example use:\n",
    "```python \n",
    "train_mode='name_of_train_step'\n",
    "```\n",
    "to select `name_of_train_step`.\n",
    "\n",
    "To fetch loss according to selected *train_step* use:\n",
    "```python \n",
    "fetches='loss_name_of_train_step'\n",
    "``` "
   ]
  },
  {
   "cell_type": "markdown",
   "metadata": {},
   "source": [
    "Now use `train_mode='encoder'`  to select train step `'encoder'`. And `fetches='loss_encoder'` to fetch corresponding loss."
   ]
  },
  {
   "cell_type": "markdown",
   "metadata": {},
   "source": [
    "Define function that display mean values of the encoder and decoder tensor at each pipeline iteration. To look at a change in values when changing **train_step**."
   ]
  },
  {
   "cell_type": "code",
   "execution_count": 5,
   "metadata": {},
   "outputs": [],
   "source": [
    "def plot_tensor_mean(encoder_tensor, decoder_tensor):\n",
    "    plt.plot([tensor.mean() for tensor in encoder_tensor], label='Mean of encoder tensor')\n",
    "    plt.plot([tensor.mean() for tensor in decoder_tensor], label='Mean of decoder tensor')\n",
    "    plt.legend()\n",
    "    plt.show()"
   ]
  },
  {
   "cell_type": "code",
   "execution_count": 6,
   "metadata": {},
   "outputs": [
    {
     "data": {
      "text/plain": [
       "<batchflow.once_pipeline.OncePipeline at 0x7f80437fc828>"
      ]
     },
     "execution_count": 6,
     "metadata": {},
     "output_type": "execute_result"
    }
   ],
   "source": [
    "train_encoder = (Pipeline(config=config)\n",
    "                 .init_variable('encoder_tensor', [])\n",
    "                 .init_variable('decoder_tensor', [])\n",
    "                 .init_model('dynamic', C('model'),'conv_nn',\n",
    "                             config=model_config)\n",
    "                 .to_array()\n",
    "                 .train_model('conv_nn', fetches=['body/encoder/encoder-0/pre/layer-3/conv2d/kernel/Adam/read',\n",
    "                                                  'body/decoder/decoder-1/post/layer-0/conv2d/kernel/Adam/read'], \n",
    "                              train_mode='encoder',\n",
    "                              images=B.images, masks=B.images,\n",
    "                              save_to= [V('encoder_tensor', mode='a'), V('decoder_tensor', mode='a')],\n",
    "                              use_lock=True)\n",
    "                ) << dataset.train \n",
    "\n",
    "train_encoder.after.plot_tensor_mean(V('encoder_tensor'), V('decoder_tensor'))"
   ]
  },
  {
   "cell_type": "code",
   "execution_count": 7,
   "metadata": {},
   "outputs": [
    {
     "name": "stderr",
     "output_type": "stream",
     "text": [
      "100%|██████████| 100/100 [00:14<00:00,  7.02it/s]\n"
     ]
    },
    {
     "data": {
      "image/png": "[encoded data removed]",
      "text/plain": [
       "<Figure size 432x288 with 1 Axes>"
      ]
     },
     "metadata": {
      "needs_background": "light"
     },
     "output_type": "display_data"
    },
    {
     "data": {
      "text/plain": [
       "<batchflow.pipeline.Pipeline at 0x7f80495b5b00>"
      ]
     },
     "execution_count": 7,
     "metadata": {},
     "output_type": "execute_result"
    }
   ],
   "source": [
    "train_encoder.run(BATCH_SIZE, shuffle=True, n_iters = 100, bar=True, drop_last=True)"
   ]
  },
  {
   "cell_type": "markdown",
   "metadata": {},
   "source": [
    "Now we have the neural network with trained weights from scope of `'encoder'` train step."
   ]
  },
  {
   "cell_type": "markdown",
   "metadata": {},
   "source": [
    "Next we train weights from scope `'decoder'` train step."
   ]
  },
  {
   "cell_type": "code",
   "execution_count": 8,
   "metadata": {},
   "outputs": [
    {
     "data": {
      "text/plain": [
       "<batchflow.once_pipeline.OncePipeline at 0x7f7e94277a58>"
      ]
     },
     "execution_count": 8,
     "metadata": {},
     "output_type": "execute_result"
    }
   ],
   "source": [
    "train_decoder = (Pipeline(config=config)\n",
    "                  .init_variable('encoder_tensor', [])\n",
    "                  .init_variable('decoder_tensor', [])\n",
    "                  .import_model('conv_nn', train_encoder)\n",
    "                  .to_array()\n",
    "                  .train_model('conv_nn', fetches=['body/encoder/encoder-0/pre/layer-3/conv2d/kernel/Adam/read',\n",
    "                                                   'body/decoder/decoder-1/post/layer-0/conv2d/kernel/Adam/read'],\n",
    "                               train_mode='decoder',\n",
    "                               images=B.images, masks=B.images,\n",
    "                               save_to= [V('encoder_tensor', mode='a'), V('decoder_tensor', mode='a')],\n",
    "                               use_lock=True)) << dataset.train\n",
    "\n",
    "train_decoder.after.plot_tensor_mean(V('encoder_tensor'), V('decoder_tensor'))"
   ]
  },
  {
   "cell_type": "code",
   "execution_count": 9,
   "metadata": {},
   "outputs": [
    {
     "name": "stderr",
     "output_type": "stream",
     "text": [
      "100%|██████████| 100/100 [00:06<00:00, 18.67it/s]\n"
     ]
    },
    {
     "data": {
      "image/png": "[encoded data removed]",
      "text/plain": [
       "<Figure size 432x288 with 1 Axes>"
      ]
     },
     "metadata": {
      "needs_background": "light"
     },
     "output_type": "display_data"
    },
    {
     "data": {
      "text/plain": [
       "<batchflow.pipeline.Pipeline at 0x7f7e94277f60>"
      ]
     },
     "execution_count": 9,
     "metadata": {},
     "output_type": "execute_result"
    }
   ],
   "source": [
    "train_decoder.run(BATCH_SIZE, shuffle=True, n_iters=100, bar=True, drop_last=True)"
   ]
  },
  {
   "cell_type": "markdown",
   "metadata": {},
   "source": [
    "On first plot we see changes of  encoder tensor mean and we see that  mean of decoder tensor has not changes, because we change only weights from scope of `'encoder'` train step. We can see similar situation on the second plot where mean of decoder tensor changes and mean of encoder tensor has not changes (`'decoder'` train step). "
   ]
  },
  {
   "cell_type": "markdown",
   "metadata": {},
   "source": [
    "Now we can train models with different training procedures, and thus we can getting better results."
   ]
  }
 ],
 "metadata": {
  "kernelspec": {
   "display_name": "Python 3",
   "language": "python",
   "name": "python3"
  },
  "language_info": {
   "codemirror_mode": {
    "name": "ipython",
    "version": 3
   },
   "file_extension": ".py",
   "mimetype": "text/x-python",
   "name": "python",
   "nbconvert_exporter": "python",
   "pygments_lexer": "ipython3",
   "version": "3.5.2"
  }
 },
 "nbformat": 4,
 "nbformat_minor": 2
}
