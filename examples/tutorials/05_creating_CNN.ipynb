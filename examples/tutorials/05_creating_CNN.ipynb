{
 "cells": [
  {
   "cell_type": "markdown",
   "metadata": {},
   "source": [
    "# Convolutional Neural Networks With BatchFlow"
   ]
  },
  {
   "cell_type": "markdown",
   "metadata": {},
   "source": [
    "Now it's time to talk about convolutional neural networks and in this notebook you will find out how to do:\n",
    "* data augmentation\n",
    "* early stopping\n",
    "* learning rate decay."
   ]
  },
  {
   "cell_type": "code",
   "execution_count": 1,
   "metadata": {},
   "outputs": [],
   "source": [
    "import sys\n",
    "\n",
    "import numpy as np\n",
    "import PIL\n",
    "\n",
    "from matplotlib import pyplot as plt\n",
    "from tqdm import tqdm\n",
    "%matplotlib inline\n",
    "\n",
    "# the following line is not required if BatchFlow is installed as a python package.\n",
    "sys.path.append('../..')\n",
    "from batchflow import B, V, F, R, P, action, inbatch_parallel, ImagesBatch\n",
    "from batchflow.opensets import MNIST\n",
    "from batchflow.models.tf import TFModel\n",
    "from batchflow.models.metrics import ClassificationMetrics\n",
    "from batchflow.batch_image import transform_actions\n",
    "from batchflow.utils import plot_images\n",
    "\n",
    "plt.style.use('seaborn-poster')\n",
    "plt.style.use('ggplot')"
   ]
  },
  {
   "cell_type": "markdown",
   "metadata": {},
   "source": [
    "Instead of generating data, you can implement a basic batch class with a preloaded [MNIST](https://analysiscenter.github.io/batchflow/api/batchflow.opensets.html#mnist) dataset."
   ]
  },
  {
   "cell_type": "code",
   "execution_count": 2,
   "metadata": {},
   "outputs": [],
   "source": [
    "@transform_actions(prefix='_', suffix='_', wrapper='apply_transform')\n",
    "class MnistBatch(ImagesBatch):\n",
    "    \"\"\" Mnist batch and models \"\"\"\n",
    "\n",
    "    components = 'images', 'labels'\n",
    "\n",
    "    def _shift_flattened_(self, image, max_margin=8):\n",
    "        \"\"\" Apply random shift to a flattened image\n",
    "\n",
    "        Parameters\n",
    "        ----------\n",
    "        max_margin: int\n",
    "            Max value of margin that image may be shifted\n",
    "\n",
    "        Returns\n",
    "        -------\n",
    "        flattened shifted image \"\"\"\n",
    "        padded = np.pad(self._to_array_(image),\n",
    "                        pad_width=[[max_margin, max_margin], [max_margin, max_margin], [0, 0]],\n",
    "                        mode='minimum')\n",
    "        left_lower = np.random.randint(2 * max_margin, size=2)\n",
    "        slicing = (slice(left_lower[0], left_lower[0] + 28),\n",
    "                   slice(left_lower[1], left_lower[1] + 28))\n",
    "        return self._to_pil_(padded[slicing])"
   ]
  },
  {
   "cell_type": "markdown",
   "metadata": {},
   "source": [
    "Let's load data and create the dataset:"
   ]
  },
  {
   "cell_type": "code",
   "execution_count": 3,
   "metadata": {},
   "outputs": [],
   "source": [
    "mnist = MNIST(batch_class=MnistBatch)"
   ]
  },
  {
   "cell_type": "code",
   "execution_count": 4,
   "metadata": {},
   "outputs": [],
   "source": [
    "class ConvModel(TFModel):\n",
    "    \"\"\" A simple model with 3 conv layers with kernels 7x7, 5x5 and 3x3 \"\"\"\n",
    "    @classmethod\n",
    "    def default_config(cls):\n",
    "        \"\"\" Default parameters for conv model.\n",
    "\n",
    "        Returns\n",
    "        -------\n",
    "        config : dict\n",
    "            default parameters to network\n",
    "        \"\"\"\n",
    "        config = TFModel.default_config()\n",
    "        config['body'].update(dict(layout='nc nac nac n', filters=[16, 32, 64], kernel_size=[7, 5, 3], strides=2))\n",
    "        config['head'].update(dict(layout='Pf'))\n",
    "        return config"
   ]
  },
  {
   "cell_type": "markdown",
   "metadata": {},
   "source": [
    "As we already learned from the previous tutorials, first of all you have to define config and create train and test pipelines. \n",
    "\n",
    "Let's create a config for a model. If you open the file with the [model](./../utils/simple_conv_model.py) you can see [__default_config__](https://analysiscenter.github.io/batchflow/api/batchflow.models.tf.base.html#batchflow.models.tf.base.TFModel.default_config). It is a function, that allows to add the default configuration to the model.\n",
    "\n",
    "But if you want to override default config you can add parameters in model config. For example:\n",
    "\n",
    "ConvModel has dict __config__ with key __'body'__. You can override it by adding in __model_config__ key __'body'__ with dict of parameters of body function.\n",
    "\n",
    "Models are split in three parts:\n",
    "* __initial_block__ - block containing the input layers.\n",
    "* __body__ - the main part of the model\n",
    "* __head__ - outputs layers, like global average pooling or dense layers.\n",
    "\n",
    "Or add useful params by typing in a __model_config__ key like __'body/layout'__ and params to this key. Similar way use it in the key __'initial_block/inputs'__ or __'head/units'__. In [docs](https://analysiscenter.github.io/batchflow/intro/tf_models.html#model-structure) you can read more."
   ]
  },
  {
   "cell_type": "code",
   "execution_count": 5,
   "metadata": {},
   "outputs": [
    {
     "name": "stdout",
     "output_type": "stream",
     "text": [
      "env: CUDA_VISIBLE_DEVICES=7\n"
     ]
    }
   ],
   "source": [
    "%env CUDA_VISIBLE_DEVICES=7\n",
    "model_config = {\n",
    "    'inputs/images/shape': (28, 28, 1),\n",
    "    'inputs/labels/classes': 10,\n",
    "    'initial_block/inputs': 'images',\n",
    "    'loss': 'ce',\n",
    "    'decay': ('exp', {'learning_rate': 0.001,\n",
    "                      'decay_steps': 150,\n",
    "                      'decay_rate': 0.96}),\n",
    "    'optimizer': 'Adam',\n",
    "    'head/units': 10,\n",
    "    'output': dict(predicted=['proba', 'labels']),\n",
    "    'device': 'gpu:0'\n",
    "}"
   ]
  },
  {
   "cell_type": "markdown",
   "metadata": {},
   "source": [
    "When config is defined, next step is to create a pipeline. Note that __random_rotate__ and __random_scale__ are methods of the __ImagesBatch__ class(parent of our class). You can see all avalible augmentations in [images tutorial](07_image_augmentation_examples.ipynb).\n",
    "\n",
    "In contrast to them __shift_flattned_pic__ is a function from [batch class](./../utils/secondbatch.py). It is worth mentioning because it runs in parallel. About parallel method read [docs](https://analysiscenter.github.io/batchflow/intro/parallel.html)."
   ]
  },
  {
   "cell_type": "code",
   "execution_count": 6,
   "metadata": {},
   "outputs": [],
   "source": [
    "def factor_sampler(p_square = 0.5):\n",
    "    if np.random.binomial(1, p_square):\n",
    "        return np.random.uniform(0.9, 1.1, 2)\n",
    "    return np.random.uniform(0.9, 1.1, 1)"
   ]
  },
  {
   "cell_type": "code",
   "execution_count": 7,
   "metadata": {},
   "outputs": [],
   "source": [
    "train_pipeline = (\n",
    "    mnist.train.p\n",
    "    .init_variable('loss_history', default=[])\n",
    "    .shift_flattened()\n",
    "    .rotate(angle=P(R('uniform',-10, 10)), p=0.8)\n",
    "    .crop(shape=(28, 28), origin='center')\n",
    "    .scale(factor=P(R(factor_sampler())), preserve_shape=True, p=0.8)\n",
    "    .to_array()\n",
    "    .multiply(multiplier=1/255., preserve_type=False)\n",
    "    .init_model('dynamic', ConvModel, 'conv', config=model_config)\n",
    "    .to_array()\n",
    "    .train_model('conv', fetches='loss', images=B('images'), labels=B('labels'), save_to=V('loss_history', mode='a'))\n",
    ")"
   ]
  },
  {
   "cell_type": "markdown",
   "metadata": {},
   "source": [
    "And test on the augmented data"
   ]
  },
  {
   "cell_type": "code",
   "execution_count": 8,
   "metadata": {},
   "outputs": [],
   "source": [
    "validation_pipeline = (\n",
    "    mnist.test.p\n",
    "    .init_variable('predictions')\n",
    "    .init_variable('metrics')\n",
    "    .import_model('conv', train_pipeline)\n",
    "    .shift_flattened()\n",
    "    .rotate(angle=P(R('uniform',-10, 10)), p=0.8)\n",
    "    .crop(shape=(28, 28), origin='center')\n",
    "    .scale(factor=P(R(factor_sampler())), preserve_shape=True, p=0.8) \n",
    "    .to_array()\n",
    "    .multiply(multiplier=1/255., preserve_type=False)\n",
    "    .predict_model('conv', fetches='predictions', images=B('images'), labels=B('labels'), save_to=V('predictions'))\n",
    "    .gather_metrics(ClassificationMetrics, targets=B('labels'), predictions=V('predictions'),\n",
    "                    fmt='logits', axis=-1, save_to=V('metrics'))\n",
    ")"
   ]
  },
  {
   "cell_type": "markdown",
   "metadata": {},
   "source": [
    "We introduce an early stopping to terminate the model training when an average accuracy for a few last iterations will exceed 90 percent."
   ]
  },
  {
   "cell_type": "code",
   "execution_count": 9,
   "metadata": {},
   "outputs": [
    {
     "name": "stderr",
     "output_type": "stream",
     "text": [
      "  0%|          | 0/4001 [00:00<?, ?it/s]"
     ]
    },
    {
     "name": "stdout",
     "output_type": "stream",
     "text": [
      "WARNING:tensorflow:From /usr/local/lib/python3.5/dist-packages/tensorflow/python/ops/init_ops.py:1251: calling VarianceScaling.__init__ (from tensorflow.python.ops.init_ops) with dtype is deprecated and will be removed in a future version.\n",
      "Instructions for updating:\n",
      "Call initializer instance with the dtype argument instead of passing it to the constructor\n",
      "WARNING:tensorflow:From /usr/local/lib/python3.5/dist-packages/tensorflow/python/ops/losses/losses_impl.py:121: add_dispatch_support.<locals>.wrapper (from tensorflow.python.ops.array_ops) is deprecated and will be removed in a future version.\n",
      "Instructions for updating:\n",
      "Use tf.where in 2.0, which has the same broadcast rule as np.where\n"
     ]
    },
    {
     "name": "stderr",
     "output_type": "stream",
     "text": [
      "  7%|▋         | 299/4001 [01:31<17:44,  3.48it/s]"
     ]
    },
    {
     "name": "stdout",
     "output_type": "stream",
     "text": [
      "Early stop on 300 iter. Acc: 0.90625\n"
     ]
    }
   ],
   "source": [
    "MAX_ITER = 4001\n",
    "window = 20\n",
    "batch_size = 128\n",
    "\n",
    "for curr_iter in tqdm(range(1, MAX_ITER + 1)):\n",
    "\n",
    "    train_pipeline.next_batch(batch_size, n_epochs=None)\n",
    "    validation_pipeline.next_batch(batch_size, n_epochs=None)\n",
    "\n",
    "    if curr_iter % window == 0:\n",
    "        metrics = validation_pipeline.v('metrics')\n",
    "        accuracy = metrics.evaluate('accuracy')\n",
    "\n",
    "        #Early stopping   \n",
    "        if accuracy > 0.9:\n",
    "            print('Early stop on {} iter. Acc: {}'.format(curr_iter, accuracy))\n",
    "            break"
   ]
  },
  {
   "cell_type": "markdown",
   "metadata": {},
   "source": [
    "Take a look at the loss history during training."
   ]
  },
  {
   "cell_type": "code",
   "execution_count": 10,
   "metadata": {},
   "outputs": [
    {
     "data": {
      "image/png": "[encoded data removed]",
      "text/plain": [
       "<Figure size 1080x360 with 1 Axes>"
      ]
     },
     "metadata": {
      "needs_background": "light"
     },
     "output_type": "display_data"
    }
   ],
   "source": [
    "plt.figure(figsize=(15, 5))\n",
    "plt.plot(train_pipeline.v('loss_history'))\n",
    "plt.xlabel(\"Iterations\"), plt.ylabel(\"Loss\")\n",
    "plt.show()"
   ]
  },
  {
   "cell_type": "markdown",
   "metadata": {},
   "source": [
    "Let's take a look at the predictions now."
   ]
  },
  {
   "cell_type": "code",
   "execution_count": 11,
   "metadata": {},
   "outputs": [],
   "source": [
    "test_pipeline = (mnist.test.p\n",
    "    .init_variables(['proba', 'labels'])\n",
    "    .import_model('conv', train_pipeline)\n",
    "    .shift_flattened()\n",
    "    .rotate(angle=P(R('uniform',-10, 10)), p=0.8)\n",
    "    .crop(shape=(28, 28), origin='center')\n",
    "    .scale(factor=P(R(factor_sampler())), preserve_shape=True, p=0.8) \n",
    "    .to_array()\n",
    "    .multiply(multiplier=1/255., preserve_type=False)\n",
    "    .predict_model('conv', \n",
    "        fetches=['predicted_proba', 'predicted_labels'],\n",
    "        images=B('images'), labels=B('labels'),\n",
    "        save_to=[V('proba'), V('labels')]))"
   ]
  },
  {
   "cell_type": "markdown",
   "metadata": {},
   "source": [
    "It's always interesting to look at the images, so let's draw them."
   ]
  },
  {
   "cell_type": "code",
   "execution_count": 12,
   "metadata": {},
   "outputs": [
    {
     "data": {
      "image/png": "[encoded data removed]",
      "text/plain": [
       "<Figure size 1440x1440 with 10 Axes>"
      ]
     },
     "metadata": {
      "needs_background": "light"
     },
     "output_type": "display_data"
    }
   ],
   "source": [
    "batch = test_pipeline.next_batch(10, n_epochs=None, shuffle=True)\n",
    "\n",
    "plot_images(np.squeeze(batch.images), batch.labels, \n",
    "            batch.pipeline.v('proba'), figsize=(20,20))"
   ]
  },
  {
   "cell_type": "markdown",
   "metadata": {},
   "source": [
    "## Conclusion\n",
    "\n",
    "Today you have learnt how to:\n",
    "* create convolutional neural network with the BatchFlow.\n",
    "* easily load MNIST data without writing your own loading functions.\n",
    "* perforn data augmentation with dataset.\n",
    "* configure the model using model config.\n",
    "\n",
    "And found out that network can be more robust with data augmentations (like scale and rotate). "
   ]
  },
  {
   "cell_type": "markdown",
   "metadata": {},
   "source": [
    "## And what's next?\n",
    "Because now you know how to work with convolutional models, you can:\n",
    "* create a more sophisticated model\n",
    "* change our model's config.\n",
    "\n",
    "Your goal is 0.95 on the test data!\n",
    "\n",
    "Good luck!\n",
    "\n",
    "See [image augmentation tutorial](./06_image_augmentation.ipynb) for advanced augmentation methods or return to the [table of contents](./00_content.ipynb)."
   ]
  },
  {
   "cell_type": "code",
   "execution_count": null,
   "metadata": {},
   "outputs": [],
   "source": []
  }
 ],
 "metadata": {
  "kernelspec": {
   "display_name": "Python 3",
   "language": "python",
   "name": "python3"
  },
  "language_info": {
   "codemirror_mode": {
    "name": "ipython",
    "version": 3
   },
   "file_extension": ".py",
   "mimetype": "text/x-python",
   "name": "python",
   "nbconvert_exporter": "python",
   "pygments_lexer": "ipython3",
   "version": "3.5.2"
  }
 },
 "nbformat": 4,
 "nbformat_minor": 4
}
