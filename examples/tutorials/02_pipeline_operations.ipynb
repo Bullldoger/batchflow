{
 "cells": [
  {
   "cell_type": "markdown",
   "metadata": {},
   "source": [
    "# How to create a simple pipeline to process a dataset by batches"
   ]
  },
  {
   "cell_type": "code",
   "execution_count": 4,
   "metadata": {},
   "outputs": [],
   "source": [
    "%load_ext autoreload\n",
    "%autoreload 2\n",
    "import sys\n",
    "import warnings\n",
    "warnings.filterwarnings(\"ignore\")\n",
    "\n",
    "import PIL\n",
    "import numpy as np\n",
    "from matplotlib import pyplot as plt\n",
    "%matplotlib inline\n",
    "\n",
    "# the following line is not required if BatchFlow is installed as a python package.\n",
    "sys.path.append(\"../..\")\n",
    "from batchflow import Dataset, DatasetIndex, Pipeline, R, P, V, C,W\n",
    "from batchflow.opensets import MNIST"
   ]
  },
  {
   "cell_type": "code",
   "execution_count": 5,
   "metadata": {},
   "outputs": [],
   "source": [
    "BATCH_SIZE = 10"
   ]
  },
  {
   "cell_type": "markdown",
   "metadata": {},
   "source": [
    "## Create a dataset"
   ]
  },
  {
   "cell_type": "markdown",
   "metadata": {},
   "source": [
    "[MNIST](http://yann.lecun.com/exdb/mnist/) is a dataset of handwritten digits frequently used as a baseline for machine learning tasks."
   ]
  },
  {
   "cell_type": "markdown",
   "metadata": {},
   "source": [
    "Let's download the data and create the dataset (it might take a few minutes to complete)"
   ]
  },
  {
   "cell_type": "code",
   "execution_count": 6,
   "metadata": {},
   "outputs": [],
   "source": [
    "dataset = MNIST()"
   ]
  },
  {
   "cell_type": "markdown",
   "metadata": {},
   "source": [
    "MNIST dataset will create instances of [ImagesBatch](https://analysiscenter.github.io/batchflow/intro/images_batch.html)."
   ]
  },
  {
   "cell_type": "markdown",
   "metadata": {},
   "source": [
    "You can also use [CIFAR](https://www.cs.toronto.edu/~kriz/cifar.html):\n",
    "```python\n",
    "    from batchflow.opensets import CIFAR10\n",
    "    \n",
    "    dataset = CIFAR10()\n",
    "```\n",
    "It takes much more time to download, though.\n",
    "\n",
    "For CIFAR examples see [the image augmentation tutorial](./07_image_augmentation_examples.ipynb)."
   ]
  },
  {
   "cell_type": "markdown",
   "metadata": {},
   "source": [
    "Let's get a batch and look at the dataset content."
   ]
  },
  {
   "cell_type": "code",
   "execution_count": 4,
   "metadata": {},
   "outputs": [],
   "source": [
    "def show_images(batch):\n",
    "    shape = batch.image_shape\n",
    "    total_width = len(batch) * shape[0]\n",
    "    img = PIL.Image.new('L' if shape[-1]==1 else 'RGB', (total_width, shape[1]))\n",
    "    for image, offset in zip(batch.images, np.arange(0, len(batch)*shape[0], shape[0])):\n",
    "        img.paste(image, (offset,0))\n",
    "    fig, ax = plt.subplots(1, figsize=(10, 4))\n",
    "    ax.axis('off')\n",
    "    ax.imshow(img, cmap=\"gray\" if shape[-1]==1 else None)\n",
    "    plt.show()"
   ]
  },
  {
   "cell_type": "code",
   "execution_count": 5,
   "metadata": {},
   "outputs": [
    {
     "data": {
      "image/png": "[encoded data removed]",
      "text/plain": [
       "<Figure size 720x288 with 1 Axes>"
      ]
     },
     "metadata": {
      "needs_background": "light"
     },
     "output_type": "display_data"
    }
   ],
   "source": [
    "batch = dataset.train.next_batch(BATCH_SIZE)\n",
    "show_images(batch)"
   ]
  },
  {
   "cell_type": "markdown",
   "metadata": {},
   "source": [
    "Execute the cell above several time to see different batches."
   ]
  },
  {
   "cell_type": "markdown",
   "metadata": {},
   "source": [
    "## Define a pipeline"
   ]
  },
  {
   "cell_type": "markdown",
   "metadata": {},
   "source": [
    "A pipeline represents a sequence of actions applied to a dataset.\n",
    "\n",
    "These actions might come from [Pipeline API](https://analysiscenter.github.io/batchflow/intro/pipeline.html) or a batch class action-methods (e.g. [ImagesBatch](https://analysiscenter.github.io/batchflow/intro/images_batch.html))\n",
    "\n",
    "Just write them one after another."
   ]
  },
  {
   "cell_type": "code",
   "execution_count": 6,
   "metadata": {},
   "outputs": [],
   "source": [
    "simple_pipeline = (dataset.train.p\n",
    "                     .scale(p=.5, factor=1.5, preserve_shape=True)\n",
    "                     .rotate(p=.5, angle=60)\n",
    "                     .salt(p=.5, color=255, p_noise=.05)\n",
    "                     .elastic_transform(p=.5, alpha=20, sigma=1.8)\n",
    ")"
   ]
  },
  {
   "cell_type": "code",
   "execution_count": 7,
   "metadata": {},
   "outputs": [
    {
     "data": {
      "image/png": "[encoded data removed]",
      "text/plain": [
       "<Figure size 720x288 with 1 Axes>"
      ]
     },
     "metadata": {
      "needs_background": "light"
     },
     "output_type": "display_data"
    }
   ],
   "source": [
    "batch = simple_pipeline.next_batch(BATCH_SIZE)\n",
    "show_images(batch)"
   ]
  },
  {
   "cell_type": "markdown",
   "metadata": {},
   "source": [
    "Read [the documentation](https://analysiscenter.github.io/batchflow/intro/pipeline.html) for advanced pipeline techniques."
   ]
  },
  {
   "cell_type": "markdown",
   "metadata": {},
   "source": [
    "## Use pipeline variables"
   ]
  },
  {
   "cell_type": "code",
   "execution_count": 8,
   "metadata": {},
   "outputs": [],
   "source": [
    "simple_pipeline = (dataset.train.p\n",
    "                     .init_variable('angle', 60)\n",
    "                     .init_variable('factor', 1.5)\n",
    "                     .init_variable('salt_color', 255)\n",
    "                     .init_variable('proba', .5)\n",
    "                     .scale(p=V('proba'), factor=V('factor'), preserve_shape=True)\n",
    "                     .rotate(p=V('proba'), angle=V('angle'))\n",
    "                     .salt(p=V('proba'), color=V('salt_color'), p_noise=.05)\n",
    "                     .elastic_transform(p=V('proba'), alpha=20, sigma=1.8)\n",
    ")"
   ]
  },
  {
   "cell_type": "code",
   "execution_count": 9,
   "metadata": {},
   "outputs": [
    {
     "data": {
      "image/png": "[encoded data removed]",
      "text/plain": [
       "<Figure size 720x288 with 1 Axes>"
      ]
     },
     "metadata": {
      "needs_background": "light"
     },
     "output_type": "display_data"
    }
   ],
   "source": [
    "batch = simple_pipeline.next_batch(BATCH_SIZE)\n",
    "show_images(batch)"
   ]
  },
  {
   "cell_type": "markdown",
   "metadata": {},
   "source": [
    "Read [more about variables and how to use them](https://analysiscenter.github.io/batchflow/intro/pipeline.html#pipeline-variables)."
   ]
  },
  {
   "cell_type": "markdown",
   "metadata": {},
   "source": [
    "## Pipeline configuration"
   ]
  },
  {
   "cell_type": "markdown",
   "metadata": {},
   "source": [
    "Same result can be achieved with a pipeline config."
   ]
  },
  {
   "cell_type": "code",
   "execution_count": 10,
   "metadata": {},
   "outputs": [],
   "source": [
    "config = dict(angle=60, factor=1.5, salt_color=255, proba=.5)\n",
    "\n",
    "simple_pipeline = (dataset.train.pipeline(config)\n",
    "                     .scale(p=C('proba'), factor=C('factor'), preserve_shape=True)\n",
    "                     .rotate(p=C('proba'), angle=C('angle'))\n",
    "                     .salt(p=C('proba'), color=C('salt_color'), p_noise=.05)\n",
    "                     .elastic_transform(p=C('proba'), alpha=20, sigma=1.8)\n",
    ")"
   ]
  },
  {
   "cell_type": "code",
   "execution_count": 11,
   "metadata": {},
   "outputs": [
    {
     "data": {
      "image/png": "[encoded data removed]",
      "text/plain": [
       "<Figure size 720x288 with 1 Axes>"
      ]
     },
     "metadata": {
      "needs_background": "light"
     },
     "output_type": "display_data"
    }
   ],
   "source": [
    "batch = simple_pipeline.next_batch(BATCH_SIZE)\n",
    "show_images(batch)"
   ]
  },
  {
   "cell_type": "markdown",
   "metadata": {},
   "source": [
    "## Sampling random values"
   ]
  },
  {
   "cell_type": "markdown",
   "metadata": {},
   "source": [
    "Sometimes you might want random values instead of hard-coded constants.\n",
    "\n",
    "`R` and `P` [named expressions](https://analysiscenter.github.io/batchflow/intro/named_expr.html) might come in handy here."
   ]
  },
  {
   "cell_type": "code",
   "execution_count": 12,
   "metadata": {},
   "outputs": [],
   "source": [
    "config = dict(salt_color=255, proba=.5)\n",
    "\n",
    "simple_pipeline = (dataset.train.pipeline(config)\n",
    "                     .scale(p=C('proba'), factor=P(R('normal', 1.5, .2)), preserve_shape=True)\n",
    "                     .rotate(p=C('proba'), angle=R('uniform', -45, 45))\n",
    "                     .salt(p=C('proba'), color=C('salt_color'), p_noise=.05)\n",
    "                     .elastic_transform(p=C('proba'), alpha=20, sigma=1.8)\n",
    ")"
   ]
  },
  {
   "cell_type": "code",
   "execution_count": 13,
   "metadata": {},
   "outputs": [
    {
     "data": {
      "image/png": "[encoded data removed]",
      "text/plain": [
       "<Figure size 720x288 with 1 Axes>"
      ]
     },
     "metadata": {
      "needs_background": "light"
     },
     "output_type": "display_data"
    }
   ],
   "source": [
    "batch = simple_pipeline.next_batch(BATCH_SIZE)\n",
    "show_images(batch)"
   ]
  },
  {
   "cell_type": "markdown",
   "metadata": {},
   "source": [
    "The difference between `R(...)` and `P(R(...))` is that the former gives a single random value for **all** batch items, while the latter gives a random value for **each** batch item."
   ]
  },
  {
   "cell_type": "markdown",
   "metadata": {},
   "source": [
    "## Running pipelines"
   ]
  },
  {
   "cell_type": "markdown",
   "metadata": {},
   "source": [
    "See [the documentation](https://analysiscenter.github.io/batchflow/intro/pipeline.html#running-pipelines) or [batch operations tutorial](./01_batch_operations.ipynb) for a the detailed description."
   ]
  },
  {
   "cell_type": "markdown",
   "metadata": {},
   "source": [
    "## next_batch"
   ]
  },
  {
   "cell_type": "code",
   "execution_count": 14,
   "metadata": {},
   "outputs": [
    {
     "data": {
      "image/png": "[encoded data removed]",
      "text/plain": [
       "<Figure size 720x288 with 1 Axes>"
      ]
     },
     "metadata": {
      "needs_background": "light"
     },
     "output_type": "display_data"
    },
    {
     "data": {
      "image/png": "[encoded data removed]",
      "text/plain": [
       "<Figure size 720x288 with 1 Axes>"
      ]
     },
     "metadata": {
      "needs_background": "light"
     },
     "output_type": "display_data"
    },
    {
     "data": {
      "image/png": "[encoded data removed]",
      "text/plain": [
       "<Figure size 720x288 with 1 Axes>"
      ]
     },
     "metadata": {
      "needs_background": "light"
     },
     "output_type": "display_data"
    },
    {
     "data": {
      "image/png": "[encoded data removed]",
      "text/plain": [
       "<Figure size 720x288 with 1 Axes>"
      ]
     },
     "metadata": {
      "needs_background": "light"
     },
     "output_type": "display_data"
    },
    {
     "data": {
      "image/png": "[encoded data removed]",
      "text/plain": [
       "<Figure size 720x288 with 1 Axes>"
      ]
     },
     "metadata": {
      "needs_background": "light"
     },
     "output_type": "display_data"
    }
   ],
   "source": [
    "for i in range(5):\n",
    "    batch = simple_pipeline.next_batch(BATCH_SIZE, n_epochs=1)\n",
    "    show_images(batch)"
   ]
  },
  {
   "cell_type": "markdown",
   "metadata": {},
   "source": [
    "See [batch operations tutorial](./01_batch_operations.ipynb) for more info about `next_batch` / `gen_batch` and their parameters (`shuffle`, `drop_last`, `n_epochs`, etc)"
   ]
  },
  {
   "cell_type": "markdown",
   "metadata": {},
   "source": [
    "### gen_batch"
   ]
  },
  {
   "cell_type": "markdown",
   "metadata": {},
   "source": [
    "While `next_batch` is an ordinary method returning processed batches, `gen_batch` is a generator"
   ]
  },
  {
   "cell_type": "code",
   "execution_count": 15,
   "metadata": {},
   "outputs": [],
   "source": [
    "for batch in simple_pipeline.gen_batch(BATCH_SIZE, n_epochs=1):\n",
    "    # do whatever you want with the batch\n",
    "    pass"
   ]
  },
  {
   "cell_type": "markdown",
   "metadata": {},
   "source": [
    "Executing this cell might take **a lot of time**, depending on your hardware, pipeline content and the dataset size."
   ]
  },
  {
   "cell_type": "markdown",
   "metadata": {},
   "source": [
    "If you want to use large batches with heavy actions (or with I/O operations) then consider using [target](https://analysiscenter.github.io/batchflow/intro/parallel.html?highlight=target#target-threadsIncreasing)='threads'. It might gain considerable boost for multi-CPU platforms."
   ]
  },
  {
   "cell_type": "markdown",
   "metadata": {},
   "source": [
    "## run"
   ]
  },
  {
   "cell_type": "markdown",
   "metadata": {},
   "source": [
    "It is just a concise form of __`for batch in pipeline.gen_batch(...)`__"
   ]
  },
  {
   "cell_type": "code",
   "execution_count": 16,
   "metadata": {},
   "outputs": [],
   "source": [
    "BATCH_SIZE=100"
   ]
  },
  {
   "cell_type": "code",
   "execution_count": 17,
   "metadata": {},
   "outputs": [
    {
     "name": "stderr",
     "output_type": "stream",
     "text": [
      "100%|█████████▉| 599/600 [00:51<00:00, 11.42it/s]\n"
     ]
    },
    {
     "data": {
      "text/plain": [
       "<batchflow.pipeline.Pipeline at 0x7fae2e2edac8>"
      ]
     },
     "execution_count": 17,
     "metadata": {},
     "output_type": "execute_result"
    }
   ],
   "source": [
    "simple_pipeline.run(BATCH_SIZE, n_epochs=1, shuffle=True, drop_last=True, bar=True, prefetch=2)"
   ]
  },
  {
   "cell_type": "markdown",
   "metadata": {},
   "source": [
    "There is also a [prefetch](https://analysiscenter.github.io/batchflow/intro/prefetch.html) option for a faster execution and a [bar](https://analysiscenter.github.io/batchflow/intro/pipeline.html#running-pipelines) option to show progress."
   ]
  },
  {
   "cell_type": "markdown",
   "metadata": {},
   "source": [
    "## Before and after pipeline"
   ]
  },
  {
   "cell_type": "markdown",
   "metadata": {},
   "source": [
    "You may need to do something once before and once after batch flow.\n",
    "\n",
    "Separate the existing concept of pipeline on before pipeline, main pipeline and after pipeline following each other. Functions in before and after pipeline run once before and after main pipeline. In main pipeline there is all work with batches as you set. In main pipeline, visible only what is happening with each batch.\n",
    "\n",
    "Use before and after pipelines to initialize variables, a model, to save a model, and for other actions that need to be done once during execution pipeline. ([using after and before pipelines to train model](./03_ready_to_use_model_tf.ipynb))\n"
   ]
  },
  {
   "cell_type": "markdown",
   "metadata": {},
   "source": [
    "For example call function in different part of pipeline."
   ]
  },
  {
   "cell_type": "code",
   "execution_count": 27,
   "metadata": {},
   "outputs": [],
   "source": [
    "def fun(text):\n",
    "    print(text)"
   ]
  },
  {
   "cell_type": "code",
   "execution_count": 28,
   "metadata": {},
   "outputs": [],
   "source": [
    "simple_pipeline = dataset.p.fun('Do something in main pipeline.')"
   ]
  },
  {
   "cell_type": "code",
   "execution_count": 29,
   "metadata": {},
   "outputs": [
    {
     "data": {
      "text/plain": [
       "<batchflow.once_pipeline.OncePipeline at 0x7fdc0a71ef98>"
      ]
     },
     "execution_count": 29,
     "metadata": {},
     "output_type": "execute_result"
    }
   ],
   "source": [
    "simple_pipeline.before.fun('Do something before main pipeline.')"
   ]
  },
  {
   "cell_type": "code",
   "execution_count": 30,
   "metadata": {},
   "outputs": [
    {
     "data": {
      "text/plain": [
       "<batchflow.once_pipeline.OncePipeline at 0x7fdc0a71efd0>"
      ]
     },
     "execution_count": 30,
     "metadata": {},
     "output_type": "execute_result"
    }
   ],
   "source": [
    "simple_pipeline.after.fun('Do something after main pipeline.')"
   ]
  },
  {
   "cell_type": "code",
   "execution_count": 31,
   "metadata": {},
   "outputs": [
    {
     "name": "stdout",
     "output_type": "stream",
     "text": [
      "Do something before main pipeline.\n",
      "Do something in main pipeline.\n",
      "Do something in main pipeline.\n",
      "Do something in main pipeline.\n",
      "Do something in main pipeline.\n",
      "Do something in main pipeline.\n",
      "Do something in main pipeline.\n",
      "Do something in main pipeline.\n",
      "Do something in main pipeline.\n",
      "Do something in main pipeline.\n",
      "Do something in main pipeline.\n",
      "Do something after main pipeline.\n"
     ]
    },
    {
     "data": {
      "text/plain": [
       "<batchflow.pipeline.Pipeline at 0x7fdc0a71eef0>"
      ]
     },
     "execution_count": 31,
     "metadata": {},
     "output_type": "execute_result"
    }
   ],
   "source": [
    "simple_pipeline.run(BATCH_SIZE, n_iters=10, shuffle=True)"
   ]
  },
  {
   "cell_type": "markdown",
   "metadata": {},
   "source": [
    "Function called in before and after pipeline has been performed once. In main pipleine function has been performed as many times as batches passed throw pipeline."
   ]
  },
  {
   "cell_type": "markdown",
   "metadata": {},
   "source": [
    "Now you might want [to train a model](./03_ready_to_use_model_tf.ipynb) or return to [the table of contents](./00_content.ipynb)."
   ]
  }
 ],
 "metadata": {
  "kernelspec": {
   "display_name": "Python 3",
   "language": "python",
   "name": "python3"
  },
  "language_info": {
   "codemirror_mode": {
    "name": "ipython",
    "version": 3
   },
   "file_extension": ".py",
   "mimetype": "text/x-python",
   "name": "python",
   "nbconvert_exporter": "python",
   "pygments_lexer": "ipython3",
   "version": "3.7.3"
  }
 },
 "nbformat": 4,
 "nbformat_minor": 2
}
