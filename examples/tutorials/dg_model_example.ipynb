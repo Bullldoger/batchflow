{
 "cells": [
  {
   "cell_type": "code",
   "execution_count": 98,
   "metadata": {},
   "outputs": [],
   "source": [
    "import sys\n",
    "# sys.path.append(\"/home/alexander/Work/Repos/\")\n",
    "from batchflow.models.tf import DeepGalerkin\n",
    "from batchflow import Pipeline, Dataset, DatasetIndex, Batch, B, L, F, V\n",
    "from batchflow import NumpySampler as NS\n",
    "import numpy as np\n",
    "import matplotlib.pyplot as plt\n",
    "import batchflow\n",
    "from tqdm import tqdm_notebook"
   ]
  },
  {
   "cell_type": "code",
   "execution_count": 99,
   "metadata": {},
   "outputs": [],
   "source": [
    "import tensorflow as tf"
   ]
  },
  {
   "cell_type": "markdown",
   "metadata": {},
   "source": [
    "### Configuring `DeepGalerkin` model for solving ODE\n",
    "$$\\frac{d f}{d t}= 2\\pi\\cos[2 \\pi t],\\quad f(0)=1.$$"
   ]
  },
  {
   "cell_type": "markdown",
   "metadata": {},
   "source": [
    "* Training points are from uniform distribution on **[0, 1]**, as the equation is solved on that domain."
   ]
  },
  {
   "cell_type": "code",
   "execution_count": 114,
   "metadata": {},
   "outputs": [],
   "source": [
    "s = NS('u') # 'u' stands for u_niform distribution"
   ]
  },
  {
   "cell_type": "markdown",
   "metadata": {},
   "source": [
    "* setting up `config` for `DeepGalerkin`-model"
   ]
  },
  {
   "cell_type": "code",
   "execution_count": 118,
   "metadata": {},
   "outputs": [],
   "source": [
    "layout = 'fafaf'\n",
    "initial_condition = 1\n",
    "form_lhs = {'d1': (1, )}\n",
    "Q_rhs = lambda t: 2 * np.pi * tf.cos(2 * np.pi * t)\n",
    "\n",
    "config = {\n",
    "    'inputs': dict(points={'shape': (1, )}),\n",
    "    'initial_block/inputs': 'points',\n",
    "    'body': dict(layout=layout,\n",
    "                 units=[10, 15, 1],\n",
    "                 activation=[tf.nn.tanh, tf.nn.tanh]),\n",
    "    'common': dict(form=form_lhs,\n",
    "                   bind_bc_ic=True,\n",
    "                   initial_condition=initial_condition,\n",
    "                   Q=Q_rhs,\n",
    "                   time_multiplier='sigmoid'),\n",
    "    'loss': 'mse'}"
   ]
  },
  {
   "cell_type": "markdown",
   "metadata": {},
   "source": [
    "Note:\n",
    "* `f` in `layout=[fafaf]` stands for a **f**ully-connected layer\n",
    "* `a` in `layout=[fafaf]` stands for **a**ctivation-function\n",
    "\n",
    "So, coupled with `activation=[tf.nn.tanh, tf.nn.tanh]` and `units=[10, 15, 1]`, `layout='fafaf'` sets up a fully-connected network with 2 hidden layers (with 10 and 15 units) and `tanh`-activations.\n",
    "\n",
    "Note also:\n",
    "* `form={'d1':(1, )}` sets up the left-hand-side of the equation as $$\\frac{d f}{d t}=\\dots$$\n",
    "`form={'d1':(1, ), 'd2':(2, )}` would set it to be $$\\frac{d f}{d t} + 2\\frac{d^2 f}{d t^2}=\\dots$$\n",
    "* `Q_rhs = lambda t: 2 * np.pi * tf.cos(2 * np.pi * t)` says that the right-hand side of the equation is given by\n",
    "$$\\dots = 2\\pi\\cos[2 \\pi t]$$\n",
    "* `initial_condition=1` states that initial condition is given by\n",
    "$$ f(0) = 1 $$"
   ]
  },
  {
   "cell_type": "markdown",
   "metadata": {},
   "source": [
    "### Preparing training `pipeline` "
   ]
  },
  {
   "cell_type": "code",
   "execution_count": 119,
   "metadata": {
    "scrolled": true
   },
   "outputs": [],
   "source": [
    "pipeline = (Pipeline()\n",
    "            .init_variable('loss', default=[])\n",
    "            .init_variable('dt', default=[])\n",
    "            .init_model('static', DeepGalerkin, 'DG', config)\n",
    "            .train_model('DG',\n",
    "                         feed_dict={'points': L(s.sample, size=F(len))},\n",
    "                         fetches='loss',\n",
    "                         save_to=V('loss'), mode='a'))"
   ]
  },
  {
   "cell_type": "code",
   "execution_count": 120,
   "metadata": {},
   "outputs": [],
   "source": [
    "dsix = DatasetIndex(np.arange(100))\n",
    "pipeline_ds = Dataset(dsix) >> pipeline"
   ]
  },
  {
   "cell_type": "markdown",
   "metadata": {},
   "source": [
    "### Running 3000-iters of network-training"
   ]
  },
  {
   "cell_type": "code",
   "execution_count": 121,
   "metadata": {},
   "outputs": [],
   "source": [
    "dg = pipeline_ds.get_model_by_name('DG')"
   ]
  },
  {
   "cell_type": "code",
   "execution_count": 122,
   "metadata": {},
   "outputs": [
    {
     "data": {
      "application/vnd.jupyter.widget-view+json": {
       "model_id": "347d371d6b964a0f83700903b30256ba",
       "version_major": 2,
       "version_minor": 0
      },
      "text/plain": [
       "HBox(children=(IntProgress(value=0, max=3000), HTML(value='')))"
      ]
     },
     "metadata": {},
     "output_type": "display_data"
    },
    {
     "name": "stdout",
     "output_type": "stream",
     "text": [
      "\n"
     ]
    }
   ],
   "source": [
    "for i in tqdm_notebook(range(3000)):\n",
    "    pipeline_ds.next_batch(20, n_epochs=None)"
   ]
  },
  {
   "cell_type": "code",
   "execution_count": 129,
   "metadata": {},
   "outputs": [
    {
     "data": {
      "image/png": "[encoded data removed]",
      "text/plain": [
       "<Figure size 432x288 with 1 Axes>"
      ]
     },
     "metadata": {
      "needs_background": "light"
     },
     "output_type": "display_data"
    }
   ],
   "source": [
    "plt.plot(pipeline_ds.get_variable('loss')[:])\n",
    "plt.xlabel('iteration number', fontdict={'fontsize': 15})\n",
    "plt.ylabel('Loss',fontdict={'fontsize': 15})\n",
    "pass"
   ]
  },
  {
   "cell_type": "markdown",
   "metadata": {},
   "source": [
    "### Plot the network solution vs (a bit shifted) true solution"
   ]
  },
  {
   "cell_type": "markdown",
   "metadata": {},
   "source": [
    "* The solution to the equation under consideration is given by\n",
    "$$\n",
    "f(t) = \\sin[2\\pi t] + 1\n",
    "$$\n",
    "When plotting, we shift it a bit, in order for it to be distinguishable from network-approximation."
   ]
  },
  {
   "cell_type": "code",
   "execution_count": 107,
   "metadata": {},
   "outputs": [],
   "source": [
    "sol = lambda t: np.sin(2 * np.pi * t) + 1"
   ]
  },
  {
   "cell_type": "code",
   "execution_count": 135,
   "metadata": {},
   "outputs": [],
   "source": [
    "pts = np.linspace(0, 1, 200).reshape(-1, 1)\n",
    "approxs = dg.session.run(dg.approximator, feed_dict={dg.points: pts})\n",
    "true = [sol(t[0]) + 0.1 for t in pts]"
   ]
  },
  {
   "cell_type": "code",
   "execution_count": 142,
   "metadata": {},
   "outputs": [
    {
     "data": {
      "text/plain": [
       "<matplotlib.legend.Legend at 0x7f8d0fb129b0>"
      ]
     },
     "execution_count": 142,
     "metadata": {},
     "output_type": "execute_result"
    },
    {
     "data": {
      "image/png": "[encoded data removed]",
      "text/plain": [
       "<Figure size 432x288 with 1 Axes>"
      ]
     },
     "metadata": {
      "needs_background": "light"
     },
     "output_type": "display_data"
    }
   ],
   "source": [
    "plt.plot(pts, true, label='Shifted true solution')\n",
    "plt.plot(pts, approxs, label='Network approximation')\n",
    "plt.xlabel(r'$t$', fontdict={'fontsize': 14})\n",
    "plt.legend()"
   ]
  },
  {
   "cell_type": "code",
   "execution_count": null,
   "metadata": {},
   "outputs": [],
   "source": []
  }
 ],
 "metadata": {
  "kernelspec": {
   "display_name": "Python 3",
   "language": "python",
   "name": "python3"
  },
  "language_info": {
   "codemirror_mode": {
    "name": "ipython",
    "version": 3
   },
   "file_extension": ".py",
   "mimetype": "text/x-python",
   "name": "python",
   "nbconvert_exporter": "python",
   "pygments_lexer": "ipython3",
   "version": "3.6.6+"
  }
 },
 "nbformat": 4,
 "nbformat_minor": 2
}
