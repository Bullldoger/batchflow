{
 "cells": [
  {
   "cell_type": "markdown",
   "metadata": {},
   "source": [
    "# Callables in Research"
   ]
  },
  {
   "cell_type": "markdown",
   "metadata": {},
   "source": [
    "The main purpose of Research is to run pipleines with different configs in parallel but you also can add callables and realize very flexible plans of experiments even without pipleines."
   ]
  },
  {
   "cell_type": "code",
   "execution_count": 1,
   "metadata": {},
   "outputs": [],
   "source": [
    "import sys\n",
    "import os\n",
    "import shutil\n",
    "\n",
    "import warnings\n",
    "warnings.filterwarnings('ignore')\n",
    "\n",
    "from tensorflow import logging\n",
    "logging.set_verbosity(logging.ERROR)\n",
    "os.environ['TF_CPP_MIN_LOG_LEVEL'] = '3'\n",
    "\n",
    "import matplotlib\n",
    "%matplotlib inline\n",
    "\n",
    "import numpy as np"
   ]
  },
  {
   "cell_type": "code",
   "execution_count": 2,
   "metadata": {},
   "outputs": [],
   "source": [
    "sys.path.append('../../..')\n",
    "\n",
    "from batchflow import Pipeline, B, C, V, D, L\n",
    "from batchflow.opensets import MNIST\n",
    "from batchflow.models.tf import VGG7, VGG16\n",
    "from batchflow.research import Research, Option, Results\n",
    "from batchflow.research import ResearchPipeline as RP\n",
    "from batchflow.research import ResearchResults as RR\n",
    "from batchflow.research import ResearchPath as RPath\n",
    "from batchflow.research import ResearchExperimentPath as REP\n",
    "from batchflow.research import ResearchExperimentID as ID\n",
    "from batchflow.research import ResearchIteration as RI"
   ]
  },
  {
   "cell_type": "code",
   "execution_count": 3,
   "metadata": {},
   "outputs": [],
   "source": [
    "def clear_previous_results(res_name):\n",
    "    if os.path.exists(res_name):\n",
    "        shutil.rmtree(res_name)"
   ]
  },
  {
   "cell_type": "markdown",
   "metadata": {},
   "source": [
    "## Simple example"
   ]
  },
  {
   "cell_type": "markdown",
   "metadata": {},
   "source": [
    "To add your callable into Research use `add_callable` method:"
   ]
  },
  {
   "cell_type": "code",
   "execution_count": 4,
   "metadata": {},
   "outputs": [
    {
     "name": "stdout",
     "output_type": "stream",
     "text": [
      "Research sample_callable_research is starting...\n"
     ]
    },
    {
     "data": {
      "text/html": [
       "<div>\n",
       "<style scoped>\n",
       "    .dataframe tbody tr th:only-of-type {\n",
       "        vertical-align: middle;\n",
       "    }\n",
       "\n",
       "    .dataframe tbody tr th {\n",
       "        vertical-align: top;\n",
       "    }\n",
       "\n",
       "    .dataframe thead th {\n",
       "        text-align: right;\n",
       "    }\n",
       "</style>\n",
       "<table border=\"1\" class=\"dataframe\">\n",
       "  <thead>\n",
       "    <tr style=\"text-align: right;\">\n",
       "      <th></th>\n",
       "      <th>name</th>\n",
       "      <th>random</th>\n",
       "      <th>iteration</th>\n",
       "      <th>sample_index</th>\n",
       "      <th>repetition</th>\n",
       "      <th>update</th>\n",
       "    </tr>\n",
       "  </thead>\n",
       "  <tbody>\n",
       "    <tr>\n",
       "      <th>0</th>\n",
       "      <td>randn_std</td>\n",
       "      <td>-0.067624</td>\n",
       "      <td>0</td>\n",
       "      <td>4283284532</td>\n",
       "      <td>0</td>\n",
       "      <td>0</td>\n",
       "    </tr>\n",
       "    <tr>\n",
       "      <th>1</th>\n",
       "      <td>randn_std</td>\n",
       "      <td>1.060120</td>\n",
       "      <td>1</td>\n",
       "      <td>4283284532</td>\n",
       "      <td>0</td>\n",
       "      <td>0</td>\n",
       "    </tr>\n",
       "    <tr>\n",
       "      <th>2</th>\n",
       "      <td>randn_std</td>\n",
       "      <td>1.032937</td>\n",
       "      <td>2</td>\n",
       "      <td>4283284532</td>\n",
       "      <td>0</td>\n",
       "      <td>0</td>\n",
       "    </tr>\n",
       "    <tr>\n",
       "      <th>3</th>\n",
       "      <td>randn_std</td>\n",
       "      <td>0.459304</td>\n",
       "      <td>3</td>\n",
       "      <td>4283284532</td>\n",
       "      <td>0</td>\n",
       "      <td>0</td>\n",
       "    </tr>\n",
       "    <tr>\n",
       "      <th>4</th>\n",
       "      <td>randn_std</td>\n",
       "      <td>-0.299061</td>\n",
       "      <td>4</td>\n",
       "      <td>4283284532</td>\n",
       "      <td>0</td>\n",
       "      <td>0</td>\n",
       "    </tr>\n",
       "  </tbody>\n",
       "</table>\n",
       "</div>"
      ],
      "text/plain": [
       "        name    random  iteration sample_index  repetition  update\n",
       "0  randn_std -0.067624          0   4283284532           0       0\n",
       "1  randn_std  1.060120          1   4283284532           0       0\n",
       "2  randn_std  1.032937          2   4283284532           0       0\n",
       "3  randn_std  0.459304          3   4283284532           0       0\n",
       "4  randn_std -0.299061          4   4283284532           0       0"
      ]
     },
     "execution_count": 4,
     "metadata": {},
     "output_type": "execute_result"
    }
   ],
   "source": [
    "res_name = 'sample_callable_research'\n",
    "clear_previous_results(res_name)\n",
    "\n",
    "def randn_std():\n",
    "    return np.random.randn()\n",
    "\n",
    "research = Research().add_callable(randn_std, returns='random', name='randn_std')\n",
    "\n",
    "research.run(5, name=res_name)\n",
    "\n",
    "research.load_results().df"
   ]
  },
  {
   "cell_type": "markdown",
   "metadata": {},
   "source": [
    "You also can use `args` and `kwargs` for your callables, just add them into `add_callable`."
   ]
  },
  {
   "cell_type": "code",
   "execution_count": 5,
   "metadata": {},
   "outputs": [
    {
     "name": "stdout",
     "output_type": "stream",
     "text": [
      "Research sample_callable_research is starting...\n"
     ]
    },
    {
     "data": {
      "text/html": [
       "<div>\n",
       "<style scoped>\n",
       "    .dataframe tbody tr th:only-of-type {\n",
       "        vertical-align: middle;\n",
       "    }\n",
       "\n",
       "    .dataframe tbody tr th {\n",
       "        vertical-align: top;\n",
       "    }\n",
       "\n",
       "    .dataframe thead th {\n",
       "        text-align: right;\n",
       "    }\n",
       "</style>\n",
       "<table border=\"1\" class=\"dataframe\">\n",
       "  <thead>\n",
       "    <tr style=\"text-align: right;\">\n",
       "      <th></th>\n",
       "      <th>name</th>\n",
       "      <th>random</th>\n",
       "      <th>iteration</th>\n",
       "      <th>sample_index</th>\n",
       "      <th>repetition</th>\n",
       "      <th>update</th>\n",
       "    </tr>\n",
       "  </thead>\n",
       "  <tbody>\n",
       "    <tr>\n",
       "      <th>0</th>\n",
       "      <td>randn</td>\n",
       "      <td>12.844236</td>\n",
       "      <td>0</td>\n",
       "      <td>650728716</td>\n",
       "      <td>0</td>\n",
       "      <td>0</td>\n",
       "    </tr>\n",
       "    <tr>\n",
       "      <th>1</th>\n",
       "      <td>randn</td>\n",
       "      <td>0.236206</td>\n",
       "      <td>1</td>\n",
       "      <td>650728716</td>\n",
       "      <td>0</td>\n",
       "      <td>0</td>\n",
       "    </tr>\n",
       "    <tr>\n",
       "      <th>2</th>\n",
       "      <td>randn</td>\n",
       "      <td>4.588061</td>\n",
       "      <td>2</td>\n",
       "      <td>650728716</td>\n",
       "      <td>0</td>\n",
       "      <td>0</td>\n",
       "    </tr>\n",
       "    <tr>\n",
       "      <th>3</th>\n",
       "      <td>randn</td>\n",
       "      <td>5.437128</td>\n",
       "      <td>3</td>\n",
       "      <td>650728716</td>\n",
       "      <td>0</td>\n",
       "      <td>0</td>\n",
       "    </tr>\n",
       "    <tr>\n",
       "      <th>4</th>\n",
       "      <td>randn</td>\n",
       "      <td>-1.854525</td>\n",
       "      <td>4</td>\n",
       "      <td>650728716</td>\n",
       "      <td>0</td>\n",
       "      <td>0</td>\n",
       "    </tr>\n",
       "  </tbody>\n",
       "</table>\n",
       "</div>"
      ],
      "text/plain": [
       "    name     random  iteration sample_index  repetition  update\n",
       "0  randn  12.844236          0    650728716           0       0\n",
       "1  randn   0.236206          1    650728716           0       0\n",
       "2  randn   4.588061          2    650728716           0       0\n",
       "3  randn   5.437128          3    650728716           0       0\n",
       "4  randn  -1.854525          4    650728716           0       0"
      ]
     },
     "execution_count": 5,
     "metadata": {},
     "output_type": "execute_result"
    }
   ],
   "source": [
    "clear_previous_results(res_name)\n",
    "\n",
    "def randn(mean=0, std=1):\n",
    "    return np.random.randn() * std + mean\n",
    "\n",
    "research = Research().add_callable(randn, mean=2, std=5, returns='random', name='randn')\n",
    "\n",
    "research.run(5, name=res_name)\n",
    "\n",
    "research.load_results().df"
   ]
  },
  {
   "cell_type": "markdown",
   "metadata": {},
   "source": [
    "## Named Expressions"
   ]
  },
  {
   "cell_type": "markdown",
   "metadata": {},
   "source": [
    "Obviously, such usage of `args` and `kwargs` is not very usefull because can be realized by partial but you also can use named expressions to substitute into functions objects which depends on research objects. For example, you can use ready results of the current research by `ResearchResults` named expression."
   ]
  },
  {
   "cell_type": "code",
   "execution_count": 6,
   "metadata": {},
   "outputs": [
    {
     "name": "stdout",
     "output_type": "stream",
     "text": [
      "Research max_research is starting...\n"
     ]
    },
    {
     "data": {
      "text/html": [
       "<div>\n",
       "<style scoped>\n",
       "    .dataframe tbody tr th:only-of-type {\n",
       "        vertical-align: middle;\n",
       "    }\n",
       "\n",
       "    .dataframe tbody tr th {\n",
       "        vertical-align: top;\n",
       "    }\n",
       "\n",
       "    .dataframe thead th {\n",
       "        text-align: right;\n",
       "    }\n",
       "</style>\n",
       "<table border=\"1\" class=\"dataframe\">\n",
       "  <thead>\n",
       "    <tr style=\"text-align: right;\">\n",
       "      <th></th>\n",
       "      <th>name</th>\n",
       "      <th>random</th>\n",
       "      <th>min_value</th>\n",
       "      <th>max_value</th>\n",
       "      <th>iteration</th>\n",
       "      <th>sample_index</th>\n",
       "      <th>repetition</th>\n",
       "      <th>update</th>\n",
       "    </tr>\n",
       "  </thead>\n",
       "  <tbody>\n",
       "    <tr>\n",
       "      <th>0</th>\n",
       "      <td>randn</td>\n",
       "      <td>7.164685</td>\n",
       "      <td>NaN</td>\n",
       "      <td>NaN</td>\n",
       "      <td>0.0</td>\n",
       "      <td>1981038234</td>\n",
       "      <td>0</td>\n",
       "      <td>0</td>\n",
       "    </tr>\n",
       "  </tbody>\n",
       "</table>\n",
       "</div>"
      ],
      "text/plain": [
       "    name    random  min_value  max_value  iteration sample_index  repetition  \\\n",
       "0  randn  7.164685        NaN        NaN        0.0   1981038234           0   \n",
       "\n",
       "   update  \n",
       "0       0  "
      ]
     },
     "execution_count": 6,
     "metadata": {},
     "output_type": "execute_result"
    }
   ],
   "source": [
    "res_name = 'max_research'\n",
    "\n",
    "clear_previous_results(res_name)\n",
    "\n",
    "def stat(results):\n",
    "    return results.random.min(), results.random.max()\n",
    "\n",
    "research = (Research()\n",
    "    .add_callable(randn, mean=2, std=5, returns='random', name='randn', dump=1)\n",
    "    .add_callable(stat, results=RR(), returns=['min_value', 'max_value'], name='stat')\n",
    ")\n",
    "\n",
    "research.run(5, name=res_name)\n",
    "\n",
    "research.load_results().df"
   ]
  },
  {
   "cell_type": "markdown",
   "metadata": {},
   "source": [
    "## Save only the best model"
   ]
  },
  {
   "cell_type": "code",
   "execution_count": 7,
   "metadata": {},
   "outputs": [],
   "source": [
    "BATCH_SIZE = 64"
   ]
  },
  {
   "cell_type": "code",
   "execution_count": 8,
   "metadata": {},
   "outputs": [],
   "source": [
    "mnist = MNIST()\n",
    "\n",
    "domain = Option('layout', ['cna', 'can']) * Option('bias', [True, False])        "
   ]
  },
  {
   "cell_type": "code",
   "execution_count": 9,
   "metadata": {},
   "outputs": [],
   "source": [
    "model_config={\n",
    "    'inputs/images/shape': B('image_shape'),\n",
    "    'inputs/labels/classes': 10,\n",
    "    'inputs/labels/name': 'targets',\n",
    "    'initial_block/inputs': 'images',\n",
    "    'body/block/layout': C('layout'),\n",
    "    'common/conv/use_bias': C('bias'),\n",
    "}"
   ]
  },
  {
   "cell_type": "code",
   "execution_count": 10,
   "metadata": {},
   "outputs": [],
   "source": [
    "train_ppl = (Pipeline()\n",
    "            .init_variable('loss')\n",
    "            .init_model('dynamic', VGG7, 'conv', config=model_config)\n",
    "            .to_array()\n",
    "            .train_model('conv', \n",
    "                         images=B('images'), labels=B('labels'),\n",
    "                         fetches='loss', save_to=V('loss', mode='w'))           \n",
    ")\n",
    "\n",
    "train_root = mnist.train.p.run_later(BATCH_SIZE, shuffle=True, n_epochs=None)"
   ]
  },
  {
   "cell_type": "code",
   "execution_count": 11,
   "metadata": {},
   "outputs": [],
   "source": [
    "test_ppl = (Pipeline()\n",
    "                 .init_variable('predictions')\n",
    "                 .init_variable('metrics')\n",
    "                 .import_model('conv', C('import_from'))\n",
    "                 .to_array()\n",
    "                 .predict_model('conv', \n",
    "                                images=B('images'), labels=B('labels'),\n",
    "                                fetches='predictions', save_to=V('predictions'))\n",
    "                 .gather_metrics('class', targets=B('labels'), predictions=V('predictions'), \n",
    "                                fmt='logits', axis=-1, save_to=V('metrics'))\n",
    ")\n",
    "\n",
    "test_root = mnist.test.p.run_later(BATCH_SIZE, shuffle=True, n_epochs=1) #Note  n_epochs=1"
   ]
  },
  {
   "cell_type": "code",
   "execution_count": 12,
   "metadata": {},
   "outputs": [],
   "source": [
    "res_name = 'save_model_research'\n",
    "\n",
    "clear_previous_results(res_name)"
   ]
  },
  {
   "cell_type": "code",
   "execution_count": 13,
   "metadata": {},
   "outputs": [],
   "source": [
    "import glob\n",
    "import shutil\n",
    "\n",
    "def save_model(ppl, results, path, iteration):\n",
    "    best_row = results.iloc[results.accuracy.idxmax()]\n",
    "    if best_row.iteration == iteration:\n",
    "        for item in glob.glob(glob.escape(path) + '/model_*'):\n",
    "            shutil.rmtree(item)\n",
    "        model_path = os.path.join(path, 'model_{}'.format(iteration))\n",
    "        ppl.get_model_by_name(\"conv\").save(model_path)\n",
    "    return path"
   ]
  },
  {
   "cell_type": "code",
   "execution_count": null,
   "metadata": {},
   "outputs": [
    {
     "name": "stdout",
     "output_type": "stream",
     "text": [
      "Research save_model_research is starting...\n"
     ]
    },
    {
     "name": "stderr",
     "output_type": "stream",
     "text": [
      "Domain updated: 0:  15%|█▍        | 149/1000.0 [02:27<14:02,  1.01it/s] "
     ]
    }
   ],
   "source": [
    "EXECUTE_EACH = 10\n",
    "\n",
    "research = (Research()\n",
    "    .init_domain(domain)\n",
    "    .add_pipeline(train_root, train_ppl, variables='loss', name='train_ppl')\n",
    "    .add_pipeline(test_root, test_ppl, variables='metrics', run=True, name='test_ppl',\n",
    "                  import_from=RP('train_ppl'),\n",
    "                  execute=[EXECUTE_EACH, 'last'], dump=[EXECUTE_EACH, 'last'])\n",
    "    .get_metrics(pipeline='test_ppl', metrics_var='metrics', metrics_name='accuracy',\n",
    "                 returns='accuracy',\n",
    "                 execute=[EXECUTE_EACH, 'last'], dump=[EXECUTE_EACH, 'last'])\n",
    "    .add_callable(save_model, returns='model_path', execute=[EXECUTE_EACH, 'last'],\n",
    "                  ppl=RP('train_ppl'), \n",
    "                  results=RR(sample_index=ID(), names='test_ppl_metrics').df,\n",
    "                  path=L(os.path.join)(RPath(), REP()),\n",
    "                  iteration=RI())\n",
    ")\n",
    "\n",
    "research.run(1000, branches=4, name=res_name, bar=True)"
   ]
  }
 ],
 "metadata": {
  "kernelspec": {
   "display_name": "Python 3",
   "language": "python",
   "name": "python3"
  },
  "language_info": {
   "codemirror_mode": {
    "name": "ipython",
    "version": 3
   },
   "file_extension": ".py",
   "mimetype": "text/x-python",
   "name": "python",
   "nbconvert_exporter": "python",
   "pygments_lexer": "ipython3",
   "version": "3.6.9"
  }
 },
 "nbformat": 4,
 "nbformat_minor": 4
}
