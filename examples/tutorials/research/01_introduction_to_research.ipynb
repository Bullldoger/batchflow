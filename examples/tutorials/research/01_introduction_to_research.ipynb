{
 "cells": [
  {
   "cell_type": "markdown",
   "metadata": {},
   "source": [
    "# Introduction to Research Module"
   ]
  },
  {
   "cell_type": "markdown",
   "metadata": {},
   "source": [
    "This tutorial introduces Research functionality of batchflow.\n",
    "\n",
    "Research class allows easily experimenting with models parameters and entire test and train workflow configurations as well as saving and loading results of experiments in a unified form."
   ]
  },
  {
   "cell_type": "markdown",
   "metadata": {},
   "source": [
    "## Basic example"
   ]
  },
  {
   "cell_type": "markdown",
   "metadata": {},
   "source": [
    "### Imports and Utilities"
   ]
  },
  {
   "cell_type": "markdown",
   "metadata": {},
   "source": [
    "We start with some useful imports and constant definitions"
   ]
  },
  {
   "cell_type": "code",
   "execution_count": 49,
   "metadata": {},
   "outputs": [],
   "source": [
    "import os\n",
    "import shutil\n",
    "\n",
    "import sys\n",
    "sys.path.append('../../..')\n",
    "\n",
    "from matplotlib import pyplot as plt\n",
    "%matplotlib inline\n",
    "\n",
    "from batchflow import Pipeline, B, C, V, D\n",
    "from batchflow.opensets import MNIST\n",
    "from batchflow.models.tf import VGG7, VGG16\n",
    "from batchflow.research import Research, Option"
   ]
  },
  {
   "cell_type": "code",
   "execution_count": 50,
   "metadata": {},
   "outputs": [],
   "source": [
    "BATCH_SIZE=64\n",
    "ITERATIONS=1000"
   ]
  },
  {
   "cell_type": "code",
   "execution_count": 51,
   "metadata": {},
   "outputs": [],
   "source": [
    "def clear_previous_results(res_name):\n",
    "    if os.path.exists(res_name):\n",
    "        shutil.rmtree(res_name)"
   ]
  },
  {
   "cell_type": "markdown",
   "metadata": {},
   "source": [
    "### Single-experiment Research"
   ]
  },
  {
   "cell_type": "markdown",
   "metadata": {},
   "source": [
    "We define a very simple pipeline that loads some MNIST data, and trains a VGG7 model on it. It also saves the loss on each iteration in a pipeline variable. Let's call it an experiment"
   ]
  },
  {
   "cell_type": "markdown",
   "metadata": {},
   "source": [
    "#### Loading Data and Creating Pipeline"
   ]
  },
  {
   "cell_type": "markdown",
   "metadata": {},
   "source": [
    "We call a lazy version of pipeline's `run` method to define batch size to use. We pass `n_epochs=None`, because the duration of our experiment will be controlled by Research"
   ]
  },
  {
   "cell_type": "code",
   "execution_count": 4,
   "metadata": {},
   "outputs": [],
   "source": [
    "mnist = MNIST()\n",
    "\n",
    "model_config={\n",
    "    'inputs/images/shape': B('image_shape'),\n",
    "    'inputs/labels/classes': D('num_classes'),\n",
    "    'inputs/labels/name': 'targets',\n",
    "    'initial_block/inputs': 'images',\n",
    "}\n",
    "\n",
    "train_template = (Pipeline()\n",
    "            .init_variable('loss')\n",
    "            .init_model('dynamic', VGG7, 'conv', config=model_config)\n",
    "            .to_array()\n",
    "            .train_model('conv', \n",
    "                         images=B('images'), labels=B('labels'),\n",
    "                         fetches='loss', save_to=V('loss', mode='w'))\n",
    "            .run_later(BATCH_SIZE, shuffle=True, n_epochs=None))\n",
    "\n",
    "train_ppl = train_template << mnist.train"
   ]
  },
  {
   "cell_type": "markdown",
   "metadata": {},
   "source": [
    "#### Creating Research"
   ]
  },
  {
   "cell_type": "markdown",
   "metadata": {},
   "source": [
    "The simpliest thing we can do with Research is running this experiment several times to see how loss'es dynamics changes from run to run.\n",
    "\n",
    "To do this we define a Research object and add the pipeline to it. We call `add_pipeline` method and pass the `train_ppl` as the first parameter. The `variables` parameter gets a string or a list of strings that indicate which pipeline variables will be monitored by Research and written to research results on each iteration. We also provide `name` that will be written to results to indicate from where actually these results come.\n",
    "\n",
    "`logging=True` adds additional logging of the pipeline execution to log file"
   ]
  },
  {
   "cell_type": "code",
   "execution_count": 5,
   "metadata": {},
   "outputs": [],
   "source": [
    "research = (Research()\n",
    "            .add_pipeline(train_ppl, variables='loss', name='train_ppl', logging=True))"
   ]
  },
  {
   "cell_type": "markdown",
   "metadata": {},
   "source": [
    "#### Running Research "
   ]
  },
  {
   "cell_type": "markdown",
   "metadata": {},
   "source": [
    "Each research is assigned with a name and writes its results to a folder with this name. The names must be unique, so if one attempts to run a research with a name that already exists, an error will be thrown. In the cell below we clear the results of previous research runs so as to allow multiple runs of a research. This is done solely for purposes of ths tutorial and should not be done in real work"
   ]
  },
  {
   "cell_type": "code",
   "execution_count": 6,
   "metadata": {},
   "outputs": [],
   "source": [
    "res_name='vgg7_research'\n",
    "clear_previous_results(res_name)"
   ]
  },
  {
   "cell_type": "markdown",
   "metadata": {},
   "source": [
    "Now we run this Research.\n",
    "\n",
    "We call a Research object's `run` method and we pass following parameters:\n",
    "* `n_iters` - how many iterations will the experiment consist of. Each iteration here consists of processing a single batch\n",
    "* `n_reps` - how many times we run our experiment\n",
    "* `bar` - to provide a tqdm progress bar"
   ]
  },
  {
   "cell_type": "code",
   "execution_count": 7,
   "metadata": {},
   "outputs": [
    {
     "name": "stdout",
     "output_type": "stream",
     "text": [
      "Research vgg7_research is starting...\n"
     ]
    },
    {
     "name": "stderr",
     "output_type": "stream",
     "text": [
      "  0%|          | 0/4000 [00:00<?, ?it/s]"
     ]
    },
    {
     "name": "stdout",
     "output_type": "stream",
     "text": [
      "Distributor has 4 jobs with 1000 iterations. Totally: 4000\n"
     ]
    },
    {
     "name": "stderr",
     "output_type": "stream",
     "text": [
      "100%|██████████| 4000/4000 [03:16<00:00, 20.36it/s]\n"
     ]
    },
    {
     "data": {
      "text/plain": [
       "<batchflow.research.research.Research at 0x7ff7a90c20b8>"
      ]
     },
     "execution_count": 7,
     "metadata": {},
     "output_type": "execute_result"
    }
   ],
   "source": [
    "research.run(n_reps=4, n_iters=ITERATIONS, name=res_name, bar=True)"
   ]
  },
  {
   "cell_type": "markdown",
   "metadata": {},
   "source": [
    "#### Investigating Research Results"
   ]
  },
  {
   "cell_type": "markdown",
   "metadata": {},
   "source": [
    "Each research is assigned with a `name` argument provided to `run`.\n",
    "Results of the research and its log are saved in a folder with the same name in the working directory. \n",
    "When we check current directory content we can see *vgg_research* folder with results of the research done above"
   ]
  },
  {
   "cell_type": "code",
   "execution_count": 8,
   "metadata": {},
   "outputs": [
    {
     "name": "stdout",
     "output_type": "stream",
     "text": [
      "total 620\n",
      "drwxr-xr-x 5 root root   4096 Aug  2 12:52 .\n",
      "drwxr-xr-x 4 root root   4096 Aug  2 06:38 ..\n",
      "drwxr-xr-x 2 root root   4096 Jul 29 13:07 .ipynb_checkpoints\n",
      "-rw-r--r-- 1 root root  30635 Aug  2 12:52 01_introduction_to_research.ipynb\n",
      "-rw-r--r-- 1 root root  97080 Aug  2 12:49 02_advanced_usage_of_research.ipynb\n",
      "-rw-r--r-- 1 root root 478945 Jul 29 09:42 03_plotting_research_results.ipynb\n",
      "-rw-r--r-- 1 root root   1007 Jul 29 14:27 README.md\n",
      "drwxr-xr-x 2 root root   4096 Aug  1 09:59 img\n",
      "drwxr-xr-x 4 root root   4096 Aug  2 12:50 vgg7_research\n"
     ]
    }
   ],
   "source": [
    "!ls -la"
   ]
  },
  {
   "cell_type": "markdown",
   "metadata": {},
   "source": [
    "To see the experiments' results we call `load_result` method which returns a Pandas Dataframe. We can see that it has 4 collumns which contain \n",
    "* repetition - The number of experiment run\n",
    "* iteration - the number of iteration\n",
    "* name - the source of the variable\n",
    "* loss - this is the variable name that we provided to `add_pipeline`"
   ]
  },
  {
   "cell_type": "code",
   "execution_count": 9,
   "metadata": {},
   "outputs": [
    {
     "name": "stdout",
     "output_type": "stream",
     "text": [
      "<class 'pandas.core.frame.DataFrame'>\n",
      "Int64Index: 4000 entries, 0 to 999\n",
      "Data columns (total 4 columns):\n",
      "iteration     4000 non-null int64\n",
      "loss          4000 non-null float64\n",
      "name          4000 non-null object\n",
      "repetition    4000 non-null int64\n",
      "dtypes: float64(1), int64(2), object(1)\n",
      "memory usage: 156.2+ KB\n"
     ]
    }
   ],
   "source": [
    "results = research.load_results()\n",
    "results.info()"
   ]
  },
  {
   "cell_type": "code",
   "execution_count": 10,
   "metadata": {},
   "outputs": [
    {
     "data": {
      "text/html": [
       "<div>\n",
       "<style scoped>\n",
       "    .dataframe tbody tr th:only-of-type {\n",
       "        vertical-align: middle;\n",
       "    }\n",
       "\n",
       "    .dataframe tbody tr th {\n",
       "        vertical-align: top;\n",
       "    }\n",
       "\n",
       "    .dataframe thead th {\n",
       "        text-align: right;\n",
       "    }\n",
       "</style>\n",
       "<table border=\"1\" class=\"dataframe\">\n",
       "  <thead>\n",
       "    <tr style=\"text-align: right;\">\n",
       "      <th></th>\n",
       "      <th>iteration</th>\n",
       "      <th>loss</th>\n",
       "      <th>name</th>\n",
       "      <th>repetition</th>\n",
       "    </tr>\n",
       "  </thead>\n",
       "  <tbody>\n",
       "    <tr>\n",
       "      <th>441</th>\n",
       "      <td>441</td>\n",
       "      <td>0.313949</td>\n",
       "      <td>train_ppl</td>\n",
       "      <td>3</td>\n",
       "    </tr>\n",
       "    <tr>\n",
       "      <th>543</th>\n",
       "      <td>543</td>\n",
       "      <td>0.048418</td>\n",
       "      <td>train_ppl</td>\n",
       "      <td>0</td>\n",
       "    </tr>\n",
       "    <tr>\n",
       "      <th>936</th>\n",
       "      <td>936</td>\n",
       "      <td>0.073694</td>\n",
       "      <td>train_ppl</td>\n",
       "      <td>0</td>\n",
       "    </tr>\n",
       "    <tr>\n",
       "      <th>750</th>\n",
       "      <td>750</td>\n",
       "      <td>0.120946</td>\n",
       "      <td>train_ppl</td>\n",
       "      <td>0</td>\n",
       "    </tr>\n",
       "    <tr>\n",
       "      <th>108</th>\n",
       "      <td>108</td>\n",
       "      <td>0.348315</td>\n",
       "      <td>train_ppl</td>\n",
       "      <td>2</td>\n",
       "    </tr>\n",
       "    <tr>\n",
       "      <th>68</th>\n",
       "      <td>68</td>\n",
       "      <td>0.337522</td>\n",
       "      <td>train_ppl</td>\n",
       "      <td>1</td>\n",
       "    </tr>\n",
       "    <tr>\n",
       "      <th>420</th>\n",
       "      <td>420</td>\n",
       "      <td>0.042078</td>\n",
       "      <td>train_ppl</td>\n",
       "      <td>2</td>\n",
       "    </tr>\n",
       "    <tr>\n",
       "      <th>496</th>\n",
       "      <td>496</td>\n",
       "      <td>0.049244</td>\n",
       "      <td>train_ppl</td>\n",
       "      <td>2</td>\n",
       "    </tr>\n",
       "    <tr>\n",
       "      <th>600</th>\n",
       "      <td>600</td>\n",
       "      <td>0.082360</td>\n",
       "      <td>train_ppl</td>\n",
       "      <td>2</td>\n",
       "    </tr>\n",
       "    <tr>\n",
       "      <th>347</th>\n",
       "      <td>347</td>\n",
       "      <td>0.194222</td>\n",
       "      <td>train_ppl</td>\n",
       "      <td>1</td>\n",
       "    </tr>\n",
       "  </tbody>\n",
       "</table>\n",
       "</div>"
      ],
      "text/plain": [
       "     iteration      loss       name  repetition\n",
       "441        441  0.313949  train_ppl           3\n",
       "543        543  0.048418  train_ppl           0\n",
       "936        936  0.073694  train_ppl           0\n",
       "750        750  0.120946  train_ppl           0\n",
       "108        108  0.348315  train_ppl           2\n",
       "68          68  0.337522  train_ppl           1\n",
       "420        420  0.042078  train_ppl           2\n",
       "496        496  0.049244  train_ppl           2\n",
       "600        600  0.082360  train_ppl           2\n",
       "347        347  0.194222  train_ppl           1"
      ]
     },
     "execution_count": 10,
     "metadata": {},
     "output_type": "execute_result"
    }
   ],
   "source": [
    "results.sample(10)"
   ]
  },
  {
   "cell_type": "markdown",
   "metadata": {},
   "source": [
    "We can now draw a nice plot showing our loss dynamics on each experiment repetition"
   ]
  },
  {
   "cell_type": "code",
   "execution_count": 11,
   "metadata": {},
   "outputs": [
    {
     "data": {
      "text/plain": [
       "<matplotlib.axes._subplots.AxesSubplot at 0x7ff788a07198>"
      ]
     },
     "execution_count": 11,
     "metadata": {},
     "output_type": "execute_result"
    },
    {
     "data": {
      "image/png": "[encoded data removed]",
      "text/plain": [
       "<Figure size 432x288 with 1 Axes>"
      ]
     },
     "metadata": {
      "needs_background": "light"
     },
     "output_type": "display_data"
    }
   ],
   "source": [
    "results.pivot(index='iteration', columns='repetition', values='loss').plot()"
   ]
  },
  {
   "cell_type": "markdown",
   "metadata": {},
   "source": [
    "## Introducing grids"
   ]
  },
  {
   "cell_type": "markdown",
   "metadata": {},
   "source": [
    "We have learned to run multiple repetitions of a single experiment with Research. \n",
    "\n",
    "We can also run several experiments with different parameters in one research. Suppose we want to compare the performance of VGG7 and VGG16 models with different layouts ('convolution-normalization-activation' vs 'convolution-activation-normalization') with default bias and pool_strides settings (which are no bias and 2) and we would also like to compare VGG7 with pool_stride 1 and VGG16 with pool_stride 2, both with bias and default 'cna' layout."
   ]
  },
  {
   "cell_type": "markdown",
   "metadata": {},
   "source": [
    "#### Defining Grids"
   ]
  },
  {
   "cell_type": "markdown",
   "metadata": {},
   "source": [
    "We define a grid of parameters as follows. \n",
    "We define an Option that consists of the parameter to vary and a list of values that we want to try in our research. Each parameter value defines a node in a parameter grid. We can add grids to unite the nodes, multiply grids to get Cartesian product and multiply options node-wise with `Option.product()`.\n",
    "\n",
    "`grid.gen_configs()` returns a generator that yields one node (that is, a single experiment specification) at a time. Printing a list of all nodes shows us all experiment modifications in a dict-like mode."
   ]
  },
  {
   "cell_type": "code",
   "execution_count": 12,
   "metadata": {},
   "outputs": [
    {
     "data": {
      "text/plain": [
       "[ConfigAlias({'layout': 'cna', 'stride': '2', 'bias': 'False', 'model': 'VGG7'}),\n",
       " ConfigAlias({'layout': 'cna', 'stride': '2', 'bias': 'False', 'model': 'VGG16'}),\n",
       " ConfigAlias({'layout': 'can', 'stride': '2', 'bias': 'False', 'model': 'VGG7'}),\n",
       " ConfigAlias({'layout': 'can', 'stride': '2', 'bias': 'False', 'model': 'VGG16'}),\n",
       " ConfigAlias({'layout': 'cna', 'stride': '1', 'bias': 'True', 'model': 'VGG7'}),\n",
       " ConfigAlias({'layout': 'cna', 'stride': '2', 'bias': 'True', 'model': 'VGG16'})]"
      ]
     },
     "execution_count": 12,
     "metadata": {},
     "output_type": "execute_result"
    }
   ],
   "source": [
    "grid = (Option('layout', ['cna', 'can']) * Option('model', [VGG7, VGG16]) * Option('bias', [False]) * Option('stride', [2])\n",
    "        +  Option('layout', ['cna']) * Option('bias', [True]) * Option.product(Option('model', [VGG7, VGG16]), Option('stride', [1, 2])))\n",
    "list(grid.gen_configs())"
   ]
  },
  {
   "cell_type": "markdown",
   "metadata": {},
   "source": [
    "#### Creating Pipelines With Variable Parameters"
   ]
  },
  {
   "cell_type": "markdown",
   "metadata": {},
   "source": [
    "We should now update `model_config` so that it could read the values from the grid.\n",
    "\n",
    "We pass named expressions as parameters values with names from our parameter grid. \n",
    "We define layout, pool_strides and bias in the model config and we pass model type as a named expression to `init_model` method of the pipeline (config option named expression `C()` should be used)"
   ]
  },
  {
   "cell_type": "code",
   "execution_count": 13,
   "metadata": {},
   "outputs": [],
   "source": [
    "model_config.update({\n",
    "    'body/block/layout': C('layout'),\n",
    "    'body/block/pool_strides': C('stride'),\n",
    "    'common/conv/use_bias': C('bias'),\n",
    "})\n",
    "\n",
    "# For reference: previous train_template definition \n",
    "#     train_template = (Pipeline()\n",
    "#                 .init_variable('loss', init_on_each_run=list)\n",
    "#                 .init_model('dynamic', VGG7, 'conv', config=model_config) # Note model class defined explicitly\n",
    "#                 .to_array()\n",
    "#                 .train_model('conv', \n",
    "#                              images=B('images'), labels=B('labels'),\n",
    "#                              fetches='loss', save_to=V('loss', mode='w'))\n",
    "#     )\n",
    "\n",
    "train_template = (Pipeline()\n",
    "            .init_variable('loss', init_on_each_run=list)\n",
    "            .init_model('dynamic', C('model'), 'conv', config=model_config) # Model class defined via named expression\n",
    "            .to_array()\n",
    "            .train_model('conv', \n",
    "                         images=B('images'), labels=B('labels'),\n",
    "                         fetches='loss', save_to=V('loss', mode='w'))\n",
    "            .run_later(BATCH_SIZE, shuffle=True, n_epochs=None))\n",
    "\n",
    "train_ppl = train_template << mnist.train"
   ]
  },
  {
   "cell_type": "markdown",
   "metadata": {},
   "source": [
    "#### Adding Grid To Research"
   ]
  },
  {
   "cell_type": "markdown",
   "metadata": {},
   "source": [
    "We define a new research as before but also add the grid of parameters with `add_grid` method. After that we run the research, and it takes much longer because we are now running 6 different experiments 2 times each. "
   ]
  },
  {
   "cell_type": "code",
   "execution_count": 14,
   "metadata": {},
   "outputs": [
    {
     "name": "stdout",
     "output_type": "stream",
     "text": [
      "Research vgg_layout_bias_poolstrides_research is starting...\n"
     ]
    },
    {
     "name": "stderr",
     "output_type": "stream",
     "text": [
      "  0%|          | 0/12000 [00:00<?, ?it/s]"
     ]
    },
    {
     "name": "stdout",
     "output_type": "stream",
     "text": [
      "Distributor has 12 jobs with 1000 iterations. Totally: 12000\n"
     ]
    },
    {
     "name": "stderr",
     "output_type": "stream",
     "text": [
      "100%|██████████| 12000/12000 [13:26<00:00, 14.88it/s]\n"
     ]
    },
    {
     "data": {
      "text/plain": [
       "<batchflow.research.research.Research at 0x7ff78bf8a7b8>"
      ]
     },
     "execution_count": 14,
     "metadata": {},
     "output_type": "execute_result"
    }
   ],
   "source": [
    "res_name = 'vgg_layout_bias_poolstrides_research'\n",
    "clear_previous_results(res_name)\n",
    "\n",
    "research = (Research()\n",
    "            .add_pipeline(train_ppl, variables='loss', name='train')\n",
    "            .add_grid(grid))\n",
    "\n",
    "research.run(n_reps=2, n_iters=ITERATIONS, name=res_name, bar=True)\n"
   ]
  },
  {
   "cell_type": "markdown",
   "metadata": {},
   "source": [
    "Research results now contain new columns *layout*, *stride*, *bias* and *model* with corresponding parameter values."
   ]
  },
  {
   "cell_type": "code",
   "execution_count": 15,
   "metadata": {},
   "outputs": [
    {
     "data": {
      "text/html": [
       "<div>\n",
       "<style scoped>\n",
       "    .dataframe tbody tr th:only-of-type {\n",
       "        vertical-align: middle;\n",
       "    }\n",
       "\n",
       "    .dataframe tbody tr th {\n",
       "        vertical-align: top;\n",
       "    }\n",
       "\n",
       "    .dataframe thead th {\n",
       "        text-align: right;\n",
       "    }\n",
       "</style>\n",
       "<table border=\"1\" class=\"dataframe\">\n",
       "  <thead>\n",
       "    <tr style=\"text-align: right;\">\n",
       "      <th></th>\n",
       "      <th>bias</th>\n",
       "      <th>iteration</th>\n",
       "      <th>layout</th>\n",
       "      <th>loss</th>\n",
       "      <th>model</th>\n",
       "      <th>name</th>\n",
       "      <th>repetition</th>\n",
       "      <th>stride</th>\n",
       "    </tr>\n",
       "  </thead>\n",
       "  <tbody>\n",
       "    <tr>\n",
       "      <th>0</th>\n",
       "      <td>False</td>\n",
       "      <td>0</td>\n",
       "      <td>cna</td>\n",
       "      <td>3.722788</td>\n",
       "      <td>VGG7</td>\n",
       "      <td>train</td>\n",
       "      <td>0</td>\n",
       "      <td>2</td>\n",
       "    </tr>\n",
       "    <tr>\n",
       "      <th>1</th>\n",
       "      <td>False</td>\n",
       "      <td>1</td>\n",
       "      <td>cna</td>\n",
       "      <td>3.324425</td>\n",
       "      <td>VGG7</td>\n",
       "      <td>train</td>\n",
       "      <td>0</td>\n",
       "      <td>2</td>\n",
       "    </tr>\n",
       "    <tr>\n",
       "      <th>2</th>\n",
       "      <td>False</td>\n",
       "      <td>2</td>\n",
       "      <td>cna</td>\n",
       "      <td>3.281177</td>\n",
       "      <td>VGG7</td>\n",
       "      <td>train</td>\n",
       "      <td>0</td>\n",
       "      <td>2</td>\n",
       "    </tr>\n",
       "    <tr>\n",
       "      <th>3</th>\n",
       "      <td>False</td>\n",
       "      <td>3</td>\n",
       "      <td>cna</td>\n",
       "      <td>2.928865</td>\n",
       "      <td>VGG7</td>\n",
       "      <td>train</td>\n",
       "      <td>0</td>\n",
       "      <td>2</td>\n",
       "    </tr>\n",
       "    <tr>\n",
       "      <th>4</th>\n",
       "      <td>False</td>\n",
       "      <td>4</td>\n",
       "      <td>cna</td>\n",
       "      <td>3.224533</td>\n",
       "      <td>VGG7</td>\n",
       "      <td>train</td>\n",
       "      <td>0</td>\n",
       "      <td>2</td>\n",
       "    </tr>\n",
       "  </tbody>\n",
       "</table>\n",
       "</div>"
      ],
      "text/plain": [
       "    bias  iteration layout      loss model   name  repetition stride\n",
       "0  False          0    cna  3.722788  VGG7  train           0      2\n",
       "1  False          1    cna  3.324425  VGG7  train           0      2\n",
       "2  False          2    cna  3.281177  VGG7  train           0      2\n",
       "3  False          3    cna  2.928865  VGG7  train           0      2\n",
       "4  False          4    cna  3.224533  VGG7  train           0      2"
      ]
     },
     "execution_count": 15,
     "metadata": {},
     "output_type": "execute_result"
    }
   ],
   "source": [
    "results = research.load_results()\n",
    "results.head()"
   ]
  },
  {
   "cell_type": "markdown",
   "metadata": {},
   "source": [
    "## Controlling *load_results* Output"
   ]
  },
  {
   "cell_type": "markdown",
   "metadata": {},
   "source": [
    "#### Loading Results With Single-column Config Representation"
   ]
  },
  {
   "cell_type": "markdown",
   "metadata": {},
   "source": [
    "To combine different config options in a single-column string representation we can pass `use_alias=True` to `load_results` method."
   ]
  },
  {
   "cell_type": "code",
   "execution_count": 16,
   "metadata": {},
   "outputs": [
    {
     "data": {
      "text/html": [
       "<div>\n",
       "<style scoped>\n",
       "    .dataframe tbody tr th:only-of-type {\n",
       "        vertical-align: middle;\n",
       "    }\n",
       "\n",
       "    .dataframe tbody tr th {\n",
       "        vertical-align: top;\n",
       "    }\n",
       "\n",
       "    .dataframe thead th {\n",
       "        text-align: right;\n",
       "    }\n",
       "</style>\n",
       "<table border=\"1\" class=\"dataframe\">\n",
       "  <thead>\n",
       "    <tr style=\"text-align: right;\">\n",
       "      <th></th>\n",
       "      <th>config</th>\n",
       "      <th>iteration</th>\n",
       "      <th>loss</th>\n",
       "      <th>name</th>\n",
       "      <th>repetition</th>\n",
       "    </tr>\n",
       "  </thead>\n",
       "  <tbody>\n",
       "    <tr>\n",
       "      <th>0</th>\n",
       "      <td>bias_False-layout_cna-model_VGG7-stride_2</td>\n",
       "      <td>0</td>\n",
       "      <td>3.722788</td>\n",
       "      <td>train</td>\n",
       "      <td>0</td>\n",
       "    </tr>\n",
       "    <tr>\n",
       "      <th>1</th>\n",
       "      <td>bias_False-layout_cna-model_VGG7-stride_2</td>\n",
       "      <td>1</td>\n",
       "      <td>3.324425</td>\n",
       "      <td>train</td>\n",
       "      <td>0</td>\n",
       "    </tr>\n",
       "    <tr>\n",
       "      <th>2</th>\n",
       "      <td>bias_False-layout_cna-model_VGG7-stride_2</td>\n",
       "      <td>2</td>\n",
       "      <td>3.281177</td>\n",
       "      <td>train</td>\n",
       "      <td>0</td>\n",
       "    </tr>\n",
       "    <tr>\n",
       "      <th>3</th>\n",
       "      <td>bias_False-layout_cna-model_VGG7-stride_2</td>\n",
       "      <td>3</td>\n",
       "      <td>2.928865</td>\n",
       "      <td>train</td>\n",
       "      <td>0</td>\n",
       "    </tr>\n",
       "    <tr>\n",
       "      <th>4</th>\n",
       "      <td>bias_False-layout_cna-model_VGG7-stride_2</td>\n",
       "      <td>4</td>\n",
       "      <td>3.224533</td>\n",
       "      <td>train</td>\n",
       "      <td>0</td>\n",
       "    </tr>\n",
       "  </tbody>\n",
       "</table>\n",
       "</div>"
      ],
      "text/plain": [
       "                                      config  iteration      loss   name  \\\n",
       "0  bias_False-layout_cna-model_VGG7-stride_2          0  3.722788  train   \n",
       "1  bias_False-layout_cna-model_VGG7-stride_2          1  3.324425  train   \n",
       "2  bias_False-layout_cna-model_VGG7-stride_2          2  3.281177  train   \n",
       "3  bias_False-layout_cna-model_VGG7-stride_2          3  2.928865  train   \n",
       "4  bias_False-layout_cna-model_VGG7-stride_2          4  3.224533  train   \n",
       "\n",
       "   repetition  \n",
       "0           0  \n",
       "1           0  \n",
       "2           0  \n",
       "3           0  \n",
       "4           0  "
      ]
     },
     "execution_count": 16,
     "metadata": {},
     "output_type": "execute_result"
    }
   ],
   "source": [
    "results = research.load_results(use_alias=True)\n",
    "results.head()"
   ]
  },
  {
   "cell_type": "markdown",
   "metadata": {},
   "source": [
    "This is very useful when comparing separate experiments  "
   ]
  },
  {
   "cell_type": "code",
   "execution_count": 17,
   "metadata": {},
   "outputs": [
    {
     "data": {
      "image/png": "[encoded data removed]",
      "text/plain": [
       "<Figure size 1080x1080 with 6 Axes>"
      ]
     },
     "metadata": {
      "needs_background": "light"
     },
     "output_type": "display_data"
    }
   ],
   "source": [
    "fig, ax = plt.subplots(3, 2, figsize=(15, 15))\n",
    "for i, (config, df) in enumerate(results.groupby('config')):\n",
    "    x, y = i//2, i%2\n",
    "    df.pivot(index='iteration', columns='repetition', values='loss').plot(ax=ax[x, y])\n",
    "    ax[x, y].set_title(config)\n",
    "    ax[x, y].set_xlabel('iteration')\n",
    "    ax[x, y].set_ylabel('loss')\n",
    "    ax[x, y].grid(True)\n",
    "    ax[x, y].legend()"
   ]
  },
  {
   "cell_type": "markdown",
   "metadata": {},
   "source": [
    "#### Loading Results With Filters"
   ]
  },
  {
   "cell_type": "markdown",
   "metadata": {},
   "source": [
    "We can filter the results to use certain parameter values."
   ]
  },
  {
   "cell_type": "code",
   "execution_count": 18,
   "metadata": {},
   "outputs": [
    {
     "data": {
      "text/html": [
       "<div>\n",
       "<style scoped>\n",
       "    .dataframe tbody tr th:only-of-type {\n",
       "        vertical-align: middle;\n",
       "    }\n",
       "\n",
       "    .dataframe tbody tr th {\n",
       "        vertical-align: top;\n",
       "    }\n",
       "\n",
       "    .dataframe thead th {\n",
       "        text-align: right;\n",
       "    }\n",
       "</style>\n",
       "<table border=\"1\" class=\"dataframe\">\n",
       "  <thead>\n",
       "    <tr style=\"text-align: right;\">\n",
       "      <th></th>\n",
       "      <th>bias</th>\n",
       "      <th>iteration</th>\n",
       "      <th>layout</th>\n",
       "      <th>loss</th>\n",
       "      <th>model</th>\n",
       "      <th>name</th>\n",
       "      <th>repetition</th>\n",
       "      <th>stride</th>\n",
       "    </tr>\n",
       "  </thead>\n",
       "  <tbody>\n",
       "    <tr>\n",
       "      <th>0</th>\n",
       "      <td>False</td>\n",
       "      <td>0</td>\n",
       "      <td>cna</td>\n",
       "      <td>3.722788</td>\n",
       "      <td>VGG7</td>\n",
       "      <td>train</td>\n",
       "      <td>0</td>\n",
       "      <td>2</td>\n",
       "    </tr>\n",
       "    <tr>\n",
       "      <th>1</th>\n",
       "      <td>False</td>\n",
       "      <td>1</td>\n",
       "      <td>cna</td>\n",
       "      <td>3.324425</td>\n",
       "      <td>VGG7</td>\n",
       "      <td>train</td>\n",
       "      <td>0</td>\n",
       "      <td>2</td>\n",
       "    </tr>\n",
       "    <tr>\n",
       "      <th>2</th>\n",
       "      <td>False</td>\n",
       "      <td>2</td>\n",
       "      <td>cna</td>\n",
       "      <td>3.281177</td>\n",
       "      <td>VGG7</td>\n",
       "      <td>train</td>\n",
       "      <td>0</td>\n",
       "      <td>2</td>\n",
       "    </tr>\n",
       "    <tr>\n",
       "      <th>3</th>\n",
       "      <td>False</td>\n",
       "      <td>3</td>\n",
       "      <td>cna</td>\n",
       "      <td>2.928865</td>\n",
       "      <td>VGG7</td>\n",
       "      <td>train</td>\n",
       "      <td>0</td>\n",
       "      <td>2</td>\n",
       "    </tr>\n",
       "    <tr>\n",
       "      <th>4</th>\n",
       "      <td>False</td>\n",
       "      <td>4</td>\n",
       "      <td>cna</td>\n",
       "      <td>3.224533</td>\n",
       "      <td>VGG7</td>\n",
       "      <td>train</td>\n",
       "      <td>0</td>\n",
       "      <td>2</td>\n",
       "    </tr>\n",
       "  </tbody>\n",
       "</table>\n",
       "</div>"
      ],
      "text/plain": [
       "    bias  iteration layout      loss model   name  repetition stride\n",
       "0  False          0    cna  3.722788  VGG7  train           0      2\n",
       "1  False          1    cna  3.324425  VGG7  train           0      2\n",
       "2  False          2    cna  3.281177  VGG7  train           0      2\n",
       "3  False          3    cna  2.928865  VGG7  train           0      2\n",
       "4  False          4    cna  3.224533  VGG7  train           0      2"
      ]
     },
     "execution_count": 18,
     "metadata": {},
     "output_type": "execute_result"
    }
   ],
   "source": [
    "research.load_results(aliases={'model': 'VGG7'}).head()"
   ]
  },
  {
   "cell_type": "markdown",
   "metadata": {},
   "source": [
    "The code below does effectively the same but when passing `config` we define actual parameter values (like model class), not their string representations"
   ]
  },
  {
   "cell_type": "code",
   "execution_count": 19,
   "metadata": {},
   "outputs": [
    {
     "data": {
      "text/html": [
       "<div>\n",
       "<style scoped>\n",
       "    .dataframe tbody tr th:only-of-type {\n",
       "        vertical-align: middle;\n",
       "    }\n",
       "\n",
       "    .dataframe tbody tr th {\n",
       "        vertical-align: top;\n",
       "    }\n",
       "\n",
       "    .dataframe thead th {\n",
       "        text-align: right;\n",
       "    }\n",
       "</style>\n",
       "<table border=\"1\" class=\"dataframe\">\n",
       "  <thead>\n",
       "    <tr style=\"text-align: right;\">\n",
       "      <th></th>\n",
       "      <th>bias</th>\n",
       "      <th>iteration</th>\n",
       "      <th>layout</th>\n",
       "      <th>loss</th>\n",
       "      <th>model</th>\n",
       "      <th>name</th>\n",
       "      <th>repetition</th>\n",
       "      <th>stride</th>\n",
       "    </tr>\n",
       "  </thead>\n",
       "  <tbody>\n",
       "    <tr>\n",
       "      <th>0</th>\n",
       "      <td>False</td>\n",
       "      <td>0</td>\n",
       "      <td>cna</td>\n",
       "      <td>3.722788</td>\n",
       "      <td>VGG7</td>\n",
       "      <td>train</td>\n",
       "      <td>0</td>\n",
       "      <td>2</td>\n",
       "    </tr>\n",
       "    <tr>\n",
       "      <th>1</th>\n",
       "      <td>False</td>\n",
       "      <td>1</td>\n",
       "      <td>cna</td>\n",
       "      <td>3.324425</td>\n",
       "      <td>VGG7</td>\n",
       "      <td>train</td>\n",
       "      <td>0</td>\n",
       "      <td>2</td>\n",
       "    </tr>\n",
       "    <tr>\n",
       "      <th>2</th>\n",
       "      <td>False</td>\n",
       "      <td>2</td>\n",
       "      <td>cna</td>\n",
       "      <td>3.281177</td>\n",
       "      <td>VGG7</td>\n",
       "      <td>train</td>\n",
       "      <td>0</td>\n",
       "      <td>2</td>\n",
       "    </tr>\n",
       "    <tr>\n",
       "      <th>3</th>\n",
       "      <td>False</td>\n",
       "      <td>3</td>\n",
       "      <td>cna</td>\n",
       "      <td>2.928865</td>\n",
       "      <td>VGG7</td>\n",
       "      <td>train</td>\n",
       "      <td>0</td>\n",
       "      <td>2</td>\n",
       "    </tr>\n",
       "    <tr>\n",
       "      <th>4</th>\n",
       "      <td>False</td>\n",
       "      <td>4</td>\n",
       "      <td>cna</td>\n",
       "      <td>3.224533</td>\n",
       "      <td>VGG7</td>\n",
       "      <td>train</td>\n",
       "      <td>0</td>\n",
       "      <td>2</td>\n",
       "    </tr>\n",
       "  </tbody>\n",
       "</table>\n",
       "</div>"
      ],
      "text/plain": [
       "    bias  iteration layout      loss model   name  repetition stride\n",
       "0  False          0    cna  3.722788  VGG7  train           0      2\n",
       "1  False          1    cna  3.324425  VGG7  train           0      2\n",
       "2  False          2    cna  3.281177  VGG7  train           0      2\n",
       "3  False          3    cna  2.928865  VGG7  train           0      2\n",
       "4  False          4    cna  3.224533  VGG7  train           0      2"
      ]
     },
     "execution_count": 19,
     "metadata": {},
     "output_type": "execute_result"
    }
   ],
   "source": [
    "research.load_results(configs={'model': VGG7}).head()"
   ]
  },
  {
   "cell_type": "markdown",
   "metadata": {},
   "source": [
    "We can also get results corresponding to certain repetitions of experiments or certain iterations.\n",
    "\n",
    "Here we have only one output variable - *loss* - but if we had many we could also load only some of them using `variables` parameter"
   ]
  },
  {
   "cell_type": "code",
   "execution_count": 20,
   "metadata": {},
   "outputs": [
    {
     "data": {
      "text/html": [
       "<div>\n",
       "<style scoped>\n",
       "    .dataframe tbody tr th:only-of-type {\n",
       "        vertical-align: middle;\n",
       "    }\n",
       "\n",
       "    .dataframe tbody tr th {\n",
       "        vertical-align: top;\n",
       "    }\n",
       "\n",
       "    .dataframe thead th {\n",
       "        text-align: right;\n",
       "    }\n",
       "</style>\n",
       "<table border=\"1\" class=\"dataframe\">\n",
       "  <thead>\n",
       "    <tr style=\"text-align: right;\">\n",
       "      <th></th>\n",
       "      <th>bias</th>\n",
       "      <th>iteration</th>\n",
       "      <th>layout</th>\n",
       "      <th>loss</th>\n",
       "      <th>model</th>\n",
       "      <th>name</th>\n",
       "      <th>repetition</th>\n",
       "      <th>stride</th>\n",
       "    </tr>\n",
       "  </thead>\n",
       "  <tbody>\n",
       "    <tr>\n",
       "      <th>0</th>\n",
       "      <td>False</td>\n",
       "      <td>0</td>\n",
       "      <td>cna</td>\n",
       "      <td>4.247321</td>\n",
       "      <td>VGG7</td>\n",
       "      <td>train</td>\n",
       "      <td>1</td>\n",
       "      <td>2</td>\n",
       "    </tr>\n",
       "    <tr>\n",
       "      <th>1</th>\n",
       "      <td>False</td>\n",
       "      <td>9</td>\n",
       "      <td>cna</td>\n",
       "      <td>2.293294</td>\n",
       "      <td>VGG7</td>\n",
       "      <td>train</td>\n",
       "      <td>1</td>\n",
       "      <td>2</td>\n",
       "    </tr>\n",
       "    <tr>\n",
       "      <th>0</th>\n",
       "      <td>False</td>\n",
       "      <td>0</td>\n",
       "      <td>cna</td>\n",
       "      <td>5.938599</td>\n",
       "      <td>VGG16</td>\n",
       "      <td>train</td>\n",
       "      <td>1</td>\n",
       "      <td>2</td>\n",
       "    </tr>\n",
       "    <tr>\n",
       "      <th>1</th>\n",
       "      <td>False</td>\n",
       "      <td>9</td>\n",
       "      <td>cna</td>\n",
       "      <td>4.820956</td>\n",
       "      <td>VGG16</td>\n",
       "      <td>train</td>\n",
       "      <td>1</td>\n",
       "      <td>2</td>\n",
       "    </tr>\n",
       "    <tr>\n",
       "      <th>0</th>\n",
       "      <td>False</td>\n",
       "      <td>0</td>\n",
       "      <td>can</td>\n",
       "      <td>4.817285</td>\n",
       "      <td>VGG7</td>\n",
       "      <td>train</td>\n",
       "      <td>1</td>\n",
       "      <td>2</td>\n",
       "    </tr>\n",
       "  </tbody>\n",
       "</table>\n",
       "</div>"
      ],
      "text/plain": [
       "    bias  iteration layout      loss  model   name  repetition stride\n",
       "0  False          0    cna  4.247321   VGG7  train           1      2\n",
       "1  False          9    cna  2.293294   VGG7  train           1      2\n",
       "0  False          0    cna  5.938599  VGG16  train           1      2\n",
       "1  False          9    cna  4.820956  VGG16  train           1      2\n",
       "0  False          0    can  4.817285   VGG7  train           1      2"
      ]
     },
     "execution_count": 20,
     "metadata": {},
     "output_type": "execute_result"
    }
   ],
   "source": [
    "research.load_results(repetitions=1, iterations=[0,9], variables=['loss']).head()"
   ]
  },
  {
   "cell_type": "markdown",
   "metadata": {},
   "source": [
    "## Loading Saved Research"
   ]
  },
  {
   "cell_type": "markdown",
   "metadata": {},
   "source": [
    "As mentioned above, after each run of a research a folder with log information and results is created\n",
    "Now that 2 researches have run, we can see their resulting folders *vgg7_research* and *vgg_layout_bias_poolstrides_research*"
   ]
  },
  {
   "cell_type": "code",
   "execution_count": 21,
   "metadata": {},
   "outputs": [
    {
     "name": "stdout",
     "output_type": "stream",
     "text": [
      "total 652\n",
      "drwxr-xr-x 6 root root   4096 Aug  2 13:06 .\n",
      "drwxr-xr-x 4 root root   4096 Aug  2 06:38 ..\n",
      "drwxr-xr-x 2 root root   4096 Jul 29 13:07 .ipynb_checkpoints\n",
      "-rw-r--r-- 1 root root  59646 Aug  2 13:06 01_introduction_to_research.ipynb\n",
      "-rw-r--r-- 1 root root  97080 Aug  2 12:49 02_advanced_usage_of_research.ipynb\n",
      "-rw-r--r-- 1 root root 478945 Jul 29 09:42 03_plotting_research_results.ipynb\n",
      "-rw-r--r-- 1 root root   1007 Jul 29 14:27 README.md\n",
      "drwxr-xr-x 2 root root   4096 Aug  1 09:59 img\n",
      "drwxr-xr-x 4 root root   4096 Aug  2 12:50 vgg7_research\n",
      "drwxr-xr-x 4 root root   4096 Aug  2 12:54 vgg_layout_bias_poolstrides_research\n"
     ]
    }
   ],
   "source": [
    "!ls -la"
   ]
  },
  {
   "cell_type": "markdown",
   "metadata": {},
   "source": [
    "We can use `Research.load` class method to load a previousely run research using its name"
   ]
  },
  {
   "cell_type": "code",
   "execution_count": 22,
   "metadata": {},
   "outputs": [],
   "source": [
    "loaded_research = Research.load('vgg_layout_bias_poolstrides_research')"
   ]
  },
  {
   "cell_type": "markdown",
   "metadata": {},
   "source": [
    "We can check its parameters..."
   ]
  },
  {
   "cell_type": "code",
   "execution_count": 23,
   "metadata": {},
   "outputs": [
    {
     "name": "stdout",
     "output_type": "stream",
     "text": [
      "{'bar': True,\n",
      " 'branches': 1,\n",
      " 'executables': OrderedDict([('train',\n",
      "                              <batchflow.research.research.Executable object at 0x7ff792b77be0>)]),\n",
      " 'gpu': [],\n",
      " 'grid_config': Grid([[{'layout': ['cna', 'can']}, {'model': ['VGG7', 'VGG16']}, {'bias': ['False']}, {'stride': ['2']}], [{'layout': ['cna']}, {'bias': ['True']}, {'model': ['VGG7']}, {'stride': ['1']}], [{'layout': ['cna']}, {'bias': ['True']}, {'model': ['VGG16']}, {'stride': ['2']}]]),\n",
      " 'loaded': True,\n",
      " 'n_iters': 1000,\n",
      " 'n_reps': 2,\n",
      " 'n_splits': None,\n",
      " 'name': 'vgg_layout_bias_poolstrides_research',\n",
      " 'timeout': 5,\n",
      " 'trials': 2,\n",
      " 'worker_class': <class 'batchflow.research.workers.PipelineWorker'>,\n",
      " 'workers': 1}\n"
     ]
    }
   ],
   "source": [
    "loaded_research.describe()"
   ]
  },
  {
   "cell_type": "markdown",
   "metadata": {},
   "source": [
    "... and run it one more time"
   ]
  },
  {
   "cell_type": "code",
   "execution_count": 24,
   "metadata": {},
   "outputs": [
    {
     "name": "stdout",
     "output_type": "stream",
     "text": [
      "Starting loaded research. All parameters passed to run except name, bar and gpu are ignored.\n",
      " If gpu is not provided it will be inherited\n",
      "Research vgg_layout_bias_poolstrides_research_loaded is starting...\n"
     ]
    },
    {
     "name": "stderr",
     "output_type": "stream",
     "text": [
      "  0%|          | 0/12000 [00:00<?, ?it/s]"
     ]
    },
    {
     "name": "stdout",
     "output_type": "stream",
     "text": [
      "Distributor has 12 jobs with 1000 iterations. Totally: 12000\n"
     ]
    },
    {
     "name": "stderr",
     "output_type": "stream",
     "text": [
      "100%|██████████| 12000/12000 [13:41<00:00, 14.61it/s]\n"
     ]
    },
    {
     "data": {
      "text/plain": [
       "<batchflow.research.research.Research at 0x7ff78b0efc50>"
      ]
     },
     "execution_count": 24,
     "metadata": {},
     "output_type": "execute_result"
    }
   ],
   "source": [
    "res_name = 'vgg_layout_bias_poolstrides_research_loaded'\n",
    "clear_previous_results(res_name)\n",
    "\n",
    "loaded_research.run(n_reps=4, n_iters=ITERATIONS, name=res_name, bar=True)"
   ]
  },
  {
   "cell_type": "markdown",
   "metadata": {},
   "source": [
    "Note that `n_reps=4` from `run` arguments is ignored and the values from the loaded research are used"
   ]
  },
  {
   "cell_type": "code",
   "execution_count": 25,
   "metadata": {},
   "outputs": [
    {
     "data": {
      "text/html": [
       "<div>\n",
       "<style scoped>\n",
       "    .dataframe tbody tr th:only-of-type {\n",
       "        vertical-align: middle;\n",
       "    }\n",
       "\n",
       "    .dataframe tbody tr th {\n",
       "        vertical-align: top;\n",
       "    }\n",
       "\n",
       "    .dataframe thead th {\n",
       "        text-align: right;\n",
       "    }\n",
       "</style>\n",
       "<table border=\"1\" class=\"dataframe\">\n",
       "  <thead>\n",
       "    <tr style=\"text-align: right;\">\n",
       "      <th></th>\n",
       "      <th>bias</th>\n",
       "      <th>iteration</th>\n",
       "      <th>layout</th>\n",
       "      <th>loss</th>\n",
       "      <th>model</th>\n",
       "      <th>name</th>\n",
       "      <th>repetition</th>\n",
       "      <th>stride</th>\n",
       "    </tr>\n",
       "  </thead>\n",
       "  <tbody>\n",
       "    <tr>\n",
       "      <th>524</th>\n",
       "      <td>False</td>\n",
       "      <td>524</td>\n",
       "      <td>cna</td>\n",
       "      <td>0.136431</td>\n",
       "      <td>VGG16</td>\n",
       "      <td>train</td>\n",
       "      <td>1</td>\n",
       "      <td>2</td>\n",
       "    </tr>\n",
       "    <tr>\n",
       "      <th>751</th>\n",
       "      <td>True</td>\n",
       "      <td>751</td>\n",
       "      <td>cna</td>\n",
       "      <td>0.237443</td>\n",
       "      <td>VGG7</td>\n",
       "      <td>train</td>\n",
       "      <td>0</td>\n",
       "      <td>1</td>\n",
       "    </tr>\n",
       "    <tr>\n",
       "      <th>37</th>\n",
       "      <td>True</td>\n",
       "      <td>37</td>\n",
       "      <td>cna</td>\n",
       "      <td>2.715700</td>\n",
       "      <td>VGG16</td>\n",
       "      <td>train</td>\n",
       "      <td>0</td>\n",
       "      <td>2</td>\n",
       "    </tr>\n",
       "    <tr>\n",
       "      <th>340</th>\n",
       "      <td>False</td>\n",
       "      <td>340</td>\n",
       "      <td>cna</td>\n",
       "      <td>1.266125</td>\n",
       "      <td>VGG16</td>\n",
       "      <td>train</td>\n",
       "      <td>0</td>\n",
       "      <td>2</td>\n",
       "    </tr>\n",
       "    <tr>\n",
       "      <th>167</th>\n",
       "      <td>False</td>\n",
       "      <td>167</td>\n",
       "      <td>can</td>\n",
       "      <td>0.167633</td>\n",
       "      <td>VGG7</td>\n",
       "      <td>train</td>\n",
       "      <td>1</td>\n",
       "      <td>2</td>\n",
       "    </tr>\n",
       "    <tr>\n",
       "      <th>64</th>\n",
       "      <td>True</td>\n",
       "      <td>64</td>\n",
       "      <td>cna</td>\n",
       "      <td>2.254536</td>\n",
       "      <td>VGG16</td>\n",
       "      <td>train</td>\n",
       "      <td>0</td>\n",
       "      <td>2</td>\n",
       "    </tr>\n",
       "    <tr>\n",
       "      <th>973</th>\n",
       "      <td>False</td>\n",
       "      <td>973</td>\n",
       "      <td>can</td>\n",
       "      <td>0.008271</td>\n",
       "      <td>VGG7</td>\n",
       "      <td>train</td>\n",
       "      <td>1</td>\n",
       "      <td>2</td>\n",
       "    </tr>\n",
       "    <tr>\n",
       "      <th>392</th>\n",
       "      <td>False</td>\n",
       "      <td>392</td>\n",
       "      <td>can</td>\n",
       "      <td>0.348007</td>\n",
       "      <td>VGG16</td>\n",
       "      <td>train</td>\n",
       "      <td>0</td>\n",
       "      <td>2</td>\n",
       "    </tr>\n",
       "    <tr>\n",
       "      <th>965</th>\n",
       "      <td>False</td>\n",
       "      <td>965</td>\n",
       "      <td>can</td>\n",
       "      <td>0.012483</td>\n",
       "      <td>VGG7</td>\n",
       "      <td>train</td>\n",
       "      <td>1</td>\n",
       "      <td>2</td>\n",
       "    </tr>\n",
       "    <tr>\n",
       "      <th>26</th>\n",
       "      <td>False</td>\n",
       "      <td>26</td>\n",
       "      <td>cna</td>\n",
       "      <td>1.362501</td>\n",
       "      <td>VGG7</td>\n",
       "      <td>train</td>\n",
       "      <td>0</td>\n",
       "      <td>2</td>\n",
       "    </tr>\n",
       "  </tbody>\n",
       "</table>\n",
       "</div>"
      ],
      "text/plain": [
       "      bias  iteration layout      loss  model   name  repetition stride\n",
       "524  False        524    cna  0.136431  VGG16  train           1      2\n",
       "751   True        751    cna  0.237443   VGG7  train           0      1\n",
       "37    True         37    cna  2.715700  VGG16  train           0      2\n",
       "340  False        340    cna  1.266125  VGG16  train           0      2\n",
       "167  False        167    can  0.167633   VGG7  train           1      2\n",
       "64    True         64    cna  2.254536  VGG16  train           0      2\n",
       "973  False        973    can  0.008271   VGG7  train           1      2\n",
       "392  False        392    can  0.348007  VGG16  train           0      2\n",
       "965  False        965    can  0.012483   VGG7  train           1      2\n",
       "26   False         26    cna  1.362501   VGG7  train           0      2"
      ]
     },
     "execution_count": 25,
     "metadata": {},
     "output_type": "execute_result"
    }
   ],
   "source": [
    "loaded_research.load_results().sample(10)"
   ]
  },
  {
   "cell_type": "markdown",
   "metadata": {},
   "source": [
    "## More Complex Execution Strategies"
   ]
  },
  {
   "cell_type": "markdown",
   "metadata": {},
   "source": [
    "Usually we would like to run more than a single train pipeline.\n",
    "\n",
    "Let's define a test pipeline to monitor a model's loss on test set while learning. "
   ]
  },
  {
   "cell_type": "markdown",
   "metadata": {},
   "source": [
    "#### Creating Train Pipeline"
   ]
  },
  {
   "cell_type": "markdown",
   "metadata": {},
   "source": [
    "We start with defining a train pipeline as before"
   ]
  },
  {
   "cell_type": "code",
   "execution_count": 26,
   "metadata": {},
   "outputs": [],
   "source": [
    "grid = Option('layout', ['cna', 'can'])\n",
    "\n",
    "model_config={\n",
    "    'inputs/images/shape': B('image_shape'),\n",
    "    'inputs/labels/classes': D('num_classes'),\n",
    "    'inputs/labels/name': 'targets',\n",
    "    'initial_block/inputs': 'images',\n",
    "    'body/block/layout': C('layout'),\n",
    "}\n",
    "\n",
    "train_template = (Pipeline()\n",
    "            .init_variable('train_loss')\n",
    "            .init_model('dynamic', VGG7, 'conv', config=model_config)\n",
    "            .to_array()\n",
    "            .train_model('conv', \n",
    "                         images=B('images'), labels=B('labels'),\n",
    "                         fetches='loss', save_to=V('train_loss', mode='w'))\n",
    "            .run_later(BATCH_SIZE, shuffle=True, n_epochs=None))\n",
    "\n",
    "train_ppl = train_template << mnist.train"
   ]
  },
  {
   "cell_type": "markdown",
   "metadata": {},
   "source": [
    "#### Creating Test Pipeline"
   ]
  },
  {
   "cell_type": "markdown",
   "metadata": {},
   "source": [
    "We want the test pipeline to be run on the whole test set from time to time during training. \n",
    "\n",
    "In order to get this, we specify lazy-run in test pipeline with `n_epochs=1` and we pass `run=True` to research's `add_pipeline`. These 2 parameter values tell Research to run the pipeline on the whole test set for 1 epoch, instead of running it batch-wise (which is how the test pipeline is run). We will also pass `execute=100` parameter to `add_pipeline` to tell Research that this pipeline should be executed only on each 100-th iteration.\n",
    "\n",
    "To let the test pipeline to use the model trained by train pipeline we pass this model via `C('import_from')` named expression. We will set its value when creating `Research`."
   ]
  },
  {
   "cell_type": "code",
   "execution_count": 33,
   "metadata": {},
   "outputs": [],
   "source": [
    "test_template = (Pipeline()\n",
    "                 .init_variable('test_loss')\n",
    "                 .import_model('conv', C('import_from'))\n",
    "                 .to_array()\n",
    "                 .predict_model('conv', \n",
    "                                images=B('images'), labels=B('labels'),\n",
    "                                fetches='loss', save_to=V('test_loss', mode='w'))\n",
    "                 .run_later(BATCH_SIZE, shuffle=True, n_epochs=1) #Note  n_epochs=1\n",
    "                )\n",
    "\n",
    "test_ppl = test_template << mnist.test"
   ]
  },
  {
   "cell_type": "markdown",
   "metadata": {},
   "source": [
    "#### Creating Research with 2 Pipelines"
   ]
  },
  {
   "cell_type": "markdown",
   "metadata": {},
   "source": [
    "As mentioned before, we pass `execute=100` parameter to `add_pipeline` to tell Research that this pipeline should be executed only on each 100-th iteration.\n",
    "\n",
    "`execute` parameter defines frequency of pipeline execution. One can tell research to execute a pipeline periodically and pass an `int`, or to execute it on specific iteration by passing zero-based iteration number in following format: `'#{it_no}'` or by simply passing `'last'`. `execute` can also be a list, for example `execute=[\"#0', '#123', 100, 'last']` means that a pipeline will be executed on first iteration, 124-th iteration, every 100-th iteration and the last one.\n",
    "\n",
    "In order to import model from train to test pipeline, we pass `import_from='train_ppl'` parameter to `add_pipeline`, where `'train_ppl'` is the name of our train pipeline."
   ]
  },
  {
   "cell_type": "code",
   "execution_count": 34,
   "metadata": {},
   "outputs": [
    {
     "name": "stdout",
     "output_type": "stream",
     "text": [
      "Research train_test_research is starting...\n"
     ]
    },
    {
     "name": "stderr",
     "output_type": "stream",
     "text": [
      "  0%|          | 0/2000 [00:00<?, ?it/s]"
     ]
    },
    {
     "name": "stdout",
     "output_type": "stream",
     "text": [
      "Distributor has 2 jobs with 1000 iterations. Totally: 2000\n"
     ]
    },
    {
     "name": "stderr",
     "output_type": "stream",
     "text": [
      "100%|██████████| 2000/2000 [02:25<00:00, 13.77it/s]\n"
     ]
    },
    {
     "data": {
      "text/plain": [
       "<batchflow.research.research.Research at 0x7ff7882e4b00>"
      ]
     },
     "execution_count": 34,
     "metadata": {},
     "output_type": "execute_result"
    }
   ],
   "source": [
    "TEST_EXECUTE_FREQ = 100\n",
    "\n",
    "res_name = 'train_test_research'\n",
    "clear_previous_results(res_name)\n",
    "\n",
    "research = (Research()\n",
    "            .add_pipeline(train_ppl, variables='train_loss', name='train_ppl')\n",
    "            .add_pipeline(test_ppl, variables='test_loss', name='test_ppl',\n",
    "                         execute=TEST_EXECUTE_FREQ, run=True, import_from='train_ppl') # Note run=True\n",
    "            .add_grid(grid))\n",
    "\n",
    "research.run(n_iters=ITERATIONS, name=res_name, bar=True)\n"
   ]
  },
  {
   "cell_type": "markdown",
   "metadata": {},
   "source": [
    "Now our research results contain entries for test_ppl"
   ]
  },
  {
   "cell_type": "code",
   "execution_count": 35,
   "metadata": {},
   "outputs": [
    {
     "data": {
      "text/html": [
       "<div>\n",
       "<style scoped>\n",
       "    .dataframe tbody tr th:only-of-type {\n",
       "        vertical-align: middle;\n",
       "    }\n",
       "\n",
       "    .dataframe tbody tr th {\n",
       "        vertical-align: top;\n",
       "    }\n",
       "\n",
       "    .dataframe thead th {\n",
       "        text-align: right;\n",
       "    }\n",
       "</style>\n",
       "<table border=\"1\" class=\"dataframe\">\n",
       "  <thead>\n",
       "    <tr style=\"text-align: right;\">\n",
       "      <th></th>\n",
       "      <th>iteration</th>\n",
       "      <th>layout</th>\n",
       "      <th>name</th>\n",
       "      <th>repetition</th>\n",
       "      <th>test_loss</th>\n",
       "      <th>train_loss</th>\n",
       "    </tr>\n",
       "  </thead>\n",
       "  <tbody>\n",
       "    <tr>\n",
       "      <th>0</th>\n",
       "      <td>99</td>\n",
       "      <td>cna</td>\n",
       "      <td>test_ppl</td>\n",
       "      <td>0</td>\n",
       "      <td>0.051132</td>\n",
       "      <td>NaN</td>\n",
       "    </tr>\n",
       "    <tr>\n",
       "      <th>1</th>\n",
       "      <td>199</td>\n",
       "      <td>cna</td>\n",
       "      <td>test_ppl</td>\n",
       "      <td>0</td>\n",
       "      <td>0.118511</td>\n",
       "      <td>NaN</td>\n",
       "    </tr>\n",
       "    <tr>\n",
       "      <th>2</th>\n",
       "      <td>299</td>\n",
       "      <td>cna</td>\n",
       "      <td>test_ppl</td>\n",
       "      <td>0</td>\n",
       "      <td>0.244918</td>\n",
       "      <td>NaN</td>\n",
       "    </tr>\n",
       "    <tr>\n",
       "      <th>3</th>\n",
       "      <td>399</td>\n",
       "      <td>cna</td>\n",
       "      <td>test_ppl</td>\n",
       "      <td>0</td>\n",
       "      <td>0.006181</td>\n",
       "      <td>NaN</td>\n",
       "    </tr>\n",
       "    <tr>\n",
       "      <th>4</th>\n",
       "      <td>499</td>\n",
       "      <td>cna</td>\n",
       "      <td>test_ppl</td>\n",
       "      <td>0</td>\n",
       "      <td>0.044083</td>\n",
       "      <td>NaN</td>\n",
       "    </tr>\n",
       "  </tbody>\n",
       "</table>\n",
       "</div>"
      ],
      "text/plain": [
       "   iteration layout      name  repetition  test_loss  train_loss\n",
       "0         99    cna  test_ppl           0   0.051132         NaN\n",
       "1        199    cna  test_ppl           0   0.118511         NaN\n",
       "2        299    cna  test_ppl           0   0.244918         NaN\n",
       "3        399    cna  test_ppl           0   0.006181         NaN\n",
       "4        499    cna  test_ppl           0   0.044083         NaN"
      ]
     },
     "execution_count": 35,
     "metadata": {},
     "output_type": "execute_result"
    }
   ],
   "source": [
    "research.load_results(names='test_ppl').head()"
   ]
  },
  {
   "cell_type": "markdown",
   "metadata": {},
   "source": [
    "## Functions"
   ]
  },
  {
   "cell_type": "markdown",
   "metadata": {},
   "source": [
    "In order to perform some computations while running pipelines or to acquire values that are not produced by the model explicitely, one can use functions.\n",
    "\n",
    "We will now add a function that saves model's snapshots on different stages of learning and reports the path of saved snapshot"
   ]
  },
  {
   "cell_type": "markdown",
   "metadata": {},
   "source": [
    "#### Defining Functions To Be Executed By Reasearch"
   ]
  },
  {
   "cell_type": "markdown",
   "metadata": {},
   "source": [
    "We define a function to be executed during experiment's iterations. Such functions take 2 required parameters: `iteration` and `experiment` which are fed to it by Research and optional keyword parameters which should be provided externally."
   ]
  },
  {
   "cell_type": "code",
   "execution_count": 54,
   "metadata": {},
   "outputs": [],
   "source": [
    "def save_model(iteration, experiment, pipeline, model_name, path='./'):\n",
    "    \"\"\" Save model to a path.\"\"\"\n",
    "    path = os.path.join(path, experiment[pipeline].config.alias(as_string=True) + '_' + str(iteration))\n",
    "    pipeline = experiment[pipeline].pipeline\n",
    "    pipeline.save_model_now(model_name, path)\n",
    "    return path"
   ]
  },
  {
   "cell_type": "markdown",
   "metadata": {},
   "source": [
    "#### Adding Functions To Research"
   ]
  },
  {
   "cell_type": "markdown",
   "metadata": {},
   "source": [
    "We define a new reseach. Note that we now don't ask the test pipeline to write any variables to results explicitely (we don't pass `variables` parameter to corresponding `add_pipeline`).\n",
    "\n",
    "To add a function we call `add_function` method, providing it with a function object and`returns` parameters that specifies what should be written to research results.  We also pass keyword parameters `pipeline='train_ppl', model_name='conv'` that will be substituted to `save_model`."
   ]
  },
  {
   "cell_type": "code",
   "execution_count": 55,
   "metadata": {},
   "outputs": [
    {
     "name": "stdout",
     "output_type": "stream",
     "text": [
      "Research fun_research is starting...\n"
     ]
    },
    {
     "name": "stderr",
     "output_type": "stream",
     "text": [
      "  0%|          | 0/210 [00:00<?, ?it/s]"
     ]
    },
    {
     "name": "stdout",
     "output_type": "stream",
     "text": [
      "Distributor has 2 jobs with 105 iterations. Totally: 210\n"
     ]
    },
    {
     "name": "stderr",
     "output_type": "stream",
     "text": [
      "100%|██████████| 210/210 [01:15<00:00,  2.79it/s]\n"
     ]
    },
    {
     "data": {
      "text/plain": [
       "<batchflow.research.research.Research at 0x7ff7a91eb080>"
      ]
     },
     "execution_count": 55,
     "metadata": {},
     "output_type": "execute_result"
    }
   ],
   "source": [
    "res_name = 'fun_research'\n",
    "clear_previous_results(res_name)\n",
    "\n",
    "research = (Research()\n",
    "            .add_pipeline(train_ppl, variables='train_loss', name='train_ppl')\n",
    "            .add_pipeline(test_ppl, name='test_ppl',\n",
    "                         execute=TEST_EXECUTE_FREQ, run=True, import_from='train_ppl')\n",
    "            .add_function(save_model, returns='snapshot_path', name='save_model_fn',\n",
    "                          execute=TEST_EXECUTE_FREQ, pipeline='train_ppl', model_name='conv', path='my_mdl')\n",
    "            .add_grid(grid))\n",
    "\n",
    "research.run(n_reps=1, n_iters=105, name=res_name, bar=True)"
   ]
  },
  {
   "cell_type": "markdown",
   "metadata": {},
   "source": [
    "Research results now contain accuracy from `'save_model_fn'`\n",
    "\n",
    "We can load results that come from a certain source by passing `names` parameter to `load_results`"
   ]
  },
  {
   "cell_type": "code",
   "execution_count": 56,
   "metadata": {},
   "outputs": [
    {
     "data": {
      "text/html": [
       "<div>\n",
       "<style scoped>\n",
       "    .dataframe tbody tr th:only-of-type {\n",
       "        vertical-align: middle;\n",
       "    }\n",
       "\n",
       "    .dataframe tbody tr th {\n",
       "        vertical-align: top;\n",
       "    }\n",
       "\n",
       "    .dataframe thead th {\n",
       "        text-align: right;\n",
       "    }\n",
       "</style>\n",
       "<table border=\"1\" class=\"dataframe\">\n",
       "  <thead>\n",
       "    <tr style=\"text-align: right;\">\n",
       "      <th></th>\n",
       "      <th>iteration</th>\n",
       "      <th>layout</th>\n",
       "      <th>name</th>\n",
       "      <th>repetition</th>\n",
       "      <th>snapshot_path</th>\n",
       "      <th>train_loss</th>\n",
       "    </tr>\n",
       "  </thead>\n",
       "  <tbody>\n",
       "    <tr>\n",
       "      <th>0</th>\n",
       "      <td>99</td>\n",
       "      <td>cna</td>\n",
       "      <td>save_model_fn</td>\n",
       "      <td>0</td>\n",
       "      <td>my_mdl/layout_cna_99</td>\n",
       "      <td>NaN</td>\n",
       "    </tr>\n",
       "    <tr>\n",
       "      <th>0</th>\n",
       "      <td>99</td>\n",
       "      <td>can</td>\n",
       "      <td>save_model_fn</td>\n",
       "      <td>0</td>\n",
       "      <td>my_mdl/layout_can_99</td>\n",
       "      <td>NaN</td>\n",
       "    </tr>\n",
       "  </tbody>\n",
       "</table>\n",
       "</div>"
      ],
      "text/plain": [
       "   iteration layout           name  repetition         snapshot_path  \\\n",
       "0         99    cna  save_model_fn           0  my_mdl/layout_cna_99   \n",
       "0         99    can  save_model_fn           0  my_mdl/layout_can_99   \n",
       "\n",
       "   train_loss  \n",
       "0         NaN  \n",
       "0         NaN  "
      ]
     },
     "execution_count": 56,
     "metadata": {},
     "output_type": "execute_result"
    }
   ],
   "source": [
    "research.load_results(names='save_model_fn').head()"
   ]
  },
  {
   "cell_type": "code",
   "execution_count": null,
   "metadata": {},
   "outputs": [],
   "source": [
    "!ls -la"
   ]
  },
  {
   "cell_type": "markdown",
   "metadata": {},
   "source": [
    "## Getting metrics"
   ]
  },
  {
   "cell_type": "markdown",
   "metadata": {},
   "source": [
    "There is a special research method `get_metrics` for collecting metrics."
   ]
  },
  {
   "cell_type": "markdown",
   "metadata": {},
   "source": [
    "#### Defining Test Pipeline That Gathers Metrics"
   ]
  },
  {
   "cell_type": "markdown",
   "metadata": {},
   "source": [
    "First we redefine test pipeline removing `'test_loss'` and adding variables to store predictions and metrics computed for these predictions with `gather_metrics`"
   ]
  },
  {
   "cell_type": "code",
   "execution_count": 43,
   "metadata": {},
   "outputs": [],
   "source": [
    "test_template = (Pipeline()\n",
    "                 .init_variable('predictions')\n",
    "                 .init_variable('metrics')\n",
    "                 .import_model('conv', C('import_from'))\n",
    "                 .to_array()\n",
    "                 .predict_model('conv', \n",
    "                                images=B('images'), labels=B('labels'),\n",
    "                                fetches='predictions', save_to=V('predictions'))\n",
    "                 .gather_metrics('class', targets=B('labels'), predictions=V('predictions'), \n",
    "                                fmt='logits', axis=-1, save_to=V('metrics'))\n",
    "                 .run_later(BATCH_SIZE, shuffle=True, n_epochs=1))\n",
    "\n",
    "test_ppl = test_template << mnist.test"
   ]
  },
  {
   "cell_type": "markdown",
   "metadata": {},
   "source": [
    "We pass pipeline name to collect metrics from (`pipeline`), the name of the named expression which stores collected metrics (`metrics_var`) and what to calculate(`metrics_name`). "
   ]
  },
  {
   "cell_type": "code",
   "execution_count": 44,
   "metadata": {},
   "outputs": [
    {
     "name": "stdout",
     "output_type": "stream",
     "text": [
      "Research get_metrics_research is starting...\n"
     ]
    },
    {
     "name": "stderr",
     "output_type": "stream",
     "text": [
      "  0%|          | 0/2000 [00:00<?, ?it/s]"
     ]
    },
    {
     "name": "stdout",
     "output_type": "stream",
     "text": [
      "Distributor has 2 jobs with 1000 iterations. Totally: 2000\n"
     ]
    },
    {
     "name": "stderr",
     "output_type": "stream",
     "text": [
      "100%|██████████| 2000/2000 [02:26<00:00, 13.70it/s]\n"
     ]
    },
    {
     "data": {
      "text/plain": [
       "<batchflow.research.research.Research at 0x7ff8ac1276a0>"
      ]
     },
     "execution_count": 44,
     "metadata": {},
     "output_type": "execute_result"
    }
   ],
   "source": [
    "res_name = 'get_metrics_research'\n",
    "clear_previous_results(res_name)\n",
    "\n",
    "research = (Research()\n",
    "            .add_pipeline(train_ppl, variables='train_loss', name='train_ppl')\n",
    "            .add_pipeline(test_ppl, name='test_ppl',\n",
    "                         execute=TEST_EXECUTE_FREQ, run=True, import_from='train_ppl')\n",
    "            .get_metrics(pipeline='test_ppl', metrics_var='metrics', metrics_name='accuracy',\n",
    "                         returns='accuracy', execute=TEST_EXECUTE_FREQ)\n",
    "            .add_grid(grid))\n",
    "\n",
    "research.run(n_reps=1, n_iters=ITERATIONS, name=res_name, bar=True)"
   ]
  },
  {
   "cell_type": "markdown",
   "metadata": {},
   "source": [
    "`get_metrics` implicitly adds a function with a name *\\[pipeline_name\\]_metrics* "
   ]
  },
  {
   "cell_type": "code",
   "execution_count": 46,
   "metadata": {},
   "outputs": [
    {
     "data": {
      "text/html": [
       "<div>\n",
       "<style scoped>\n",
       "    .dataframe tbody tr th:only-of-type {\n",
       "        vertical-align: middle;\n",
       "    }\n",
       "\n",
       "    .dataframe tbody tr th {\n",
       "        vertical-align: top;\n",
       "    }\n",
       "\n",
       "    .dataframe thead th {\n",
       "        text-align: right;\n",
       "    }\n",
       "</style>\n",
       "<table border=\"1\" class=\"dataframe\">\n",
       "  <thead>\n",
       "    <tr style=\"text-align: right;\">\n",
       "      <th></th>\n",
       "      <th>accuracy</th>\n",
       "      <th>iteration</th>\n",
       "      <th>layout</th>\n",
       "      <th>name</th>\n",
       "      <th>repetition</th>\n",
       "      <th>train_loss</th>\n",
       "    </tr>\n",
       "  </thead>\n",
       "  <tbody>\n",
       "    <tr>\n",
       "      <th>1</th>\n",
       "      <td>1.0000</td>\n",
       "      <td>199</td>\n",
       "      <td>cna</td>\n",
       "      <td>test_ppl_metrics</td>\n",
       "      <td>0</td>\n",
       "      <td>NaN</td>\n",
       "    </tr>\n",
       "    <tr>\n",
       "      <th>4</th>\n",
       "      <td>1.0000</td>\n",
       "      <td>499</td>\n",
       "      <td>can</td>\n",
       "      <td>test_ppl_metrics</td>\n",
       "      <td>0</td>\n",
       "      <td>NaN</td>\n",
       "    </tr>\n",
       "    <tr>\n",
       "      <th>7</th>\n",
       "      <td>1.0000</td>\n",
       "      <td>799</td>\n",
       "      <td>cna</td>\n",
       "      <td>test_ppl_metrics</td>\n",
       "      <td>0</td>\n",
       "      <td>NaN</td>\n",
       "    </tr>\n",
       "    <tr>\n",
       "      <th>8</th>\n",
       "      <td>0.9375</td>\n",
       "      <td>899</td>\n",
       "      <td>cna</td>\n",
       "      <td>test_ppl_metrics</td>\n",
       "      <td>0</td>\n",
       "      <td>NaN</td>\n",
       "    </tr>\n",
       "    <tr>\n",
       "      <th>4</th>\n",
       "      <td>1.0000</td>\n",
       "      <td>499</td>\n",
       "      <td>cna</td>\n",
       "      <td>test_ppl_metrics</td>\n",
       "      <td>0</td>\n",
       "      <td>NaN</td>\n",
       "    </tr>\n",
       "  </tbody>\n",
       "</table>\n",
       "</div>"
      ],
      "text/plain": [
       "   accuracy  iteration layout              name  repetition  train_loss\n",
       "1    1.0000        199    cna  test_ppl_metrics           0         NaN\n",
       "4    1.0000        499    can  test_ppl_metrics           0         NaN\n",
       "7    1.0000        799    cna  test_ppl_metrics           0         NaN\n",
       "8    0.9375        899    cna  test_ppl_metrics           0         NaN\n",
       "4    1.0000        499    cna  test_ppl_metrics           0         NaN"
      ]
     },
     "execution_count": 46,
     "metadata": {},
     "output_type": "execute_result"
    }
   ],
   "source": [
    "research.load_results(names='test_ppl_metrics').sample(5)"
   ]
  }
 ],
 "metadata": {
  "kernelspec": {
   "display_name": "Python 3",
   "language": "python",
   "name": "python3"
  },
  "language_info": {
   "codemirror_mode": {
    "name": "ipython",
    "version": 3
   },
   "file_extension": ".py",
   "mimetype": "text/x-python",
   "name": "python",
   "nbconvert_exporter": "python",
   "pygments_lexer": "ipython3",
   "version": "3.7.1"
  }
 },
 "nbformat": 4,
 "nbformat_minor": 4
}
