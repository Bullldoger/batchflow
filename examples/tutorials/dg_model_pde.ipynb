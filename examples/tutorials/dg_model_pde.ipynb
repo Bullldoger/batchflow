{
 "cells": [
  {
   "cell_type": "code",
   "execution_count": 1,
   "metadata": {},
   "outputs": [],
   "source": [
    "import sys\n",
    "sys.path.append(\"/home/alexander/Work/Repos/\")\n",
    "from batchflow.models.tf import DeepGalerkin\n",
    "from batchflow import Pipeline, Dataset, DatasetIndex, Batch, B, L, F, V\n",
    "from batchflow import NumpySampler as NS\n",
    "import numpy as np\n",
    "import matplotlib.pyplot as plt\n",
    "import batchflow\n",
    "from tqdm import tqdm_notebook\n",
    "from ipywidgets import interact\n",
    "from batchflow.batchflow.sampler import cart_prod"
   ]
  },
  {
   "cell_type": "code",
   "execution_count": 2,
   "metadata": {},
   "outputs": [],
   "source": [
    "import tensorflow as tf"
   ]
  },
  {
   "cell_type": "markdown",
   "metadata": {},
   "source": [
    "### Configuring `DeepGalerkin` model for solving PDE"
   ]
  },
  {
   "cell_type": "markdown",
   "metadata": {},
   "source": [
    "$$\n",
    "f(x, y, t): \\quad \\frac{\\partial f}{\\partial t} - \\frac{\\partial^2 f}{\\partial x^2} - \\frac{\\partial^2 f}{\\partial y^2} = Q_{well}(x, y),\n",
    "$$\n",
    "$$f(x, y, 0)=p_0,$$\n",
    "$$f(0, x, t) = p_0 \\quad f(x, 0, t) = p_0.\n",
    "$$"
   ]
  },
  {
   "cell_type": "markdown",
   "metadata": {},
   "source": [
    "* Training points are from uniform distribution on **[0, 1]**, as the equation is solved on that domain."
   ]
  },
  {
   "cell_type": "code",
   "execution_count": 3,
   "metadata": {},
   "outputs": [],
   "source": [
    "st = NS('u', dim=2) & NS('e', scale=1).truncate(high=5) # uniform over [0, 1] and exponential over [0, T]"
   ]
  },
  {
   "cell_type": "markdown",
   "metadata": {},
   "source": [
    "* configuring the well"
   ]
  },
  {
   "cell_type": "code",
   "execution_count": 6,
   "metadata": {},
   "outputs": [],
   "source": [
    "r_well = 0.1\n",
    "center_well = np.array((0.5, None)).reshape((1, 2))\n",
    "q_mult = 5"
   ]
  },
  {
   "cell_type": "markdown",
   "metadata": {},
   "source": [
    "* setting up `config` for `DeepGalerkin`-model"
   ]
  },
  {
   "cell_type": "code",
   "execution_count": 18,
   "metadata": {},
   "outputs": [],
   "source": [
    "layout = 'faRf+faRfaf+af'\n",
    "initial_condition = 0\n",
    "\n",
    "form_lhs = {'d1': (0, 0, 1),\n",
    "            'd2': ((-1, 0, 0), (0, -1, 0), (0, 0, 0))}\n",
    "\n",
    "Q_rhs = lambda t: 0.5 * q_mult * (tf.sign(r_well**2\n",
    "                                          - tf.reduce_sum(tf.square((t[:, :1] - center_well[0, 0])),\n",
    "                                                          axis=1, keepdims=True)) + 1)\n",
    "T = 5\n",
    "domain=[[0, 1], [0, 1], [0, T]]\n",
    "\n",
    "config = {\n",
    "    'inputs': dict(points={'shape': (3, )}),\n",
    "    'initial_block/inputs': 'points',\n",
    "    'body': dict(layout=layout,\n",
    "                 units=[10, 10, 25, 30, 25, 1],\n",
    "                 activation=[tf.nn.tanh, tf.nn.tanh, tf.nn.tanh, tf.nn.tanh]),\n",
    "    'common': dict(form=form_lhs,\n",
    "                   bind_bc_ic=True,\n",
    "                   initial_condition=initial_condition,\n",
    "                   Q=Q_rhs,\n",
    "                   domain=domain,\n",
    "                   time_multiplier='sigmoid'),\n",
    "    'loss': 'mse'}"
   ]
  },
  {
   "cell_type": "markdown",
   "metadata": {},
   "source": [
    "Note:\n",
    "* `f` in `layout=[fafaf]` stands for a **f**ully-connected layer\n",
    "* `a` in `layout=[fafaf]` stands for **a**ctivation-function\n",
    "\n",
    "So, coupled with `activation=[tf.nn.tanh, tf.nn.tanh]` and `units=[10, 15, 1]`, `layout='fafaf'` sets up a fully-connected network with 2 hidden layers (with 10 and 15 units) and `tanh`-activations.\n",
    "\n",
    "Note also:\n",
    "* `form={'d1':(0, 0, 1), 'd2':((-1, 0, 0), (0, -1, 0), (0, 0, 0)}` sets up the left-hand-side of the equation as $$\\frac{\\partial f}{\\partial t} - \\frac{\\partial^2 f}{\\partial x^2} - \\frac{\\partial^2 f}{\\partial y^2}=\\dots$$\n",
    "\n",
    "* `Q_rhs = lambda t: 0.5 * q_mult * (tf.sign(r_well**2 - tf.square(t[:, :1] - center_well)) + 1)` says that the right-hand side of the equation is given by\n",
    "$$\\dots = q_{mult}  \\mathcal{I}\\left[x \\in B_{0.1}(0.5)\\right]$$\n",
    "* `initial_condition = p_0` states that initial condition is given by\n",
    "$$ f = p_0 $$"
   ]
  },
  {
   "cell_type": "markdown",
   "metadata": {},
   "source": [
    "### Preparing training `pipeline` "
   ]
  },
  {
   "cell_type": "code",
   "execution_count": 19,
   "metadata": {
    "scrolled": true
   },
   "outputs": [],
   "source": [
    "pipeline = (Pipeline()\n",
    "            .init_variable('loss', default=[])\n",
    "            .init_variable('dt', default=[])\n",
    "            .init_model('static', DeepGalerkin, 'DG', config)\n",
    "            .train_model('DG',\n",
    "                         feed_dict={'points': L(st.sample, size=F(len))},\n",
    "                         fetches='loss',\n",
    "                         save_to=V('loss'), mode='a'))"
   ]
  },
  {
   "cell_type": "code",
   "execution_count": 20,
   "metadata": {},
   "outputs": [],
   "source": [
    "dsix = DatasetIndex(np.arange(100))\n",
    "pipeline_ds = Dataset(dsix) >> pipeline"
   ]
  },
  {
   "cell_type": "markdown",
   "metadata": {},
   "source": [
    "### Running 3000-iters of network-training"
   ]
  },
  {
   "cell_type": "code",
   "execution_count": 21,
   "metadata": {},
   "outputs": [],
   "source": [
    "dg = pipeline_ds.get_model_by_name('DG')"
   ]
  },
  {
   "cell_type": "code",
   "execution_count": 22,
   "metadata": {},
   "outputs": [
    {
     "data": {
      "application/vnd.jupyter.widget-view+json": {
       "model_id": "d4c05f195c5847c7a80a47984452aa1d",
       "version_major": 2,
       "version_minor": 0
      },
      "text/plain": [
       "HBox(children=(IntProgress(value=0, max=3000), HTML(value='')))"
      ]
     },
     "metadata": {},
     "output_type": "display_data"
    },
    {
     "name": "stdout",
     "output_type": "stream",
     "text": [
      "\n"
     ]
    }
   ],
   "source": [
    "for i in tqdm_notebook(range(3000)):\n",
    "    pipeline_ds.next_batch(400, n_epochs=None)"
   ]
  },
  {
   "cell_type": "code",
   "execution_count": 23,
   "metadata": {},
   "outputs": [
    {
     "data": {
      "image/png": "[encoded data removed]",
      "text/plain": [
       "<Figure size 432x288 with 1 Axes>"
      ]
     },
     "metadata": {
      "needs_background": "light"
     },
     "output_type": "display_data"
    }
   ],
   "source": [
    "plt.plot(pipeline_ds.get_variable('loss')[:])\n",
    "plt.xlabel('iteration number', fontdict={'fontsize': 15})\n",
    "plt.ylabel('Loss',fontdict={'fontsize': 15})\n",
    "pass"
   ]
  },
  {
   "cell_type": "markdown",
   "metadata": {},
   "source": [
    "### Plot the network solution"
   ]
  },
  {
   "cell_type": "code",
   "execution_count": 24,
   "metadata": {},
   "outputs": [],
   "source": [
    "tsteps = np.linspace(0, 3, 1000)\n",
    "n_el = 50\n",
    "grid = cart_prod(np.linspace(0, 1, n_el), np.linspace(0, 1, n_el))\n",
    "\n",
    "approxs = [dg.session.run(dg.approximator, feed_dict={dg.points:\n",
    "                                                      np.concatenate([grid, t * np.ones_like(grid[:, :1])],\n",
    "                                                                     axis=1)}).reshape(n_el, n_el) for\n",
    "          t in tsteps]\n",
    "\n",
    "preds = [dg.session.run(dg.predictions, feed_dict={dg.points:\n",
    "                                               np.concatenate([grid, t * np.ones_like(grid[:, :1])],\n",
    "                                                               axis=1)}).reshape(n_el, n_el) for\n",
    "          t in tsteps]"
   ]
  },
  {
   "cell_type": "code",
   "execution_count": 37,
   "metadata": {},
   "outputs": [
    {
     "data": {
      "text/plain": [
       "Text(0.5, 1.0, 'Parabolic PDE in $dim=2$')"
      ]
     },
     "execution_count": 37,
     "metadata": {},
     "output_type": "execute_result"
    },
    {
     "data": {
      "image/png": "[encoded data removed]",
      "text/plain": [
       "<Figure size 432x288 with 2 Axes>"
      ]
     },
     "metadata": {
      "needs_background": "light"
     },
     "output_type": "display_data"
    }
   ],
   "source": [
    "plt.imshow(approxs[700], vmin=0.0, vmax=0.15)\n",
    "plt.colorbar()\n",
    "plt.title('Parabolic PDE in $dim=2$', fontdict={'fontsize': 16})"
   ]
  },
  {
   "cell_type": "code",
   "execution_count": null,
   "metadata": {},
   "outputs": [],
   "source": []
  }
 ],
 "metadata": {
  "kernelspec": {
   "display_name": "Python 3",
   "language": "python",
   "name": "python3"
  },
  "language_info": {
   "codemirror_mode": {
    "name": "ipython",
    "version": 3
   },
   "file_extension": ".py",
   "mimetype": "text/x-python",
   "name": "python",
   "nbconvert_exporter": "python",
   "pygments_lexer": "ipython3",
   "version": "3.6.6+"
  }
 },
 "nbformat": 4,
 "nbformat_minor": 2
}
