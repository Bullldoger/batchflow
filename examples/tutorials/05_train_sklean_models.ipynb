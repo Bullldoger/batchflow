{
 "cells": [
  {
   "cell_type": "markdown",
   "metadata": {},
   "source": [
    "# Train sklearn models with simple pipeline"
   ]
  },
  {
   "cell_type": "markdown",
   "metadata": {},
   "source": [
    "In this notebook we train Logistic regression and [Huber classifier](https://en.wikipedia.org/wiki/Huber_loss#Variant_for_classification) from sklearn library and compare their perfomance."
   ]
  },
  {
   "cell_type": "code",
   "execution_count": 1,
   "metadata": {},
   "outputs": [],
   "source": [
    "import sys\n",
    "\n",
    "import numpy as np\n",
    "from sklearn.linear_model import SGDClassifier\n",
    "import matplotlib.pyplot as plt\n",
    "\n",
    "sys.path.append('../..')\n",
    "\n",
    "from batchflow.models import SklearnModel\n",
    "from batchflow.opensets import MNIST\n",
    "from batchflow import B, C, V, D, Pipeline\n",
    "from examples.utils.utils import plot_images_predictions"
   ]
  },
  {
   "cell_type": "markdown",
   "metadata": {},
   "source": [
    "Load MNIST dataset."
   ]
  },
  {
   "cell_type": "code",
   "execution_count": 2,
   "metadata": {},
   "outputs": [],
   "source": [
    "dataset = MNIST()"
   ]
  },
  {
   "cell_type": "markdown",
   "metadata": {},
   "source": [
    "Pipeline preprocessing image actions include:\n",
    "1. Transform images from PIL to np.array.   \n",
    "2. Reshape them to 2 dimension arrays where the number of rows equal to the batch size."
   ]
  },
  {
   "cell_type": "markdown",
   "metadata": {},
   "source": [
    "Sklean models with partial_fit attribute support batch wise training and can be integrated into pipeline."
   ]
  },
  {
   "cell_type": "markdown",
   "metadata": {},
   "source": [
    "Initialize both models providing `estimator` in the config with the kwargs for [SGDClassifiers](https://scikit-learn.org/stable/modules/generated/sklearn.linear_model.SGDClassifier.html#sklearn.linear_model.SGDClassifier.predict_proba)"
   ]
  },
  {
   "cell_type": "code",
   "execution_count": 3,
   "metadata": {},
   "outputs": [],
   "source": [
    "init_huber_model = Pipeline().init_model('static', SklearnModel, 'my_model', \n",
    "                                 config=dict(estimator = SGDClassifier(loss='modified_huber')))\n",
    "init_logreg_model = Pipeline().init_model('static', SklearnModel, 'my_model', \n",
    "                                 config=dict(estimator = SGDClassifier(loss='log', \n",
    "                                            l1_ratio=0.5, alpha=0.5, penalty='elasticnet', learning_rate='adaptive', eta0=0.5)))"
   ]
  },
  {
   "cell_type": "markdown",
   "metadata": {},
   "source": [
    "Training pipeline template. We exploit the exact same pipeline various times with different estimators."
   ]
  },
  {
   "cell_type": "code",
   "execution_count": 4,
   "metadata": {},
   "outputs": [],
   "source": [
    "num_classes = dataset.num_classes\n",
    "train_template = (dataset.train.p\n",
    "                    .to_array()\n",
    "                    .add_namespace(np)\n",
    "                    .reshape(B('images'), (B('size'), -1), save_to=B('images'))\n",
    "                    .train_model('my_model', B.images, B.labels, \n",
    "                                 classes=list(range(num_classes)))\n",
    "                    .run_later(64, n_iters=10000, drop_last=True, shuffle=True, bar=True)\n",
    "           )"
   ]
  },
  {
   "cell_type": "markdown",
   "metadata": {},
   "source": [
    "Ready to use training pipelines."
   ]
  },
  {
   "cell_type": "code",
   "execution_count": 5,
   "metadata": {},
   "outputs": [],
   "source": [
    "huber_train_pipeline = init_huber_model + train_template\n",
    "logreg_train_pipeline = init_logreg_model + train_template"
   ]
  },
  {
   "cell_type": "markdown",
   "metadata": {},
   "source": [
    "Run the pipelines."
   ]
  },
  {
   "cell_type": "code",
   "execution_count": 6,
   "metadata": {},
   "outputs": [
    {
     "name": "stderr",
     "output_type": "stream",
     "text": [
      "100%|██████████| 10000/10000 [00:52<00:00, 189.65it/s]\n",
      "100%|██████████| 10000/10000 [01:12<00:00, 138.74it/s]\n"
     ]
    },
    {
     "data": {
      "text/plain": [
       "<batchflow.pipeline.Pipeline at 0x7f0ac55027b8>"
      ]
     },
     "execution_count": 6,
     "metadata": {},
     "output_type": "execute_result"
    }
   ],
   "source": [
    "huber_train_pipeline.run()\n",
    "logreg_train_pipeline.run()"
   ]
  },
  {
   "cell_type": "markdown",
   "metadata": {},
   "source": [
    "The same steps for test pipelines.   \n",
    "Instead of initializing models we import them from trained pipelines."
   ]
  },
  {
   "cell_type": "code",
   "execution_count": 7,
   "metadata": {},
   "outputs": [],
   "source": [
    "import_huber_model = Pipeline().import_model('my_model', huber_train_pipeline)\n",
    "import_logreg_model = Pipeline().import_model('my_model', logreg_train_pipeline)"
   ]
  },
  {
   "cell_type": "markdown",
   "metadata": {},
   "source": [
    "Test pipeline template."
   ]
  },
  {
   "cell_type": "code",
   "execution_count": 8,
   "metadata": {},
   "outputs": [],
   "source": [
    "test_template = (dataset.test.p\n",
    "                    .init_variable('metrics', default=None)\n",
    "                    .init_variable('predictions')\n",
    "                    .to_array()\n",
    "                    .add_namespace(np)\n",
    "                    .reshape(B('images'), (B('size'), -1), save_to=B('images'))\n",
    "                    .predict_model('my_model', B('images'), save_to=V('predictions'))              \n",
    "                    .gather_metrics('class', B.labels, V('predictions'), num_classes=num_classes,\n",
    "                                    fmt='proba', axis=1, save_to=V('metrics', mode='a'))\n",
    "                    .run_later(200, n_epochs=1, drop_last=False, shuffle=True, bar=True)\n",
    "                    .reshape(B('images'), (B('size'), 28, 28), save_to=B('images'))\n",
    "            )"
   ]
  },
  {
   "cell_type": "code",
   "execution_count": 9,
   "metadata": {},
   "outputs": [],
   "source": [
    "huber_test_pipeline = import_huber_model + test_template\n",
    "logreg_test_pipeline = import_logreg_model + test_template"
   ]
  },
  {
   "cell_type": "markdown",
   "metadata": {},
   "source": [
    "Run test pipelines."
   ]
  },
  {
   "cell_type": "code",
   "execution_count": 10,
   "metadata": {},
   "outputs": [
    {
     "name": "stderr",
     "output_type": "stream",
     "text": [
      "100%|██████████| 50/50 [00:01<00:00, 30.35it/s]\n",
      "100%|██████████| 50/50 [00:00<00:00, 98.28it/s]\n"
     ]
    },
    {
     "data": {
      "text/plain": [
       "<batchflow.pipeline.Pipeline at 0x7f0a4e984780>"
      ]
     },
     "execution_count": 10,
     "metadata": {},
     "output_type": "execute_result"
    }
   ],
   "source": [
    "huber_test_pipeline.run()\n",
    "logreg_test_pipeline.run()"
   ]
  },
  {
   "cell_type": "code",
   "execution_count": 11,
   "metadata": {},
   "outputs": [],
   "source": [
    "logreg_metrics = logreg_test_pipeline.v('metrics')\n",
    "huber_metrics = huber_test_pipeline.v('metrics')"
   ]
  },
  {
   "cell_type": "code",
   "execution_count": 12,
   "metadata": {},
   "outputs": [
    {
     "data": {
      "text/plain": [
       "(0.1591, 0.1591)"
      ]
     },
     "execution_count": 12,
     "metadata": {},
     "output_type": "execute_result"
    }
   ],
   "source": [
    "logreg_metrics.evaluate('acc'), huber_metrics.evaluate('acc') "
   ]
  },
  {
   "cell_type": "code",
   "execution_count": 13,
   "metadata": {},
   "outputs": [],
   "source": [
    "huber_batch = huber_test_pipeline.next_batch(10, shuffle=True)\n",
    "logreg_batch = logreg_test_pipeline.next_batch(10, shuffle=True)"
   ]
  },
  {
   "cell_type": "code",
   "execution_count": 14,
   "metadata": {},
   "outputs": [
    {
     "data": {
      "image/png": "[encoded data removed]",
      "text/plain": [
       "<Figure size 1440x1440 with 10 Axes>"
      ]
     },
     "metadata": {
      "needs_background": "light"
     },
     "output_type": "display_data"
    }
   ],
   "source": [
    "predictions = [huber_batch.pipeline.v('predictions'), logreg_batch.pipeline.v('predictions')]\n",
    "plot_images_predictions(logreg_batch.images, logreg_batch.labels, predictions,\n",
    "                        classes_names=None, figsize=(20,20), models_names=['huber', 'logreg'])"
   ]
  }
 ],
 "metadata": {
  "kernelspec": {
   "display_name": "Python 3",
   "language": "python",
   "name": "python3"
  },
  "language_info": {
   "codemirror_mode": {
    "name": "ipython",
    "version": 3
   },
   "file_extension": ".py",
   "mimetype": "text/x-python",
   "name": "python",
   "nbconvert_exporter": "python",
   "pygments_lexer": "ipython3",
   "version": "3.7.4"
  }
 },
 "nbformat": 4,
 "nbformat_minor": 2
}
