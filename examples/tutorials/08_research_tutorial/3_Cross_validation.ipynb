{
 "cells": [
  {
   "cell_type": "markdown",
   "metadata": {},
   "source": [
    "# Cross validation using Research Module"
   ]
  },
  {
   "cell_type": "markdown",
   "metadata": {},
   "source": [
    "## Roadmap"
   ]
  },
  {
   "cell_type": "markdown",
   "metadata": {},
   "source": [
    "1. Introduction to Research Module\n",
    "    * Basic example\n",
    "        * 1 pipeline with fixed parameters\n",
    "             * creating research\n",
    "             * running several repetitions of an experiment\n",
    "             * viewing research results\n",
    "             * saving and loading research\n",
    "    * Runnung experiments with different parameters aka grid\n",
    "        * 1 pipeline with variable parameters\n",
    "             * creating and viewing grids\n",
    "             * viewing filtered research results\n",
    "             \n",
    "             \n",
    "2. Complex Execution Strategies with Research Module\n",
    "    * Reducing extra dataset loads\n",
    "        * 1 pipeline with root and branch + grid\n",
    "    * More complex execution strategies\n",
    "        * 2 pipelines, train & test + function + root&branch + grid\n",
    "            * adding test pipeline\n",
    "            * defining results recording frequency aka execute='%n'\n",
    "            * adding functions\n",
    "    * Performance\n",
    "        * execution tasks managing\n",
    "        \n",
    "3. Cross-validation  (**You are here**)\n",
    "\n",
    "4. Combining it all together\n",
    "    * Super complex Research"
   ]
  },
  {
   "cell_type": "markdown",
   "metadata": {},
   "source": [
    "## Cross-validation"
   ]
  },
  {
   "cell_type": "code",
   "execution_count": 1,
   "metadata": {},
   "outputs": [],
   "source": [
    "import sys\n",
    "sys.path.append('../../..')\n",
    "\n",
    "import matplotlib\n",
    "%matplotlib inline\n",
    "\n",
    "from batchflow import Pipeline, B, C, V\n",
    "from batchflow.opensets import MNIST\n",
    "from batchflow.models.tf import VGG7, VGG16\n",
    "from batchflow.research import Research, Option\n",
    "\n",
    "import tensorflow as tf"
   ]
  },
  {
   "cell_type": "code",
   "execution_count": 11,
   "metadata": {},
   "outputs": [],
   "source": [
    "BATCH_SIZE=64\n",
    "ITERATIONS=1000\n",
    "TEST_EXECUTE_FREQ='%' + str(ITERATIONS//100)"
   ]
  },
  {
   "cell_type": "markdown",
   "metadata": {},
   "source": [
    "One can easyly perform cross-validation with Research\n",
    "\n",
    "Firstly we will define a dataset: we will use train subset of MNIST"
   ]
  },
  {
   "cell_type": "code",
   "execution_count": 3,
   "metadata": {},
   "outputs": [],
   "source": [
    "mnist_train = MNIST().train"
   ]
  },
  {
   "cell_type": "markdown",
   "metadata": {},
   "source": [
    "Next, we define our train and test pipelines. When performing cross-validation, Research will automatically split the dataset given and feed the folds to pipelines, so we will rather define pipeline templates that will wait for a dataset to work with. In contrast with previous tutorials we are adding `run` method to pipeline templates, not dataset pipelines."
   ]
  },
  {
   "cell_type": "code",
   "execution_count": 4,
   "metadata": {},
   "outputs": [],
   "source": [
    "model_config={\n",
    "    'session/config': tf.ConfigProto(gpu_options=tf.GPUOptions(per_process_gpu_memory_fraction=0.24)),\n",
    "    'inputs': dict(images={'shape': (28, 28, 1)},\n",
    "                   labels={'classes': 10, 'transform': 'ohe', 'name': 'targets'}),\n",
    "    'initial_block/inputs': 'images',\n",
    "    'body/block/layout': C('layout'),\n",
    "}\n",
    "\n",
    "train_template = (Pipeline()\n",
    "            .init_variable('train_loss')\n",
    "            .init_model('dynamic', VGG7, 'conv', config=model_config)\n",
    "            .to_array()\n",
    "            .train_model('conv', fetches='loss',\n",
    "                         feed_dict={'images': B('images'),\n",
    "                                    'labels': B('labels')},\n",
    "                         save_to=V('train_loss', mode='w'))\n",
    ").run(BATCH_SIZE, shuffle=True, n_epochs=None, lazy=True)"
   ]
  },
  {
   "cell_type": "code",
   "execution_count": 5,
   "metadata": {},
   "outputs": [],
   "source": [
    "test_template = (Pipeline()\n",
    "                 .init_variable('predictions')\n",
    "                 .init_variable('metrics')\n",
    "                 .import_model('conv', C('import_from'))\n",
    "                 .to_array()\n",
    "                 .predict_model('conv', \n",
    "                               fetches='predictions',\n",
    "                               feed_dict={'images': B('images'),\n",
    "                                          'labels': B('labels')},\n",
    "                               save_to=V('predictions'))\n",
    "                .gather_metrics('class', targets=B('labels'), predictions=V('predictions'), \n",
    "                                fmt='logits', axis=-1, save_to=V('metrics'))\n",
    ").run(BATCH_SIZE, shuffle=True, n_epochs=1, lazy=True)"
   ]
  },
  {
   "cell_type": "code",
   "execution_count": 6,
   "metadata": {},
   "outputs": [],
   "source": [
    "def get_accuracy(iteration, experiment, pipeline):\n",
    "    pipeline = experiment[pipeline].pipeline\n",
    "    metrics = pipeline.get_variable('metrics')\n",
    "    return metrics.evaluate('accuracy')\n",
    "\n",
    "grid = Option('layout', ['cna', 'can'])"
   ]
  },
  {
   "cell_type": "markdown",
   "metadata": {},
   "source": [
    "We are now defining our Research object. To use cross-validation we should pass `dataset` and `part` parameters to `add_pipeline` methods. We don't pass any dataset to `root` explicitely scince this is now Research that cares for data.\n",
    "\n",
    "Next, we call `run` with `n_splits` parameter that defines the number of cv folds. We can also pass `shuffle` to specify whether to shuffle the dataset before splitting. `shuffle` can be bool, int, `numpy.random.RandomState` or callable, its default value is *False* which means no shuffling."
   ]
  },
  {
   "cell_type": "code",
   "execution_count": 12,
   "metadata": {},
   "outputs": [
    {
     "name": "stdout",
     "output_type": "stream",
     "text": [
      "Research my_research_13 is starting...\n",
      "Distributor has 6 jobs with 1000 iterations. Totally: 6000\n"
     ]
    },
    {
     "name": "stderr",
     "output_type": "stream",
     "text": [
      "100%|██████████████████████████████████████████████████████████████████████████████| 6000/6000 [44:27<00:00,  2.25it/s]\n"
     ]
    },
    {
     "data": {
      "text/plain": [
       "<batchflow.research.research.Research at 0x215cae2d518>"
      ]
     },
     "execution_count": 12,
     "metadata": {},
     "output_type": "execute_result"
    }
   ],
   "source": [
    "research = (Research()\n",
    "            .add_pipeline(train_template, dataset=mnist_train, part='train', variables='train_loss', name='train_ppl')\n",
    "            .add_pipeline(test_template, dataset=mnist_train, part='test', name='test_ppl',\n",
    "                         execute=TEST_EXECUTE_FREQ, run=True, import_from='train_ppl')\n",
    "            .add_function(get_accuracy, returns='accuracy', name='test_accuracy_fn', \n",
    "                          execute=TEST_EXECUTE_FREQ, \n",
    "                          pipeline='test_ppl')\n",
    "            .add_grid(grid))\n",
    "\n",
    "research.run(n_iters=ITERATIONS,\n",
    "             n_splits=3, shuffle=True,\n",
    "             #workers=2, gpu=[0], \n",
    "             name='my_research', bar=True)"
   ]
  },
  {
   "cell_type": "markdown",
   "metadata": {},
   "source": [
    "We can now load results, specifying which folds to get if needed"
   ]
  },
  {
   "cell_type": "code",
   "execution_count": 13,
   "metadata": {},
   "outputs": [
    {
     "data": {
      "text/html": [
       "<div>\n",
       "<style scoped>\n",
       "    .dataframe tbody tr th:only-of-type {\n",
       "        vertical-align: middle;\n",
       "    }\n",
       "\n",
       "    .dataframe tbody tr th {\n",
       "        vertical-align: top;\n",
       "    }\n",
       "\n",
       "    .dataframe thead th {\n",
       "        text-align: right;\n",
       "    }\n",
       "</style>\n",
       "<table border=\"1\" class=\"dataframe\">\n",
       "  <thead>\n",
       "    <tr style=\"text-align: right;\">\n",
       "      <th></th>\n",
       "      <th>repetition</th>\n",
       "      <th>name</th>\n",
       "      <th>train_loss</th>\n",
       "      <th>accuracy</th>\n",
       "      <th>iteration</th>\n",
       "      <th>layout</th>\n",
       "      <th>cv_split</th>\n",
       "    </tr>\n",
       "  </thead>\n",
       "  <tbody>\n",
       "    <tr>\n",
       "      <th>191</th>\n",
       "      <td>0</td>\n",
       "      <td>train_ppl</td>\n",
       "      <td>0.191151</td>\n",
       "      <td>NaN</td>\n",
       "      <td>191</td>\n",
       "      <td>cna</td>\n",
       "      <td>0</td>\n",
       "    </tr>\n",
       "    <tr>\n",
       "      <th>834</th>\n",
       "      <td>0</td>\n",
       "      <td>train_ppl</td>\n",
       "      <td>0.106286</td>\n",
       "      <td>NaN</td>\n",
       "      <td>834</td>\n",
       "      <td>cna</td>\n",
       "      <td>0</td>\n",
       "    </tr>\n",
       "    <tr>\n",
       "      <th>529</th>\n",
       "      <td>0</td>\n",
       "      <td>train_ppl</td>\n",
       "      <td>0.219475</td>\n",
       "      <td>NaN</td>\n",
       "      <td>529</td>\n",
       "      <td>can</td>\n",
       "      <td>0</td>\n",
       "    </tr>\n",
       "    <tr>\n",
       "      <th>291</th>\n",
       "      <td>0</td>\n",
       "      <td>train_ppl</td>\n",
       "      <td>0.099053</td>\n",
       "      <td>NaN</td>\n",
       "      <td>291</td>\n",
       "      <td>cna</td>\n",
       "      <td>0</td>\n",
       "    </tr>\n",
       "    <tr>\n",
       "      <th>714</th>\n",
       "      <td>0</td>\n",
       "      <td>train_ppl</td>\n",
       "      <td>0.118109</td>\n",
       "      <td>NaN</td>\n",
       "      <td>714</td>\n",
       "      <td>can</td>\n",
       "      <td>0</td>\n",
       "    </tr>\n",
       "    <tr>\n",
       "      <th>30</th>\n",
       "      <td>0</td>\n",
       "      <td>test_accuracy_fn</td>\n",
       "      <td>NaN</td>\n",
       "      <td>1.0000</td>\n",
       "      <td>309</td>\n",
       "      <td>cna</td>\n",
       "      <td>0</td>\n",
       "    </tr>\n",
       "    <tr>\n",
       "      <th>63</th>\n",
       "      <td>0</td>\n",
       "      <td>test_accuracy_fn</td>\n",
       "      <td>NaN</td>\n",
       "      <td>0.9375</td>\n",
       "      <td>639</td>\n",
       "      <td>can</td>\n",
       "      <td>0</td>\n",
       "    </tr>\n",
       "    <tr>\n",
       "      <th>418</th>\n",
       "      <td>0</td>\n",
       "      <td>train_ppl</td>\n",
       "      <td>0.014946</td>\n",
       "      <td>NaN</td>\n",
       "      <td>418</td>\n",
       "      <td>can</td>\n",
       "      <td>0</td>\n",
       "    </tr>\n",
       "    <tr>\n",
       "      <th>306</th>\n",
       "      <td>0</td>\n",
       "      <td>train_ppl</td>\n",
       "      <td>0.156797</td>\n",
       "      <td>NaN</td>\n",
       "      <td>306</td>\n",
       "      <td>cna</td>\n",
       "      <td>0</td>\n",
       "    </tr>\n",
       "    <tr>\n",
       "      <th>591</th>\n",
       "      <td>0</td>\n",
       "      <td>train_ppl</td>\n",
       "      <td>0.036260</td>\n",
       "      <td>NaN</td>\n",
       "      <td>591</td>\n",
       "      <td>can</td>\n",
       "      <td>0</td>\n",
       "    </tr>\n",
       "  </tbody>\n",
       "</table>\n",
       "</div>"
      ],
      "text/plain": [
       "     repetition              name  train_loss  accuracy  iteration layout  \\\n",
       "191           0         train_ppl    0.191151       NaN        191    cna   \n",
       "834           0         train_ppl    0.106286       NaN        834    cna   \n",
       "529           0         train_ppl    0.219475       NaN        529    can   \n",
       "291           0         train_ppl    0.099053       NaN        291    cna   \n",
       "714           0         train_ppl    0.118109       NaN        714    can   \n",
       "30            0  test_accuracy_fn         NaN    1.0000        309    cna   \n",
       "63            0  test_accuracy_fn         NaN    0.9375        639    can   \n",
       "418           0         train_ppl    0.014946       NaN        418    can   \n",
       "306           0         train_ppl    0.156797       NaN        306    cna   \n",
       "591           0         train_ppl    0.036260       NaN        591    can   \n",
       "\n",
       "     cv_split  \n",
       "191         0  \n",
       "834         0  \n",
       "529         0  \n",
       "291         0  \n",
       "714         0  \n",
       "30          0  \n",
       "63          0  \n",
       "418         0  \n",
       "306         0  \n",
       "591         0  "
      ]
     },
     "execution_count": 13,
     "metadata": {},
     "output_type": "execute_result"
    }
   ],
   "source": [
    "results = research.load_results(folds=0)\n",
    "results.sample(10)"
   ]
  },
  {
   "cell_type": "code",
   "execution_count": 14,
   "metadata": {},
   "outputs": [
    {
     "data": {
      "image/png": "[encoded data removed]",
      "text/plain": [
       "<Figure size 1080x360 with 2 Axes>"
      ]
     },
     "metadata": {
      "needs_background": "light"
     },
     "output_type": "display_data"
    }
   ],
   "source": [
    "from matplotlib import pyplot as plt\n",
    "test_results = research.load_results(names= 'test_accuracy_fn', use_alias=True)\n",
    "\n",
    "fig, ax = plt.subplots(1, 2, figsize=(15, 5))\n",
    "for i, (config, df) in enumerate(test_results.groupby('config')):\n",
    "    x, y = i//2, i%2\n",
    "    df.pivot(index='iteration', columns='cv_split', values='accuracy').plot(ax=ax[y])\n",
    "    ax[y].set_title(config)\n",
    "    ax[y].set_xlabel('iteration')\n",
    "    ax[y].set_ylabel('loss')\n",
    "    ax[y].grid(True)\n",
    "    ax[y].legend()"
   ]
  },
  {
   "cell_type": "markdown",
   "metadata": {},
   "source": [
    "## Check working\n",
    "\n",
    "We can still use branch-root division to preprocess the data"
   ]
  },
  {
   "cell_type": "markdown",
   "metadata": {},
   "source": [
    "```python\n",
    "augmentation_pipeline = Pipeline().salt(p=0.5)\n",
    "\n",
    "research = (Research()\n",
    "            .add_pipeline(root=augmentation_pipeline, branch=train_template, \n",
    "                          dataset=mnist_train, part='train', \n",
    "                          variables='train_loss', name='train_ppl')\n",
    "#             .add_pipeline(test_template, \n",
    "#                           dataset=mnist_train, part='test', name='test_ppl',\n",
    "#                          execute=TEST_EXECUTE_FREQ, run=True, import_from='train_ppl')\n",
    "#             .add_function(get_accuracy, returns='accuracy', name='test_accuracy_fn', \n",
    "#                           execute=TEST_EXECUTE_FREQ, \n",
    "#                           pipeline='test_ppl')\n",
    "            .add_grid(grid))\n",
    "\n",
    "research.run(n_iters=ITERATIONS,\n",
    "             n_splits=3, shuffle=True,\n",
    "             workers=2, branches=2, gpu=[0], \n",
    "             name='my_research', bar=True)\n",
    "```"
   ]
  },
  {
   "cell_type": "markdown",
   "metadata": {},
   "source": [
    "`research.load_results()`"
   ]
  },
  {
   "cell_type": "code",
   "execution_count": null,
   "metadata": {},
   "outputs": [],
   "source": []
  }
 ],
 "metadata": {
  "kernelspec": {
   "display_name": "Python 3",
   "language": "python",
   "name": "python3"
  },
  "language_info": {
   "codemirror_mode": {
    "name": "ipython",
    "version": 3
   },
   "file_extension": ".py",
   "mimetype": "text/x-python",
   "name": "python",
   "nbconvert_exporter": "python",
   "pygments_lexer": "ipython3",
   "version": "3.7.3"
  }
 },
 "nbformat": 4,
 "nbformat_minor": 2
}
