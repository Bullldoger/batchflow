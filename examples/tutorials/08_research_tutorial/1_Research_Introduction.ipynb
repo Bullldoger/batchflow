{
 "cells": [
  {
   "cell_type": "markdown",
   "metadata": {},
   "source": [
    "# Introduction to Research module"
   ]
  },
  {
   "cell_type": "markdown",
   "metadata": {},
   "source": [
    "## Roadmap"
   ]
  },
  {
   "cell_type": "markdown",
   "metadata": {},
   "source": [
    "* Basic example\n",
    "    * 1 pipeline with fixed parameters\n",
    "         * creating research\n",
    "         * running several repetitions of an experiment\n",
    "         * defining results recording frequency aka execute='%n'\n",
    "         * viewing research results\n",
    "         * saving and loading research\n",
    "* Runnung experiments with different parameters aka grid\n",
    "    * 1 pipeline with variable parameters\n",
    "         * creating and viewing grids\n",
    "         * viewing filtered research results\n",
    "* Reducing extra dataset loads\n",
    "    * 1 pipeline with root and brunch + grid\n",
    "* More complex execution strategies\n",
    "    * 2 pipelines, train & test + function + root&brunch + grid\n",
    "        * adding test pipeline\n",
    "        * adding functions\n",
    "* Cross-validation\n",
    "\n",
    "* Performance\n",
    "        * execution tasks managing\n",
    "* Combining it all together\n",
    "    * Super complex Research"
   ]
  },
  {
   "cell_type": "markdown",
   "metadata": {},
   "source": [
    "## Basic example"
   ]
  },
  {
   "cell_type": "code",
   "execution_count": 1,
   "metadata": {},
   "outputs": [],
   "source": [
    "import sys\n",
    "sys.path.append('../../..')\n",
    "\n",
    "import matplotlib\n",
    "%matplotlib inline\n",
    "\n",
    "from batchflow import Pipeline, B, C, V\n",
    "from batchflow.opensets import MNIST\n",
    "from batchflow.models.tf import VGG7, VGG16\n",
    "from batchflow.research import Research, Option"
   ]
  },
  {
   "cell_type": "code",
   "execution_count": 2,
   "metadata": {},
   "outputs": [],
   "source": [
    "BATCH_SIZE=64\n",
    "ITERATIONS=10"
   ]
  },
  {
   "cell_type": "code",
   "execution_count": 3,
   "metadata": {},
   "outputs": [],
   "source": [
    "mnist = MNIST()\n",
    "train_root = mnist.train.p.run(BATCH_SIZE, shuffle=True, n_epochs=None, lazy=True)"
   ]
  },
  {
   "cell_type": "code",
   "execution_count": 4,
   "metadata": {},
   "outputs": [],
   "source": [
    "    model_config={\n",
    "        'inputs': dict(images={'shape': (28, 28, 1)},\n",
    "                       labels={'classes': 10, 'transform': 'ohe', 'name': 'targets'}),\n",
    "        'initial_block/inputs': 'images',\n",
    "    }\n",
    "\n",
    "    train_template = (Pipeline()\n",
    "                .init_variable('loss', init_on_each_run=list)\n",
    "                .init_model('dynamic', VGG7, 'conv', config=model_config)\n",
    "                .to_array()\n",
    "                .train_model('conv', fetches='loss',\n",
    "                             feed_dict={'images': B('images'),\n",
    "                                        'labels': B('labels')},\n",
    "                             save_to=V('loss', mode='w'))\n",
    "    )\n",
    "\n",
    "    train_ppl = train_root + train_template"
   ]
  },
  {
   "cell_type": "code",
   "execution_count": 5,
   "metadata": {},
   "outputs": [
    {
     "name": "stdout",
     "output_type": "stream",
     "text": [
      "Research vgg7_research_2 is starting...\n",
      "Distributor has 4 jobs with 10 iterations. Totally: 40\n"
     ]
    },
    {
     "name": "stderr",
     "output_type": "stream",
     "text": [
      "100%|██████████████████████████████████████████████████████████████████████████████████| 40/40 [00:59<00:00,  1.48s/it]\n"
     ]
    },
    {
     "data": {
      "text/plain": [
       "<batchflow.research.research.Research at 0x29f28372d30>"
      ]
     },
     "execution_count": 5,
     "metadata": {},
     "output_type": "execute_result"
    }
   ],
   "source": [
    "research = (Research()\n",
    "            .add_pipeline(train_ppl, variables='loss', name='train'))\n",
    "\n",
    "research.run(n_reps=4, n_iters=ITERATIONS, name='vgg7_research', bar=True)"
   ]
  },
  {
   "cell_type": "markdown",
   "metadata": {},
   "source": [
    "Each research is assigned with a unique name starting with *name* argument provided to *run*.\n",
    "Results of the research and its log are saved in a folder with the same name in the working directory. "
   ]
  },
  {
   "cell_type": "code",
   "execution_count": 6,
   "metadata": {},
   "outputs": [
    {
     "name": "stdout",
     "output_type": "stream",
     "text": [
      "Dir\t.ipynb_checkpoints\n",
      "File\t1_Research_Introduction.ipynb\n",
      "Dir\tvgg7_research\n",
      "Dir\tvgg7_research_1\n",
      "Dir\tvgg7_research_2\n",
      "Dir\tvgg_layout_bias_research\n",
      "Dir\tvgg_layout_bias_research_1\n"
     ]
    }
   ],
   "source": [
    "import os\n",
    "for name in os.listdir():\n",
    "    print(\"{}\\t{}\".format('Dir' if os.path.isdir(name) else 'File', name))"
   ]
  },
  {
   "cell_type": "code",
   "execution_count": 7,
   "metadata": {},
   "outputs": [
    {
     "name": "stdout",
     "output_type": "stream",
     "text": [
      "<class 'pandas.core.frame.DataFrame'>\n",
      "Int64Index: 40 entries, 0 to 9\n",
      "Data columns (total 4 columns):\n",
      "repetition    40 non-null int64\n",
      "name          40 non-null object\n",
      "loss          40 non-null float64\n",
      "iteration     40 non-null int64\n",
      "dtypes: float64(1), int64(2), object(1)\n",
      "memory usage: 1.6+ KB\n"
     ]
    }
   ],
   "source": [
    "results = research.load_results()\n",
    "results.info()"
   ]
  },
  {
   "cell_type": "code",
   "execution_count": 8,
   "metadata": {},
   "outputs": [
    {
     "data": {
      "text/plain": [
       "<matplotlib.axes._subplots.AxesSubplot at 0x29f1f75d828>"
      ]
     },
     "execution_count": 8,
     "metadata": {},
     "output_type": "execute_result"
    },
    {
     "data": {
      "image/png": "[encoded data removed]",
      "text/plain": [
       "<Figure size 432x288 with 1 Axes>"
      ]
     },
     "metadata": {
      "needs_background": "light"
     },
     "output_type": "display_data"
    }
   ],
   "source": [
    "results.pivot(index='iteration', columns='repetition', values='loss').plot()"
   ]
  },
  {
   "cell_type": "code",
   "execution_count": 9,
   "metadata": {},
   "outputs": [
    {
     "name": "stdout",
     "output_type": "stream",
     "text": [
      "Research vgg7_research_3 is starting...\n",
      "Distributor has 4 jobs with 10 iterations. Totally: 40\n"
     ]
    },
    {
     "name": "stderr",
     "output_type": "stream",
     "text": [
      "100%|██████████████████████████████████████████████████████████████████████████████████| 40/40 [00:57<00:00,  1.45s/it]\n"
     ]
    },
    {
     "data": {
      "text/plain": [
       "<batchflow.research.research.Research at 0x29f298798d0>"
      ]
     },
     "execution_count": 9,
     "metadata": {},
     "output_type": "execute_result"
    }
   ],
   "source": [
    "research = (Research()\n",
    "            .add_pipeline(train_ppl, variables='loss', execute='%5', name='train'))\n",
    "research.run(n_reps=4, n_iters=ITERATIONS, name='vgg7_research', bar=True)"
   ]
  },
  {
   "cell_type": "code",
   "execution_count": 10,
   "metadata": {},
   "outputs": [
    {
     "name": "stdout",
     "output_type": "stream",
     "text": [
      "<class 'pandas.core.frame.DataFrame'>\n",
      "Int64Index: 8 entries, 0 to 1\n",
      "Data columns (total 4 columns):\n",
      "repetition    8 non-null int64\n",
      "name          8 non-null object\n",
      "loss          8 non-null float64\n",
      "iteration     8 non-null int64\n",
      "dtypes: float64(1), int64(2), object(1)\n",
      "memory usage: 320.0+ bytes\n"
     ]
    }
   ],
   "source": [
    "results = research.load_results()\n",
    "results.info()"
   ]
  },
  {
   "cell_type": "markdown",
   "metadata": {},
   "source": [
    "## Introducing grids"
   ]
  },
  {
   "cell_type": "code",
   "execution_count": 11,
   "metadata": {},
   "outputs": [
    {
     "data": {
      "text/plain": [
       "[ConfigAlias({'layout': 'cna', 'model': 'VGG7', 'bias': 'False'}),\n",
       " ConfigAlias({'layout': 'cna', 'model': 'VGG16', 'bias': 'False'}),\n",
       " ConfigAlias({'layout': 'can', 'model': 'VGG7', 'bias': 'False'}),\n",
       " ConfigAlias({'layout': 'can', 'model': 'VGG16', 'bias': 'False'}),\n",
       " ConfigAlias({'layout': 'cna', 'bias': 'True', 'model': 'VGG7'})]"
      ]
     },
     "execution_count": 11,
     "metadata": {},
     "output_type": "execute_result"
    }
   ],
   "source": [
    "grid = (Option('layout', ['cna', 'can']) * Option('model', [VGG7, VGG16]) * Option('bias', [False])\n",
    "        +  Option('layout', ['cna']) * Option('bias', [True]) * Option('model', [VGG7]))\n",
    "list(grid.gen_configs())"
   ]
  },
  {
   "cell_type": "code",
   "execution_count": 12,
   "metadata": {},
   "outputs": [],
   "source": [
    "model_config.update({\n",
    "    'body/block/layout': C('layout'),\n",
    "    'common/conv/use_bias': C('bias'),\n",
    "})\n",
    "\n",
    "\n",
    "# For reference: previous train_template definition \n",
    "#     train_template = (Pipeline()\n",
    "#                 .init_variable('loss', init_on_each_run=list)\n",
    "#                 .init_model('dynamic', VGG7, 'conv', config=model_config) # Note model class defined explicitly\n",
    "#                 .to_array()\n",
    "#                 .train_model('conv', fetches='loss',\n",
    "#                              feed_dict={'images': B('images'),\n",
    "#                                         'labels': B('labels')},\n",
    "#                              save_to=V('loss', mode='w'))\n",
    "#     )\n",
    "\n",
    "train_template = (Pipeline()\n",
    "            .init_variable('loss', init_on_each_run=list)\n",
    "            .init_model('dynamic', C('model'), 'conv', config=model_config) # Model class defined via named expression\n",
    "            .to_array()\n",
    "            .train_model('conv', fetches='loss',\n",
    "                         feed_dict={'images': B('images'),\n",
    "                                    'labels': B('labels')},\n",
    "                         save_to=V('loss', mode='w'))\n",
    ")\n",
    "\n",
    "train_ppl = train_root + train_template"
   ]
  },
  {
   "cell_type": "code",
   "execution_count": 13,
   "metadata": {},
   "outputs": [
    {
     "name": "stdout",
     "output_type": "stream",
     "text": [
      "Research vgg_layout_bias_research_2 is starting...\n",
      "Distributor has 10 jobs with 10 iterations. Totally: 100\n"
     ]
    },
    {
     "name": "stderr",
     "output_type": "stream",
     "text": [
      "100%|████████████████████████████████████████████████████████████████████████████████| 100/100 [02:46<00:00,  1.67s/it]\n"
     ]
    },
    {
     "data": {
      "text/plain": [
       "<batchflow.research.research.Research at 0x29f29899470>"
      ]
     },
     "execution_count": 13,
     "metadata": {},
     "output_type": "execute_result"
    }
   ],
   "source": [
    "research = (Research()\n",
    "            .add_pipeline(train_ppl, variables='loss', name='train')\n",
    "            .add_grid(grid))\n",
    "\n",
    "research.run(n_reps=2, n_iters=ITERATIONS, name='vgg_layout_bias_research', bar=True)\n"
   ]
  },
  {
   "cell_type": "code",
   "execution_count": 14,
   "metadata": {},
   "outputs": [
    {
     "data": {
      "text/html": [
       "<div>\n",
       "<style scoped>\n",
       "    .dataframe tbody tr th:only-of-type {\n",
       "        vertical-align: middle;\n",
       "    }\n",
       "\n",
       "    .dataframe tbody tr th {\n",
       "        vertical-align: top;\n",
       "    }\n",
       "\n",
       "    .dataframe thead th {\n",
       "        text-align: right;\n",
       "    }\n",
       "</style>\n",
       "<table border=\"1\" class=\"dataframe\">\n",
       "  <thead>\n",
       "    <tr style=\"text-align: right;\">\n",
       "      <th></th>\n",
       "      <th>bias</th>\n",
       "      <th>iteration</th>\n",
       "      <th>layout</th>\n",
       "      <th>loss</th>\n",
       "      <th>model</th>\n",
       "      <th>name</th>\n",
       "      <th>repetition</th>\n",
       "    </tr>\n",
       "  </thead>\n",
       "  <tbody>\n",
       "    <tr>\n",
       "      <th>0</th>\n",
       "      <td>False</td>\n",
       "      <td>0</td>\n",
       "      <td>cna</td>\n",
       "      <td>4.504781</td>\n",
       "      <td>VGG7</td>\n",
       "      <td>train</td>\n",
       "      <td>0</td>\n",
       "    </tr>\n",
       "    <tr>\n",
       "      <th>1</th>\n",
       "      <td>False</td>\n",
       "      <td>1</td>\n",
       "      <td>cna</td>\n",
       "      <td>3.670130</td>\n",
       "      <td>VGG7</td>\n",
       "      <td>train</td>\n",
       "      <td>0</td>\n",
       "    </tr>\n",
       "    <tr>\n",
       "      <th>2</th>\n",
       "      <td>False</td>\n",
       "      <td>2</td>\n",
       "      <td>cna</td>\n",
       "      <td>3.395448</td>\n",
       "      <td>VGG7</td>\n",
       "      <td>train</td>\n",
       "      <td>0</td>\n",
       "    </tr>\n",
       "    <tr>\n",
       "      <th>3</th>\n",
       "      <td>False</td>\n",
       "      <td>3</td>\n",
       "      <td>cna</td>\n",
       "      <td>2.924818</td>\n",
       "      <td>VGG7</td>\n",
       "      <td>train</td>\n",
       "      <td>0</td>\n",
       "    </tr>\n",
       "    <tr>\n",
       "      <th>4</th>\n",
       "      <td>False</td>\n",
       "      <td>4</td>\n",
       "      <td>cna</td>\n",
       "      <td>2.628530</td>\n",
       "      <td>VGG7</td>\n",
       "      <td>train</td>\n",
       "      <td>0</td>\n",
       "    </tr>\n",
       "  </tbody>\n",
       "</table>\n",
       "</div>"
      ],
      "text/plain": [
       "    bias  iteration layout      loss model   name  repetition\n",
       "0  False          0    cna  4.504781  VGG7  train           0\n",
       "1  False          1    cna  3.670130  VGG7  train           0\n",
       "2  False          2    cna  3.395448  VGG7  train           0\n",
       "3  False          3    cna  2.924818  VGG7  train           0\n",
       "4  False          4    cna  2.628530  VGG7  train           0"
      ]
     },
     "execution_count": 14,
     "metadata": {},
     "output_type": "execute_result"
    }
   ],
   "source": [
    "results = research.load_results()\n",
    "results.head()"
   ]
  },
  {
   "cell_type": "markdown",
   "metadata": {},
   "source": [
    "#### Controlling *load_results* output"
   ]
  },
  {
   "cell_type": "code",
   "execution_count": 15,
   "metadata": {},
   "outputs": [
    {
     "data": {
      "text/html": [
       "<div>\n",
       "<style scoped>\n",
       "    .dataframe tbody tr th:only-of-type {\n",
       "        vertical-align: middle;\n",
       "    }\n",
       "\n",
       "    .dataframe tbody tr th {\n",
       "        vertical-align: top;\n",
       "    }\n",
       "\n",
       "    .dataframe thead th {\n",
       "        text-align: right;\n",
       "    }\n",
       "</style>\n",
       "<table border=\"1\" class=\"dataframe\">\n",
       "  <thead>\n",
       "    <tr style=\"text-align: right;\">\n",
       "      <th></th>\n",
       "      <th>repetition</th>\n",
       "      <th>name</th>\n",
       "      <th>loss</th>\n",
       "      <th>iteration</th>\n",
       "      <th>config</th>\n",
       "    </tr>\n",
       "  </thead>\n",
       "  <tbody>\n",
       "    <tr>\n",
       "      <th>0</th>\n",
       "      <td>0</td>\n",
       "      <td>train</td>\n",
       "      <td>4.504781</td>\n",
       "      <td>0</td>\n",
       "      <td>bias_False-layout_cna-model_VGG7</td>\n",
       "    </tr>\n",
       "    <tr>\n",
       "      <th>1</th>\n",
       "      <td>0</td>\n",
       "      <td>train</td>\n",
       "      <td>3.670130</td>\n",
       "      <td>1</td>\n",
       "      <td>bias_False-layout_cna-model_VGG7</td>\n",
       "    </tr>\n",
       "    <tr>\n",
       "      <th>2</th>\n",
       "      <td>0</td>\n",
       "      <td>train</td>\n",
       "      <td>3.395448</td>\n",
       "      <td>2</td>\n",
       "      <td>bias_False-layout_cna-model_VGG7</td>\n",
       "    </tr>\n",
       "    <tr>\n",
       "      <th>3</th>\n",
       "      <td>0</td>\n",
       "      <td>train</td>\n",
       "      <td>2.924818</td>\n",
       "      <td>3</td>\n",
       "      <td>bias_False-layout_cna-model_VGG7</td>\n",
       "    </tr>\n",
       "    <tr>\n",
       "      <th>4</th>\n",
       "      <td>0</td>\n",
       "      <td>train</td>\n",
       "      <td>2.628530</td>\n",
       "      <td>4</td>\n",
       "      <td>bias_False-layout_cna-model_VGG7</td>\n",
       "    </tr>\n",
       "  </tbody>\n",
       "</table>\n",
       "</div>"
      ],
      "text/plain": [
       "   repetition   name      loss  iteration                            config\n",
       "0           0  train  4.504781          0  bias_False-layout_cna-model_VGG7\n",
       "1           0  train  3.670130          1  bias_False-layout_cna-model_VGG7\n",
       "2           0  train  3.395448          2  bias_False-layout_cna-model_VGG7\n",
       "3           0  train  2.924818          3  bias_False-layout_cna-model_VGG7\n",
       "4           0  train  2.628530          4  bias_False-layout_cna-model_VGG7"
      ]
     },
     "execution_count": 15,
     "metadata": {},
     "output_type": "execute_result"
    }
   ],
   "source": [
    "results = research.load_results(use_alias=True)\n",
    "results.head()"
   ]
  },
  {
   "cell_type": "code",
   "execution_count": 16,
   "metadata": {},
   "outputs": [
    {
     "data": {
      "image/png": "[encoded data removed]",
      "text/plain": [
       "<Figure size 1080x1080 with 6 Axes>"
      ]
     },
     "metadata": {
      "needs_background": "light"
     },
     "output_type": "display_data"
    }
   ],
   "source": [
    "from matplotlib import pyplot as plt\n",
    "\n",
    "fig, ax = plt.subplots(3, 2, figsize=(15, 15))\n",
    "for i, (config, df) in enumerate(results.groupby('config')):\n",
    "    x, y = i//2, i%2\n",
    "    df.pivot(index='iteration', columns='repetition', values='loss').plot(ax=ax[x, y])\n",
    "    ax[x, y].set_title(config)\n",
    "    ax[x, y].set_xlabel('iteration')\n",
    "    ax[x, y].set_ylabel('loss')\n",
    "    ax[x, y].grid(True)\n",
    "    ax[x, y].legend()"
   ]
  },
  {
   "cell_type": "code",
   "execution_count": 17,
   "metadata": {},
   "outputs": [
    {
     "data": {
      "text/html": [
       "<div>\n",
       "<style scoped>\n",
       "    .dataframe tbody tr th:only-of-type {\n",
       "        vertical-align: middle;\n",
       "    }\n",
       "\n",
       "    .dataframe tbody tr th {\n",
       "        vertical-align: top;\n",
       "    }\n",
       "\n",
       "    .dataframe thead th {\n",
       "        text-align: right;\n",
       "    }\n",
       "</style>\n",
       "<table border=\"1\" class=\"dataframe\">\n",
       "  <thead>\n",
       "    <tr style=\"text-align: right;\">\n",
       "      <th></th>\n",
       "      <th>bias</th>\n",
       "      <th>iteration</th>\n",
       "      <th>layout</th>\n",
       "      <th>loss</th>\n",
       "      <th>model</th>\n",
       "      <th>name</th>\n",
       "      <th>repetition</th>\n",
       "    </tr>\n",
       "  </thead>\n",
       "  <tbody>\n",
       "    <tr>\n",
       "      <th>0</th>\n",
       "      <td>False</td>\n",
       "      <td>0</td>\n",
       "      <td>cna</td>\n",
       "      <td>4.504781</td>\n",
       "      <td>VGG7</td>\n",
       "      <td>train</td>\n",
       "      <td>0</td>\n",
       "    </tr>\n",
       "    <tr>\n",
       "      <th>1</th>\n",
       "      <td>False</td>\n",
       "      <td>1</td>\n",
       "      <td>cna</td>\n",
       "      <td>3.670130</td>\n",
       "      <td>VGG7</td>\n",
       "      <td>train</td>\n",
       "      <td>0</td>\n",
       "    </tr>\n",
       "    <tr>\n",
       "      <th>2</th>\n",
       "      <td>False</td>\n",
       "      <td>2</td>\n",
       "      <td>cna</td>\n",
       "      <td>3.395448</td>\n",
       "      <td>VGG7</td>\n",
       "      <td>train</td>\n",
       "      <td>0</td>\n",
       "    </tr>\n",
       "    <tr>\n",
       "      <th>3</th>\n",
       "      <td>False</td>\n",
       "      <td>3</td>\n",
       "      <td>cna</td>\n",
       "      <td>2.924818</td>\n",
       "      <td>VGG7</td>\n",
       "      <td>train</td>\n",
       "      <td>0</td>\n",
       "    </tr>\n",
       "    <tr>\n",
       "      <th>4</th>\n",
       "      <td>False</td>\n",
       "      <td>4</td>\n",
       "      <td>cna</td>\n",
       "      <td>2.628530</td>\n",
       "      <td>VGG7</td>\n",
       "      <td>train</td>\n",
       "      <td>0</td>\n",
       "    </tr>\n",
       "  </tbody>\n",
       "</table>\n",
       "</div>"
      ],
      "text/plain": [
       "    bias  iteration layout      loss model   name  repetition\n",
       "0  False          0    cna  4.504781  VGG7  train           0\n",
       "1  False          1    cna  3.670130  VGG7  train           0\n",
       "2  False          2    cna  3.395448  VGG7  train           0\n",
       "3  False          3    cna  2.924818  VGG7  train           0\n",
       "4  False          4    cna  2.628530  VGG7  train           0"
      ]
     },
     "execution_count": 17,
     "metadata": {},
     "output_type": "execute_result"
    }
   ],
   "source": [
    "research.load_results(aliases={'model': 'VGG7'}).head()"
   ]
  },
  {
   "cell_type": "code",
   "execution_count": 18,
   "metadata": {},
   "outputs": [
    {
     "data": {
      "text/html": [
       "<div>\n",
       "<style scoped>\n",
       "    .dataframe tbody tr th:only-of-type {\n",
       "        vertical-align: middle;\n",
       "    }\n",
       "\n",
       "    .dataframe tbody tr th {\n",
       "        vertical-align: top;\n",
       "    }\n",
       "\n",
       "    .dataframe thead th {\n",
       "        text-align: right;\n",
       "    }\n",
       "</style>\n",
       "<table border=\"1\" class=\"dataframe\">\n",
       "  <thead>\n",
       "    <tr style=\"text-align: right;\">\n",
       "      <th></th>\n",
       "      <th>bias</th>\n",
       "      <th>iteration</th>\n",
       "      <th>layout</th>\n",
       "      <th>loss</th>\n",
       "      <th>model</th>\n",
       "      <th>name</th>\n",
       "      <th>repetition</th>\n",
       "    </tr>\n",
       "  </thead>\n",
       "  <tbody>\n",
       "    <tr>\n",
       "      <th>0</th>\n",
       "      <td>False</td>\n",
       "      <td>0</td>\n",
       "      <td>cna</td>\n",
       "      <td>4.504781</td>\n",
       "      <td>VGG7</td>\n",
       "      <td>train</td>\n",
       "      <td>0</td>\n",
       "    </tr>\n",
       "    <tr>\n",
       "      <th>1</th>\n",
       "      <td>False</td>\n",
       "      <td>1</td>\n",
       "      <td>cna</td>\n",
       "      <td>3.670130</td>\n",
       "      <td>VGG7</td>\n",
       "      <td>train</td>\n",
       "      <td>0</td>\n",
       "    </tr>\n",
       "    <tr>\n",
       "      <th>2</th>\n",
       "      <td>False</td>\n",
       "      <td>2</td>\n",
       "      <td>cna</td>\n",
       "      <td>3.395448</td>\n",
       "      <td>VGG7</td>\n",
       "      <td>train</td>\n",
       "      <td>0</td>\n",
       "    </tr>\n",
       "    <tr>\n",
       "      <th>3</th>\n",
       "      <td>False</td>\n",
       "      <td>3</td>\n",
       "      <td>cna</td>\n",
       "      <td>2.924818</td>\n",
       "      <td>VGG7</td>\n",
       "      <td>train</td>\n",
       "      <td>0</td>\n",
       "    </tr>\n",
       "    <tr>\n",
       "      <th>4</th>\n",
       "      <td>False</td>\n",
       "      <td>4</td>\n",
       "      <td>cna</td>\n",
       "      <td>2.628530</td>\n",
       "      <td>VGG7</td>\n",
       "      <td>train</td>\n",
       "      <td>0</td>\n",
       "    </tr>\n",
       "  </tbody>\n",
       "</table>\n",
       "</div>"
      ],
      "text/plain": [
       "    bias  iteration layout      loss model   name  repetition\n",
       "0  False          0    cna  4.504781  VGG7  train           0\n",
       "1  False          1    cna  3.670130  VGG7  train           0\n",
       "2  False          2    cna  3.395448  VGG7  train           0\n",
       "3  False          3    cna  2.924818  VGG7  train           0\n",
       "4  False          4    cna  2.628530  VGG7  train           0"
      ]
     },
     "execution_count": 18,
     "metadata": {},
     "output_type": "execute_result"
    }
   ],
   "source": [
    "research.load_results(configs={'model': VGG7}).head()"
   ]
  },
  {
   "cell_type": "code",
   "execution_count": 19,
   "metadata": {},
   "outputs": [
    {
     "data": {
      "text/html": [
       "<div>\n",
       "<style scoped>\n",
       "    .dataframe tbody tr th:only-of-type {\n",
       "        vertical-align: middle;\n",
       "    }\n",
       "\n",
       "    .dataframe tbody tr th {\n",
       "        vertical-align: top;\n",
       "    }\n",
       "\n",
       "    .dataframe thead th {\n",
       "        text-align: right;\n",
       "    }\n",
       "</style>\n",
       "<table border=\"1\" class=\"dataframe\">\n",
       "  <thead>\n",
       "    <tr style=\"text-align: right;\">\n",
       "      <th></th>\n",
       "      <th>bias</th>\n",
       "      <th>iteration</th>\n",
       "      <th>layout</th>\n",
       "      <th>loss</th>\n",
       "      <th>model</th>\n",
       "      <th>name</th>\n",
       "      <th>repetition</th>\n",
       "    </tr>\n",
       "  </thead>\n",
       "  <tbody>\n",
       "    <tr>\n",
       "      <th>0</th>\n",
       "      <td>False</td>\n",
       "      <td>0</td>\n",
       "      <td>cna</td>\n",
       "      <td>4.593832</td>\n",
       "      <td>VGG7</td>\n",
       "      <td>train</td>\n",
       "      <td>1</td>\n",
       "    </tr>\n",
       "    <tr>\n",
       "      <th>1</th>\n",
       "      <td>False</td>\n",
       "      <td>9</td>\n",
       "      <td>cna</td>\n",
       "      <td>2.080465</td>\n",
       "      <td>VGG7</td>\n",
       "      <td>train</td>\n",
       "      <td>1</td>\n",
       "    </tr>\n",
       "    <tr>\n",
       "      <th>0</th>\n",
       "      <td>False</td>\n",
       "      <td>0</td>\n",
       "      <td>cna</td>\n",
       "      <td>6.230906</td>\n",
       "      <td>VGG16</td>\n",
       "      <td>train</td>\n",
       "      <td>1</td>\n",
       "    </tr>\n",
       "    <tr>\n",
       "      <th>1</th>\n",
       "      <td>False</td>\n",
       "      <td>9</td>\n",
       "      <td>cna</td>\n",
       "      <td>5.105008</td>\n",
       "      <td>VGG16</td>\n",
       "      <td>train</td>\n",
       "      <td>1</td>\n",
       "    </tr>\n",
       "    <tr>\n",
       "      <th>0</th>\n",
       "      <td>False</td>\n",
       "      <td>0</td>\n",
       "      <td>can</td>\n",
       "      <td>4.300362</td>\n",
       "      <td>VGG7</td>\n",
       "      <td>train</td>\n",
       "      <td>1</td>\n",
       "    </tr>\n",
       "  </tbody>\n",
       "</table>\n",
       "</div>"
      ],
      "text/plain": [
       "    bias  iteration layout      loss  model   name  repetition\n",
       "0  False          0    cna  4.593832   VGG7  train           1\n",
       "1  False          9    cna  2.080465   VGG7  train           1\n",
       "0  False          0    cna  6.230906  VGG16  train           1\n",
       "1  False          9    cna  5.105008  VGG16  train           1\n",
       "0  False          0    can  4.300362   VGG7  train           1"
      ]
     },
     "execution_count": 19,
     "metadata": {},
     "output_type": "execute_result"
    }
   ],
   "source": [
    "research.load_results(repetitions=1, iterations=[0,9]).head()"
   ]
  },
  {
   "cell_type": "markdown",
   "metadata": {},
   "source": [
    "### Loading saved researches "
   ]
  },
  {
   "cell_type": "code",
   "execution_count": 20,
   "metadata": {},
   "outputs": [
    {
     "name": "stdout",
     "output_type": "stream",
     "text": [
      "Dir\t.ipynb_checkpoints\n",
      "File\t1_Research_Introduction.ipynb\n",
      "Dir\tvgg7_research\n",
      "Dir\tvgg7_research_1\n",
      "Dir\tvgg7_research_2\n",
      "Dir\tvgg7_research_3\n",
      "Dir\tvgg_layout_bias_research\n",
      "Dir\tvgg_layout_bias_research_1\n",
      "Dir\tvgg_layout_bias_research_2\n"
     ]
    }
   ],
   "source": [
    "for name in os.listdir():\n",
    "    print(\"{}\\t{}\".format('Dir' if os.path.isdir(name) else 'File', name))"
   ]
  },
  {
   "cell_type": "code",
   "execution_count": 21,
   "metadata": {},
   "outputs": [
    {
     "name": "stdout",
     "output_type": "stream",
     "text": [
      "{'bar': True,\n",
      " 'branches': 1,\n",
      " 'executables': {'train': '<batchflow.research.research.Executable object at '\n",
      "                          '0x000002582973E7F0>'},\n",
      " 'framework': 'tf',\n",
      " 'gpu': [],\n",
      " 'grid_config': [[{'layout': ['cna', 'can']},\n",
      "                  {'model': [\"<class 'batchflow.models.tf.vgg.VGG7'>\",\n",
      "                             \"<class 'batchflow.models.tf.vgg.VGG16'>\"]},\n",
      "                  {'bias': [False]}],\n",
      "                 [{'layout': ['cna']},\n",
      "                  {'bias': [True]},\n",
      "                  {'model': [\"<class 'batchflow.models.tf.vgg.VGG7'>\"]}]],\n",
      " 'initial_name': 'vgg_layout_bias_research',\n",
      " 'loaded': False,\n",
      " 'n_iters': 1000,\n",
      " 'n_reps': 2,\n",
      " 'n_splits': None,\n",
      " 'name': 'vgg_layout_bias_research',\n",
      " 'shuffle': False,\n",
      " 'timeout': 5,\n",
      " 'trails': 2,\n",
      " 'worker_class': \"<class 'batchflow.research.workers.PipelineWorker'>\",\n",
      " 'workers': 1}\n"
     ]
    }
   ],
   "source": [
    "import json\n",
    "import pprint\n",
    "with open(os.path.join('vgg_layout_bias_research', 'description', 'research.json')) as f:\n",
    "    pprint.pprint(json.load(f))"
   ]
  },
  {
   "cell_type": "code",
   "execution_count": 22,
   "metadata": {},
   "outputs": [],
   "source": [
    "loaded_research = Research.load('vgg_layout_bias_research')"
   ]
  },
  {
   "cell_type": "code",
   "execution_count": 25,
   "metadata": {},
   "outputs": [
    {
     "name": "stdout",
     "output_type": "stream",
     "text": [
      "{'bar': True,\n",
      " 'branches': 1,\n",
      " 'executables': OrderedDict([('train',\n",
      "                              <batchflow.research.research.Executable object at 0x0000029F34373CF8>)]),\n",
      " 'framework': 'tf',\n",
      " 'gpu': [],\n",
      " 'grid_config': Grid([[{'layout': ['cna', 'can']}, {'model': ['VGG7', 'VGG16']}, {'bias': ['False']}], [{'layout': ['cna']}, {'bias': ['True']}, {'model': ['VGG7']}]]),\n",
      " 'initial_name': 'vgg_layout_bias_research',\n",
      " 'loaded': True,\n",
      " 'n_iters': 1000,\n",
      " 'n_reps': 2,\n",
      " 'n_splits': None,\n",
      " 'name': 'vgg_layout_bias_research_3',\n",
      " 'shuffle': False,\n",
      " 'timeout': 5,\n",
      " 'trails': 2,\n",
      " 'worker_class': <class 'batchflow.research.workers.PipelineWorker'>,\n",
      " 'workers': 1}\n"
     ]
    }
   ],
   "source": [
    "loaded_research.describe()"
   ]
  },
  {
   "cell_type": "code",
   "execution_count": 23,
   "metadata": {},
   "outputs": [
    {
     "name": "stdout",
     "output_type": "stream",
     "text": [
      "Research vgg_layout_bias_research_3 is starting...\n",
      "Distributor has 10 jobs with 1000 iterations. Totally: 10000\n"
     ]
    },
    {
     "name": "stderr",
     "output_type": "stream",
     "text": [
      "100%|████████████████████████████████████████████████████████████████████████████| 10000/10000 [13:34<00:00, 12.28it/s]\n"
     ]
    },
    {
     "data": {
      "text/plain": [
       "<batchflow.research.research.Research at 0x29f34373f60>"
      ]
     },
     "execution_count": 23,
     "metadata": {},
     "output_type": "execute_result"
    }
   ],
   "source": [
    "loaded_research.run(n_reps=4, n_iters=ITERATIONS, name='vgg7_research_1_load', bar=True)"
   ]
  },
  {
   "cell_type": "code",
   "execution_count": 24,
   "metadata": {},
   "outputs": [
    {
     "data": {
      "text/html": [
       "<div>\n",
       "<style scoped>\n",
       "    .dataframe tbody tr th:only-of-type {\n",
       "        vertical-align: middle;\n",
       "    }\n",
       "\n",
       "    .dataframe tbody tr th {\n",
       "        vertical-align: top;\n",
       "    }\n",
       "\n",
       "    .dataframe thead th {\n",
       "        text-align: right;\n",
       "    }\n",
       "</style>\n",
       "<table border=\"1\" class=\"dataframe\">\n",
       "  <thead>\n",
       "    <tr style=\"text-align: right;\">\n",
       "      <th></th>\n",
       "      <th>bias</th>\n",
       "      <th>iteration</th>\n",
       "      <th>layout</th>\n",
       "      <th>loss</th>\n",
       "      <th>model</th>\n",
       "      <th>name</th>\n",
       "      <th>repetition</th>\n",
       "    </tr>\n",
       "  </thead>\n",
       "  <tbody>\n",
       "    <tr>\n",
       "      <th>253</th>\n",
       "      <td>False</td>\n",
       "      <td>253</td>\n",
       "      <td>can</td>\n",
       "      <td>0.093732</td>\n",
       "      <td>VGG16</td>\n",
       "      <td>train</td>\n",
       "      <td>1</td>\n",
       "    </tr>\n",
       "    <tr>\n",
       "      <th>34</th>\n",
       "      <td>False</td>\n",
       "      <td>34</td>\n",
       "      <td>can</td>\n",
       "      <td>0.663319</td>\n",
       "      <td>VGG7</td>\n",
       "      <td>train</td>\n",
       "      <td>1</td>\n",
       "    </tr>\n",
       "    <tr>\n",
       "      <th>736</th>\n",
       "      <td>True</td>\n",
       "      <td>736</td>\n",
       "      <td>cna</td>\n",
       "      <td>0.034324</td>\n",
       "      <td>VGG7</td>\n",
       "      <td>train</td>\n",
       "      <td>1</td>\n",
       "    </tr>\n",
       "    <tr>\n",
       "      <th>869</th>\n",
       "      <td>False</td>\n",
       "      <td>869</td>\n",
       "      <td>can</td>\n",
       "      <td>0.016900</td>\n",
       "      <td>VGG7</td>\n",
       "      <td>train</td>\n",
       "      <td>1</td>\n",
       "    </tr>\n",
       "    <tr>\n",
       "      <th>430</th>\n",
       "      <td>False</td>\n",
       "      <td>430</td>\n",
       "      <td>cna</td>\n",
       "      <td>1.153190</td>\n",
       "      <td>VGG16</td>\n",
       "      <td>train</td>\n",
       "      <td>0</td>\n",
       "    </tr>\n",
       "    <tr>\n",
       "      <th>554</th>\n",
       "      <td>False</td>\n",
       "      <td>554</td>\n",
       "      <td>can</td>\n",
       "      <td>0.045754</td>\n",
       "      <td>VGG16</td>\n",
       "      <td>train</td>\n",
       "      <td>1</td>\n",
       "    </tr>\n",
       "    <tr>\n",
       "      <th>737</th>\n",
       "      <td>False</td>\n",
       "      <td>737</td>\n",
       "      <td>cna</td>\n",
       "      <td>0.089901</td>\n",
       "      <td>VGG7</td>\n",
       "      <td>train</td>\n",
       "      <td>0</td>\n",
       "    </tr>\n",
       "    <tr>\n",
       "      <th>385</th>\n",
       "      <td>False</td>\n",
       "      <td>385</td>\n",
       "      <td>can</td>\n",
       "      <td>0.030941</td>\n",
       "      <td>VGG16</td>\n",
       "      <td>train</td>\n",
       "      <td>0</td>\n",
       "    </tr>\n",
       "    <tr>\n",
       "      <th>8</th>\n",
       "      <td>False</td>\n",
       "      <td>8</td>\n",
       "      <td>cna</td>\n",
       "      <td>6.185194</td>\n",
       "      <td>VGG16</td>\n",
       "      <td>train</td>\n",
       "      <td>0</td>\n",
       "    </tr>\n",
       "    <tr>\n",
       "      <th>878</th>\n",
       "      <td>False</td>\n",
       "      <td>878</td>\n",
       "      <td>cna</td>\n",
       "      <td>0.106734</td>\n",
       "      <td>VGG7</td>\n",
       "      <td>train</td>\n",
       "      <td>1</td>\n",
       "    </tr>\n",
       "  </tbody>\n",
       "</table>\n",
       "</div>"
      ],
      "text/plain": [
       "      bias  iteration layout      loss  model   name  repetition\n",
       "253  False        253    can  0.093732  VGG16  train           1\n",
       "34   False         34    can  0.663319   VGG7  train           1\n",
       "736   True        736    cna  0.034324   VGG7  train           1\n",
       "869  False        869    can  0.016900   VGG7  train           1\n",
       "430  False        430    cna  1.153190  VGG16  train           0\n",
       "554  False        554    can  0.045754  VGG16  train           1\n",
       "737  False        737    cna  0.089901   VGG7  train           0\n",
       "385  False        385    can  0.030941  VGG16  train           0\n",
       "8    False          8    cna  6.185194  VGG16  train           0\n",
       "878  False        878    cna  0.106734   VGG7  train           1"
      ]
     },
     "execution_count": 24,
     "metadata": {},
     "output_type": "execute_result"
    }
   ],
   "source": [
    "loaded_research.load_results().sample(10)"
   ]
  }
 ],
 "metadata": {
  "kernelspec": {
   "display_name": "Python 3",
   "language": "python",
   "name": "python3"
  },
  "language_info": {
   "codemirror_mode": {
    "name": "ipython",
    "version": 3
   },
   "file_extension": ".py",
   "mimetype": "text/x-python",
   "name": "python",
   "nbconvert_exporter": "python",
   "pygments_lexer": "ipython3",
   "version": "3.7.3"
  }
 },
 "nbformat": 4,
 "nbformat_minor": 2
}
