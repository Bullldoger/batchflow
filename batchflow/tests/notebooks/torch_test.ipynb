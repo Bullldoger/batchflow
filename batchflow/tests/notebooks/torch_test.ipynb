{
 "cells": [
  {
   "cell_type": "code",
   "execution_count": null,
   "metadata": {
    "ExecuteTime": {
     "end_time": "2019-12-09T08:06:19.294848Z",
     "start_time": "2019-12-09T08:06:16.838765Z"
    }
   },
   "outputs": [],
   "source": [
    "%load_ext autoreload\n",
    "%autoreload 2\n",
    "import os\n",
    "import sys\n",
    "import warnings\n",
    "\n",
    "import numpy as np\n",
    "import matplotlib.pyplot as plt\n",
    "import torch\n",
    "import torch.nn as nn\n",
    "\n",
    "\n",
    "sys.path.append(\"../../..\")\n",
    "from batchflow import *\n",
    "from batchflow.opensets import MNIST\n",
    "from batchflow.models.torch import *\n",
    "from batchflow.models.torch.layers import *"
   ]
  },
  {
   "cell_type": "markdown",
   "metadata": {},
   "source": [
    "# Setup"
   ]
  },
  {
   "cell_type": "code",
   "execution_count": null,
   "metadata": {
    "ExecuteTime": {
     "end_time": "2019-12-09T08:06:20.634767Z",
     "start_time": "2019-12-09T08:06:19.296877Z"
    }
   },
   "outputs": [],
   "source": [
    "mnist = MNIST(batch_class=ImagesBatch)\n",
    "\n",
    "if __name__ == '__main__':\n",
    "    MICROBATCH = None\n",
    "    DEVICE = None\n",
    "\n",
    "print('\\nMicrobatching is: {}'.format(MICROBATCH))\n",
    "print('\\nDevice is: {}'.format(DEVICE))    "
   ]
  },
  {
   "cell_type": "code",
   "execution_count": null,
   "metadata": {
    "ExecuteTime": {
     "end_time": "2019-12-09T08:06:20.671312Z",
     "start_time": "2019-12-09T08:06:20.637526Z"
    }
   },
   "outputs": [],
   "source": [
    "IMAGE_SHAPE = (1, 28, 28)\n",
    "N_ITERS = 10\n",
    "BATCH_SIZE = 16\n",
    "\n",
    "def get_classification_config(model_class, config):\n",
    "    default_config = {\n",
    "        'inputs/images/shape': IMAGE_SHAPE, # can be commented\n",
    "        'inputs/labels/classes': 10,\n",
    "        'initial_block/inputs': 'images',   # can be commented\n",
    "        'loss': 'ce',\n",
    "        'microbatch': MICROBATCH,\n",
    "        'device': DEVICE,\n",
    "    }\n",
    "\n",
    "    pipeline_config = {\n",
    "        'model': model_class,\n",
    "        'model_config': {**default_config, **config},\n",
    "        'feed_dict': {'images': B('images'),\n",
    "                      'labels': B('labels')},\n",
    "    }\n",
    "    return pipeline_config\n",
    "\n",
    "def get_segmentation_config(model_class, config):\n",
    "    default_config = {\n",
    "        'inputs/images/shape': IMAGE_SHAPE, # can be commented\n",
    "        'inputs/masks/shape': IMAGE_SHAPE,  # can be commented\n",
    "        'initial_block/inputs': 'images',   # can be commented\n",
    "        'loss': 'mse',\n",
    "        'microbatch': MICROBATCH,\n",
    "        'device': DEVICE,\n",
    "    }\n",
    "    \n",
    "    pipeline_config = {\n",
    "        'model': model_class,\n",
    "        'model_config': {**default_config, **config},\n",
    "        'feed_dict': {'images': B('images'),\n",
    "                      'masks': B('images')},\n",
    "    }\n",
    "    return pipeline_config"
   ]
  },
  {
   "cell_type": "code",
   "execution_count": null,
   "metadata": {
    "ExecuteTime": {
     "end_time": "2019-12-09T08:06:20.726153Z",
     "start_time": "2019-12-09T08:06:20.673432Z"
    }
   },
   "outputs": [],
   "source": [
    "def get_pipeline(pipeline_config):\n",
    "    \"\"\" Pipeline config must contain 'model', 'model_config', 'feed_dict' keys. \"\"\"\n",
    "    vals = pipeline_config['feed_dict'].values()\n",
    "\n",
    "    pipeline = (Pipeline(config=pipeline_config)\n",
    "                .init_variable('loss_history', [])\n",
    "                .multiply(multiplier=1/255., preserve_type=False)\n",
    "                .to_array(channels='first', dtype='float32')\n",
    "                .init_model('dynamic', C('model'),\n",
    "                            'MODEL', config=C('model_config'))\n",
    "                .train_model('MODEL',\n",
    "#                              *vals,\n",
    "#                              feed_dict=C('feed_dict'),\n",
    "                             **pipeline_config['feed_dict'],\n",
    "                             fetches='loss',\n",
    "                             save_to=V('loss_history', mode='a'))\n",
    "                )\n",
    "    return pipeline"
   ]
  },
  {
   "cell_type": "code",
   "execution_count": null,
   "metadata": {
    "ExecuteTime": {
     "end_time": "2019-12-09T08:06:20.765327Z",
     "start_time": "2019-12-09T08:06:20.728444Z"
    }
   },
   "outputs": [],
   "source": [
    "def run(task, model_class, config, description, batch_size=BATCH_SIZE, n_iters=N_ITERS):\n",
    "    if task.startswith('c'):\n",
    "        pipeline_config = get_classification_config(model_class, config)\n",
    "    elif task.startswith('s'):\n",
    "        pipeline_config = get_segmentation_config(model_class, config)\n",
    "        \n",
    "    train_pipeline = get_pipeline(pipeline_config) << mnist.train\n",
    "    _ = train_pipeline.run(batch_size, n_iters=n_iters, bar=True,\n",
    "                           bar_desc=W(V('loss_history')[-1].format('Loss is {:7.7}')))\n",
    "    \n",
    "    print('{} {} is done'.format(task, description))\n",
    "    return train_pipeline"
   ]
  },
  {
   "cell_type": "code",
   "execution_count": null,
   "metadata": {
    "ExecuteTime": {
     "end_time": "2019-12-09T08:06:20.797400Z",
     "start_time": "2019-12-09T08:06:20.767718Z"
    }
   },
   "outputs": [],
   "source": [
    "def test(pipeline):\n",
    "    test_pipeline = (mnist.test.p\n",
    "                    .import_model('MODEL', pipeline)\n",
    "                    .init_variable('predictions')\n",
    "                    .init_variable('metrics', init_on_each_run=None) \n",
    "                    .to_array(channels='first', dtype='float32')\n",
    "                    .predict_model('MODEL',\n",
    "#                                    B.images,\n",
    "                                   feed_dict={'images': B.images, 'targets': B.labels},\n",
    "                                   fetches='predictions', save_to=V('predictions'))\n",
    "                    .gather_metrics('class', targets=B.labels, predictions=V('predictions'),\n",
    "                                    fmt='logits', axis=-1, save_to=V('metrics', mode='w'))\n",
    "                    .run(64, shuffle=True, n_epochs=1, drop_last=False, bar=False)\n",
    "    )\n",
    "    \n",
    "    metrics = test_pipeline.get_variable('metrics')\n",
    "    print('Accuracy is: {}'.format(metrics.evaluate('accuracy')))"
   ]
  },
  {
   "cell_type": "markdown",
   "metadata": {},
   "source": [
    "# Classification"
   ]
  },
  {
   "cell_type": "code",
   "execution_count": null,
   "metadata": {
    "ExecuteTime": {
     "end_time": "2019-12-09T08:06:24.029407Z",
     "start_time": "2019-12-09T08:06:20.799720Z"
    }
   },
   "outputs": [],
   "source": [
    "config = {\n",
    "    'initial_block': {'layout': 'fa'*2,\n",
    "                      'units': [64, 128],},\n",
    "    'body': {'layout': 'fa'*2,\n",
    "             'units': [256, 512]},\n",
    "    'head': {'layout': 'faf',\n",
    "             'units': [600, 10]},\n",
    "}\n",
    "\n",
    "ppl = run('classification', TorchModel, config, 'simple fc', n_iters=50, batch_size=64)\n",
    "test(ppl)"
   ]
  },
  {
   "cell_type": "code",
   "execution_count": null,
   "metadata": {
    "ExecuteTime": {
     "end_time": "2019-12-09T08:06:24.340884Z",
     "start_time": "2019-12-09T08:06:24.032897Z"
    }
   },
   "outputs": [],
   "source": [
    "config = {\n",
    "    'body/encoder/num_stages': 5,\n",
    "    'head': {'layout': 'f'}\n",
    "}\n",
    "\n",
    "ppl = run('classification', Encoder, config, 'encoder')"
   ]
  },
  {
   "cell_type": "code",
   "execution_count": null,
   "metadata": {
    "ExecuteTime": {
     "end_time": "2019-12-09T08:06:24.637375Z",
     "start_time": "2019-12-09T08:06:24.343612Z"
    }
   },
   "outputs": [],
   "source": [
    "config = {\n",
    "    'initial_block': {'layout': 'fafaf', 'units': [128, 256, 10]},\n",
    "    'order': ['initial_block', ('ib_2', 'initial_block', TorchModel.initial_block)],\n",
    "    'loss': ['ce', 'ce'],\n",
    "    'decay': 'exp',\n",
    "    'n_iters': 25,\n",
    "    'train_steps': {'ts_1': {}, 'ts_2': {}},\n",
    "}\n",
    "\n",
    "\n",
    "ppl = run('classification', TorchModel, config, 'train steps and order')"
   ]
  },
  {
   "cell_type": "code",
   "execution_count": null,
   "metadata": {
    "ExecuteTime": {
     "end_time": "2019-12-09T08:06:24.956940Z",
     "start_time": "2019-12-09T08:06:24.647006Z"
    }
   },
   "outputs": [],
   "source": [
    "config = {\n",
    "    'initial_block/inputs': ['images', 'images'],\n",
    "    'initial_block/module': Combine(op='+'), # note that we can't directly assign this module to `initial_block`\n",
    "    'body/encoder': {'num_stages': 5},\n",
    "    'head': {'layout': 'faf', 'units': [50, 10]}\n",
    "}\n",
    "\n",
    "\n",
    "ppl = run('classification', Encoder, config, 'duo input')"
   ]
  },
  {
   "cell_type": "code",
   "execution_count": null,
   "metadata": {
    "ExecuteTime": {
     "end_time": "2019-12-09T08:06:28.266099Z",
     "start_time": "2019-12-09T08:06:24.964687Z"
    }
   },
   "outputs": [],
   "source": [
    "config = {\n",
    "    'initial_block/filters': 6,\n",
    "    'body/encoder/blocks/n_reps': [1, 1, 2, 1],\n",
    "    'body/encoder/blocks/bottleneck': False,\n",
    "    'body/encoder/blocks/se': False,\n",
    "}\n",
    "\n",
    "\n",
    "ppl = run('classification', ResNet, config, 'resnet with config')"
   ]
  },
  {
   "cell_type": "code",
   "execution_count": null,
   "metadata": {
    "ExecuteTime": {
     "end_time": "2019-12-09T08:06:31.256860Z",
     "start_time": "2019-12-09T08:06:28.268814Z"
    }
   },
   "outputs": [],
   "source": [
    "config = {\n",
    "}\n",
    "\n",
    "ppl = run('classification', VGG7, config, 'vgg7')\n",
    "# ppl = run('classification', ResNet18, config, 'resnet18')\n",
    "# ppl = run('classification', SEResNeXt18, config, 'SE-resneXt18')\n",
    "# ppl = run('classification', DenseNet121, config, 'DenseNet121')"
   ]
  },
  {
   "cell_type": "code",
   "execution_count": null,
   "metadata": {
    "ExecuteTime": {
     "end_time": "2019-12-09T08:06:36.065493Z",
     "start_time": "2019-12-09T08:06:31.274605Z"
    }
   },
   "outputs": [],
   "source": [
    "import torchvision.models as models\n",
    "resnet18 = models.resnet18(pretrained=True)\n",
    "resnet18.fc = torch.nn.Identity()\n",
    "\n",
    "config = {\n",
    "    'initial_block': {'layout': 'cna',\n",
    "                      'filters': 3},\n",
    "    'body': resnet18,\n",
    "    'head': {'layout': 'Dnfaf',\n",
    "             'units': [50, 10],\n",
    "             'dropout_rate': 0.3,\n",
    "             'multisample': 0.3},\n",
    "}\n",
    "\n",
    "ppl = run('classification', TorchModel, config, 'pretrained resnet')"
   ]
  },
  {
   "cell_type": "markdown",
   "metadata": {},
   "source": [
    "# Segmentation"
   ]
  },
  {
   "cell_type": "code",
   "execution_count": null,
   "metadata": {
    "ExecuteTime": {
     "end_time": "2019-12-09T08:06:36.671421Z",
     "start_time": "2019-12-09T08:06:36.077692Z"
    }
   },
   "outputs": [],
   "source": [
    "config = {\n",
    "    'initial_block': {'layout': 'cna', 'filters': 8},\n",
    "    'body/decoder/num_stages': 3,\n",
    "    'body/decoder/factor': [1, 1, 1],\n",
    "}\n",
    "\n",
    "ppl = run('segmentation', Decoder, config, 'decoder')"
   ]
  },
  {
   "cell_type": "code",
   "execution_count": null,
   "metadata": {
    "ExecuteTime": {
     "end_time": "2019-12-09T08:06:37.362443Z",
     "start_time": "2019-12-09T08:06:36.674157Z"
    }
   },
   "outputs": [],
   "source": [
    "config = {\n",
    "    'body/encoder/num_stages': 2,\n",
    "    'body/embedding': {'base': ASPP, 'pyramid': (2, 4, 8)},\n",
    "}\n",
    "\n",
    "ppl = run('segmentation', EncoderDecoder, config, 'unet-like with ASPP')"
   ]
  },
  {
   "cell_type": "code",
   "execution_count": null,
   "metadata": {
    "ExecuteTime": {
     "end_time": "2019-12-09T08:06:38.213787Z",
     "start_time": "2019-12-09T08:06:37.367721Z"
    }
   },
   "outputs": [],
   "source": [
    "config = {\n",
    "    'step_on_each': 1,\n",
    "    'initial_block': {\n",
    "        'layout': 'cnaRp cnaRp tna+ tna+ BScna*+ cnac',\n",
    "        'filters': [16, 32, 32, 16, 'same', 8, 1],\n",
    "        'transposed_conv': {'kernel_size': 2, 'strides': 2},\n",
    "        'side_branch': {'layout': 'ca', 'filters': 'same'}\n",
    "    },\n",
    "}\n",
    "\n",
    "ppl = run('segmentation', TorchModel, config, 'hardcoded unet')"
   ]
  },
  {
   "cell_type": "code",
   "execution_count": null,
   "metadata": {
    "ExecuteTime": {
     "end_time": "2019-12-09T08:06:39.146219Z",
     "start_time": "2019-12-09T08:06:38.216194Z"
    },
    "scrolled": true
   },
   "outputs": [],
   "source": [
    "config = {\n",
    "    'initial_block/filters': 128,\n",
    "    'body/encoder/num_stages': 3,\n",
    "    'body/encoder/blocks/filters': 'same*2',\n",
    "    'body/embedding/filters': 'same',\n",
    "    'body/decoder/blocks/filters': 'same//2',\n",
    "}\n",
    "\n",
    "ppl = run('segmentation', UNet, config, 'unet')\n",
    "# ppl = run('segmentation', ResUNet, config, 'unet with residual blocks')"
   ]
  },
  {
   "cell_type": "code",
   "execution_count": null,
   "metadata": {
    "ExecuteTime": {
     "end_time": "2019-12-09T08:06:42.531990Z",
     "start_time": "2019-12-09T08:06:39.149424Z"
    }
   },
   "outputs": [],
   "source": [
    "config = {\n",
    "    'initial_block/filters': 16,\n",
    "    'body/encoder/num_stages': 2,\n",
    "    'body/embedding/filters': 6,\n",
    "    'body/decoder/blocks/filters': 6,\n",
    "}\n",
    "\n",
    "ppl = run('segmentation', DenseUNet, config, 'unet with dense blocks')"
   ]
  },
  {
   "cell_type": "code",
   "execution_count": null,
   "metadata": {
    "scrolled": false
   },
   "outputs": [],
   "source": [
    "config = {\n",
    "    'auto_build/num_stages' : 5,\n",
    "    'auto_build/filters' : 8,\n",
    "}\n",
    "\n",
    "ppl = run('segmentation', VNet, config, 'vnet with custom depth and filters')"
   ]
  },
  {
   "cell_type": "code",
   "execution_count": null,
   "metadata": {
    "ExecuteTime": {
     "end_time": "2019-12-09T08:06:42.606165Z",
     "start_time": "2019-12-09T08:06:42.539623Z"
    }
   },
   "outputs": [],
   "source": [
    "ppl.m('MODEL').info"
   ]
  },
  {
   "cell_type": "code",
   "execution_count": null,
   "metadata": {
    "ExecuteTime": {
     "end_time": "2019-12-09T08:06:42.697579Z",
     "start_time": "2019-12-09T08:06:42.612648Z"
    }
   },
   "outputs": [],
   "source": [
    "ppl.m('MODEL').model"
   ]
  }
 ],
 "metadata": {
  "kernelspec": {
   "display_name": "batchflow",
   "language": "python",
   "name": "batchflow"
  },
  "language_info": {
   "codemirror_mode": {
    "name": "ipython",
    "version": 3
   },
   "file_extension": ".py",
   "mimetype": "text/x-python",
   "name": "python",
   "nbconvert_exporter": "python",
   "pygments_lexer": "ipython3",
   "version": "3.6.8"
  },
  "varInspector": {
   "cols": {
    "lenName": 16,
    "lenType": 16,
    "lenVar": 40
   },
   "kernels_config": {
    "python": {
     "delete_cmd_postfix": "",
     "delete_cmd_prefix": "del ",
     "library": "var_list.py",
     "varRefreshCmd": "print(var_dic_list())"
    },
    "r": {
     "delete_cmd_postfix": ") ",
     "delete_cmd_prefix": "rm(",
     "library": "var_list.r",
     "varRefreshCmd": "cat(var_dic_list()) "
    }
   },
   "types_to_exclude": [
    "module",
    "function",
    "builtin_function_or_method",
    "instance",
    "_Feature"
   ],
   "window_display": false
  }
 },
 "nbformat": 4,
 "nbformat_minor": 2
}
