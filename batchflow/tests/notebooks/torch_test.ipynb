{
 "cells": [
  {
   "cell_type": "code",
   "execution_count": 1,
   "metadata": {
    "ExecuteTime": {
     "end_time": "2019-12-15T00:35:24.698489Z",
     "start_time": "2019-12-15T00:35:21.282109Z"
    }
   },
   "outputs": [],
   "source": [
    "%load_ext autoreload\n",
    "%autoreload 2\n",
    "import os\n",
    "import sys\n",
    "import warnings\n",
    "\n",
    "import numpy as np\n",
    "import matplotlib.pyplot as plt\n",
    "import torch\n",
    "import torch.nn as nn\n",
    "\n",
    "\n",
    "sys.path.append(\"../../..\")\n",
    "from batchflow import *\n",
    "from batchflow.opensets import MNIST\n",
    "from batchflow.models.torch import *\n",
    "from batchflow.models.torch.layers import *"
   ]
  },
  {
   "cell_type": "markdown",
   "metadata": {},
   "source": [
    "# Setup"
   ]
  },
  {
   "cell_type": "code",
   "execution_count": 2,
   "metadata": {
    "ExecuteTime": {
     "end_time": "2019-12-15T00:35:26.754825Z",
     "start_time": "2019-12-15T00:35:24.701534Z"
    }
   },
   "outputs": [
    {
     "name": "stdout",
     "output_type": "stream",
     "text": [
      "\n",
      "Microbatching is: None\n",
      "\n",
      "Device is: None\n"
     ]
    }
   ],
   "source": [
    "mnist = MNIST(batch_class=ImagesBatch)\n",
    "\n",
    "if __name__ == '__main__':\n",
    "    MICROBATCH = None\n",
    "    DEVICE = None\n",
    "\n",
    "print('\\nMicrobatching is: {}'.format(MICROBATCH))\n",
    "print('\\nDevice is: {}'.format(DEVICE))    "
   ]
  },
  {
   "cell_type": "code",
   "execution_count": 3,
   "metadata": {
    "ExecuteTime": {
     "end_time": "2019-12-15T00:35:26.846666Z",
     "start_time": "2019-12-15T00:35:26.758057Z"
    }
   },
   "outputs": [],
   "source": [
    "IMAGE_SHAPE = (1, 28, 28)\n",
    "N_ITERS = 10\n",
    "BATCH_SIZE = 16\n",
    "\n",
    "def get_classification_config(model_class, config):\n",
    "    default_config = {\n",
    "        'inputs/images/shape': IMAGE_SHAPE, # can be commented\n",
    "        'inputs/labels/classes': 10,\n",
    "        'initial_block/inputs': 'images',   # can be commented\n",
    "        'loss': 'ce',\n",
    "        'microbatch': MICROBATCH,\n",
    "        'device': DEVICE,\n",
    "    }\n",
    "\n",
    "    pipeline_config = {\n",
    "        'model': model_class,\n",
    "        'model_config': {**default_config, **config},\n",
    "        'feed_dict': {'images': B('images'),\n",
    "                      'labels': B('labels')},\n",
    "    }\n",
    "    return pipeline_config\n",
    "\n",
    "def get_segmentation_config(model_class, config):\n",
    "    default_config = {\n",
    "        'inputs/images/shape': IMAGE_SHAPE, # can be commented\n",
    "        'inputs/masks/shape': IMAGE_SHAPE,  # can be commented\n",
    "        'initial_block/inputs': 'images',   # can be commented\n",
    "        'loss': 'mse',\n",
    "        'microbatch': MICROBATCH,\n",
    "        'device': DEVICE,\n",
    "    }\n",
    "    \n",
    "    pipeline_config = {\n",
    "        'model': model_class,\n",
    "        'model_config': {**default_config, **config},\n",
    "        'feed_dict': {'images': B('images'),\n",
    "                      'masks': B('images')},\n",
    "    }\n",
    "    return pipeline_config"
   ]
  },
  {
   "cell_type": "code",
   "execution_count": 4,
   "metadata": {
    "ExecuteTime": {
     "end_time": "2019-12-15T00:35:26.920651Z",
     "start_time": "2019-12-15T00:35:26.852107Z"
    }
   },
   "outputs": [],
   "source": [
    "def get_pipeline(pipeline_config):\n",
    "    \"\"\" Pipeline config must contain 'model', 'model_config', 'feed_dict' keys. \"\"\"\n",
    "    vals = pipeline_config['feed_dict'].values()\n",
    "\n",
    "    pipeline = (Pipeline(config=pipeline_config)\n",
    "                .init_variable('loss_history', [])\n",
    "                .multiply(multiplier=1/255., preserve_type=False)\n",
    "                .to_array(channels='first', dtype='float32')\n",
    "                .init_model('dynamic', C('model'),\n",
    "                            'MODEL', config=C('model_config'))\n",
    "                .train_model('MODEL',\n",
    "#                              *vals,\n",
    "#                              feed_dict=C('feed_dict'),\n",
    "                             **pipeline_config['feed_dict'],\n",
    "                             fetches='loss',\n",
    "                             save_to=V('loss_history', mode='a'))\n",
    "                )\n",
    "    return pipeline"
   ]
  },
  {
   "cell_type": "code",
   "execution_count": 5,
   "metadata": {
    "ExecuteTime": {
     "end_time": "2019-12-15T00:35:26.991018Z",
     "start_time": "2019-12-15T00:35:26.922428Z"
    }
   },
   "outputs": [],
   "source": [
    "def run(task, model_class, config, description, batch_size=BATCH_SIZE, n_iters=N_ITERS):\n",
    "    if task.startswith('c'):\n",
    "        pipeline_config = get_classification_config(model_class, config)\n",
    "    elif task.startswith('s'):\n",
    "        pipeline_config = get_segmentation_config(model_class, config)\n",
    "        \n",
    "    train_pipeline = get_pipeline(pipeline_config) << mnist.train\n",
    "    _ = train_pipeline.run(batch_size, n_iters=n_iters, bar=True,\n",
    "                           bar_desc=W(V('loss_history')[-1].format('Loss is {:7.7}')))\n",
    "    \n",
    "    print('{} {} is done'.format(task, description))\n",
    "    return train_pipeline"
   ]
  },
  {
   "cell_type": "code",
   "execution_count": 6,
   "metadata": {
    "ExecuteTime": {
     "end_time": "2019-12-15T00:35:27.060667Z",
     "start_time": "2019-12-15T00:35:26.993437Z"
    }
   },
   "outputs": [],
   "source": [
    "def test(pipeline):\n",
    "    test_pipeline = (mnist.test.p\n",
    "                    .import_model('MODEL', pipeline)\n",
    "                    .init_variable('predictions')\n",
    "                    .init_variable('metrics', init_on_each_run=None) \n",
    "                    .to_array(channels='first', dtype='float32')\n",
    "                    .predict_model('MODEL',\n",
    "#                                    B.images,\n",
    "                                   feed_dict={'images': B.images, 'targets': B.labels},\n",
    "                                   fetches='predictions', save_to=V('predictions'))\n",
    "                    .gather_metrics('class', targets=B.labels, predictions=V('predictions'),\n",
    "                                    fmt='logits', axis=-1, save_to=V('metrics', mode='w'))\n",
    "                    .run(64, shuffle=True, n_epochs=1, drop_last=False, bar=False)\n",
    "    )\n",
    "    \n",
    "    metrics = test_pipeline.get_variable('metrics')\n",
    "    print('Accuracy is: {}'.format(metrics.evaluate('accuracy')))"
   ]
  },
  {
   "cell_type": "markdown",
   "metadata": {},
   "source": [
    "# Classification"
   ]
  },
  {
   "cell_type": "code",
   "execution_count": 7,
   "metadata": {
    "ExecuteTime": {
     "end_time": "2019-12-15T00:35:33.434748Z",
     "start_time": "2019-12-15T00:35:27.068431Z"
    }
   },
   "outputs": [
    {
     "name": "stderr",
     "output_type": "stream",
     "text": [
      "Loss is 2.312046: 100%|██████████| 50/50 [00:03<00:00, 13.30it/s]\n",
      "WARNING:root:`init_on_each_run` in `metrics` is obsolete. Use `default` instead.\n"
     ]
    },
    {
     "name": "stdout",
     "output_type": "stream",
     "text": [
      "classification simple fc is done\n",
      "Accuracy is: 0.1875\n"
     ]
    }
   ],
   "source": [
    "config = {\n",
    "    'initial_block': {'layout': 'fa'*2,\n",
    "                      'units': [64, 128],},\n",
    "    'body': {'layout': 'fa'*2,\n",
    "             'units': [256, 512]},\n",
    "    'head': {'layout': 'faf',\n",
    "             'units': [600, 10]},\n",
    "}\n",
    "\n",
    "ppl = run('classification', TorchModel, config, 'simple fc', n_iters=50, batch_size=64)\n",
    "test(ppl)"
   ]
  },
  {
   "cell_type": "code",
   "execution_count": 8,
   "metadata": {
    "ExecuteTime": {
     "end_time": "2019-12-15T00:35:34.184717Z",
     "start_time": "2019-12-15T00:35:33.438590Z"
    }
   },
   "outputs": [
    {
     "name": "stderr",
     "output_type": "stream",
     "text": [
      "Loss is 2.568651: 100%|██████████| 10/10 [00:00<00:00, 14.95it/s]"
     ]
    },
    {
     "name": "stdout",
     "output_type": "stream",
     "text": [
      "classification encoder is done\n"
     ]
    },
    {
     "name": "stderr",
     "output_type": "stream",
     "text": [
      "\n"
     ]
    }
   ],
   "source": [
    "config = {\n",
    "    'body/encoder/num_stages': 5,\n",
    "    'head': {'layout': 'f'}\n",
    "}\n",
    "\n",
    "ppl = run('classification', Encoder, config, 'encoder')"
   ]
  },
  {
   "cell_type": "code",
   "execution_count": 9,
   "metadata": {
    "ExecuteTime": {
     "end_time": "2019-12-15T00:35:34.986133Z",
     "start_time": "2019-12-15T00:35:34.195290Z"
    }
   },
   "outputs": [
    {
     "name": "stderr",
     "output_type": "stream",
     "text": [
      "Loss is 4.621878: 100%|██████████| 10/10 [00:00<00:00, 14.85it/s]"
     ]
    },
    {
     "name": "stdout",
     "output_type": "stream",
     "text": [
      "classification train steps and order is done\n"
     ]
    },
    {
     "name": "stderr",
     "output_type": "stream",
     "text": [
      "\n"
     ]
    }
   ],
   "source": [
    "config = {\n",
    "    'initial_block': {'layout': 'fafaf', 'units': [128, 256, 10]},\n",
    "    'order': ['initial_block', ('ib_2', 'initial_block', TorchModel.initial_block)],\n",
    "    'loss': ['ce', 'ce'],\n",
    "    'decay': 'exp',\n",
    "    'n_iters': 25,\n",
    "    'train_steps': {'ts_1': {}, 'ts_2': {}},\n",
    "}\n",
    "\n",
    "ppl = run('classification', TorchModel, config, 'train steps and order')"
   ]
  },
  {
   "cell_type": "code",
   "execution_count": 10,
   "metadata": {
    "ExecuteTime": {
     "end_time": "2019-12-15T00:35:35.608667Z",
     "start_time": "2019-12-15T00:35:34.991212Z"
    }
   },
   "outputs": [
    {
     "name": "stderr",
     "output_type": "stream",
     "text": [
      "Loss is 2.304632: 100%|██████████| 10/10 [00:00<00:00, 14.62it/s]"
     ]
    },
    {
     "name": "stdout",
     "output_type": "stream",
     "text": [
      "classification duo input is done\n"
     ]
    },
    {
     "name": "stderr",
     "output_type": "stream",
     "text": [
      "\n"
     ]
    }
   ],
   "source": [
    "config = {\n",
    "    'initial_block/inputs': ['images', 'images'],\n",
    "    # note that we can't directly assign this module to `initial_block`\n",
    "    'initial_block/module': Combine(op='+'),\n",
    "    'body/encoder': {'num_stages': 5},\n",
    "    'head': {'layout': 'faf', 'units': [50, 10]}\n",
    "}\n",
    "\n",
    "ppl = run('classification', Encoder, config, 'duo input')"
   ]
  },
  {
   "cell_type": "code",
   "execution_count": 11,
   "metadata": {
    "ExecuteTime": {
     "end_time": "2019-12-15T00:35:41.815732Z",
     "start_time": "2019-12-15T00:35:35.616728Z"
    }
   },
   "outputs": [
    {
     "name": "stderr",
     "output_type": "stream",
     "text": [
      "Loss is 4.394666: 100%|██████████| 10/10 [00:06<00:00,  1.75it/s]"
     ]
    },
    {
     "name": "stdout",
     "output_type": "stream",
     "text": [
      "classification resnet with config is done\n"
     ]
    },
    {
     "name": "stderr",
     "output_type": "stream",
     "text": [
      "\n"
     ]
    }
   ],
   "source": [
    "config = {\n",
    "    'initial_block/filters': 6,\n",
    "    'body/encoder/blocks/n_reps': [1, 1, 2, 1],\n",
    "    'body/encoder/blocks/bottleneck': False,\n",
    "    'body/encoder/blocks/se': False,\n",
    "}\n",
    "\n",
    "ppl = run('classification', ResNet, config, 'resnet with config')"
   ]
  },
  {
   "cell_type": "code",
   "execution_count": 12,
   "metadata": {
    "ExecuteTime": {
     "end_time": "2019-12-15T00:35:52.947652Z",
     "start_time": "2019-12-15T00:35:41.838008Z"
    }
   },
   "outputs": [
    {
     "name": "stderr",
     "output_type": "stream",
     "text": [
      "Loss is 2.774392: 100%|██████████| 10/10 [00:11<00:00,  1.07s/it]"
     ]
    },
    {
     "name": "stdout",
     "output_type": "stream",
     "text": [
      "classification resnet18 is done\n"
     ]
    },
    {
     "name": "stderr",
     "output_type": "stream",
     "text": [
      "\n"
     ]
    }
   ],
   "source": [
    "config = {\n",
    "}\n",
    "\n",
    "# ppl = run('classification', VGG7, config, 'vgg7')\n",
    "ppl = run('classification', ResNet18, config, 'resnet18')\n",
    "# ppl = run('classification', SEResNeXt18, config, 'SE-resneXt18')\n",
    "# ppl = run('classification', DenseNet121, config, 'DenseNet121')"
   ]
  },
  {
   "cell_type": "code",
   "execution_count": 13,
   "metadata": {
    "ExecuteTime": {
     "end_time": "2019-12-15T00:36:03.895081Z",
     "start_time": "2019-12-15T00:35:52.974482Z"
    }
   },
   "outputs": [
    {
     "name": "stderr",
     "output_type": "stream",
     "text": [
      "Loss is 3.577238: 100%|██████████| 10/10 [00:10<00:00,  1.10s/it]"
     ]
    },
    {
     "name": "stdout",
     "output_type": "stream",
     "text": [
      "classification reused encoder is done\n"
     ]
    },
    {
     "name": "stderr",
     "output_type": "stream",
     "text": [
      "\n"
     ]
    }
   ],
   "source": [
    "# reusing encoder from model from the previous cell\n",
    "encoder = ppl.m('MODEL').get('encoder', from_start=True, wrap=True)\n",
    "config = {\n",
    "    'initial_block': encoder,\n",
    "    'head' : {'layout': 'Vf'},\n",
    "}\n",
    "\n",
    "ppl = run('classification', TorchModel, config, 'reused encoder')"
   ]
  },
  {
   "cell_type": "code",
   "execution_count": 14,
   "metadata": {
    "ExecuteTime": {
     "end_time": "2019-12-15T00:36:12.204318Z",
     "start_time": "2019-12-15T00:36:03.900149Z"
    }
   },
   "outputs": [
    {
     "name": "stderr",
     "output_type": "stream",
     "text": [
      "Loss is 2.303532: 100%|██████████| 10/10 [00:07<00:00,  1.28it/s]"
     ]
    },
    {
     "name": "stdout",
     "output_type": "stream",
     "text": [
      "classification pretrained resnet is done\n"
     ]
    },
    {
     "name": "stderr",
     "output_type": "stream",
     "text": [
      "\n"
     ]
    }
   ],
   "source": [
    "import torchvision.models as models\n",
    "resnet18 = models.resnet18(pretrained=True)\n",
    "resnet18.fc = torch.nn.Identity()\n",
    "\n",
    "config = {\n",
    "    'initial_block': {'layout': 'cna',\n",
    "                      'filters': 3},\n",
    "    'body': resnet18,\n",
    "    'head': {'layout': 'Dnfaf',\n",
    "             'units': [50, 10],\n",
    "             'dropout_rate': 0.3,\n",
    "             'multisample': 0.3},\n",
    "}\n",
    "\n",
    "ppl = run('classification', TorchModel, config, 'pretrained resnet')"
   ]
  },
  {
   "cell_type": "markdown",
   "metadata": {},
   "source": [
    "# Segmentation"
   ]
  },
  {
   "cell_type": "code",
   "execution_count": 15,
   "metadata": {
    "ExecuteTime": {
     "end_time": "2019-12-15T00:36:13.509223Z",
     "start_time": "2019-12-15T00:36:12.217249Z"
    }
   },
   "outputs": [
    {
     "name": "stderr",
     "output_type": "stream",
     "text": [
      "Loss is 0.05024578: 100%|██████████| 10/10 [00:01<00:00,  8.52it/s]"
     ]
    },
    {
     "name": "stdout",
     "output_type": "stream",
     "text": [
      "segmentation decoder is done\n"
     ]
    },
    {
     "name": "stderr",
     "output_type": "stream",
     "text": [
      "\n"
     ]
    }
   ],
   "source": [
    "config = {\n",
    "    'initial_block': {'layout': 'cna', 'filters': 8},\n",
    "    'body/decoder/num_stages': 3,\n",
    "    'body/decoder/factor': [1, 1, 1],\n",
    "}\n",
    "\n",
    "ppl = run('segmentation', Decoder, config, 'decoder')"
   ]
  },
  {
   "cell_type": "code",
   "execution_count": 16,
   "metadata": {
    "ExecuteTime": {
     "end_time": "2019-12-15T00:36:15.369499Z",
     "start_time": "2019-12-15T00:36:13.514842Z"
    }
   },
   "outputs": [
    {
     "name": "stderr",
     "output_type": "stream",
     "text": [
      "Loss is 0.01167104: 100%|██████████| 10/10 [00:01<00:00,  6.24it/s]"
     ]
    },
    {
     "name": "stdout",
     "output_type": "stream",
     "text": [
      "segmentation hardcoded unet is done\n"
     ]
    },
    {
     "name": "stderr",
     "output_type": "stream",
     "text": [
      "\n"
     ]
    }
   ],
   "source": [
    "config = {\n",
    "    'step_on_each': 1,\n",
    "    'initial_block': {\n",
    "        'layout': 'cnaRp cnaRp tna+ tna+ BScna*+ cnac',\n",
    "        'filters': [16, 32, 32, 16, 'same', 8, 1],\n",
    "        'transposed_conv': {'kernel_size': 2, 'strides': 2},\n",
    "        'branch': {'layout': 'ca', 'filters': 'same'}\n",
    "    },\n",
    "}\n",
    "\n",
    "ppl = run('segmentation', TorchModel, config, 'hardcoded unet')"
   ]
  },
  {
   "cell_type": "code",
   "execution_count": 17,
   "metadata": {
    "ExecuteTime": {
     "end_time": "2019-12-15T00:36:16.660519Z",
     "start_time": "2019-12-15T00:36:15.373504Z"
    }
   },
   "outputs": [
    {
     "name": "stderr",
     "output_type": "stream",
     "text": [
      "Loss is 0.1696641: 100%|██████████| 10/10 [00:01<00:00,  8.16it/s]"
     ]
    },
    {
     "name": "stdout",
     "output_type": "stream",
     "text": [
      "segmentation unet-like with ASPP is done\n"
     ]
    },
    {
     "name": "stderr",
     "output_type": "stream",
     "text": [
      "\n"
     ]
    }
   ],
   "source": [
    "config = {\n",
    "    'body/encoder/num_stages': 2,\n",
    "    'body/embedding': {'base': ASPP, 'pyramid': (2, 4, 8)},\n",
    "}\n",
    "\n",
    "ppl = run('segmentation', EncoderDecoder, config, 'unet-like with ASPP')"
   ]
  },
  {
   "cell_type": "code",
   "execution_count": 18,
   "metadata": {
    "ExecuteTime": {
     "end_time": "2019-12-15T00:36:19.053945Z",
     "start_time": "2019-12-15T00:36:16.666859Z"
    },
    "scrolled": true
   },
   "outputs": [
    {
     "name": "stderr",
     "output_type": "stream",
     "text": [
      "Loss is 0.09976862: 100%|██████████| 10/10 [00:02<00:00,  4.78it/s]"
     ]
    },
    {
     "name": "stdout",
     "output_type": "stream",
     "text": [
      "segmentation unet is done\n"
     ]
    },
    {
     "name": "stderr",
     "output_type": "stream",
     "text": [
      "\n"
     ]
    }
   ],
   "source": [
    "config = {\n",
    "    'initial_block/filters': 128,\n",
    "    'body/encoder/num_stages': 3,\n",
    "    'body/encoder/blocks/filters': 'same*2',\n",
    "    'body/embedding/filters': 'same',\n",
    "    'body/decoder/blocks/filters': 'same//2',\n",
    "}\n",
    "\n",
    "ppl = run('segmentation', UNet, config, 'unet')\n",
    "# ppl = run('segmentation', ResUNet, config, 'unet with residual blocks')"
   ]
  },
  {
   "cell_type": "code",
   "execution_count": 20,
   "metadata": {
    "ExecuteTime": {
     "end_time": "2019-12-15T00:36:24.375511Z",
     "start_time": "2019-12-15T00:36:19.225364Z"
    }
   },
   "outputs": [
    {
     "name": "stderr",
     "output_type": "stream",
     "text": [
      "Loss is 0.04701341: 100%|██████████| 10/10 [00:05<00:00,  2.06it/s]"
     ]
    },
    {
     "name": "stdout",
     "output_type": "stream",
     "text": [
      "segmentation unet with dense blocks is done\n"
     ]
    },
    {
     "name": "stderr",
     "output_type": "stream",
     "text": [
      "\n"
     ]
    }
   ],
   "source": [
    "config = {\n",
    "    'initial_block/filters': 16,\n",
    "    'body/encoder/num_stages': 2,\n",
    "    'body/embedding/filters': 6,\n",
    "    'body/decoder/blocks/filters': 6,\n",
    "}\n",
    "\n",
    "ppl = run('segmentation', DenseUNet, config, 'unet with dense blocks')"
   ]
  },
  {
   "cell_type": "code",
   "execution_count": 21,
   "metadata": {
    "ExecuteTime": {
     "end_time": "2019-12-15T00:36:26.808947Z",
     "start_time": "2019-12-15T00:36:24.383464Z"
    }
   },
   "outputs": [
    {
     "name": "stderr",
     "output_type": "stream",
     "text": [
      "Loss is 0.1330853: 100%|██████████| 10/10 [00:02<00:00,  4.72it/s]"
     ]
    },
    {
     "name": "stdout",
     "output_type": "stream",
     "text": [
      "segmentation encoder-decoder with resnet18 backbone is done\n"
     ]
    },
    {
     "name": "stderr",
     "output_type": "stream",
     "text": [
      "\n"
     ]
    }
   ],
   "source": [
    "config = {\n",
    "    'body/encoder/base_model': ResNet18,\n",
    "    'body/encoder/base_model_kwargs/blocks/filters': 7, \n",
    "    'body/decoder/blocks/filters': 'same//4'\n",
    "}\n",
    "\n",
    "ppl = run('segmentation', EncoderDecoder, config, 'encoder-decoder with resnet18 backbone')"
   ]
  },
  {
   "cell_type": "code",
   "execution_count": 22,
   "metadata": {
    "ExecuteTime": {
     "end_time": "2019-12-15T00:36:26.953368Z",
     "start_time": "2019-12-15T00:36:26.824978Z"
    }
   },
   "outputs": [
    {
     "name": "stdout",
     "output_type": "stream",
     "text": [
      "\n",
      "##### Config:\n",
      "{'benchmark': True,\n",
      " 'body': {'decoder': {'blocks': {'base': <class 'batchflow.models.torch.blocks.DefaultBlock'>,\n",
      "                                 'filters': 'same//4'},\n",
      "                      'combine': {'op': 'concat'},\n",
      "                      'factor': None,\n",
      "                      'num_stages': None,\n",
      "                      'order': ['upsampling', 'block', 'combine'],\n",
      "                      'skip': True,\n",
      "                      'upsample': {'layout': 'tna'}},\n",
      "          'embedding': {'base': <class 'batchflow.models.torch.blocks.DefaultBlock'>},\n",
      "          'encoder': {'base_model': <class 'batchflow.models.torch.resnet.ResNet18'>,\n",
      "                      'base_model_kwargs': {'blocks': {'filters': 7}},\n",
      "                      'blocks': {'base': <class 'batchflow.models.torch.blocks.DefaultBlock'>},\n",
      "                      'downsample': {'layout': 'p',\n",
      "                                     'pool_size': 2,\n",
      "                                     'pool_strides': 2},\n",
      "                      'num_stages': None,\n",
      "                      'order': ['skip', 'block', 'downsampling']}},\n",
      " 'common': {'data_format': 'channels_first'},\n",
      " 'decay': None,\n",
      " 'device': None,\n",
      " 'head': {'classes': 1,\n",
      "          'filters': 1,\n",
      "          'target_shape': (2, 1, 28, 28),\n",
      "          'units': 1},\n",
      " 'initial_block': {},\n",
      " 'inputs': {'images': {'shape': (1, 28, 28)},\n",
      "            'masks': {'shape': (1, 28, 28)},\n",
      "            'targets': {'shape': (1, 28, 28)}},\n",
      " 'loss': 'mse',\n",
      " 'microbatch': None,\n",
      " 'optimizer': 'Adam',\n",
      " 'order': ['initial_block', 'body', 'head'],\n",
      " 'output': None,\n",
      " 'placeholder_batch_size': 2,\n",
      " 'predictions': None,\n",
      " 'sync_frequency': 1,\n",
      " 'train_steps': {'': {'decay': None,\n",
      "                      'loss': 'mse',\n",
      "                      'n_iters': None,\n",
      "                      'optimizer': 'Adam'}}}\n",
      "\n",
      "##### Devices:\n",
      "Leading device is cpu\n",
      "\n",
      "##### Train steps:\n",
      "{'': {'decay': None,\n",
      "      'initialized': True,\n",
      "      'iter': 10,\n",
      "      'loss': [MSELoss()],\n",
      "      'n_iters': None,\n",
      "      'optimizer': Adam (\n",
      "Parameter Group 0\n",
      "    amsgrad: False\n",
      "    betas: (0.9, 0.999)\n",
      "    eps: 1e-08\n",
      "    lr: 0.001\n",
      "    weight_decay: 0\n",
      ")}}\n",
      "\n",
      "##### Additional info:\n",
      "Input 0 has shape (2, 1, 28, 28)\n",
      "Target has shape (2, 1, 28, 28)\n",
      "Total number of training iterations: 10\n",
      "\n",
      "##### Last iteration params:\n",
      "{'microbatch': None, 'steps': 1, 'train_mode': ['']}\n"
     ]
    }
   ],
   "source": [
    "ppl.m('MODEL').info"
   ]
  },
  {
   "cell_type": "code",
   "execution_count": null,
   "metadata": {
    "ExecuteTime": {
     "start_time": "2019-12-15T00:36:40.271Z"
    }
   },
   "outputs": [],
   "source": [
    "ppl.m('MODEL').model"
   ]
  },
  {
   "cell_type": "code",
   "execution_count": null,
   "metadata": {},
   "outputs": [],
   "source": []
  }
 ],
 "metadata": {
  "kernelspec": {
   "display_name": "Python 3",
   "language": "python",
   "name": "python3"
  },
  "language_info": {
   "codemirror_mode": {
    "name": "ipython",
    "version": 3
   },
   "file_extension": ".py",
   "mimetype": "text/x-python",
   "name": "python",
   "nbconvert_exporter": "python",
   "pygments_lexer": "ipython3",
   "version": "3.7.3"
  },
  "varInspector": {
   "cols": {
    "lenName": 16,
    "lenType": 16,
    "lenVar": 40
   },
   "kernels_config": {
    "python": {
     "delete_cmd_postfix": "",
     "delete_cmd_prefix": "del ",
     "library": "var_list.py",
     "varRefreshCmd": "print(var_dic_list())"
    },
    "r": {
     "delete_cmd_postfix": ") ",
     "delete_cmd_prefix": "rm(",
     "library": "var_list.r",
     "varRefreshCmd": "cat(var_dic_list()) "
    }
   },
   "types_to_exclude": [
    "module",
    "function",
    "builtin_function_or_method",
    "instance",
    "_Feature"
   ],
   "window_display": false
  }
 },
 "nbformat": 4,
 "nbformat_minor": 2
}
