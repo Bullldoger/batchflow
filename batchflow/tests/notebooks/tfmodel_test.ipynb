{
 "cells": [
  {
   "cell_type": "code",
   "execution_count": 1,
   "metadata": {
    "ExecuteTime": {
     "end_time": "2019-08-26T09:33:25.227965Z",
     "start_time": "2019-08-26T09:33:15.747618Z"
    }
   },
   "outputs": [],
   "source": [
    "%load_ext autoreload\n",
    "%autoreload 2\n",
    "import os\n",
    "import sys\n",
    "import warnings\n",
    "\n",
    "import numpy as np\n",
    "import matplotlib.pyplot as plt\n",
    "import tensorflow as tf\n",
    "\n",
    "sys.path.append(\"../../..\")\n",
    "from batchflow import *\n",
    "from batchflow.opensets import MNIST\n",
    "from batchflow.models.tf import *\n",
    "\n",
    "tf.logging.set_verbosity(tf.logging.ERROR)\n",
    "warnings.filterwarnings(\"ignore\")\n",
    "os.environ['TF_CPP_MIN_LOG_LEVEL'] = '3'"
   ]
  },
  {
   "cell_type": "code",
   "execution_count": 2,
   "metadata": {
    "ExecuteTime": {
     "end_time": "2019-08-26T09:33:25.278288Z",
     "start_time": "2019-08-26T09:33:25.230256Z"
    }
   },
   "outputs": [],
   "source": [
    "from batchflow.models.tf.layers.conv_block import ConvBlock"
   ]
  },
  {
   "cell_type": "code",
   "execution_count": 3,
   "metadata": {
    "ExecuteTime": {
     "end_time": "2019-08-26T09:33:25.347397Z",
     "start_time": "2019-08-26T09:33:25.281819Z"
    }
   },
   "outputs": [
    {
     "data": {
      "text/plain": [
       "{'a': 'a',\n",
       " 'R': 'R',\n",
       " '+': '+',\n",
       " '.': '.',\n",
       " '*': '*',\n",
       " 'f': 'f',\n",
       " 'c': 'c',\n",
       " 't': 't',\n",
       " 'C': 'C',\n",
       " 'T': 'T',\n",
       " 'w': 'w',\n",
       " 'W': 'W',\n",
       " 'p': 'p',\n",
       " 'v': 'v',\n",
       " 'P': 'P',\n",
       " 'V': 'V',\n",
       " 'n': 'n',\n",
       " 'd': 'd',\n",
       " 'D': 'D',\n",
       " 'O': 'O',\n",
       " 'm': 'm',\n",
       " 'A': 'A',\n",
       " 'b': 'b',\n",
       " 'B': 'B',\n",
       " 'N': 'N',\n",
       " 'X': 'X'}"
      ]
     },
     "execution_count": 3,
     "metadata": {},
     "output_type": "execute_result"
    }
   ],
   "source": [
    "dict(zip(ConvBlock.C_LAYERS.keys(), ConvBlock.C_LAYERS.keys()))"
   ]
  },
  {
   "cell_type": "markdown",
   "metadata": {},
   "source": [
    "# Setup"
   ]
  },
  {
   "cell_type": "code",
   "execution_count": 4,
   "metadata": {
    "ExecuteTime": {
     "end_time": "2019-08-26T09:33:27.492386Z",
     "start_time": "2019-08-26T09:33:25.354064Z"
    }
   },
   "outputs": [
    {
     "name": "stdout",
     "output_type": "stream",
     "text": [
      "\n",
      "Microbatching is: None\n",
      "\n",
      "Device is: None\n"
     ]
    }
   ],
   "source": [
    "mnist = MNIST(batch_class=ImagesBatch)\n",
    "\n",
    "if __name__ == '__main__':\n",
    "    MICROBATCH = None\n",
    "    DEVICE = None\n",
    "\n",
    "print('\\nMicrobatching is: {}'.format(MICROBATCH))\n",
    "print('\\nDevice is: {}'.format(DEVICE))    "
   ]
  },
  {
   "cell_type": "code",
   "execution_count": 5,
   "metadata": {
    "ExecuteTime": {
     "end_time": "2019-08-26T09:33:27.567620Z",
     "start_time": "2019-08-26T09:33:27.496058Z"
    }
   },
   "outputs": [],
   "source": [
    "def get_classification_config(model_class, config):\n",
    "    default_config = {\n",
    "        'inputs/images/shape': (28, 28, 1),\n",
    "        'inputs/labels/classes': 10,\n",
    "        'initial_block/inputs': 'images',\n",
    "        'loss': 'ce',\n",
    "        'microbatch': MICROBATCH,\n",
    "        'device': DEVICE,\n",
    "    }\n",
    "\n",
    "    pipeline_config = {\n",
    "        'model': model_class,\n",
    "        'model_config': {**default_config, **config},\n",
    "        'feed_dict': {'images': B('images'),\n",
    "                      'labels': B('labels')},\n",
    "    }\n",
    "    return pipeline_config\n",
    "\n",
    "def get_segmentation_config(model_class, config):\n",
    "    default_config = {\n",
    "        'inputs/images/shape': (28, 28, 1),\n",
    "        'inputs/masks/shape': (28, 28, 1),\n",
    "        'initial_block/inputs': 'images',\n",
    "        'body/decoder/blocks/combine_op': 'softsum', # for some reason `concat` is not working from within pytest \n",
    "        'loss': 'mse',\n",
    "        'microbatch': MICROBATCH,\n",
    "        'device': DEVICE,\n",
    "    }\n",
    "    \n",
    "    pipeline_config = {\n",
    "        'model': model_class,\n",
    "        'model_config': {**default_config, **config},\n",
    "        'feed_dict': {'images': B('images'),\n",
    "                      'masks': B('images')},\n",
    "    }\n",
    "    return pipeline_config"
   ]
  },
  {
   "cell_type": "code",
   "execution_count": 6,
   "metadata": {
    "ExecuteTime": {
     "end_time": "2019-08-26T09:33:27.654589Z",
     "start_time": "2019-08-26T09:33:27.572396Z"
    }
   },
   "outputs": [],
   "source": [
    "def get_pipeline(pipeline_config):\n",
    "    \"\"\" Pipeline config must contain 'model', 'model_config', 'feed_dict' keys. \"\"\"\n",
    "    pipeline = (Pipeline(config=pipeline_config)\n",
    "                .init_variable('loss_history', [])\n",
    "                .multiply(multiplier=1/255., preserve_type=False)\n",
    "                .to_array()\n",
    "                .init_model('dynamic', C('model'),\n",
    "                            'MODEL', config=C('model_config'))\n",
    "                .train_model('MODEL', fetches='loss',\n",
    "                             feed_dict=C('feed_dict'),\n",
    "                             save_to=V('loss_history', mode='a'))\n",
    "                )\n",
    "    return pipeline"
   ]
  },
  {
   "cell_type": "code",
   "execution_count": 7,
   "metadata": {
    "ExecuteTime": {
     "end_time": "2019-08-26T09:33:27.720040Z",
     "start_time": "2019-08-26T09:33:27.660411Z"
    }
   },
   "outputs": [],
   "source": [
    "def run(task, model_class, config, description, batch_size=16, n_iters=10):\n",
    "    if task.startswith('c'):\n",
    "        pipeline_config = get_classification_config(model_class, config)\n",
    "    elif task.startswith('s'):\n",
    "        pipeline_config = get_segmentation_config(model_class, config)\n",
    "        \n",
    "    train_pipeline = get_pipeline(pipeline_config) << mnist.train\n",
    "    _ = train_pipeline.run(batch_size, n_iters=n_iters, bar=True,\n",
    "                           bar_desc=W(V('loss_history')[-1].format('Loss is {:7.7}')))\n",
    "    \n",
    "    print('{} {} is done'.format(task, description))\n",
    "    return train_pipeline"
   ]
  },
  {
   "cell_type": "markdown",
   "metadata": {},
   "source": [
    "# Classification"
   ]
  },
  {
   "cell_type": "code",
   "execution_count": 8,
   "metadata": {
    "ExecuteTime": {
     "end_time": "2019-08-26T09:33:29.607768Z",
     "start_time": "2019-08-26T09:33:27.726829Z"
    }
   },
   "outputs": [
    {
     "name": "stderr",
     "output_type": "stream",
     "text": [
      "Loss is 2.302341: 100%|██████████| 10/10 [00:01<00:00,  5.54it/s]\n"
     ]
    },
    {
     "name": "stdout",
     "output_type": "stream",
     "text": [
      "classification simple fc is done\n"
     ]
    }
   ],
   "source": [
    "config = {\n",
    "    'initial_block': {'layout': 'fa'*2,\n",
    "                      'units': [64, 128],},\n",
    "    'body': {'layout': 'fa'*2,\n",
    "             'units': [256, 512]},\n",
    "    'head': {'layout': 'faf',\n",
    "             'units': [600,10]},\n",
    "}\n",
    "\n",
    "ppl = run('classification', TFModel, config, 'simple fc')"
   ]
  },
  {
   "cell_type": "code",
   "execution_count": 9,
   "metadata": {
    "ExecuteTime": {
     "end_time": "2019-08-26T09:33:41.071384Z",
     "start_time": "2019-08-26T09:33:29.613710Z"
    }
   },
   "outputs": [
    {
     "name": "stderr",
     "output_type": "stream",
     "text": [
      "Loss is 4.562194: 100%|██████████| 10/10 [00:11<00:00,  1.86s/it]"
     ]
    },
    {
     "name": "stdout",
     "output_type": "stream",
     "text": [
      "classification Xception is done\n"
     ]
    },
    {
     "name": "stderr",
     "output_type": "stream",
     "text": [
      "\n"
     ]
    }
   ],
   "source": [
    "config = {\n",
    "    'head/layout': 'f'\n",
    "}\n",
    "\n",
    "ppl = run('classification', XceptionS, config, 'Xception')"
   ]
  },
  {
   "cell_type": "code",
   "execution_count": 10,
   "metadata": {
    "ExecuteTime": {
     "end_time": "2019-08-26T09:33:41.147386Z",
     "start_time": "2019-08-26T09:33:41.082390Z"
    }
   },
   "outputs": [],
   "source": [
    "# config = {}\n",
    "\n",
    "# ppl = run('classification', MobileNet_v3_small, config, 'MobileNet_v3_small')"
   ]
  },
  {
   "cell_type": "markdown",
   "metadata": {},
   "source": [
    "# Segmentation"
   ]
  },
  {
   "cell_type": "code",
   "execution_count": 11,
   "metadata": {
    "ExecuteTime": {
     "end_time": "2019-08-26T09:34:22.983467Z",
     "start_time": "2019-08-26T09:33:41.148948Z"
    }
   },
   "outputs": [
    {
     "name": "stderr",
     "output_type": "stream",
     "text": [
      "Loss is 0.0407998: 100%|██████████| 10/10 [00:41<00:00,  3.78s/it]"
     ]
    },
    {
     "name": "stdout",
     "output_type": "stream",
     "text": [
      "segmentation unet is done\n"
     ]
    },
    {
     "name": "stderr",
     "output_type": "stream",
     "text": [
      "\n"
     ]
    }
   ],
   "source": [
    "config = {\n",
    "    'initial_block/filters': 4,\n",
    "    'body/encoder': {'num_stages': 3},\n",
    "}\n",
    "\n",
    "ppl = run('segmentation', UNet, config, 'unet')"
   ]
  },
  {
   "cell_type": "code",
   "execution_count": 12,
   "metadata": {
    "ExecuteTime": {
     "end_time": "2019-08-26T09:34:32.148634Z",
     "start_time": "2019-08-26T09:34:22.991301Z"
    }
   },
   "outputs": [
    {
     "name": "stderr",
     "output_type": "stream",
     "text": [
      "Loss is 1.15247: 100%|██████████| 10/10 [00:09<00:00,  2.30it/s]"
     ]
    },
    {
     "name": "stdout",
     "output_type": "stream",
     "text": [
      "segmentation encoder-decoder with ResNet18 backbone is done\n"
     ]
    },
    {
     "name": "stderr",
     "output_type": "stream",
     "text": [
      "\n"
     ]
    }
   ],
   "source": [
    "config = {\n",
    "    'initial_block': {'layout': 'cna', 'filters': 2},\n",
    "    'body/encoder': {'base': ResNet18,\n",
    "                     'filters':[4]*4},\n",
    "    'body/embedding': [{'layout': 'cna', 'filters': 16}]*4,\n",
    "}\n",
    "\n",
    "ppl = run('segmentation', EncoderDecoder, config, 'encoder-decoder with ResNet18 backbone')"
   ]
  },
  {
   "cell_type": "code",
   "execution_count": 13,
   "metadata": {
    "ExecuteTime": {
     "end_time": "2019-08-26T09:35:13.163464Z",
     "start_time": "2019-08-26T09:34:32.150504Z"
    }
   },
   "outputs": [
    {
     "name": "stderr",
     "output_type": "stream",
     "text": [
      "Loss is 0.08902735: 100%|██████████| 10/10 [00:18<00:00,  1.12it/s]\n",
      "  0%|          | 0/10 [00:00<?, ?it/s]"
     ]
    },
    {
     "name": "stdout",
     "output_type": "stream",
     "text": [
      "segmentation encoder-decoder with ResNet, DenseNet blocks is done\n"
     ]
    },
    {
     "name": "stderr",
     "output_type": "stream",
     "text": [
      "Loss is 0.1560908: 100%|██████████| 10/10 [00:22<00:00,  1.20s/it]"
     ]
    },
    {
     "name": "stdout",
     "output_type": "stream",
     "text": [
      "segmentation encoder-decoder with ResNeXt, DenseNet blocks is done\n"
     ]
    },
    {
     "name": "stderr",
     "output_type": "stream",
     "text": [
      "\n"
     ]
    }
   ],
   "source": [
    "config = {\n",
    "    'initial_block': {'layout': 'cna', 'filters': 4},\n",
    "    'body/encoder': {'base': ResNet,\n",
    "                     'num_blocks': [2, 2, 2, 2, 2],\n",
    "                     'filters': [2, 4, 8, 16, 32]},\n",
    "    'body/embedding': {'filters': 32},\n",
    "    'body/decoder': {'num_stages': 5,\n",
    "                     'factor': 32,\n",
    "                     'skip': True,\n",
    "                     'upsample': {'layout': 'AX+'},\n",
    "                     'blocks': {'base': DenseNet.block,\n",
    "                                'num_layers': [2, 2, 2, 2, 2],\n",
    "                                'growth_rate': 2,\n",
    "                                'skip': False}},\n",
    "}\n",
    "\n",
    "ppl = run('segmentation', EncoderDecoder, config, 'encoder-decoder with ResNet, DenseNet blocks')\n",
    "\n",
    "config['body/encoder/block/resnext'] = True \n",
    "ppl = run('segmentation', EncoderDecoder, config, 'encoder-decoder with ResNeXt, DenseNet blocks')"
   ]
  },
  {
   "cell_type": "code",
   "execution_count": 14,
   "metadata": {
    "ExecuteTime": {
     "end_time": "2019-08-26T09:35:28.608461Z",
     "start_time": "2019-08-26T09:35:13.165469Z"
    }
   },
   "outputs": [
    {
     "name": "stderr",
     "output_type": "stream",
     "text": [
      "Loss is 0.2881762: 100%|██████████| 10/10 [00:15<00:00,  1.43it/s]"
     ]
    },
    {
     "name": "stdout",
     "output_type": "stream",
     "text": [
      "segmentation DeepLab XS is done\n"
     ]
    },
    {
     "name": "stderr",
     "output_type": "stream",
     "text": [
      "\n"
     ]
    }
   ],
   "source": [
    "ppl = run('segmentation', DeepLabXS, {}, 'DeepLab XS')"
   ]
  },
  {
   "cell_type": "code",
   "execution_count": null,
   "metadata": {},
   "outputs": [],
   "source": []
  }
 ],
 "metadata": {
  "kernelspec": {
   "display_name": "Python 3",
   "language": "python",
   "name": "python3"
  },
  "language_info": {
   "codemirror_mode": {
    "name": "ipython",
    "version": 3
   },
   "file_extension": ".py",
   "mimetype": "text/x-python",
   "name": "python",
   "nbconvert_exporter": "python",
   "pygments_lexer": "ipython3",
   "version": "3.7.1"
  },
  "varInspector": {
   "cols": {
    "lenName": 16,
    "lenType": 16,
    "lenVar": 40
   },
   "kernels_config": {
    "python": {
     "delete_cmd_postfix": "",
     "delete_cmd_prefix": "del ",
     "library": "var_list.py",
     "varRefreshCmd": "print(var_dic_list())"
    },
    "r": {
     "delete_cmd_postfix": ") ",
     "delete_cmd_prefix": "rm(",
     "library": "var_list.r",
     "varRefreshCmd": "cat(var_dic_list()) "
    }
   },
   "types_to_exclude": [
    "module",
    "function",
    "builtin_function_or_method",
    "instance",
    "_Feature"
   ],
   "window_display": false
  }
 },
 "nbformat": 4,
 "nbformat_minor": 2
}
