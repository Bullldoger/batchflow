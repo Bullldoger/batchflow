{
 "cells": [
  {
   "cell_type": "code",
   "execution_count": 1,
   "metadata": {
    "ExecuteTime": {
     "end_time": "2019-09-02T15:57:59.386675Z",
     "start_time": "2019-09-02T15:57:49.648592Z"
    }
   },
   "outputs": [],
   "source": [
    "%load_ext autoreload\n",
    "%autoreload 2\n",
    "import os\n",
    "import sys\n",
    "import warnings\n",
    "\n",
    "import numpy as np\n",
    "import matplotlib.pyplot as plt\n",
    "import tensorflow as tf\n",
    "\n",
    "sys.path.append(\"../../..\")\n",
    "from batchflow import *\n",
    "from batchflow.opensets import MNIST\n",
    "from batchflow.models.tf import *\n",
    "\n",
    "tf.logging.set_verbosity(tf.logging.ERROR)\n",
    "warnings.filterwarnings(\"ignore\")\n",
    "os.environ['TF_CPP_MIN_LOG_LEVEL'] = '3'"
   ]
  },
  {
   "cell_type": "markdown",
   "metadata": {},
   "source": [
    "# Setup"
   ]
  },
  {
   "cell_type": "code",
   "execution_count": 2,
   "metadata": {
    "ExecuteTime": {
     "end_time": "2019-09-02T15:58:00.941487Z",
     "start_time": "2019-09-02T15:57:59.641617Z"
    }
   },
   "outputs": [
    {
     "name": "stdout",
     "output_type": "stream",
     "text": [
      "\n",
      "Microbatching is: None\n",
      "\n",
      "Device is: None\n"
     ]
    }
   ],
   "source": [
    "mnist = MNIST(batch_class=ImagesBatch)\n",
    "\n",
    "if __name__ == '__main__':\n",
    "    MICROBATCH = None\n",
    "    DEVICE = None\n",
    "\n",
    "print('\\nMicrobatching is: {}'.format(MICROBATCH))\n",
    "print('\\nDevice is: {}'.format(DEVICE))    "
   ]
  },
  {
   "cell_type": "code",
   "execution_count": 3,
   "metadata": {
    "ExecuteTime": {
     "end_time": "2019-09-02T15:58:01.209735Z",
     "start_time": "2019-09-02T15:58:01.173895Z"
    }
   },
   "outputs": [],
   "source": [
    "def get_classification_config(model_class, config):\n",
    "    default_config = {\n",
    "        'inputs/images/shape': (28, 28, 1),\n",
    "        'inputs/labels/classes': 10,\n",
    "        'initial_block/inputs': 'images',\n",
    "        'loss': 'ce',\n",
    "        'microbatch': MICROBATCH,\n",
    "        'device': DEVICE,\n",
    "    }\n",
    "\n",
    "    pipeline_config = {\n",
    "        'model': model_class,\n",
    "        'model_config': {**default_config, **config},\n",
    "        'feed_dict': {'images': B('images'),\n",
    "                      'labels': B('labels')},\n",
    "    }\n",
    "    return pipeline_config\n",
    "\n",
    "def get_segmentation_config(model_class, config):\n",
    "    default_config = {\n",
    "        'inputs/images/shape': (28, 28, 1),\n",
    "        'inputs/masks/shape': (28, 28, 1),\n",
    "        'initial_block/inputs': 'images',\n",
    "        'body/decoder/blocks/combine_op': 'softsum', # for some reason `concat` is not working from within pytest \n",
    "        'loss': 'mse',\n",
    "        'microbatch': MICROBATCH,\n",
    "        'device': DEVICE,\n",
    "    }\n",
    "    \n",
    "    pipeline_config = {\n",
    "        'model': model_class,\n",
    "        'model_config': {**default_config, **config},\n",
    "        'feed_dict': {'images': B('images'),\n",
    "                      'masks': B('images')},\n",
    "    }\n",
    "    return pipeline_config"
   ]
  },
  {
   "cell_type": "code",
   "execution_count": 4,
   "metadata": {
    "ExecuteTime": {
     "end_time": "2019-09-02T15:58:01.473407Z",
     "start_time": "2019-09-02T15:58:01.444972Z"
    }
   },
   "outputs": [],
   "source": [
    "def get_pipeline(pipeline_config):\n",
    "    \"\"\" Pipeline config must contain 'model', 'model_config', 'feed_dict' keys. \"\"\"\n",
    "    pipeline = (Pipeline(config=pipeline_config)\n",
    "                .init_variable('loss_history', [])\n",
    "                .multiply(multiplier=1/255., preserve_type=False)\n",
    "                .to_array()\n",
    "                .init_model('dynamic', C('model'),\n",
    "                            'MODEL', config=C('model_config'))\n",
    "                .train_model('MODEL', fetches='loss',\n",
    "                             feed_dict=C('feed_dict'),\n",
    "                             save_to=V('loss_history', mode='a'))\n",
    "                )\n",
    "    return pipeline"
   ]
  },
  {
   "cell_type": "code",
   "execution_count": 5,
   "metadata": {
    "ExecuteTime": {
     "end_time": "2019-09-02T15:58:01.678573Z",
     "start_time": "2019-09-02T15:58:01.650885Z"
    }
   },
   "outputs": [],
   "source": [
    "def run(task, model_class, config, description, batch_size=16, n_iters=10):\n",
    "    if task.startswith('c'):\n",
    "        pipeline_config = get_classification_config(model_class, config)\n",
    "    elif task.startswith('s'):\n",
    "        pipeline_config = get_segmentation_config(model_class, config)\n",
    "        \n",
    "    train_pipeline = get_pipeline(pipeline_config) << mnist.train\n",
    "    _ = train_pipeline.run(batch_size, n_iters=n_iters, bar=True,\n",
    "                           bar_desc=W(V('loss_history')[-1].format('Loss is {:7.7}')))\n",
    "    \n",
    "    print('{} {} is done'.format(task, description))\n",
    "    return train_pipeline"
   ]
  },
  {
   "cell_type": "markdown",
   "metadata": {},
   "source": [
    "# Classification"
   ]
  },
  {
   "cell_type": "code",
   "execution_count": 13,
   "metadata": {
    "ExecuteTime": {
     "end_time": "2019-09-02T16:12:52.743315Z",
     "start_time": "2019-09-02T16:12:47.965103Z"
    }
   },
   "outputs": [
    {
     "name": "stderr",
     "output_type": "stream",
     "text": [
      "\n",
      "\n",
      "  0%|          | 0/100 [00:00<?, ?it/s]\u001b[A\u001b[A"
     ]
    },
    {
     "name": "stdout",
     "output_type": "stream",
     "text": [
      "Tensor(\"TFModel/device_CPU_0/head/layer-0/Cast_1:0\", shape=(2,), dtype=int32, device=/device:CPU:0)\n"
     ]
    },
    {
     "name": "stderr",
     "output_type": "stream",
     "text": [
      "\n",
      "\n",
      "Loss is 2.303088:   0%|          | 0/100 [00:00<?, ?it/s]\u001b[A\u001b[A\n",
      "\n",
      "Loss is 2.303088:   1%|          | 1/100 [00:00<01:16,  1.29it/s]\u001b[A\u001b[A\n",
      "\n",
      "Loss is 2.300527:   1%|          | 1/100 [00:00<01:16,  1.29it/s]\u001b[A\u001b[A\n",
      "\n",
      "Loss is 2.309618:   2%|▏         | 2/100 [00:00<01:15,  1.29it/s]\u001b[A\u001b[A\n",
      "\n",
      "Loss is 2.309618:   3%|▎         | 3/100 [00:00<00:54,  1.79it/s]\u001b[A\u001b[A\n",
      "\n",
      "Loss is 2.304246:   3%|▎         | 3/100 [00:00<00:54,  1.79it/s]\u001b[A\u001b[A\n",
      "\n",
      "Loss is 2.301844:   4%|▍         | 4/100 [00:00<00:53,  1.79it/s]\u001b[A\u001b[A\n",
      "\n",
      "Loss is 2.301844:   5%|▌         | 5/100 [00:00<00:38,  2.46it/s]\u001b[A\u001b[A\n",
      "\n",
      "Loss is 2.301997:   5%|▌         | 5/100 [00:01<00:38,  2.46it/s]\u001b[A\u001b[A\n",
      "\n",
      "Loss is 2.299188:   6%|▌         | 6/100 [00:01<00:38,  2.46it/s]\u001b[A\u001b[A\n",
      "\n",
      "Loss is 2.292816:   7%|▋         | 7/100 [00:01<00:37,  2.46it/s]\u001b[A\u001b[A\n",
      "\n",
      "Loss is 2.306438:   8%|▊         | 8/100 [00:01<00:37,  2.46it/s]\u001b[A\u001b[A\n",
      "\n",
      "Loss is 2.306438:   9%|▉         | 9/100 [00:01<00:26,  3.40it/s]\u001b[A\u001b[A\n",
      "\n",
      "Loss is 2.299363:   9%|▉         | 9/100 [00:01<00:26,  3.40it/s]\u001b[A\u001b[A\n",
      "\n",
      "Loss is 2.309772:  10%|█         | 10/100 [00:01<00:26,  3.40it/s]\u001b[A\u001b[A\n",
      "\n",
      "Loss is 2.302742:  11%|█         | 11/100 [00:01<00:26,  3.40it/s]\u001b[A\u001b[A\n",
      "\n",
      "Loss is 2.302742:  12%|█▏        | 12/100 [00:01<00:19,  4.58it/s]\u001b[A\u001b[A\n",
      "\n",
      "Loss is 2.297572:  12%|█▏        | 12/100 [00:01<00:19,  4.58it/s]\u001b[A\u001b[A\n",
      "\n",
      "Loss is 2.303169:  13%|█▎        | 13/100 [00:01<00:19,  4.58it/s]\u001b[A\u001b[A\n",
      "\n",
      "Loss is 2.303169:  14%|█▍        | 14/100 [00:01<00:14,  5.92it/s]\u001b[A\u001b[A\n",
      "\n",
      "Loss is 2.290378:  14%|█▍        | 14/100 [00:01<00:14,  5.92it/s]\u001b[A\u001b[A\n",
      "\n",
      "Loss is 2.295405:  15%|█▌        | 15/100 [00:01<00:14,  5.92it/s]\u001b[A\u001b[A\n",
      "\n",
      "Loss is 2.288384:  16%|█▌        | 16/100 [00:01<00:14,  5.92it/s]\u001b[A\u001b[A\n",
      "\n",
      "Loss is 2.288384:  17%|█▋        | 17/100 [00:01<00:10,  7.67it/s]\u001b[A\u001b[A\n",
      "\n",
      "Loss is 2.291798:  17%|█▋        | 17/100 [00:01<00:10,  7.67it/s]\u001b[A\u001b[A\n",
      "\n",
      "Loss is 2.288287:  18%|█▊        | 18/100 [00:01<00:10,  7.67it/s]\u001b[A\u001b[A\n",
      "\n",
      "Loss is 2.294298:  19%|█▉        | 19/100 [00:01<00:10,  7.67it/s]\u001b[A\u001b[A\n",
      "\n",
      "Loss is 2.294298:  20%|██        | 20/100 [00:01<00:08,  9.78it/s]\u001b[A\u001b[A\n",
      "\n",
      "Loss is 2.284992:  20%|██        | 20/100 [00:01<00:08,  9.78it/s]\u001b[A\u001b[A\n",
      "\n",
      "Loss is 2.294733:  21%|██        | 21/100 [00:01<00:08,  9.78it/s]\u001b[A\u001b[A\n",
      "\n",
      "Loss is 2.290442:  22%|██▏       | 22/100 [00:01<00:07,  9.78it/s]\u001b[A\u001b[A\n",
      "\n",
      "Loss is 2.290442:  23%|██▎       | 23/100 [00:01<00:06, 11.69it/s]\u001b[A\u001b[A\n",
      "\n",
      "Loss is 2.298198:  23%|██▎       | 23/100 [00:01<00:06, 11.69it/s]\u001b[A\u001b[A\n",
      "\n",
      "Loss is 2.298695:  24%|██▍       | 24/100 [00:01<00:06, 11.69it/s]\u001b[A\u001b[A\n",
      "\n",
      "Loss is 2.269541:  25%|██▌       | 25/100 [00:01<00:06, 11.69it/s]\u001b[A\u001b[A\n",
      "\n",
      "Loss is 2.269541:  26%|██▌       | 26/100 [00:01<00:05, 14.13it/s]\u001b[A\u001b[A\n",
      "\n",
      "Loss is 2.280884:  26%|██▌       | 26/100 [00:01<00:05, 14.13it/s]\u001b[A\u001b[A\n",
      "\n",
      "Loss is 2.29098:  27%|██▋       | 27/100 [00:01<00:05, 14.13it/s] \u001b[A\u001b[A\n",
      "\n",
      "Loss is 2.265384:  28%|██▊       | 28/100 [00:01<00:05, 14.13it/s]\u001b[A\u001b[A\n",
      "\n",
      "Loss is 2.265384:  29%|██▉       | 29/100 [00:01<00:04, 15.68it/s]\u001b[A\u001b[A\n",
      "\n",
      "Loss is 2.27631:  29%|██▉       | 29/100 [00:02<00:04, 15.68it/s] \u001b[A\u001b[A\n",
      "\n",
      "Loss is 2.256479:  30%|███       | 30/100 [00:02<00:04, 15.68it/s]\u001b[A\u001b[A\n",
      "\n",
      "Loss is 2.262003:  31%|███       | 31/100 [00:02<00:04, 15.68it/s]\u001b[A\u001b[A\n",
      "\n",
      "Loss is 2.262003:  32%|███▏      | 32/100 [00:02<00:03, 17.49it/s]\u001b[A\u001b[A\n",
      "\n",
      "Loss is 2.284963:  32%|███▏      | 32/100 [00:02<00:03, 17.49it/s]\u001b[A\u001b[A\n",
      "\n",
      "Loss is 2.266617:  33%|███▎      | 33/100 [00:02<00:03, 17.49it/s]\u001b[A\u001b[A\n",
      "\n",
      "Loss is 2.248375:  34%|███▍      | 34/100 [00:02<00:03, 17.49it/s]\u001b[A\u001b[A\n",
      "\n",
      "Loss is 2.248375:  35%|███▌      | 35/100 [00:02<00:03, 17.94it/s]\u001b[A\u001b[A\n",
      "\n",
      "Loss is 2.259351:  35%|███▌      | 35/100 [00:02<00:03, 17.94it/s]\u001b[A\u001b[A\n",
      "\n",
      "Loss is 2.283627:  36%|███▌      | 36/100 [00:02<00:03, 17.94it/s]\u001b[A\u001b[A\n",
      "\n",
      "Loss is 2.277815:  37%|███▋      | 37/100 [00:02<00:03, 17.94it/s]\u001b[A\u001b[A\n",
      "\n",
      "Loss is 2.277815:  38%|███▊      | 38/100 [00:02<00:03, 19.89it/s]\u001b[A\u001b[A\n",
      "\n",
      "Loss is 2.228517:  38%|███▊      | 38/100 [00:02<00:03, 19.89it/s]\u001b[A\u001b[A\n",
      "\n",
      "Loss is 2.218535:  39%|███▉      | 39/100 [00:02<00:03, 19.89it/s]\u001b[A\u001b[A\n",
      "\n",
      "Loss is 2.200016:  40%|████      | 40/100 [00:02<00:03, 19.89it/s]\u001b[A\u001b[A\n",
      "\n",
      "Loss is 2.205331:  41%|████      | 41/100 [00:02<00:02, 19.89it/s]\u001b[A\u001b[A\n",
      "\n",
      "Loss is 2.205331:  42%|████▏     | 42/100 [00:02<00:02, 22.47it/s]\u001b[A\u001b[A\n",
      "\n",
      "Loss is 2.233123:  42%|████▏     | 42/100 [00:02<00:02, 22.47it/s]\u001b[A\u001b[A\n",
      "\n",
      "Loss is 2.158276:  43%|████▎     | 43/100 [00:02<00:02, 22.47it/s]\u001b[A\u001b[A\n",
      "\n",
      "Loss is 2.152704:  44%|████▍     | 44/100 [00:02<00:02, 22.47it/s]\u001b[A\u001b[A\n",
      "\n",
      "Loss is 2.152704:  45%|████▌     | 45/100 [00:02<00:02, 23.63it/s]\u001b[A\u001b[A\n",
      "\n",
      "Loss is 2.165608:  45%|████▌     | 45/100 [00:02<00:02, 23.63it/s]\u001b[A\u001b[A\n",
      "\n",
      "Loss is 2.188691:  46%|████▌     | 46/100 [00:02<00:02, 23.63it/s]\u001b[A\u001b[A\n",
      "\n",
      "Loss is 2.236487:  47%|████▋     | 47/100 [00:02<00:02, 23.63it/s]\u001b[A\u001b[A\n",
      "\n",
      "Loss is 2.236487:  48%|████▊     | 48/100 [00:02<00:02, 24.24it/s]\u001b[A\u001b[A\n",
      "\n",
      "Loss is 2.198603:  48%|████▊     | 48/100 [00:02<00:02, 24.24it/s]\u001b[A\u001b[A\n",
      "\n",
      "Loss is 2.195065:  49%|████▉     | 49/100 [00:02<00:02, 24.24it/s]\u001b[A\u001b[A\n",
      "\n",
      "Loss is 1.977156:  50%|█████     | 50/100 [00:02<00:02, 24.24it/s]\u001b[A\u001b[A\n",
      "\n",
      "Loss is 1.977156:  51%|█████     | 51/100 [00:02<00:01, 24.98it/s]\u001b[A\u001b[A\n",
      "\n",
      "Loss is 2.131664:  51%|█████     | 51/100 [00:02<00:01, 24.98it/s]\u001b[A\u001b[A\n",
      "\n",
      "Loss is 2.204096:  52%|█████▏    | 52/100 [00:02<00:01, 24.98it/s]\u001b[A\u001b[A\n",
      "\n",
      "Loss is 2.074963:  53%|█████▎    | 53/100 [00:02<00:01, 24.98it/s]\u001b[A\u001b[A\n",
      "\n",
      "Loss is 2.074963:  54%|█████▍    | 54/100 [00:02<00:01, 24.35it/s]\u001b[A\u001b[A\n",
      "\n",
      "Loss is 2.067782:  54%|█████▍    | 54/100 [00:02<00:01, 24.35it/s]\u001b[A\u001b[A\n",
      "\n",
      "Loss is 2.106664:  55%|█████▌    | 55/100 [00:03<00:01, 24.35it/s]\u001b[A\u001b[A\n",
      "\n",
      "Loss is 2.083797:  56%|█████▌    | 56/100 [00:03<00:01, 24.35it/s]\u001b[A\u001b[A\n",
      "\n",
      "Loss is 2.083797:  57%|█████▋    | 57/100 [00:03<00:01, 24.77it/s]\u001b[A\u001b[A\n",
      "\n",
      "Loss is 2.317878:  57%|█████▋    | 57/100 [00:03<00:01, 24.77it/s]\u001b[A\u001b[A\n",
      "\n",
      "Loss is 1.982468:  58%|█████▊    | 58/100 [00:03<00:01, 24.77it/s]\u001b[A\u001b[A\n",
      "\n",
      "Loss is 2.222823:  59%|█████▉    | 59/100 [00:03<00:01, 24.77it/s]\u001b[A\u001b[A\n",
      "\n",
      "Loss is 2.222823:  60%|██████    | 60/100 [00:03<00:01, 24.51it/s]\u001b[A\u001b[A\n",
      "\n",
      "Loss is 1.981126:  60%|██████    | 60/100 [00:03<00:01, 24.51it/s]\u001b[A\u001b[A\n",
      "\n",
      "Loss is 1.974033:  61%|██████    | 61/100 [00:03<00:01, 24.51it/s]\u001b[A\u001b[A\n",
      "\n",
      "Loss is 2.088048:  62%|██████▏   | 62/100 [00:03<00:01, 24.51it/s]\u001b[A\u001b[A\n",
      "\n",
      "Loss is 2.088048:  63%|██████▎   | 63/100 [00:03<00:01, 25.37it/s]\u001b[A\u001b[A\n",
      "\n",
      "Loss is 1.923363:  63%|██████▎   | 63/100 [00:03<00:01, 25.37it/s]\u001b[A\u001b[A\n",
      "\n",
      "Loss is 2.148661:  64%|██████▍   | 64/100 [00:03<00:01, 25.37it/s]\u001b[A\u001b[A\n",
      "\n",
      "Loss is 2.102981:  65%|██████▌   | 65/100 [00:03<00:01, 25.37it/s]\u001b[A\u001b[A\n",
      "\n",
      "Loss is 2.107687:  66%|██████▌   | 66/100 [00:03<00:01, 25.37it/s]\u001b[A\u001b[A\n",
      "\n",
      "Loss is 2.107687:  67%|██████▋   | 67/100 [00:03<00:01, 26.55it/s]\u001b[A\u001b[A\n",
      "\n",
      "Loss is 2.133753:  67%|██████▋   | 67/100 [00:03<00:01, 26.55it/s]\u001b[A\u001b[A\n",
      "\n",
      "Loss is 2.091835:  68%|██████▊   | 68/100 [00:03<00:01, 26.55it/s]\u001b[A\u001b[A\n",
      "\n",
      "Loss is 2.096811:  69%|██████▉   | 69/100 [00:03<00:01, 26.55it/s]\u001b[A\u001b[A\n",
      "\n",
      "Loss is 2.096811:  70%|███████   | 70/100 [00:03<00:01, 25.54it/s]\u001b[A\u001b[A\n",
      "\n",
      "Loss is 1.978689:  70%|███████   | 70/100 [00:03<00:01, 25.54it/s]\u001b[A\u001b[A\n",
      "\n",
      "Loss is 1.955122:  71%|███████   | 71/100 [00:03<00:01, 25.54it/s]\u001b[A\u001b[A\n",
      "\n",
      "Loss is 2.020637:  72%|███████▏  | 72/100 [00:03<00:01, 25.54it/s]\u001b[A\u001b[A\n",
      "\n",
      "Loss is 2.020637:  73%|███████▎  | 73/100 [00:03<00:01, 24.59it/s]\u001b[A\u001b[A\n",
      "\n",
      "Loss is 2.052571:  73%|███████▎  | 73/100 [00:03<00:01, 24.59it/s]\u001b[A\u001b[A\n",
      "\n",
      "Loss is 2.035517:  74%|███████▍  | 74/100 [00:03<00:01, 24.59it/s]\u001b[A\u001b[A\n",
      "\n",
      "Loss is 2.163852:  75%|███████▌  | 75/100 [00:03<00:01, 24.59it/s]\u001b[A\u001b[A\n",
      "\n",
      "Loss is 2.163852:  76%|███████▌  | 76/100 [00:03<00:00, 24.11it/s]\u001b[A\u001b[A\n",
      "\n",
      "Loss is 1.875451:  76%|███████▌  | 76/100 [00:03<00:00, 24.11it/s]\u001b[A\u001b[A\n",
      "\n",
      "Loss is 1.938888:  77%|███████▋  | 77/100 [00:03<00:00, 24.11it/s]\u001b[A\u001b[A\n",
      "\n",
      "Loss is 1.927458:  78%|███████▊  | 78/100 [00:03<00:00, 24.11it/s]\u001b[A\u001b[A\n",
      "\n",
      "Loss is 1.927458:  79%|███████▉  | 79/100 [00:03<00:00, 24.48it/s]\u001b[A\u001b[A\n",
      "\n",
      "Loss is 2.112575:  79%|███████▉  | 79/100 [00:03<00:00, 24.48it/s]\u001b[A\u001b[A\n",
      "\n",
      "Loss is 2.008756:  80%|████████  | 80/100 [00:04<00:00, 24.48it/s]\u001b[A\u001b[A\n",
      "\n",
      "Loss is 1.981062:  81%|████████  | 81/100 [00:04<00:00, 24.48it/s]\u001b[A\u001b[A\n",
      "\n",
      "Loss is 1.981062:  82%|████████▏ | 82/100 [00:04<00:00, 25.42it/s]\u001b[A\u001b[A\n",
      "\n",
      "Loss is 2.068757:  82%|████████▏ | 82/100 [00:04<00:00, 25.42it/s]\u001b[A\u001b[A\n",
      "\n"
     ]
    },
    {
     "name": "stderr",
     "output_type": "stream",
     "text": [
      "Loss is 2.033004:  83%|████████▎ | 83/100 [00:04<00:00, 25.42it/s]\u001b[A\u001b[A\n",
      "\n",
      "Loss is 2.087335:  84%|████████▍ | 84/100 [00:04<00:00, 25.42it/s]\u001b[A\u001b[A\n",
      "\n",
      "Loss is 2.087335:  85%|████████▌ | 85/100 [00:04<00:00, 26.38it/s]\u001b[A\u001b[A\n",
      "\n",
      "Loss is 1.848296:  85%|████████▌ | 85/100 [00:04<00:00, 26.38it/s]\u001b[A\u001b[A\n",
      "\n",
      "Loss is 1.917253:  86%|████████▌ | 86/100 [00:04<00:00, 26.38it/s]\u001b[A\u001b[A\n",
      "\n",
      "Loss is 1.870405:  87%|████████▋ | 87/100 [00:04<00:00, 26.38it/s]\u001b[A\u001b[A\n",
      "\n",
      "Loss is 2.083857:  88%|████████▊ | 88/100 [00:04<00:00, 26.38it/s]\u001b[A\u001b[A\n",
      "\n",
      "Loss is 2.083857:  89%|████████▉ | 89/100 [00:04<00:00, 27.13it/s]\u001b[A\u001b[A\n",
      "\n",
      "Loss is 2.048326:  89%|████████▉ | 89/100 [00:04<00:00, 27.13it/s]\u001b[A\u001b[A\n",
      "\n",
      "Loss is 1.887398:  90%|█████████ | 90/100 [00:04<00:00, 27.13it/s]\u001b[A\u001b[A\n",
      "\n",
      "Loss is 2.033775:  91%|█████████ | 91/100 [00:04<00:00, 27.13it/s]\u001b[A\u001b[A\n",
      "\n",
      "Loss is 2.033775:  92%|█████████▏| 92/100 [00:04<00:00, 27.70it/s]\u001b[A\u001b[A\n",
      "\n",
      "Loss is 1.850219:  92%|█████████▏| 92/100 [00:04<00:00, 27.70it/s]\u001b[A\u001b[A\n",
      "\n",
      "Loss is 1.737508:  93%|█████████▎| 93/100 [00:04<00:00, 27.70it/s]\u001b[A\u001b[A\n",
      "\n",
      "Loss is 1.86547:  94%|█████████▍| 94/100 [00:04<00:00, 27.70it/s] \u001b[A\u001b[A\n",
      "\n",
      "Loss is 1.86547:  95%|█████████▌| 95/100 [00:04<00:00, 28.25it/s]\u001b[A\u001b[A\n",
      "\n",
      "Loss is 1.968062:  95%|█████████▌| 95/100 [00:04<00:00, 28.25it/s]\u001b[A\u001b[A\n",
      "\n",
      "Loss is 1.864777:  96%|█████████▌| 96/100 [00:04<00:00, 28.25it/s]\u001b[A\u001b[A\n",
      "\n",
      "Loss is 1.897857:  97%|█████████▋| 97/100 [00:04<00:00, 28.25it/s]\u001b[A\u001b[A\n",
      "\n",
      "Loss is 1.897857:  98%|█████████▊| 98/100 [00:04<00:00, 28.51it/s]\u001b[A\u001b[A\n",
      "\n",
      "Loss is 1.966066:  98%|█████████▊| 98/100 [00:04<00:00, 28.51it/s]\u001b[A\u001b[A\n",
      "\n",
      "Loss is 1.947919:  99%|█████████▉| 99/100 [00:04<00:00, 28.51it/s]\u001b[A\u001b[A\n",
      "\n",
      "Loss is 1.947919: 100%|██████████| 100/100 [00:04<00:00, 21.39it/s]\u001b[A\u001b[A"
     ]
    },
    {
     "name": "stdout",
     "output_type": "stream",
     "text": [
      "classification simple fc is done\n"
     ]
    }
   ],
   "source": [
    "config = {\n",
    "    'initial_block': {'layout': 'fa'*2,\n",
    "                      'units': [64, 128],},\n",
    "    'body': {'layout': 'fa'*2,\n",
    "             'units': [256, 512]},\n",
    "    'head': {'layout': 'dfaf',\n",
    "             'units': [600,10],\n",
    "             'dropout_rate': 0.01,\n",
    "             'multisample': 0.1,},\n",
    "}\n",
    "\n",
    "ppl = run('classification', TFModel, config, 'simple fc', batch_size=64, n_iters=100)"
   ]
  },
  {
   "cell_type": "code",
   "execution_count": null,
   "metadata": {
    "ExecuteTime": {
     "end_time": "2019-08-27T08:38:05.357405Z",
     "start_time": "2019-08-27T08:37:50.534849Z"
    }
   },
   "outputs": [],
   "source": [
    "config = {\n",
    "    'head/layout': 'f'\n",
    "}\n",
    "\n",
    "ppl = run('classification', XceptionS, config, 'Xception')"
   ]
  },
  {
   "cell_type": "code",
   "execution_count": null,
   "metadata": {
    "ExecuteTime": {
     "end_time": "2019-08-27T08:38:19.043555Z",
     "start_time": "2019-08-27T08:38:05.359790Z"
    }
   },
   "outputs": [],
   "source": [
    "ppl = run('classification', MobileNet_v3_small, {}, 'MobileNet_v3_small')"
   ]
  },
  {
   "cell_type": "markdown",
   "metadata": {},
   "source": [
    "# Segmentation"
   ]
  },
  {
   "cell_type": "code",
   "execution_count": null,
   "metadata": {
    "ExecuteTime": {
     "end_time": "2019-08-27T08:39:00.793206Z",
     "start_time": "2019-08-27T08:38:19.045484Z"
    }
   },
   "outputs": [],
   "source": [
    "config = {\n",
    "    'initial_block/filters': 4,\n",
    "    'body/encoder': {'num_stages': 3},\n",
    "}\n",
    "\n",
    "ppl = run('segmentation', UNet, config, 'unet')"
   ]
  },
  {
   "cell_type": "code",
   "execution_count": null,
   "metadata": {
    "ExecuteTime": {
     "end_time": "2019-08-27T08:39:11.978405Z",
     "start_time": "2019-08-27T08:39:00.795811Z"
    }
   },
   "outputs": [],
   "source": [
    "config = {\n",
    "    'initial_block': {'layout': 'cna', 'filters': 2},\n",
    "    'body/encoder': {'base': ResNet18,\n",
    "                     'filters':[4]*4},\n",
    "    'body/embedding': [{'layout': 'cna', 'filters': 16}]*4,\n",
    "}\n",
    "\n",
    "ppl = run('segmentation', EncoderDecoder, config, 'encoder-decoder with ResNet18 backbone')"
   ]
  },
  {
   "cell_type": "code",
   "execution_count": null,
   "metadata": {
    "ExecuteTime": {
     "end_time": "2019-08-27T08:39:52.822062Z",
     "start_time": "2019-08-27T08:39:11.987997Z"
    }
   },
   "outputs": [],
   "source": [
    "config = {\n",
    "    'initial_block': {'layout': 'cna', 'filters': 4},\n",
    "    'body/encoder': {'base': ResNet,\n",
    "                     'num_blocks': [2, 2, 2, 2, 2],\n",
    "                     'filters': [2, 4, 8, 16, 32]},\n",
    "    'body/embedding': {'filters': 32},\n",
    "    'body/decoder': {'num_stages': 5,\n",
    "                     'factor': 32,\n",
    "                     'skip': True,\n",
    "                     'upsample': {'layout': 'X'},\n",
    "                     'blocks': {'base': DenseNet.block,\n",
    "                                'num_layers': [2, 2, 2, 2, 2],\n",
    "                                'growth_rate': 2,\n",
    "                                'skip': False}},\n",
    "}\n",
    "\n",
    "ppl = run('segmentation', EncoderDecoder, config, 'encoder-decoder with ResNet, DenseNet blocks')\n",
    "\n",
    "config['body/encoder/block/resnext'] = True \n",
    "ppl = run('segmentation', EncoderDecoder, config, 'encoder-decoder with ResNeXt, DenseNet blocks')"
   ]
  },
  {
   "cell_type": "code",
   "execution_count": null,
   "metadata": {
    "ExecuteTime": {
     "end_time": "2019-08-27T08:40:09.832541Z",
     "start_time": "2019-08-27T08:39:52.824043Z"
    }
   },
   "outputs": [],
   "source": [
    "ppl = run('segmentation', DeepLabXS, {}, 'DeepLab XS')"
   ]
  }
 ],
 "metadata": {
  "kernelspec": {
   "display_name": "Python 3",
   "language": "python",
   "name": "python3"
  },
  "language_info": {
   "codemirror_mode": {
    "name": "ipython",
    "version": 3
   },
   "file_extension": ".py",
   "mimetype": "text/x-python",
   "name": "python",
   "nbconvert_exporter": "python",
   "pygments_lexer": "ipython3",
   "version": "3.7.1"
  },
  "varInspector": {
   "cols": {
    "lenName": 16,
    "lenType": 16,
    "lenVar": 40
   },
   "kernels_config": {
    "python": {
     "delete_cmd_postfix": "",
     "delete_cmd_prefix": "del ",
     "library": "var_list.py",
     "varRefreshCmd": "print(var_dic_list())"
    },
    "r": {
     "delete_cmd_postfix": ") ",
     "delete_cmd_prefix": "rm(",
     "library": "var_list.r",
     "varRefreshCmd": "cat(var_dic_list()) "
    }
   },
   "types_to_exclude": [
    "module",
    "function",
    "builtin_function_or_method",
    "instance",
    "_Feature"
   ],
   "window_display": false
  }
 },
 "nbformat": 4,
 "nbformat_minor": 2
}
