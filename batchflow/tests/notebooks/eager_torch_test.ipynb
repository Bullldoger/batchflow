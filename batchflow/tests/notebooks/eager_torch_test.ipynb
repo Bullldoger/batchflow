{
 "cells": [
  {
   "cell_type": "code",
   "execution_count": 1,
   "metadata": {
    "ExecuteTime": {
     "end_time": "2019-10-24T10:34:27.380509Z",
     "start_time": "2019-10-24T10:34:25.632782Z"
    }
   },
   "outputs": [],
   "source": [
    "%load_ext autoreload\n",
    "%autoreload 2\n",
    "import os\n",
    "import sys\n",
    "import warnings\n",
    "\n",
    "import numpy as np\n",
    "import matplotlib.pyplot as plt\n",
    "import torch.nn as nn\n",
    "\n",
    "sys.path.append(\"../../..\")\n",
    "from batchflow import *\n",
    "from batchflow.opensets import MNIST\n",
    "from batchflow.models.eager_torch import EagerTorch"
   ]
  },
  {
   "cell_type": "markdown",
   "metadata": {},
   "source": [
    "# Setup"
   ]
  },
  {
   "cell_type": "code",
   "execution_count": 2,
   "metadata": {
    "ExecuteTime": {
     "end_time": "2019-10-24T10:34:28.767138Z",
     "start_time": "2019-10-24T10:34:27.382755Z"
    }
   },
   "outputs": [
    {
     "name": "stdout",
     "output_type": "stream",
     "text": [
      "\n",
      "Microbatching is: None\n",
      "\n",
      "Device is: None\n"
     ]
    }
   ],
   "source": [
    "mnist = MNIST(batch_class=ImagesBatch)\n",
    "\n",
    "if __name__ == '__main__':\n",
    "    MICROBATCH = None\n",
    "    DEVICE = None\n",
    "\n",
    "print('\\nMicrobatching is: {}'.format(MICROBATCH))\n",
    "print('\\nDevice is: {}'.format(DEVICE))    "
   ]
  },
  {
   "cell_type": "code",
   "execution_count": 3,
   "metadata": {
    "ExecuteTime": {
     "end_time": "2019-10-24T10:34:28.804835Z",
     "start_time": "2019-10-24T10:34:28.770369Z"
    }
   },
   "outputs": [],
   "source": [
    "IMAGE_SHAPE = (1, 28, 28)\n",
    "\n",
    "def get_classification_config(model_class, config):\n",
    "    default_config = {\n",
    "#         'inputs/images/shape': IMAGE_SHAPE,\n",
    "#         'inputs/labels/classes': 10,\n",
    "#         'initial_block/inputs': 'images',\n",
    "        'loss': 'ce',\n",
    "        'microbatch': MICROBATCH,\n",
    "        'device': DEVICE,\n",
    "    }\n",
    "\n",
    "    pipeline_config = {\n",
    "        'model': model_class,\n",
    "        'model_config': {**default_config, **config},\n",
    "        'feed_dict': {'images': B('images'),\n",
    "                      'labels': B('labels')},\n",
    "    }\n",
    "    return pipeline_config\n",
    "\n",
    "def get_segmentation_config(model_class, config):\n",
    "    default_config = {\n",
    "        'inputs/images/shape': IMAGE_SHAPE,\n",
    "        'inputs/masks/shape': IMAGE_SHAPE,\n",
    "        'initial_block/inputs': 'images',\n",
    "        'body/decoder/blocks/combine_op': 'concat', # for some reason `concat` is not working from within pytest \n",
    "        'loss': 'mse',\n",
    "        'microbatch': MICROBATCH,\n",
    "        'device': DEVICE,\n",
    "    }\n",
    "    \n",
    "    pipeline_config = {\n",
    "        'model': model_class,\n",
    "        'model_config': {**default_config, **config},\n",
    "        'feed_dict': {'images': B('images'),\n",
    "                      'masks': B('images')},\n",
    "    }\n",
    "    return pipeline_config"
   ]
  },
  {
   "cell_type": "code",
   "execution_count": 4,
   "metadata": {
    "ExecuteTime": {
     "end_time": "2019-10-24T10:34:28.849156Z",
     "start_time": "2019-10-24T10:34:28.809058Z"
    }
   },
   "outputs": [],
   "source": [
    "def get_pipeline(pipeline_config):\n",
    "    \"\"\" Pipeline config must contain 'model', 'model_config', 'feed_dict' keys. \"\"\"\n",
    "    vals = pipeline_config['feed_dict'].values()\n",
    "\n",
    "    pipeline = (Pipeline(config=pipeline_config)\n",
    "                .init_variable('loss_history', [])\n",
    "#                 .multiply(multiplier=1/255., preserve_type=False)\n",
    "                .to_array(channels='first', dtype='float32')\n",
    "                .init_model('dynamic', C('model'),\n",
    "                            'MODEL', config=C('model_config'))\n",
    "                .train_model('MODEL', *vals,\n",
    "                             fetches='loss',\n",
    "                             save_to=V('loss_history', mode='a'))\n",
    "                )\n",
    "    return pipeline"
   ]
  },
  {
   "cell_type": "code",
   "execution_count": 5,
   "metadata": {
    "ExecuteTime": {
     "end_time": "2019-10-24T10:34:28.890068Z",
     "start_time": "2019-10-24T10:34:28.850858Z"
    }
   },
   "outputs": [],
   "source": [
    "def run(task, model_class, config, description, batch_size=16, n_iters=10):\n",
    "    if task.startswith('c'):\n",
    "        pipeline_config = get_classification_config(model_class, config)\n",
    "    elif task.startswith('s'):\n",
    "        pipeline_config = get_segmentation_config(model_class, config)\n",
    "        \n",
    "    train_pipeline = get_pipeline(pipeline_config) << mnist.train\n",
    "    _ = train_pipeline.run(batch_size, n_iters=n_iters, bar=True,\n",
    "                           bar_desc=W(V('loss_history')[-1].format('Loss is {:7.7}')))\n",
    "    \n",
    "    print('{} {} is done'.format(task, description))\n",
    "    return train_pipeline"
   ]
  },
  {
   "cell_type": "markdown",
   "metadata": {},
   "source": [
    "# Classification"
   ]
  },
  {
   "cell_type": "code",
   "execution_count": 6,
   "metadata": {
    "ExecuteTime": {
     "end_time": "2019-10-24T10:34:28.943108Z",
     "start_time": "2019-10-24T10:34:28.893894Z"
    }
   },
   "outputs": [
    {
     "name": "stdout",
     "output_type": "stream",
     "text": [
      "_BUILD IN BUILD\n",
      "ConvBlock layout fafaf\n"
     ]
    }
   ],
   "source": [
    "default_config = {\n",
    "    'inputs/images/shape': IMAGE_SHAPE,\n",
    "    'inputs/labels/classes': 10,\n",
    "    'initial_block/inputs': 'images',\n",
    "    'initial_block': {'layout': 'fafaf', 'units': [128, 256, 10]},\n",
    "    'loss': 'ce',\n",
    "    'microbatch': MICROBATCH,\n",
    "    'device': DEVICE,\n",
    "}\n",
    "\n",
    "model = EagerTorch(default_config)"
   ]
  },
  {
   "cell_type": "code",
   "execution_count": 7,
   "metadata": {
    "ExecuteTime": {
     "end_time": "2019-10-24T10:34:28.978797Z",
     "start_time": "2019-10-24T10:34:28.945652Z"
    }
   },
   "outputs": [
    {
     "data": {
      "text/plain": [
       "Sequential(\n",
       "  (0): ConvBlock(\n",
       "    (block): Sequential(\n",
       "      (0): Dense(\n",
       "        (linear): Linear(in_features=784, out_features=128, bias=True)\n",
       "      )\n",
       "      (1): Activation(\n",
       "        (activation): ReLU(inplace=True)\n",
       "      )\n",
       "      (2): Dense(\n",
       "        (linear): Linear(in_features=128, out_features=256, bias=True)\n",
       "      )\n",
       "      (3): Activation(\n",
       "        (activation): ReLU(inplace=True)\n",
       "      )\n",
       "      (4): Dense(\n",
       "        (linear): Linear(in_features=256, out_features=10, bias=True)\n",
       "      )\n",
       "    )\n",
       "  )\n",
       ")"
      ]
     },
     "execution_count": 7,
     "metadata": {},
     "output_type": "execute_result"
    }
   ],
   "source": [
    "model.model"
   ]
  },
  {
   "cell_type": "code",
   "execution_count": 8,
   "metadata": {
    "ExecuteTime": {
     "end_time": "2019-10-24T10:34:29.017622Z",
     "start_time": "2019-10-24T10:34:28.981858Z"
    }
   },
   "outputs": [],
   "source": [
    "class Dense(nn.Module):\n",
    "    def __init__(self, units=None, out_features=None, bias=True, inputs=None):\n",
    "        super().__init__()\n",
    "\n",
    "        in_units = np.prod(inputs.shape[1:])\n",
    "        units = units or out_features\n",
    "        self.linear = nn.Linear(in_units, units, bias)\n",
    "\n",
    "    def forward(self, x):\n",
    "        \"\"\" Make forward pass \"\"\"\n",
    "        if x.dim() > 2:\n",
    "            x = x.view(x.size(0), -1)\n",
    "        return self.linear(x)"
   ]
  },
  {
   "cell_type": "code",
   "execution_count": 9,
   "metadata": {
    "ExecuteTime": {
     "end_time": "2019-10-24T10:34:34.442088Z",
     "start_time": "2019-10-24T10:34:29.020059Z"
    },
    "scrolled": true
   },
   "outputs": [
    {
     "name": "stderr",
     "output_type": "stream",
     "text": [
      "Loss is 2.349083:   0%|          | 0/200 [00:00<?, ?it/s]"
     ]
    },
    {
     "name": "stdout",
     "output_type": "stream",
     "text": [
      "_BUILD IN TRAIN\n",
      "ConvBlock layout fafaf\n",
      "ConvBlock layout fafa\n",
      "ConvBlock layout faf\n"
     ]
    },
    {
     "name": "stderr",
     "output_type": "stream",
     "text": [
      "Loss is 0.5174713: 100%|██████████| 200/200 [00:05<00:00, 41.98it/s]"
     ]
    },
    {
     "name": "stdout",
     "output_type": "stream",
     "text": [
      "classification simple fc is done\n"
     ]
    },
    {
     "name": "stderr",
     "output_type": "stream",
     "text": [
      "\n"
     ]
    }
   ],
   "source": [
    "config = {\n",
    "    'initial_block': {'layout': 'fafaf',\n",
    "                      'units': [512, 256, 10]},\n",
    "#     'body': {'module': Dense, 'module_kwargs': {'units': 10}},\n",
    "    'body': {'layout': 'fa'*2,\n",
    "             'units': [256, 10]},\n",
    "    'head': {'layout': 'faf',\n",
    "             'units': [600,10]},\n",
    "}\n",
    "\n",
    "ppl = run('classification', EagerTorch, config, 'simple fc', n_iters=200, batch_size=64)"
   ]
  },
  {
   "cell_type": "code",
   "execution_count": 10,
   "metadata": {
    "ExecuteTime": {
     "end_time": "2019-10-24T10:34:36.291224Z",
     "start_time": "2019-10-24T10:34:34.444742Z"
    }
   },
   "outputs": [
    {
     "name": "stderr",
     "output_type": "stream",
     "text": [
      "WARNING:root:`init_on_each_run` in `metrics` is obsolete. Use `default` instead.\n",
      "100%|██████████| 157/157 [00:01<00:00, 86.97it/s]\n"
     ]
    }
   ],
   "source": [
    "test_pipeline = (mnist.test.p\n",
    "                .import_model('MODEL', ppl)\n",
    "                .init_variable('predictions') \n",
    "                .init_variable('metrics', init_on_each_run=None) \n",
    "                .to_array(channels='first', dtype='float32')\n",
    "                .predict_model('MODEL', B.images,\n",
    "                               fetches='predictions', save_to=V('predictions'))\n",
    "                .gather_metrics('class', targets=B.labels, predictions=V('predictions'),\n",
    "                                fmt='logits', axis=-1, save_to=V('metrics', mode='w'))\n",
    "                .run(64, shuffle=True, n_epochs=1, drop_last=False, bar=True)\n",
    ")"
   ]
  },
  {
   "cell_type": "code",
   "execution_count": 11,
   "metadata": {
    "ExecuteTime": {
     "end_time": "2019-10-24T10:34:36.613435Z",
     "start_time": "2019-10-24T10:34:36.292884Z"
    }
   },
   "outputs": [
    {
     "data": {
      "text/plain": [
       "[<matplotlib.lines.Line2D at 0x7fc5221cf5c0>]"
      ]
     },
     "execution_count": 11,
     "metadata": {},
     "output_type": "execute_result"
    },
    {
     "data": {
      "image/png": "[encoded data removed]",
      "text/plain": [
       "<Figure size 432x288 with 1 Axes>"
      ]
     },
     "metadata": {
      "needs_background": "light"
     },
     "output_type": "display_data"
    }
   ],
   "source": [
    "plt.plot(ppl.v('loss_history'))"
   ]
  },
  {
   "cell_type": "code",
   "execution_count": 12,
   "metadata": {
    "ExecuteTime": {
     "end_time": "2019-10-24T10:34:36.663751Z",
     "start_time": "2019-10-24T10:34:36.618501Z"
    }
   },
   "outputs": [
    {
     "data": {
      "text/plain": [
       "1.0"
      ]
     },
     "execution_count": 12,
     "metadata": {},
     "output_type": "execute_result"
    }
   ],
   "source": [
    "metrics = test_pipeline.get_variable('metrics')\n",
    "metrics.evaluate('accuracy')"
   ]
  },
  {
   "cell_type": "code",
   "execution_count": 13,
   "metadata": {
    "ExecuteTime": {
     "end_time": "2019-10-24T10:34:36.717162Z",
     "start_time": "2019-10-24T10:34:36.668880Z"
    }
   },
   "outputs": [
    {
     "data": {
      "text/plain": [
       "Sequential(\n",
       "  (0): ConvBlock(\n",
       "    (block): Sequential(\n",
       "      (0): Dense(\n",
       "        (linear): Linear(in_features=784, out_features=512, bias=True)\n",
       "      )\n",
       "      (1): Activation(\n",
       "        (activation): ReLU(inplace=True)\n",
       "      )\n",
       "      (2): Dense(\n",
       "        (linear): Linear(in_features=512, out_features=256, bias=True)\n",
       "      )\n",
       "      (3): Activation(\n",
       "        (activation): ReLU(inplace=True)\n",
       "      )\n",
       "      (4): Dense(\n",
       "        (linear): Linear(in_features=256, out_features=10, bias=True)\n",
       "      )\n",
       "    )\n",
       "  )\n",
       "  (1): ConvBlock(\n",
       "    (block): Sequential(\n",
       "      (0): Dense(\n",
       "        (linear): Linear(in_features=10, out_features=256, bias=True)\n",
       "      )\n",
       "      (1): Activation(\n",
       "        (activation): ReLU(inplace=True)\n",
       "      )\n",
       "      (2): Dense(\n",
       "        (linear): Linear(in_features=256, out_features=10, bias=True)\n",
       "      )\n",
       "      (3): Activation(\n",
       "        (activation): ReLU(inplace=True)\n",
       "      )\n",
       "    )\n",
       "  )\n",
       "  (2): ConvBlock(\n",
       "    (block): Sequential(\n",
       "      (0): Dense(\n",
       "        (linear): Linear(in_features=10, out_features=600, bias=True)\n",
       "      )\n",
       "      (1): Activation(\n",
       "        (activation): ReLU(inplace=True)\n",
       "      )\n",
       "      (2): Dense(\n",
       "        (linear): Linear(in_features=600, out_features=10, bias=True)\n",
       "      )\n",
       "    )\n",
       "  )\n",
       ")"
      ]
     },
     "execution_count": 13,
     "metadata": {},
     "output_type": "execute_result"
    }
   ],
   "source": [
    "ppl.get_model_by_name('MODEL').model"
   ]
  },
  {
   "cell_type": "markdown",
   "metadata": {},
   "source": [
    "# Segmentation"
   ]
  },
  {
   "cell_type": "code",
   "execution_count": 14,
   "metadata": {
    "ExecuteTime": {
     "end_time": "2019-10-24T10:34:36.769449Z",
     "start_time": "2019-10-24T10:34:36.723235Z"
    },
    "scrolled": true
   },
   "outputs": [],
   "source": [
    "# config = {\n",
    "#     'initial_block/filters': 4,\n",
    "#     'body/encoder': {'num_stages': 3},\n",
    "# }\n",
    "\n",
    "# ppl = run('segmentation', EagerTorch, config, 'unet')"
   ]
  },
  {
   "cell_type": "code",
   "execution_count": null,
   "metadata": {},
   "outputs": [],
   "source": []
  }
 ],
 "metadata": {
  "kernelspec": {
   "display_name": "Python 3",
   "language": "python",
   "name": "python3"
  },
  "language_info": {
   "codemirror_mode": {
    "name": "ipython",
    "version": 3
   },
   "file_extension": ".py",
   "mimetype": "text/x-python",
   "name": "python",
   "nbconvert_exporter": "python",
   "pygments_lexer": "ipython3",
   "version": "3.7.3"
  },
  "varInspector": {
   "cols": {
    "lenName": 16,
    "lenType": 16,
    "lenVar": 40
   },
   "kernels_config": {
    "python": {
     "delete_cmd_postfix": "",
     "delete_cmd_prefix": "del ",
     "library": "var_list.py",
     "varRefreshCmd": "print(var_dic_list())"
    },
    "r": {
     "delete_cmd_postfix": ") ",
     "delete_cmd_prefix": "rm(",
     "library": "var_list.r",
     "varRefreshCmd": "cat(var_dic_list()) "
    }
   },
   "types_to_exclude": [
    "module",
    "function",
    "builtin_function_or_method",
    "instance",
    "_Feature"
   ],
   "window_display": false
  }
 },
 "nbformat": 4,
 "nbformat_minor": 2
}
