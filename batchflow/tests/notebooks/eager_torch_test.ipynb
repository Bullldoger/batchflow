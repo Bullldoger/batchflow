{
 "cells": [
  {
   "cell_type": "code",
   "execution_count": 1,
   "metadata": {
    "ExecuteTime": {
     "end_time": "2019-11-21T14:39:22.068241Z",
     "start_time": "2019-11-21T14:39:20.312713Z"
    }
   },
   "outputs": [],
   "source": [
    "%load_ext autoreload\n",
    "%autoreload 2\n",
    "import os\n",
    "import sys\n",
    "import warnings\n",
    "\n",
    "import numpy as np\n",
    "import matplotlib.pyplot as plt\n",
    "import torch\n",
    "import torch.nn as nn\n",
    "\n",
    "sys.path.append(\"../../..\")\n",
    "from batchflow import *\n",
    "from batchflow.opensets import MNIST\n",
    "from batchflow.models.eager_torch import *\n",
    "from batchflow.models.eager_torch.layers import ConvBlock, update_layers\n",
    "\n",
    "# Set GPU\n",
    "# %env CUDA_VISIBLE_DEVICES=6"
   ]
  },
  {
   "cell_type": "markdown",
   "metadata": {},
   "source": [
    "# Setup"
   ]
  },
  {
   "cell_type": "code",
   "execution_count": 2,
   "metadata": {
    "ExecuteTime": {
     "end_time": "2019-11-21T14:39:23.517308Z",
     "start_time": "2019-11-21T14:39:22.073694Z"
    }
   },
   "outputs": [
    {
     "name": "stdout",
     "output_type": "stream",
     "text": [
      "\n",
      "Microbatching is: None\n",
      "\n",
      "Device is: None\n"
     ]
    }
   ],
   "source": [
    "mnist = MNIST(batch_class=ImagesBatch)\n",
    "\n",
    "if __name__ == '__main__':\n",
    "    MICROBATCH = None\n",
    "    DEVICE = None\n",
    "\n",
    "print('\\nMicrobatching is: {}'.format(MICROBATCH))\n",
    "print('\\nDevice is: {}'.format(DEVICE))    "
   ]
  },
  {
   "cell_type": "code",
   "execution_count": 3,
   "metadata": {
    "ExecuteTime": {
     "end_time": "2019-11-21T14:39:23.567681Z",
     "start_time": "2019-11-21T14:39:23.520490Z"
    }
   },
   "outputs": [],
   "source": [
    "IMAGE_SHAPE = (1, 28, 28)\n",
    "\n",
    "def get_classification_config(model_class, config):\n",
    "    default_config = {\n",
    "#         'inputs/images/shape': IMAGE_SHAPE,\n",
    "#         'inputs/labels/classes': 10,\n",
    "#         'initial_block/inputs': 'images',\n",
    "        'loss': 'ce',\n",
    "        'microbatch': MICROBATCH,\n",
    "        'device': DEVICE,\n",
    "    }\n",
    "\n",
    "    pipeline_config = {\n",
    "        'model': model_class,\n",
    "        'model_config': {**default_config, **config},\n",
    "        'feed_dict': {'images': B('images'),\n",
    "                      'labels': B('labels')},\n",
    "    }\n",
    "    return pipeline_config\n",
    "\n",
    "def get_segmentation_config(model_class, config):\n",
    "    default_config = {\n",
    "#         'inputs/images/shape': IMAGE_SHAPE,\n",
    "#         'inputs/masks/shape': IMAGE_SHAPE,\n",
    "#         'initial_block/inputs': 'images',\n",
    "        'body/decoder/blocks/combine_op': 'concat', # for some reason `concat` is not working from within pytest \n",
    "        'loss': 'mse',\n",
    "        'microbatch': MICROBATCH,\n",
    "        'device': DEVICE,\n",
    "    }\n",
    "    \n",
    "    pipeline_config = {\n",
    "        'model': model_class,\n",
    "        'model_config': {**default_config, **config},\n",
    "        'feed_dict': {'images': B('images'),\n",
    "                      'masks': B('images')},\n",
    "    }\n",
    "    return pipeline_config"
   ]
  },
  {
   "cell_type": "code",
   "execution_count": 4,
   "metadata": {
    "ExecuteTime": {
     "end_time": "2019-11-21T14:39:23.627045Z",
     "start_time": "2019-11-21T14:39:23.571807Z"
    }
   },
   "outputs": [],
   "source": [
    "def get_pipeline(pipeline_config):\n",
    "    \"\"\" Pipeline config must contain 'model', 'model_config', 'feed_dict' keys. \"\"\"\n",
    "    vals = pipeline_config['feed_dict'].pop('images'), list(pipeline_config['feed_dict'].values())[0]\n",
    "\n",
    "    pipeline = (Pipeline(config=pipeline_config)\n",
    "                .init_variable('loss_history', [])\n",
    "#                 .multiply(multiplier=1/255., preserve_type=False)\n",
    "                .to_array(channels='first', dtype='float32')\n",
    "                .init_model('dynamic', C('model'),\n",
    "                            'MODEL', config=C('model_config'))\n",
    "                .train_model('MODEL', *vals,\n",
    "                             fetches='loss',\n",
    "                             save_to=V('loss_history', mode='a'))\n",
    "                )\n",
    "    return pipeline"
   ]
  },
  {
   "cell_type": "code",
   "execution_count": 5,
   "metadata": {
    "ExecuteTime": {
     "end_time": "2019-11-21T14:39:23.658709Z",
     "start_time": "2019-11-21T14:39:23.628820Z"
    }
   },
   "outputs": [],
   "source": [
    "def run(task, model_class, config, description, batch_size=16, n_iters=10):\n",
    "    if task.startswith('c'):\n",
    "        pipeline_config = get_classification_config(model_class, config)\n",
    "    elif task.startswith('s'):\n",
    "        pipeline_config = get_segmentation_config(model_class, config)\n",
    "        \n",
    "    train_pipeline = get_pipeline(pipeline_config) << mnist.train\n",
    "    _ = train_pipeline.run(batch_size, n_iters=n_iters, bar=True,\n",
    "                           bar_desc=W(V('loss_history')[-1].format('Loss is {:7.7}')))\n",
    "    \n",
    "    print('{} {} is done'.format(task, description))\n",
    "    return train_pipeline"
   ]
  },
  {
   "cell_type": "markdown",
   "metadata": {},
   "source": [
    "# Classification"
   ]
  },
  {
   "cell_type": "code",
   "execution_count": 6,
   "metadata": {
    "ExecuteTime": {
     "end_time": "2019-11-21T14:39:37.967557Z",
     "start_time": "2019-11-21T14:39:23.660311Z"
    },
    "scrolled": true
   },
   "outputs": [
    {
     "name": "stderr",
     "output_type": "stream",
     "text": [
      "Loss is 0.1305761: 100%|██████████| 100/100 [00:14<00:00,  7.17it/s]"
     ]
    },
    {
     "name": "stdout",
     "output_type": "stream",
     "text": [
      "classification simple fc is done\n"
     ]
    },
    {
     "name": "stderr",
     "output_type": "stream",
     "text": [
      "\n"
     ]
    }
   ],
   "source": [
    "config = {\n",
    "#     'inputs/images/shape': IMAGE_SHAPE,\n",
    "    'inputs/labels/classes': 10,\n",
    "#     'initial_block/inputs': 'images',\n",
    "    'initial_block': {'layout': 'cna', 'filters': 8},\n",
    "    'body/encoder': {'num_stages': 5},\n",
    "    'head': {'layout': 'faf', 'units': [50, 10]}\n",
    "}\n",
    "\n",
    "\n",
    "ppl = run('classification', Encoder, config, 'simple fc', n_iters=100, batch_size=64)"
   ]
  },
  {
   "cell_type": "code",
   "execution_count": 7,
   "metadata": {
    "ExecuteTime": {
     "end_time": "2019-11-21T14:39:38.230802Z",
     "start_time": "2019-11-21T14:39:37.970053Z"
    }
   },
   "outputs": [
    {
     "data": {
      "text/plain": [
       "[<matplotlib.lines.Line2D at 0x7f674111df28>]"
      ]
     },
     "execution_count": 7,
     "metadata": {},
     "output_type": "execute_result"
    },
    {
     "data": {
      "image/png": "[encoded data removed]",
      "text/plain": [
       "<Figure size 432x288 with 1 Axes>"
      ]
     },
     "metadata": {
      "needs_background": "light"
     },
     "output_type": "display_data"
    }
   ],
   "source": [
    "plt.plot(ppl.v('loss_history'))"
   ]
  },
  {
   "cell_type": "code",
   "execution_count": 8,
   "metadata": {
    "ExecuteTime": {
     "end_time": "2019-11-21T14:39:40.435732Z",
     "start_time": "2019-11-21T14:39:38.236986Z"
    }
   },
   "outputs": [
    {
     "name": "stderr",
     "output_type": "stream",
     "text": [
      "Loss is 0.49404: 100%|██████████| 99/99 [00:02<00:00, 46.04it/s]  "
     ]
    },
    {
     "name": "stdout",
     "output_type": "stream",
     "text": [
      "classification simple fc is done\n"
     ]
    },
    {
     "name": "stderr",
     "output_type": "stream",
     "text": [
      "\n"
     ]
    }
   ],
   "source": [
    "config = {\n",
    "#     'inputs/images/shape': IMAGE_SHAPE,\n",
    "#     'inputs/labels/classes': 10,\n",
    "#     'initial_block/inputs': 'images',\n",
    "    'loss': ['ce', 'ce'],\n",
    "    'decay': 'exp',\n",
    "    'n_iters': 25,\n",
    "    'train_steps': {'a': {}, 'b': {}},\n",
    "    'initial_block': {'layout': 'fafaf', 'units': [128, 256, 10]},\n",
    "    'order': ['initial_block', ('ib_2', 'initial_block', EagerTorch.initial_block)],\n",
    "}\n",
    "\n",
    "\n",
    "ppl = run('classification', EagerTorch, config, 'simple fc', n_iters=99, batch_size=64)"
   ]
  },
  {
   "cell_type": "code",
   "execution_count": 9,
   "metadata": {
    "ExecuteTime": {
     "end_time": "2019-11-21T14:39:40.684304Z",
     "start_time": "2019-11-21T14:39:40.438704Z"
    }
   },
   "outputs": [
    {
     "data": {
      "text/plain": [
       "[<matplotlib.lines.Line2D at 0x7f674105cb00>]"
      ]
     },
     "execution_count": 9,
     "metadata": {},
     "output_type": "execute_result"
    },
    {
     "data": {
      "image/png": "[encoded data removed]",
      "text/plain": [
       "<Figure size 432x288 with 1 Axes>"
      ]
     },
     "metadata": {
      "needs_background": "light"
     },
     "output_type": "display_data"
    }
   ],
   "source": [
    "plt.plot(ppl.v('loss_history'))"
   ]
  },
  {
   "cell_type": "code",
   "execution_count": 10,
   "metadata": {
    "ExecuteTime": {
     "end_time": "2019-11-21T14:39:40.721483Z",
     "start_time": "2019-11-21T14:39:40.686545Z"
    }
   },
   "outputs": [],
   "source": [
    "from batchflow.models.eager_torch.layers import Combine\n",
    "\n",
    "class TestModel(EagerTorch):\n",
    "    @classmethod\n",
    "    def body(cls, inputs, **kwargs):\n",
    "        \"\"\" Truly amazing docstring. \"\"\"\n",
    "        kwargs = cls.get_defaults('body', kwargs)\n",
    "        return BodyModule(inputs=inputs, **kwargs)\n",
    "    \n",
    "class BodyModule(nn.Module):\n",
    "    def __init__(self, inputs=None, **kwargs):\n",
    "        super().__init__()\n",
    "        self.x1 = ConvBlock(inputs=inputs, **kwargs)\n",
    "        self.x2 = ConvBlock(inputs=inputs, **kwargs)\n",
    "        \n",
    "        self.combine = Combine(op='concat')\n",
    "        \n",
    "    def forward(self, x):\n",
    "        x1 = self.x1(x)\n",
    "        x2 = self.x2(x)\n",
    "        return self.combine([x1, x2])"
   ]
  },
  {
   "cell_type": "code",
   "execution_count": 11,
   "metadata": {
    "ExecuteTime": {
     "end_time": "2019-11-21T14:39:47.390049Z",
     "start_time": "2019-11-21T14:39:40.723763Z"
    },
    "scrolled": true
   },
   "outputs": [
    {
     "name": "stderr",
     "output_type": "stream",
     "text": [
      "Loss is 0.1429511: 100%|██████████| 50/50 [00:06<00:00,  7.80it/s]"
     ]
    },
    {
     "name": "stdout",
     "output_type": "stream",
     "text": [
      "classification simple fc is done\n"
     ]
    },
    {
     "name": "stderr",
     "output_type": "stream",
     "text": [
      "\n"
     ]
    }
   ],
   "source": [
    "config = {\n",
    "    'initial_block': {'layout': 'Rcna. p cnap',\n",
    "                      'filters': [16, 32], 'scale_factor': 2,},\n",
    "#     'body': {'layout': 'ca'*2,\n",
    "#              'filters': [32, 32]},\n",
    "    'body': {'module': BodyModule, 'module_kwargs': {'layout': 'cnacna',\n",
    "                                                     'filters': [32, 32]}\n",
    "             },\n",
    "    'head': {'layout': 'Dnfaf',\n",
    "             'units': [600,10], 'dropout_rate': 0.3},\n",
    "}\n",
    "\n",
    "ppl = run('classification', TestModel, config, 'simple fc', n_iters=50, batch_size=64)"
   ]
  },
  {
   "cell_type": "code",
   "execution_count": 12,
   "metadata": {
    "ExecuteTime": {
     "end_time": "2019-11-21T14:39:47.632466Z",
     "start_time": "2019-11-21T14:39:47.392001Z"
    }
   },
   "outputs": [
    {
     "data": {
      "text/plain": [
       "[<matplotlib.lines.Line2D at 0x7f6740111438>]"
      ]
     },
     "execution_count": 12,
     "metadata": {},
     "output_type": "execute_result"
    },
    {
     "data": {
      "image/png": "[encoded data removed]",
      "text/plain": [
       "<Figure size 432x288 with 1 Axes>"
      ]
     },
     "metadata": {
      "needs_background": "light"
     },
     "output_type": "display_data"
    }
   ],
   "source": [
    "plt.plot(ppl.v('loss_history'))"
   ]
  },
  {
   "cell_type": "code",
   "execution_count": 13,
   "metadata": {
    "ExecuteTime": {
     "end_time": "2019-11-21T14:39:52.325122Z",
     "start_time": "2019-11-21T14:39:47.634450Z"
    },
    "scrolled": true
   },
   "outputs": [
    {
     "name": "stderr",
     "output_type": "stream",
     "text": [
      "WARNING:root:`init_on_each_run` in `metrics` is obsolete. Use `default` instead.\n",
      "100%|██████████| 157/157 [00:04<00:00, 33.74it/s]\n"
     ]
    }
   ],
   "source": [
    "test_pipeline = (mnist.test.p\n",
    "                .import_model('MODEL', ppl)\n",
    "                .init_variable('predictions')\n",
    "                .init_variable('metrics', init_on_each_run=None) \n",
    "                .to_array(channels='first', dtype='float32')\n",
    "#                 .train_model('MODEL', B.images, B.labels,\n",
    "#                                fetches='predictions', save_to=V('predictions'))\n",
    "                .predict_model('MODEL', B.images,\n",
    "                               fetches='predictions', save_to=V('predictions'))\n",
    "                .gather_metrics('class', targets=B.labels, predictions=V('predictions'),\n",
    "                                fmt='logits', axis=-1, save_to=V('metrics', mode='w'))\n",
    "                .run(64, shuffle=True, n_epochs=1, drop_last=False, bar=True)\n",
    ")"
   ]
  },
  {
   "cell_type": "code",
   "execution_count": 14,
   "metadata": {
    "ExecuteTime": {
     "end_time": "2019-11-21T14:39:52.359298Z",
     "start_time": "2019-11-21T14:39:52.327709Z"
    }
   },
   "outputs": [
    {
     "data": {
      "text/plain": [
       "0.9375"
      ]
     },
     "execution_count": 14,
     "metadata": {},
     "output_type": "execute_result"
    }
   ],
   "source": [
    "metrics = test_pipeline.get_variable('metrics')\n",
    "metrics.evaluate('accuracy')"
   ]
  },
  {
   "cell_type": "code",
   "execution_count": 15,
   "metadata": {
    "ExecuteTime": {
     "end_time": "2019-11-21T14:39:52.400067Z",
     "start_time": "2019-11-21T14:39:52.360967Z"
    }
   },
   "outputs": [
    {
     "data": {
      "text/plain": [
       "Sequential(\n",
       "  (initial_block): ConvBlock(\n",
       "    (block_modules): ModuleList(\n",
       "      (0): Sequential(\n",
       "        (Layer 1, letter \"c\"; (None, 1, 28, 28) -> (None, 16, 28, 28)): Conv(\n",
       "          (layer): Conv2d(1, 16, kernel_size=(3, 3), stride=(1, 1))\n",
       "        )\n",
       "        (Layer 2, letter \"n\"; (None, 16, 28, 28) -> (None, 16, 28, 28)): BatchNorm(\n",
       "          (layer): BatchNorm2d(16, eps=1e-05, momentum=0.1, affine=True, track_running_stats=True)\n",
       "        )\n",
       "        (Layer 3, letter \"a\"; (None, 16, 28, 28) -> (None, 16, 28, 28)): Activation(\n",
       "          (activation): ReLU(inplace=True)\n",
       "        )\n",
       "      )\n",
       "      (1): Sequential(\n",
       "        (Layer 5, letter \"p\"; (None, 17, 28, 28) -> (None, 17, 14, 14)): Pool(\n",
       "          (layer): MaxPool(\n",
       "            (layer): MaxPool2d(kernel_size=2, stride=2, padding=0, dilation=1, ceil_mode=False)\n",
       "          )\n",
       "        )\n",
       "        (Layer 6, letter \"c\"; (None, 17, 14, 14) -> (None, 32, 14, 14)): Conv(\n",
       "          (layer): Conv2d(17, 32, kernel_size=(3, 3), stride=(1, 1))\n",
       "        )\n",
       "        (Layer 7, letter \"n\"; (None, 32, 14, 14) -> (None, 32, 14, 14)): BatchNorm(\n",
       "          (layer): BatchNorm2d(32, eps=1e-05, momentum=0.1, affine=True, track_running_stats=True)\n",
       "        )\n",
       "        (Layer 8, letter \"a\"; (None, 32, 14, 14) -> (None, 32, 14, 14)): Activation(\n",
       "          (activation): ReLU(inplace=True)\n",
       "        )\n",
       "        (Layer 9, letter \"p\"; (None, 32, 14, 14) -> (None, 32, 7, 7)): Pool(\n",
       "          (layer): MaxPool(\n",
       "            (layer): MaxPool2d(kernel_size=2, stride=2, padding=0, dilation=1, ceil_mode=False)\n",
       "          )\n",
       "        )\n",
       "      )\n",
       "    )\n",
       "    (skip_modules): ModuleList(\n",
       "      (0): Sequential(\n",
       "        (Layer 0, skip-letter \"R\"; (64, 1, 28, 28) -> (64, 1, 28, 28)): Identity()\n",
       "      )\n",
       "    )\n",
       "    (combine_modules): ModuleList(\n",
       "      (0): Sequential(\n",
       "        (Layer 4: combine; (None, 16, 28, 28) -> (None, 17, 28, 28)): Combine(op=.)\n",
       "      )\n",
       "    )\n",
       "  )\n",
       "  (body): BodyModule(\n",
       "    (x1): ConvBlock(\n",
       "      (block_modules): ModuleList(\n",
       "        (0): Sequential(\n",
       "          (Layer 0, letter \"c\"; (None, 32, 7, 7) -> (None, 32, 7, 7)): Conv(\n",
       "            (layer): Conv2d(32, 32, kernel_size=(3, 3), stride=(1, 1))\n",
       "          )\n",
       "          (Layer 1, letter \"n\"; (None, 32, 7, 7) -> (None, 32, 7, 7)): BatchNorm(\n",
       "            (layer): BatchNorm2d(32, eps=1e-05, momentum=0.1, affine=True, track_running_stats=True)\n",
       "          )\n",
       "          (Layer 2, letter \"a\"; (None, 32, 7, 7) -> (None, 32, 7, 7)): Activation(\n",
       "            (activation): ReLU(inplace=True)\n",
       "          )\n",
       "          (Layer 3, letter \"c\"; (None, 32, 7, 7) -> (None, 32, 7, 7)): Conv(\n",
       "            (layer): Conv2d(32, 32, kernel_size=(3, 3), stride=(1, 1))\n",
       "          )\n",
       "          (Layer 4, letter \"n\"; (None, 32, 7, 7) -> (None, 32, 7, 7)): BatchNorm(\n",
       "            (layer): BatchNorm2d(32, eps=1e-05, momentum=0.1, affine=True, track_running_stats=True)\n",
       "          )\n",
       "          (Layer 5, letter \"a\"; (None, 32, 7, 7) -> (None, 32, 7, 7)): Activation(\n",
       "            (activation): ReLU(inplace=True)\n",
       "          )\n",
       "        )\n",
       "      )\n",
       "    )\n",
       "    (x2): ConvBlock(\n",
       "      (block_modules): ModuleList(\n",
       "        (0): Sequential(\n",
       "          (Layer 0, letter \"c\"; (None, 32, 7, 7) -> (None, 32, 7, 7)): Conv(\n",
       "            (layer): Conv2d(32, 32, kernel_size=(3, 3), stride=(1, 1))\n",
       "          )\n",
       "          (Layer 1, letter \"n\"; (None, 32, 7, 7) -> (None, 32, 7, 7)): BatchNorm(\n",
       "            (layer): BatchNorm2d(32, eps=1e-05, momentum=0.1, affine=True, track_running_stats=True)\n",
       "          )\n",
       "          (Layer 2, letter \"a\"; (None, 32, 7, 7) -> (None, 32, 7, 7)): Activation(\n",
       "            (activation): ReLU(inplace=True)\n",
       "          )\n",
       "          (Layer 3, letter \"c\"; (None, 32, 7, 7) -> (None, 32, 7, 7)): Conv(\n",
       "            (layer): Conv2d(32, 32, kernel_size=(3, 3), stride=(1, 1))\n",
       "          )\n",
       "          (Layer 4, letter \"n\"; (None, 32, 7, 7) -> (None, 32, 7, 7)): BatchNorm(\n",
       "            (layer): BatchNorm2d(32, eps=1e-05, momentum=0.1, affine=True, track_running_stats=True)\n",
       "          )\n",
       "          (Layer 5, letter \"a\"; (None, 32, 7, 7) -> (None, 32, 7, 7)): Activation(\n",
       "            (activation): ReLU(inplace=True)\n",
       "          )\n",
       "        )\n",
       "      )\n",
       "    )\n",
       "    (combine): Combine(op=concat)\n",
       "  )\n",
       "  (head): ConvBlock(\n",
       "    (block_modules): ModuleList(\n",
       "      (0): Sequential(\n",
       "        (Layer 0, letter \"D\"; (None, 64, 7, 7) -> (None, 64, 7, 7)): AlphaDropout(\n",
       "          (layer): AlphaDropout(p=0.3, inplace=False)\n",
       "        )\n",
       "        (Layer 1, letter \"n\"; (None, 64, 7, 7) -> (None, 64, 7, 7)): BatchNorm(\n",
       "          (layer): BatchNorm2d(64, eps=1e-05, momentum=0.1, affine=True, track_running_stats=True)\n",
       "        )\n",
       "        (Layer 2, letter \"f\"; (None, 64, 7, 7) -> (None, 600)): Dense(\n",
       "          (linear): Linear(in_features=3136, out_features=600, bias=True)\n",
       "        )\n",
       "        (Layer 3, letter \"a\"; (None, 600) -> (None, 600)): Activation(\n",
       "          (activation): ReLU(inplace=True)\n",
       "        )\n",
       "        (Layer 4, letter \"f\"; (None, 600) -> (None, 10)): Dense(\n",
       "          (linear): Linear(in_features=600, out_features=10, bias=True)\n",
       "        )\n",
       "      )\n",
       "    )\n",
       "  )\n",
       ")"
      ]
     },
     "execution_count": 15,
     "metadata": {},
     "output_type": "execute_result"
    }
   ],
   "source": [
    "ppl.get_model_by_name('MODEL').model"
   ]
  },
  {
   "cell_type": "markdown",
   "metadata": {},
   "source": [
    "# Segmentation"
   ]
  },
  {
   "cell_type": "code",
   "execution_count": 16,
   "metadata": {
    "ExecuteTime": {
     "end_time": "2019-11-21T14:39:53.350062Z",
     "start_time": "2019-11-21T14:39:52.405340Z"
    }
   },
   "outputs": [
    {
     "name": "stderr",
     "output_type": "stream",
     "text": [
      "Loss is 6440.979: 100%|██████████| 10/10 [00:00<00:00, 10.93it/s]"
     ]
    },
    {
     "name": "stdout",
     "output_type": "stream",
     "text": [
      "segmentation unet? is done\n"
     ]
    },
    {
     "name": "stderr",
     "output_type": "stream",
     "text": [
      "\n"
     ]
    }
   ],
   "source": [
    "config = {\n",
    "    'initial_block': {'layout': 'cna', 'filters': 8},\n",
    "#     'body/encoder/num_stages': 3,\n",
    "#     'body/encoder/single_return': False,\n",
    "    'body/decoder/num_stages': 3,\n",
    "#     'body/decoder/filters': [32, 48, 64],\n",
    "    'body/decoder/factor': [1, 1, 1],\n",
    "#     'head': {'layout': 'c', 'filters': 1,}\n",
    "}\n",
    "\n",
    "ppl = run('segmentation', Decoder, config, 'unet?', n_iters=10, batch_size=64)"
   ]
  },
  {
   "cell_type": "code",
   "execution_count": 17,
   "metadata": {
    "ExecuteTime": {
     "end_time": "2019-11-21T14:39:53.398949Z",
     "start_time": "2019-11-21T14:39:53.352986Z"
    }
   },
   "outputs": [
    {
     "data": {
      "text/plain": [
       "Sequential(\n",
       "  (initial_block): ConvBlock(\n",
       "    (block_modules): ModuleList(\n",
       "      (0): Sequential(\n",
       "        (Layer 0, letter \"c\"; (None, 1, 28, 28) -> (None, 8, 28, 28)): Conv(\n",
       "          (layer): Conv2d(1, 8, kernel_size=(3, 3), stride=(1, 1))\n",
       "        )\n",
       "        (Layer 1, letter \"n\"; (None, 8, 28, 28) -> (None, 8, 28, 28)): BatchNorm(\n",
       "          (layer): BatchNorm2d(8, eps=1e-05, momentum=0.1, affine=True, track_running_stats=True)\n",
       "        )\n",
       "        (Layer 2, letter \"a\"; (None, 8, 28, 28) -> (None, 8, 28, 28)): Activation(\n",
       "          (activation): ReLU(inplace=True)\n",
       "        )\n",
       "      )\n",
       "    )\n",
       "  )\n",
       "  (body): DecoderModule(\n",
       "    (decoder_b): ModuleList(\n",
       "      (0): DefaultBlock(\n",
       "        (layer): ConvBlock(\n",
       "          (block_modules): ModuleList(\n",
       "            (0): Sequential(\n",
       "              (Layer 0, letter \"c\"; (None, 8, 28, 28) -> (None, 4, 28, 28)): Conv(\n",
       "                (layer): Conv2d(8, 4, kernel_size=(3, 3), stride=(1, 1))\n",
       "              )\n",
       "              (Layer 1, letter \"n\"; (None, 4, 28, 28) -> (None, 4, 28, 28)): BatchNorm(\n",
       "                (layer): BatchNorm2d(4, eps=1e-05, momentum=0.1, affine=True, track_running_stats=True)\n",
       "              )\n",
       "              (Layer 2, letter \"a\"; (None, 4, 28, 28) -> (None, 4, 28, 28)): Activation(\n",
       "                (activation): ReLU(inplace=True)\n",
       "              )\n",
       "            )\n",
       "          )\n",
       "        )\n",
       "      )\n",
       "      (1): DefaultBlock(\n",
       "        (layer): ConvBlock(\n",
       "          (block_modules): ModuleList(\n",
       "            (0): Sequential(\n",
       "              (Layer 0, letter \"c\"; (None, 4, 28, 28) -> (None, 2, 28, 28)): Conv(\n",
       "                (layer): Conv2d(4, 2, kernel_size=(3, 3), stride=(1, 1))\n",
       "              )\n",
       "              (Layer 1, letter \"n\"; (None, 2, 28, 28) -> (None, 2, 28, 28)): BatchNorm(\n",
       "                (layer): BatchNorm2d(2, eps=1e-05, momentum=0.1, affine=True, track_running_stats=True)\n",
       "              )\n",
       "              (Layer 2, letter \"a\"; (None, 2, 28, 28) -> (None, 2, 28, 28)): Activation(\n",
       "                (activation): ReLU(inplace=True)\n",
       "              )\n",
       "            )\n",
       "          )\n",
       "        )\n",
       "      )\n",
       "      (2): DefaultBlock(\n",
       "        (layer): ConvBlock(\n",
       "          (block_modules): ModuleList(\n",
       "            (0): Sequential(\n",
       "              (Layer 0, letter \"c\"; (None, 2, 28, 28) -> (None, 1, 28, 28)): Conv(\n",
       "                (layer): Conv2d(2, 1, kernel_size=(3, 3), stride=(1, 1))\n",
       "              )\n",
       "              (Layer 1, letter \"n\"; (None, 1, 28, 28) -> (None, 1, 28, 28)): BatchNorm(\n",
       "                (layer): BatchNorm2d(1, eps=1e-05, momentum=0.1, affine=True, track_running_stats=True)\n",
       "              )\n",
       "              (Layer 2, letter \"a\"; (None, 1, 28, 28) -> (None, 1, 28, 28)): Activation(\n",
       "                (activation): ReLU(inplace=True)\n",
       "              )\n",
       "            )\n",
       "          )\n",
       "        )\n",
       "      )\n",
       "    )\n",
       "    (decoder_u): ModuleList(\n",
       "      (0): Upsample(\n",
       "        (layer): ConvBlock(\n",
       "          (block_modules): ModuleList(\n",
       "            (0): Sequential(\n",
       "              (Layer 0, letter \"t\"; (None, 8, 28, 28) -> (None, 8, 28, 28)): ConvTranspose(\n",
       "                (layer): ConvTranspose2d(8, 8, kernel_size=(1, 1), stride=(1, 1))\n",
       "              )\n",
       "              (Layer 1, letter \"n\"; (None, 8, 28, 28) -> (None, 8, 28, 28)): BatchNorm(\n",
       "                (layer): BatchNorm2d(8, eps=1e-05, momentum=0.1, affine=True, track_running_stats=True)\n",
       "              )\n",
       "              (Layer 2, letter \"a\"; (None, 8, 28, 28) -> (None, 8, 28, 28)): Activation(\n",
       "                (activation): ReLU(inplace=True)\n",
       "              )\n",
       "            )\n",
       "          )\n",
       "        )\n",
       "      )\n",
       "      (1): Upsample(\n",
       "        (layer): ConvBlock(\n",
       "          (block_modules): ModuleList(\n",
       "            (0): Sequential(\n",
       "              (Layer 0, letter \"t\"; (None, 4, 28, 28) -> (None, 4, 28, 28)): ConvTranspose(\n",
       "                (layer): ConvTranspose2d(4, 4, kernel_size=(1, 1), stride=(1, 1))\n",
       "              )\n",
       "              (Layer 1, letter \"n\"; (None, 4, 28, 28) -> (None, 4, 28, 28)): BatchNorm(\n",
       "                (layer): BatchNorm2d(4, eps=1e-05, momentum=0.1, affine=True, track_running_stats=True)\n",
       "              )\n",
       "              (Layer 2, letter \"a\"; (None, 4, 28, 28) -> (None, 4, 28, 28)): Activation(\n",
       "                (activation): ReLU(inplace=True)\n",
       "              )\n",
       "            )\n",
       "          )\n",
       "        )\n",
       "      )\n",
       "      (2): Upsample(\n",
       "        (layer): ConvBlock(\n",
       "          (block_modules): ModuleList(\n",
       "            (0): Sequential(\n",
       "              (Layer 0, letter \"t\"; (None, 2, 28, 28) -> (None, 2, 28, 28)): ConvTranspose(\n",
       "                (layer): ConvTranspose2d(2, 2, kernel_size=(1, 1), stride=(1, 1))\n",
       "              )\n",
       "              (Layer 1, letter \"n\"; (None, 2, 28, 28) -> (None, 2, 28, 28)): BatchNorm(\n",
       "                (layer): BatchNorm2d(2, eps=1e-05, momentum=0.1, affine=True, track_running_stats=True)\n",
       "              )\n",
       "              (Layer 2, letter \"a\"; (None, 2, 28, 28) -> (None, 2, 28, 28)): Activation(\n",
       "                (activation): ReLU(inplace=True)\n",
       "              )\n",
       "            )\n",
       "          )\n",
       "        )\n",
       "      )\n",
       "    )\n",
       "    (decoder_c): ModuleList()\n",
       "  )\n",
       "  (head): Sequential()\n",
       ")"
      ]
     },
     "execution_count": 17,
     "metadata": {},
     "output_type": "execute_result"
    }
   ],
   "source": [
    "ppl.get_model_by_name('MODEL').model"
   ]
  },
  {
   "cell_type": "code",
   "execution_count": 18,
   "metadata": {
    "ExecuteTime": {
     "end_time": "2019-11-21T14:39:53.693104Z",
     "start_time": "2019-11-21T14:39:53.406911Z"
    }
   },
   "outputs": [
    {
     "data": {
      "text/plain": [
       "[<matplotlib.lines.Line2D at 0x7f67380c41d0>]"
      ]
     },
     "execution_count": 18,
     "metadata": {},
     "output_type": "execute_result"
    },
    {
     "data": {
      "image/png": "[encoded data removed]",
      "text/plain": [
       "<Figure size 432x288 with 1 Axes>"
      ]
     },
     "metadata": {
      "needs_background": "light"
     },
     "output_type": "display_data"
    }
   ],
   "source": [
    "plt.plot(ppl.v('loss_history'))"
   ]
  },
  {
   "cell_type": "code",
   "execution_count": null,
   "metadata": {},
   "outputs": [],
   "source": []
  },
  {
   "cell_type": "code",
   "execution_count": null,
   "metadata": {},
   "outputs": [],
   "source": []
  },
  {
   "cell_type": "code",
   "execution_count": null,
   "metadata": {
    "ExecuteTime": {
     "start_time": "2019-11-21T14:50:29.496Z"
    },
    "scrolled": true
   },
   "outputs": [
    {
     "name": "stderr",
     "output_type": "stream",
     "text": [
      "Loss is 5974.434:  40%|███▉      | 399/1000 [03:20<04:56,  2.03it/s]"
     ]
    }
   ],
   "source": [
    "config = {\n",
    "    'initial_block': {'layout': 'cna', 'filters': 8},\n",
    "    'body/encoder/num_stages': 3,\n",
    "#     'body/decoder/num_stages': 3,\n",
    "#     'head': {'layout': 'c', 'filters': 1,}\n",
    "}\n",
    "\n",
    "ppl = run('segmentation', EncoderDecoder, config, 'unet?', n_iters=1000, batch_size=64)"
   ]
  },
  {
   "cell_type": "code",
   "execution_count": 27,
   "metadata": {
    "ExecuteTime": {
     "end_time": "2019-11-21T14:50:22.499022Z",
     "start_time": "2019-11-21T14:50:22.088970Z"
    }
   },
   "outputs": [
    {
     "data": {
      "text/plain": [
       "[<matplotlib.lines.Line2D at 0x7f673887f080>]"
      ]
     },
     "execution_count": 27,
     "metadata": {},
     "output_type": "execute_result"
    },
    {
     "data": {
      "image/png": "[encoded data removed]",
      "text/plain": [
       "<Figure size 432x288 with 1 Axes>"
      ]
     },
     "metadata": {
      "needs_background": "light"
     },
     "output_type": "display_data"
    }
   ],
   "source": [
    "plt.plot(ppl.v('loss_history'))"
   ]
  },
  {
   "cell_type": "code",
   "execution_count": null,
   "metadata": {},
   "outputs": [],
   "source": []
  },
  {
   "cell_type": "code",
   "execution_count": 21,
   "metadata": {
    "ExecuteTime": {
     "end_time": "2019-11-21T14:40:01.559126Z",
     "start_time": "2019-11-21T14:39:59.145148Z"
    },
    "scrolled": true
   },
   "outputs": [
    {
     "name": "stderr",
     "output_type": "stream",
     "text": [
      "Loss is 6507.598: 100%|██████████| 10/10 [00:02<00:00,  4.34it/s]"
     ]
    },
    {
     "name": "stdout",
     "output_type": "stream",
     "text": [
      "segmentation unet? is done\n"
     ]
    },
    {
     "name": "stderr",
     "output_type": "stream",
     "text": [
      "\n"
     ]
    }
   ],
   "source": [
    "config = {\n",
    "    'step_on_each': 1,\n",
    "    'initial_block': {\n",
    "#         'layout': 'cnap AAbcna++ c',\n",
    "        'layout': 'cnaRp cnaRp tna+ tna+ BScna*+ cnac',\n",
    "        'filters': [16, 32, 32, 16, 'same', 8, 1],\n",
    "        'transposed_conv': {'kernel_size': 2, 'strides': 2},\n",
    "#         'kernel_size': [3, 3, 2, 2, 3, 3, 3],\n",
    "#         'strides':     [1, 1, 2, 2, 1, 1, 1],\n",
    "        'side_branch': {'layout': 'ca', 'filters': 'same'}\n",
    "    },\n",
    "}\n",
    "\n",
    "ppl = run('segmentation', EagerTorch, config, 'unet?', n_iters=10, batch_size=64)"
   ]
  },
  {
   "cell_type": "code",
   "execution_count": 22,
   "metadata": {
    "ExecuteTime": {
     "end_time": "2019-11-21T14:40:01.943860Z",
     "start_time": "2019-11-21T14:40:01.571559Z"
    }
   },
   "outputs": [
    {
     "data": {
      "text/plain": [
       "[<matplotlib.lines.Line2D at 0x7f6737788208>]"
      ]
     },
     "execution_count": 22,
     "metadata": {},
     "output_type": "execute_result"
    },
    {
     "data": {
      "image/png": "[encoded data removed]",
      "text/plain": [
       "<Figure size 432x288 with 1 Axes>"
      ]
     },
     "metadata": {
      "needs_background": "light"
     },
     "output_type": "display_data"
    }
   ],
   "source": [
    "plt.plot(ppl.v('loss_history'))"
   ]
  },
  {
   "cell_type": "code",
   "execution_count": 23,
   "metadata": {
    "ExecuteTime": {
     "end_time": "2019-11-21T14:40:01.994950Z",
     "start_time": "2019-11-21T14:40:01.952790Z"
    },
    "scrolled": true
   },
   "outputs": [
    {
     "data": {
      "text/plain": [
       "Sequential(\n",
       "  (initial_block): ConvBlock(\n",
       "    (block_modules): ModuleList(\n",
       "      (0): Sequential(\n",
       "        (Layer 0, letter \"c\"; (None, 1, 28, 28) -> (None, 16, 28, 28)): Conv(\n",
       "          (layer): Conv2d(1, 16, kernel_size=(3, 3), stride=(1, 1))\n",
       "        )\n",
       "        (Layer 1, letter \"n\"; (None, 16, 28, 28) -> (None, 16, 28, 28)): BatchNorm(\n",
       "          (layer): BatchNorm2d(16, eps=1e-05, momentum=0.1, affine=True, track_running_stats=True)\n",
       "        )\n",
       "        (Layer 2, letter \"a\"; (None, 16, 28, 28) -> (None, 16, 28, 28)): Activation(\n",
       "          (activation): ReLU(inplace=True)\n",
       "        )\n",
       "      )\n",
       "      (1): Sequential(\n",
       "        (Layer 4, letter \"p\"; (None, 16, 28, 28) -> (None, 16, 14, 14)): Pool(\n",
       "          (layer): MaxPool(\n",
       "            (layer): MaxPool2d(kernel_size=2, stride=2, padding=0, dilation=1, ceil_mode=False)\n",
       "          )\n",
       "        )\n",
       "        (Layer 5, letter \"c\"; (None, 16, 14, 14) -> (None, 32, 14, 14)): Conv(\n",
       "          (layer): Conv2d(16, 32, kernel_size=(3, 3), stride=(1, 1))\n",
       "        )\n",
       "        (Layer 6, letter \"n\"; (None, 32, 14, 14) -> (None, 32, 14, 14)): BatchNorm(\n",
       "          (layer): BatchNorm2d(32, eps=1e-05, momentum=0.1, affine=True, track_running_stats=True)\n",
       "        )\n",
       "        (Layer 7, letter \"a\"; (None, 32, 14, 14) -> (None, 32, 14, 14)): Activation(\n",
       "          (activation): ReLU(inplace=True)\n",
       "        )\n",
       "      )\n",
       "      (2): Sequential(\n",
       "        (Layer 9, letter \"p\"; (None, 32, 14, 14) -> (None, 32, 7, 7)): Pool(\n",
       "          (layer): MaxPool(\n",
       "            (layer): MaxPool2d(kernel_size=2, stride=2, padding=0, dilation=1, ceil_mode=False)\n",
       "          )\n",
       "        )\n",
       "        (Layer 10, letter \"t\"; (None, 32, 7, 7) -> (None, 32, 14, 14)): ConvTranspose(\n",
       "          (layer): ConvTranspose2d(32, 32, kernel_size=(2, 2), stride=(2, 2))\n",
       "        )\n",
       "        (Layer 11, letter \"n\"; (None, 32, 14, 14) -> (None, 32, 14, 14)): BatchNorm(\n",
       "          (layer): BatchNorm2d(32, eps=1e-05, momentum=0.1, affine=True, track_running_stats=True)\n",
       "        )\n",
       "        (Layer 12, letter \"a\"; (None, 32, 14, 14) -> (None, 32, 14, 14)): Activation(\n",
       "          (activation): ReLU(inplace=True)\n",
       "        )\n",
       "      )\n",
       "      (3): Sequential(\n",
       "        (Layer 14, letter \"t\"; (None, 32, 14, 14) -> (None, 16, 28, 28)): ConvTranspose(\n",
       "          (layer): ConvTranspose2d(32, 16, kernel_size=(2, 2), stride=(2, 2))\n",
       "        )\n",
       "        (Layer 15, letter \"n\"; (None, 16, 28, 28) -> (None, 16, 28, 28)): BatchNorm(\n",
       "          (layer): BatchNorm2d(16, eps=1e-05, momentum=0.1, affine=True, track_running_stats=True)\n",
       "        )\n",
       "        (Layer 16, letter \"a\"; (None, 16, 28, 28) -> (None, 16, 28, 28)): Activation(\n",
       "          (activation): ReLU(inplace=True)\n",
       "        )\n",
       "      )\n",
       "      (4): Sequential(\n",
       "        (Layer 20, letter \"c\"; (None, 16, 28, 28) -> (None, 16, 28, 28)): Conv(\n",
       "          (layer): Conv2d(16, 16, kernel_size=(3, 3), stride=(1, 1))\n",
       "        )\n",
       "        (Layer 21, letter \"n\"; (None, 16, 28, 28) -> (None, 16, 28, 28)): BatchNorm(\n",
       "          (layer): BatchNorm2d(16, eps=1e-05, momentum=0.1, affine=True, track_running_stats=True)\n",
       "        )\n",
       "        (Layer 22, letter \"a\"; (None, 16, 28, 28) -> (None, 16, 28, 28)): Activation(\n",
       "          (activation): ReLU(inplace=True)\n",
       "        )\n",
       "      )\n",
       "      (5): Sequential(\n",
       "        (Layer 25, letter \"c\"; (None, 16, 28, 28) -> (None, 8, 28, 28)): Conv(\n",
       "          (layer): Conv2d(16, 8, kernel_size=(3, 3), stride=(1, 1))\n",
       "        )\n",
       "        (Layer 26, letter \"n\"; (None, 8, 28, 28) -> (None, 8, 28, 28)): BatchNorm(\n",
       "          (layer): BatchNorm2d(8, eps=1e-05, momentum=0.1, affine=True, track_running_stats=True)\n",
       "        )\n",
       "        (Layer 27, letter \"a\"; (None, 8, 28, 28) -> (None, 8, 28, 28)): Activation(\n",
       "          (activation): ReLU(inplace=True)\n",
       "        )\n",
       "        (Layer 28, letter \"c\"; (None, 8, 28, 28) -> (None, 1, 28, 28)): Conv(\n",
       "          (layer): Conv2d(8, 1, kernel_size=(3, 3), stride=(1, 1))\n",
       "        )\n",
       "      )\n",
       "    )\n",
       "    (skip_modules): ModuleList(\n",
       "      (0): Sequential(\n",
       "        (Layer 3, skip-letter \"R\"; (64, 16, 28, 28) -> (64, 16, 28, 28)): Identity()\n",
       "      )\n",
       "      (1): Sequential(\n",
       "        (Layer 8, skip-letter \"R\"; (64, 32, 14, 14) -> (64, 32, 14, 14)): Identity()\n",
       "      )\n",
       "      (2): Sequential(\n",
       "        (Layer 18, skip-letter \"B\"; (64, 16, 28, 28) -> (64, 16, 28, 28)): SideBlock(\n",
       "          (layer): ConvBlock(\n",
       "            (block_modules): ModuleList(\n",
       "              (0): Sequential(\n",
       "                (Layer 0, letter \"c\"; (None, 16, 28, 28) -> (None, 16, 28, 28)): Conv(\n",
       "                  (layer): Conv2d(16, 16, kernel_size=(3, 3), stride=(1, 1))\n",
       "                )\n",
       "                (Layer 1, letter \"a\"; (None, 16, 28, 28) -> (None, 16, 28, 28)): Activation(\n",
       "                  (activation): ReLU(inplace=True)\n",
       "                )\n",
       "              )\n",
       "            )\n",
       "          )\n",
       "        )\n",
       "      )\n",
       "      (3): Sequential(\n",
       "        (Layer 19, skip-letter \"S\"; (64, 16, 28, 28) -> (64, 16, 1, 1)): SEBlock(\n",
       "          (layer): ConvBlock(\n",
       "            (block_modules): ModuleList(\n",
       "              (0): Sequential(\n",
       "                (Layer 0, letter \"V\"; (None, 16, 28, 28) -> (None, 16)): GlobalPool(\n",
       "                  (pool): AdaptivePool(\n",
       "                    (layer): AdaptiveAvgPool(\n",
       "                      (layer): AdaptiveAvgPool2d(output_size=[1, 1])\n",
       "                    )\n",
       "                  )\n",
       "                )\n",
       "                (Layer 1, letter \"f\"; (None, 16) -> (None, 4)): Dense(\n",
       "                  (linear): Linear(in_features=16, out_features=4, bias=True)\n",
       "                )\n",
       "                (Layer 2, letter \"a\"; (None, 4) -> (None, 4)): Activation(\n",
       "                  (activation): ReLU(inplace=True)\n",
       "                )\n",
       "                (Layer 3, letter \"f\"; (None, 4) -> (None, 16)): Dense(\n",
       "                  (linear): Linear(in_features=4, out_features=16, bias=True)\n",
       "                )\n",
       "                (Layer 4, letter \"a\"; (None, 16) -> (None, 16)): Activation(\n",
       "                  (activation): ReLU(inplace=True)\n",
       "                )\n",
       "              )\n",
       "            )\n",
       "          )\n",
       "        )\n",
       "      )\n",
       "    )\n",
       "    (combine_modules): ModuleList(\n",
       "      (0): Sequential(\n",
       "        (Layer 13: combine; (None, 32, 14, 14) -> (None, 32, 14, 14)): Combine(op=+)\n",
       "      )\n",
       "      (1): Sequential(\n",
       "        (Layer 17: combine; (None, 16, 28, 28) -> (None, 16, 28, 28)): Combine(op=+)\n",
       "      )\n",
       "      (2): Sequential(\n",
       "        (Layer 23: combine; (None, 16, 28, 28) -> (None, 16, 28, 28)): Combine(op=*)\n",
       "      )\n",
       "      (3): Sequential(\n",
       "        (Layer 24: combine; (None, 16, 28, 28) -> (None, 16, 28, 28)): Combine(op=+)\n",
       "      )\n",
       "    )\n",
       "  )\n",
       ")"
      ]
     },
     "execution_count": 23,
     "metadata": {},
     "output_type": "execute_result"
    }
   ],
   "source": [
    "ppl.get_model_by_name('MODEL').model"
   ]
  },
  {
   "cell_type": "code",
   "execution_count": 26,
   "metadata": {
    "ExecuteTime": {
     "end_time": "2019-11-21T14:49:44.956495Z",
     "start_time": "2019-11-21T14:49:44.889199Z"
    }
   },
   "outputs": [
    {
     "ename": "NameError",
     "evalue": "name 'np' is not defined",
     "output_type": "error",
     "traceback": [
      "\u001b[0;31m---------------------------------------------------------------------------\u001b[0m",
      "\u001b[0;31mNameError\u001b[0m                                 Traceback (most recent call last)",
      "\u001b[0;32m<ipython-input-26-d4d7a7fc3813>\u001b[0m in \u001b[0;36m<module>\u001b[0;34m\u001b[0m\n\u001b[0;32m----> 1\u001b[0;31m \u001b[0meval\u001b[0m\u001b[0;34m(\u001b[0m\u001b[0;34m'same+5+np.array(10)'\u001b[0m\u001b[0;34m,\u001b[0m \u001b[0;34m{\u001b[0m\u001b[0;34m}\u001b[0m\u001b[0;34m,\u001b[0m \u001b[0;34m{\u001b[0m\u001b[0;34m'same'\u001b[0m\u001b[0;34m:\u001b[0m \u001b[0;36m10\u001b[0m\u001b[0;34m}\u001b[0m\u001b[0;34m)\u001b[0m\u001b[0;34m\u001b[0m\u001b[0;34m\u001b[0m\u001b[0m\n\u001b[0m",
      "\u001b[0;32m<string>\u001b[0m in \u001b[0;36m<module>\u001b[0;34m\u001b[0m\n",
      "\u001b[0;31mNameError\u001b[0m: name 'np' is not defined"
     ]
    }
   ],
   "source": [
    "eval('same+5+np.array(10)', {}, {'same': 10})"
   ]
  }
 ],
 "metadata": {
  "kernelspec": {
   "display_name": "Python 3",
   "language": "python",
   "name": "python3"
  },
  "language_info": {
   "codemirror_mode": {
    "name": "ipython",
    "version": 3
   },
   "file_extension": ".py",
   "mimetype": "text/x-python",
   "name": "python",
   "nbconvert_exporter": "python",
   "pygments_lexer": "ipython3",
   "version": "3.7.3"
  },
  "varInspector": {
   "cols": {
    "lenName": 16,
    "lenType": 16,
    "lenVar": 40
   },
   "kernels_config": {
    "python": {
     "delete_cmd_postfix": "",
     "delete_cmd_prefix": "del ",
     "library": "var_list.py",
     "varRefreshCmd": "print(var_dic_list())"
    },
    "r": {
     "delete_cmd_postfix": ") ",
     "delete_cmd_prefix": "rm(",
     "library": "var_list.r",
     "varRefreshCmd": "cat(var_dic_list()) "
    }
   },
   "types_to_exclude": [
    "module",
    "function",
    "builtin_function_or_method",
    "instance",
    "_Feature"
   ],
   "window_display": false
  }
 },
 "nbformat": 4,
 "nbformat_minor": 2
}
