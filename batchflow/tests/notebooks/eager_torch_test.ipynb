{
 "cells": [
  {
   "cell_type": "code",
   "execution_count": null,
   "metadata": {
    "ExecuteTime": {
     "end_time": "2019-11-27T12:43:16.103572Z",
     "start_time": "2019-11-27T12:43:14.140882Z"
    }
   },
   "outputs": [],
   "source": [
    "%load_ext autoreload\n",
    "%autoreload 2\n",
    "import os\n",
    "import sys\n",
    "import warnings\n",
    "import shutil\n",
    "\n",
    "import numpy as np\n",
    "import matplotlib.pyplot as plt\n",
    "import torch\n",
    "import torch.nn as nn\n",
    "\n",
    "sys.path.append(\"../../..\")\n",
    "from batchflow import *\n",
    "from batchflow.opensets import MNIST\n",
    "from batchflow.models.eager_torch import *\n",
    "from batchflow.models.eager_torch.layers import *\n",
    "\n",
    "# Set GPU\n",
    "# %env CUDA_VISIBLE_DEVICES=6"
   ]
  },
  {
   "cell_type": "markdown",
   "metadata": {},
   "source": [
    "# Setup"
   ]
  },
  {
   "cell_type": "code",
   "execution_count": null,
   "metadata": {
    "ExecuteTime": {
     "end_time": "2019-11-27T12:43:19.222628Z",
     "start_time": "2019-11-27T12:43:17.345730Z"
    }
   },
   "outputs": [],
   "source": [
    "mnist = MNIST(batch_class=ImagesBatch)\n",
    "\n",
    "if __name__ == '__main__':\n",
    "    MICROBATCH = None\n",
    "    DEVICE = None\n",
    "\n",
    "print('\\nMicrobatching is: {}'.format(MICROBATCH))\n",
    "print('\\nDevice is: {}'.format(DEVICE))    "
   ]
  },
  {
   "cell_type": "code",
   "execution_count": null,
   "metadata": {
    "ExecuteTime": {
     "end_time": "2019-11-27T12:43:20.679155Z",
     "start_time": "2019-11-27T12:43:20.644413Z"
    }
   },
   "outputs": [],
   "source": [
    "IMAGE_SHAPE = (1, 28, 28)\n",
    "\n",
    "def get_classification_config(model_class, config):\n",
    "    default_config = {\n",
    "#         'inputs/images/shape': IMAGE_SHAPE,\n",
    "#         'inputs/labels/classes': 10,\n",
    "        'initial_block/inputs': 'images',\n",
    "        'loss': 'ce',\n",
    "        'microbatch': MICROBATCH,\n",
    "        'device': DEVICE,\n",
    "    }\n",
    "\n",
    "    pipeline_config = {\n",
    "        'model': model_class,\n",
    "        'model_config': {**default_config, **config},\n",
    "        'feed_dict': {'images': B('images'),\n",
    "                      'labels': B('labels')},\n",
    "    }\n",
    "    return pipeline_config\n",
    "\n",
    "def get_segmentation_config(model_class, config):\n",
    "    default_config = {\n",
    "#         'inputs/images/shape': IMAGE_SHAPE,\n",
    "#         'inputs/masks/shape': IMAGE_SHAPE,\n",
    "#         'initial_block/inputs': 'images',\n",
    "        'body/decoder/blocks/combine_op': 'concat', # for some reason `concat` is not working from within pytest \n",
    "        'loss': 'mse',\n",
    "        'microbatch': MICROBATCH,\n",
    "        'device': DEVICE,\n",
    "    }\n",
    "    \n",
    "    pipeline_config = {\n",
    "        'model': model_class,\n",
    "        'model_config': {**default_config, **config},\n",
    "        'feed_dict': {'images': B('images'),\n",
    "                      'masks': B('images')},\n",
    "    }\n",
    "    return pipeline_config"
   ]
  },
  {
   "cell_type": "code",
   "execution_count": null,
   "metadata": {
    "ExecuteTime": {
     "end_time": "2019-11-27T12:43:21.875833Z",
     "start_time": "2019-11-27T12:43:21.847375Z"
    }
   },
   "outputs": [],
   "source": [
    "def get_pipeline(pipeline_config):\n",
    "    \"\"\" Pipeline config must contain 'model', 'model_config', 'feed_dict' keys. \"\"\"\n",
    "#     feed_dict = pipeline_config['feed_dict']\n",
    "#     feed_dict['images_2'] = feed_dict.get('masks') or feed_dict.get('images')\n",
    "    vals = pipeline_config['feed_dict'].pop('images'), list(pipeline_config['feed_dict'].values())[0]\n",
    "#     vals = feed_dict['images'], \\\n",
    "#            feed_dict.get('masks') or feed_dict.get('images'), \\\n",
    "#            feed_dict.get('masks') or feed_dict.get('labels')\n",
    "    \n",
    "    pipeline = (Pipeline(config=pipeline_config)\n",
    "                .init_variable('loss_history', [])\n",
    "#                 .multiply(multiplier=1/255., preserve_type=False)\n",
    "                .to_array(channels='first', dtype='float32')\n",
    "                .init_model('dynamic', C('model'),\n",
    "                            'MODEL', config=C('model_config'))\n",
    "                .train_model('MODEL', \n",
    "                             *vals,\n",
    "#                              feed_dict=feed_dict,\n",
    "#                              **feed_dict,\n",
    "                             fetches='loss',\n",
    "                             save_to=V('loss_history', mode='a'))\n",
    "                )\n",
    "    return pipeline"
   ]
  },
  {
   "cell_type": "code",
   "execution_count": null,
   "metadata": {
    "ExecuteTime": {
     "end_time": "2019-11-27T12:43:23.072081Z",
     "start_time": "2019-11-27T12:43:23.041637Z"
    }
   },
   "outputs": [],
   "source": [
    "def run(task, model_class, config, description, batch_size=16, n_iters=10):\n",
    "    if task.startswith('c'):\n",
    "        pipeline_config = get_classification_config(model_class, config)\n",
    "    elif task.startswith('s'):\n",
    "        pipeline_config = get_segmentation_config(model_class, config)\n",
    "        \n",
    "    train_pipeline = get_pipeline(pipeline_config) << mnist.train\n",
    "    _ = train_pipeline.run(batch_size, n_iters=n_iters, bar=True,\n",
    "                           bar_desc=W(V('loss_history')[-1].format('Loss is {:7.7}')))\n",
    "    \n",
    "    print('{} {} is done'.format(task, description))\n",
    "    return train_pipeline"
   ]
  },
  {
   "cell_type": "markdown",
   "metadata": {},
   "source": [
    "# Classification"
   ]
  },
  {
   "cell_type": "code",
   "execution_count": null,
   "metadata": {
    "ExecuteTime": {
     "end_time": "2019-11-27T12:43:24.366457Z",
     "start_time": "2019-11-27T12:43:24.347141Z"
    }
   },
   "outputs": [],
   "source": [
    "class DoubleBlock(nn.Module):\n",
    "    def forward(self, x):\n",
    "        output = Combine(op='+')(x)\n",
    "#         print('OUTPUT COMBINE', get_shape(output))\n",
    "        return output"
   ]
  },
  {
   "cell_type": "code",
   "execution_count": null,
   "metadata": {
    "ExecuteTime": {
     "end_time": "2019-11-27T12:43:30.248030Z",
     "start_time": "2019-11-27T12:43:25.628958Z"
    },
    "scrolled": true
   },
   "outputs": [],
   "source": [
    "config = {\n",
    "#     'inputs/images/shape': IMAGE_SHAPE,\n",
    "    'inputs/labels/classes': 10,\n",
    "#     'initial_block/inputs': ['images', 'images_2'],\n",
    "#     'initial_block': {'module': DoubleBlock()},\n",
    "#     'initial_block': {'layout': 'cna', 'filters': 8},\n",
    "    'body/encoder': {'num_stages': 5},\n",
    "    'head': {'layout': 'faf', 'units': [50, 10]}\n",
    "}\n",
    "\n",
    "\n",
    "ppl = run('classification', Encoder, config, 'simple fc', n_iters=100, batch_size=64)"
   ]
  },
  {
   "cell_type": "code",
   "execution_count": null,
   "metadata": {
    "ExecuteTime": {
     "end_time": "2019-11-26T11:12:27.250604Z",
     "start_time": "2019-11-26T11:12:27.006028Z"
    }
   },
   "outputs": [],
   "source": [
    "plt.plot(ppl.v('loss_history'))"
   ]
  },
  {
   "cell_type": "code",
   "execution_count": null,
   "metadata": {
    "ExecuteTime": {
     "end_time": "2019-11-26T11:12:29.608116Z",
     "start_time": "2019-11-26T11:12:29.567563Z"
    }
   },
   "outputs": [],
   "source": [
    "model = ppl.get_model_by_name('MODEL')"
   ]
  },
  {
   "cell_type": "code",
   "execution_count": null,
   "metadata": {
    "ExecuteTime": {
     "end_time": "2019-11-26T11:12:30.785184Z",
     "start_time": "2019-11-26T11:12:30.335186Z"
    }
   },
   "outputs": [],
   "source": [
    "model.save_graph('tbtorch/')"
   ]
  },
  {
   "cell_type": "code",
   "execution_count": null,
   "metadata": {},
   "outputs": [],
   "source": []
  },
  {
   "cell_type": "code",
   "execution_count": null,
   "metadata": {
    "ExecuteTime": {
     "end_time": "2019-11-25T13:10:54.385205Z",
     "start_time": "2019-11-25T13:10:52.274081Z"
    }
   },
   "outputs": [],
   "source": [
    "config = {\n",
    "#     'inputs/images/shape': IMAGE_SHAPE,\n",
    "#     'inputs/labels/classes': 10,\n",
    "#     'initial_block/inputs': 'images',\n",
    "    'loss': ['ce', 'ce'],\n",
    "    'decay': 'exp',\n",
    "    'n_iters': 25,\n",
    "    'train_steps': {'a': {}, 'b': {}},\n",
    "    'initial_block': {'layout': 'fafaf', 'units': [128, 256, 10]},\n",
    "    'order': ['initial_block', ('ib_2', 'initial_block', EagerTorch.initial_block)],\n",
    "}\n",
    "\n",
    "\n",
    "ppl = run('classification', EagerTorch, config, 'simple fc', n_iters=99, batch_size=64)"
   ]
  },
  {
   "cell_type": "code",
   "execution_count": null,
   "metadata": {
    "ExecuteTime": {
     "end_time": "2019-11-25T13:10:54.659112Z",
     "start_time": "2019-11-25T13:10:54.388867Z"
    }
   },
   "outputs": [],
   "source": [
    "plt.plot(ppl.v('loss_history'))"
   ]
  },
  {
   "cell_type": "code",
   "execution_count": null,
   "metadata": {
    "ExecuteTime": {
     "end_time": "2019-11-25T13:10:54.694807Z",
     "start_time": "2019-11-25T13:10:54.661512Z"
    }
   },
   "outputs": [],
   "source": [
    "from batchflow.models.eager_torch.layers import Combine\n",
    "\n",
    "class TestModel(EagerTorch):\n",
    "    @classmethod\n",
    "    def body(cls, inputs, **kwargs):\n",
    "        \"\"\" Truly amazing docstring. \"\"\"\n",
    "        kwargs = cls.get_defaults('body', kwargs)\n",
    "        return BodyModule(inputs=inputs, **kwargs)\n",
    "    \n",
    "class BodyModule(nn.Module):\n",
    "    def __init__(self, inputs=None, **kwargs):\n",
    "        super().__init__()\n",
    "        self.x1 = ConvBlock(inputs=inputs, **kwargs)\n",
    "        self.x2 = ConvBlock(inputs=inputs, **kwargs)\n",
    "        \n",
    "        self.combine = Combine(op='concat')\n",
    "        \n",
    "    def forward(self, x):\n",
    "        x1 = self.x1(x)\n",
    "        x2 = self.x2(x)\n",
    "        return self.combine([x1, x2])"
   ]
  },
  {
   "cell_type": "code",
   "execution_count": null,
   "metadata": {
    "ExecuteTime": {
     "end_time": "2019-11-25T13:11:01.294505Z",
     "start_time": "2019-11-25T13:10:54.696573Z"
    },
    "scrolled": true
   },
   "outputs": [],
   "source": [
    "config = {\n",
    "    'initial_block': {'layout': 'Rcna. p cnap',\n",
    "                      'filters': [16, 32], 'scale_factor': 2,},\n",
    "#     'body': {'layout': 'ca'*2,\n",
    "#              'filters': [32, 32]},\n",
    "    'body': {'module': BodyModule, 'module_kwargs': {'layout': 'cnacna',\n",
    "                                                     'filters': [32, 32]}\n",
    "             },\n",
    "    'head': {'layout': 'Dnfaf',\n",
    "             'units': [600,10], 'dropout_rate': 0.3},\n",
    "}\n",
    "\n",
    "ppl = run('classification', TestModel, config, 'simple fc', n_iters=50, batch_size=64)"
   ]
  },
  {
   "cell_type": "code",
   "execution_count": null,
   "metadata": {
    "ExecuteTime": {
     "end_time": "2019-11-25T13:11:01.550219Z",
     "start_time": "2019-11-25T13:11:01.296989Z"
    }
   },
   "outputs": [],
   "source": [
    "plt.plot(ppl.v('loss_history'))"
   ]
  },
  {
   "cell_type": "code",
   "execution_count": null,
   "metadata": {
    "ExecuteTime": {
     "end_time": "2019-11-27T12:41:32.675060Z",
     "start_time": "2019-11-27T12:41:30.042370Z"
    },
    "scrolled": true
   },
   "outputs": [],
   "source": [
    "test_pipeline = (mnist.test.p\n",
    "                .import_model('MODEL', ppl)\n",
    "                .init_variable('predictions')\n",
    "                .init_variable('metrics', init_on_each_run=None) \n",
    "                .to_array(channels='first', dtype='float32')\n",
    "#                 .train_model('MODEL', B.images, B.labels,\n",
    "#                                fetches='predictions', save_to=V('predictions'))\n",
    "                .predict_model('MODEL', B.images,\n",
    "                               fetches='predictions', save_to=V('predictions'))\n",
    "                .gather_metrics('class', targets=B.labels, predictions=V('predictions'),\n",
    "                                fmt='logits', axis=-1, save_to=V('metrics', mode='w'))\n",
    "                .run(64, shuffle=True, n_epochs=1, drop_last=False, bar=True)\n",
    ")"
   ]
  },
  {
   "cell_type": "code",
   "execution_count": null,
   "metadata": {
    "ExecuteTime": {
     "end_time": "2019-11-27T12:41:34.200112Z",
     "start_time": "2019-11-27T12:41:34.176226Z"
    }
   },
   "outputs": [],
   "source": [
    "metrics = test_pipeline.get_variable('metrics')\n",
    "metrics.evaluate('accuracy')"
   ]
  },
  {
   "cell_type": "code",
   "execution_count": null,
   "metadata": {
    "ExecuteTime": {
     "end_time": "2019-11-25T13:11:05.960213Z",
     "start_time": "2019-11-25T13:11:05.931114Z"
    }
   },
   "outputs": [],
   "source": [
    "ppl.get_model_by_name('MODEL').model"
   ]
  },
  {
   "cell_type": "markdown",
   "metadata": {},
   "source": [
    "# Segmentation"
   ]
  },
  {
   "cell_type": "code",
   "execution_count": null,
   "metadata": {
    "ExecuteTime": {
     "end_time": "2019-11-25T13:11:06.758867Z",
     "start_time": "2019-11-25T13:11:05.962813Z"
    }
   },
   "outputs": [],
   "source": [
    "config = {\n",
    "    'initial_block': {'layout': 'cna', 'filters': 8},\n",
    "#     'body/encoder/num_stages': 3,\n",
    "#     'body/encoder/single_return': False,\n",
    "    'body/decoder/num_stages': 3,\n",
    "#     'body/decoder/filters': [32, 48, 64],\n",
    "    'body/decoder/factor': [1, 1, 1],\n",
    "#     'head': {'layout': 'c', 'filters': 1,}\n",
    "}\n",
    "\n",
    "ppl = run('segmentation', Decoder, config, 'unet?', n_iters=10, batch_size=64)"
   ]
  },
  {
   "cell_type": "code",
   "execution_count": null,
   "metadata": {
    "ExecuteTime": {
     "end_time": "2019-11-25T13:11:06.801358Z",
     "start_time": "2019-11-25T13:11:06.762306Z"
    }
   },
   "outputs": [],
   "source": [
    "ppl.get_model_by_name('MODEL').model"
   ]
  },
  {
   "cell_type": "code",
   "execution_count": null,
   "metadata": {
    "ExecuteTime": {
     "end_time": "2019-11-25T13:11:06.965389Z",
     "start_time": "2019-11-25T13:11:06.803856Z"
    }
   },
   "outputs": [],
   "source": [
    "plt.plot(ppl.v('loss_history'))"
   ]
  },
  {
   "cell_type": "code",
   "execution_count": null,
   "metadata": {},
   "outputs": [],
   "source": []
  },
  {
   "cell_type": "code",
   "execution_count": null,
   "metadata": {},
   "outputs": [],
   "source": []
  },
  {
   "cell_type": "code",
   "execution_count": null,
   "metadata": {
    "ExecuteTime": {
     "end_time": "2019-11-27T11:00:45.568939Z",
     "start_time": "2019-11-27T11:00:44.606883Z"
    },
    "scrolled": true
   },
   "outputs": [],
   "source": [
    "config = {\n",
    "#     'initial_block': {'layout': 'cna', 'filters': 8},\n",
    "#     'initial_block/inputs': ['images', 'images_2'],\n",
    "#     'initial_block': {'module': DoubleBlock()},\n",
    "    'body/encoder/num_stages': 3,\n",
    "#     'body/embedding': {'base': ASPP, 'pyramid': (2, 4, 8)},\n",
    "#     'body/decoder/num_stages': 3,\n",
    "#     'head': {'layout': 'c', 'filters': 1,}\n",
    "}\n",
    "\n",
    "ppl = run('segmentation', EncoderDecoder, config, 'unet?', n_iters=10, batch_size=64)"
   ]
  },
  {
   "cell_type": "code",
   "execution_count": null,
   "metadata": {
    "ExecuteTime": {
     "end_time": "2019-11-27T11:00:46.759116Z",
     "start_time": "2019-11-27T11:00:46.730718Z"
    }
   },
   "outputs": [],
   "source": [
    "ppl.get_model_by_name('MODEL').model"
   ]
  },
  {
   "cell_type": "code",
   "execution_count": null,
   "metadata": {
    "ExecuteTime": {
     "end_time": "2019-11-25T13:23:18.263089Z",
     "start_time": "2019-11-25T13:23:17.679239Z"
    }
   },
   "outputs": [],
   "source": [
    "plt.plot(ppl.v('loss_history'))"
   ]
  },
  {
   "cell_type": "code",
   "execution_count": null,
   "metadata": {},
   "outputs": [],
   "source": []
  },
  {
   "cell_type": "code",
   "execution_count": null,
   "metadata": {
    "ExecuteTime": {
     "end_time": "2019-11-25T13:29:43.130274Z",
     "start_time": "2019-11-25T13:23:18.265690Z"
    },
    "scrolled": true
   },
   "outputs": [],
   "source": [
    "config = {\n",
    "    'step_on_each': 1,\n",
    "    'initial_block': {\n",
    "#         'layout': 'cnap AAbcna++ c',\n",
    "        'layout': 'cnaRp cnaRp tna+ tna+ BScna*+ cnac',\n",
    "        'filters': [16, 32, 32, 16, 'same', 8, 1],\n",
    "        'transposed_conv': {'kernel_size': 2, 'strides': 2},\n",
    "#         'kernel_size': [3, 3, 2, 2, 3, 3, 3],\n",
    "#         'strides':     [1, 1, 2, 2, 1, 1, 1],\n",
    "        'side_branch': {'layout': 'ca', 'filters': 'same'}\n",
    "    },\n",
    "}\n",
    "\n",
    "ppl = run('segmentation', EagerTorch, config, 'unet?', n_iters=2000, batch_size=64)"
   ]
  },
  {
   "cell_type": "code",
   "execution_count": null,
   "metadata": {
    "ExecuteTime": {
     "end_time": "2019-11-25T13:29:43.404289Z",
     "start_time": "2019-11-25T13:29:43.132644Z"
    }
   },
   "outputs": [],
   "source": [
    "plt.plot(ppl.v('loss_history'))"
   ]
  },
  {
   "cell_type": "code",
   "execution_count": null,
   "metadata": {
    "ExecuteTime": {
     "end_time": "2019-11-25T13:29:43.443384Z",
     "start_time": "2019-11-25T13:29:43.410104Z"
    },
    "scrolled": true
   },
   "outputs": [],
   "source": [
    "ppl.get_model_by_name('MODEL').model"
   ]
  },
  {
   "cell_type": "code",
   "execution_count": null,
   "metadata": {},
   "outputs": [],
   "source": []
  },
  {
   "cell_type": "code",
   "execution_count": null,
   "metadata": {
    "ExecuteTime": {
     "end_time": "2019-11-25T16:31:43.077642Z",
     "start_time": "2019-11-25T16:31:43.044928Z"
    }
   },
   "outputs": [],
   "source": [
    "class UNet(EncoderDecoder):\n",
    "    @classmethod\n",
    "    def default_config(cls):\n",
    "        config = super().default_config()\n",
    "\n",
    "        config['body/encoder/num_stages'] = 4\n",
    "        config['body/encoder/order'] = ['block', 'skip', 'downsampling']\n",
    "        config['body/encoder/blocks'] += dict(layout='cna', kernel_size=3)\n",
    "        config['body/embedding'] += dict(layout='cna cna', kernel_size=3, filters='same')\n",
    "        config['body/decoder/order'] = ['upsampling', 'combine', 'block']\n",
    "        config['body/decoder/blocks'] += dict(layout='cna', kernel_size=3)\n",
    "\n",
    "        config['loss'] = 'ce'\n",
    "        return config\n",
    "\n",
    "    def build_config(self):\n",
    "        config = super().build_config()\n",
    "\n",
    "        num_stages = config.get('body/encoder/num_stages')\n",
    "\n",
    "        if config.get('body/encoder/blocks/filters') is None:\n",
    "            config['body/encoder/blocks/filters'] = [16 * 2**i for i in range(num_stages)]\n",
    "\n",
    "        if config.get('body/decoder/blocks/filters') is None:\n",
    "            enc_filters = config.get('body/encoder/blocks/filters')\n",
    "            config['body/decoder/blocks/filters'] = enc_filters[::-1]\n",
    "\n",
    "        if config.get('body/decoder/upsample/filters') is None:\n",
    "            config['body/decoder/upsample/filters'] = config.get('body/decoder/blocks/filters')\n",
    "\n",
    "        return config"
   ]
  },
  {
   "cell_type": "code",
   "execution_count": null,
   "metadata": {
    "ExecuteTime": {
     "end_time": "2019-11-25T16:36:16.536626Z",
     "start_time": "2019-11-25T16:31:44.185194Z"
    }
   },
   "outputs": [],
   "source": [
    "config = {\n",
    "    'initial_block': {\n",
    "        'layout': 'cna', 'filters': 8,},\n",
    "    'body/encoder': {'num_stages': 3},\n",
    "}\n",
    "\n",
    "ppl = run('segmentation', UNet, config, 'unet', n_iters=1000, batch_size=64)"
   ]
  },
  {
   "cell_type": "code",
   "execution_count": null,
   "metadata": {
    "ExecuteTime": {
     "end_time": "2019-11-25T14:32:56.491620Z",
     "start_time": "2019-11-25T14:32:56.296732Z"
    }
   },
   "outputs": [],
   "source": [
    "plt.plot(ppl.v('loss_history'))"
   ]
  },
  {
   "cell_type": "code",
   "execution_count": null,
   "metadata": {
    "ExecuteTime": {
     "end_time": "2019-11-25T13:31:25.330905Z",
     "start_time": "2019-11-25T13:31:25.291066Z"
    }
   },
   "outputs": [],
   "source": [
    "ppl.get_model_by_name('MODEL').model"
   ]
  },
  {
   "cell_type": "code",
   "execution_count": null,
   "metadata": {},
   "outputs": [],
   "source": []
  },
  {
   "cell_type": "code",
   "execution_count": null,
   "metadata": {},
   "outputs": [],
   "source": []
  },
  {
   "cell_type": "code",
   "execution_count": null,
   "metadata": {
    "ExecuteTime": {
     "end_time": "2019-11-25T13:31:28.068736Z",
     "start_time": "2019-11-25T13:31:25.332886Z"
    }
   },
   "outputs": [],
   "source": [
    "config = {\n",
    "#     'inputs/images/shape': IMAGE_SHAPE,\n",
    "#     'inputs/labels/classes': 10,\n",
    "#     'initial_block/inputs': 'images',\n",
    "    'loss': ['ce', 'ce'],\n",
    "    'decay': 'exp',\n",
    "    'n_iters': 25,\n",
    "    'train_steps': {'a': {}, 'b': {}},\n",
    "    'initial_block': {'layout': 'fafaf', 'units': [128, 256, 10]},\n",
    "    'order': ['initial_block', ('ib_2', 'initial_block', EagerTorch.initial_block)],\n",
    "}\n",
    "\n",
    "\n",
    "ppl = run('classification', EagerTorch, config, 'simple fc', n_iters=99, batch_size=64)"
   ]
  },
  {
   "cell_type": "code",
   "execution_count": null,
   "metadata": {
    "ExecuteTime": {
     "end_time": "2019-11-25T13:31:28.125575Z",
     "start_time": "2019-11-25T13:31:28.073075Z"
    },
    "scrolled": true
   },
   "outputs": [],
   "source": [
    "# model_save_dir = './model_new_saved'\n",
    "# shutil.rmtree(model_save_dir)\n",
    "\n",
    "# ppl.save_model_now('MODEL', path=model_save_dir)\n",
    "\n",
    "# new_model = EagerTorch({'load': {'path': model_save_dir}})"
   ]
  },
  {
   "cell_type": "code",
   "execution_count": null,
   "metadata": {},
   "outputs": [],
   "source": []
  },
  {
   "cell_type": "code",
   "execution_count": null,
   "metadata": {},
   "outputs": [],
   "source": []
  },
  {
   "cell_type": "code",
   "execution_count": null,
   "metadata": {},
   "outputs": [],
   "source": []
  },
  {
   "cell_type": "code",
   "execution_count": null,
   "metadata": {
    "ExecuteTime": {
     "end_time": "2019-11-25T13:31:28.501507Z",
     "start_time": "2019-11-25T13:31:28.128177Z"
    }
   },
   "outputs": [],
   "source": [
    "import torchvision.models as models\n",
    "resnet18 = models.resnet18(pretrained=True)"
   ]
  },
  {
   "cell_type": "code",
   "execution_count": null,
   "metadata": {
    "ExecuteTime": {
     "end_time": "2019-11-25T13:31:28.544820Z",
     "start_time": "2019-11-25T13:31:28.503781Z"
    }
   },
   "outputs": [],
   "source": [
    "resnet18.fc = torch.nn.Identity()\n",
    "\n",
    "# for param in resnet18.parameters():\n",
    "#     param.requires_grad = False"
   ]
  },
  {
   "cell_type": "code",
   "execution_count": null,
   "metadata": {
    "ExecuteTime": {
     "end_time": "2019-11-25T13:31:28.572191Z",
     "start_time": "2019-11-25T13:31:28.546636Z"
    },
    "scrolled": true
   },
   "outputs": [],
   "source": [
    "resnet18"
   ]
  },
  {
   "cell_type": "code",
   "execution_count": null,
   "metadata": {
    "ExecuteTime": {
     "end_time": "2019-11-25T13:32:07.778231Z",
     "start_time": "2019-11-25T13:31:28.576763Z"
    }
   },
   "outputs": [],
   "source": [
    "config = {\n",
    "    'initial_block': {'layout': 'Rcna. p cnap',\n",
    "                      'filters': [8, 3], 'scale_factor': 2,},\n",
    "    'body': {'module': resnet18},\n",
    "    'head': {'layout': 'Dnfaf',\n",
    "             'units': [50,10], 'dropout_rate': 0.3},\n",
    "}\n",
    "\n",
    "ppl = run('classification', EagerTorch, config, 'simple fc', n_iters=50, batch_size=64)"
   ]
  },
  {
   "cell_type": "code",
   "execution_count": null,
   "metadata": {
    "ExecuteTime": {
     "end_time": "2019-11-25T13:32:07.860769Z",
     "start_time": "2019-11-25T13:32:07.786363Z"
    }
   },
   "outputs": [],
   "source": [
    "ppl.get_model_by_name('MODEL').model"
   ]
  }
 ],
 "metadata": {
  "kernelspec": {
   "display_name": "Python 3",
   "language": "python",
   "name": "python3"
  },
  "language_info": {
   "codemirror_mode": {
    "name": "ipython",
    "version": 3
   },
   "file_extension": ".py",
   "mimetype": "text/x-python",
   "name": "python",
   "nbconvert_exporter": "python",
   "pygments_lexer": "ipython3",
   "version": "3.7.3"
  },
  "varInspector": {
   "cols": {
    "lenName": 16,
    "lenType": 16,
    "lenVar": 40
   },
   "kernels_config": {
    "python": {
     "delete_cmd_postfix": "",
     "delete_cmd_prefix": "del ",
     "library": "var_list.py",
     "varRefreshCmd": "print(var_dic_list())"
    },
    "r": {
     "delete_cmd_postfix": ") ",
     "delete_cmd_prefix": "rm(",
     "library": "var_list.r",
     "varRefreshCmd": "cat(var_dic_list()) "
    }
   },
   "types_to_exclude": [
    "module",
    "function",
    "builtin_function_or_method",
    "instance",
    "_Feature"
   ],
   "window_display": false
  }
 },
 "nbformat": 4,
 "nbformat_minor": 2
}
