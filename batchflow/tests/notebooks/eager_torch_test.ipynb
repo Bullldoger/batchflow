{
 "cells": [
  {
   "cell_type": "code",
   "execution_count": 1,
   "metadata": {
    "ExecuteTime": {
     "end_time": "2019-11-01T12:17:38.354604Z",
     "start_time": "2019-11-01T12:17:36.397619Z"
    }
   },
   "outputs": [],
   "source": [
    "%load_ext autoreload\n",
    "%autoreload 2\n",
    "import os\n",
    "import sys\n",
    "import warnings\n",
    "\n",
    "import numpy as np\n",
    "import matplotlib.pyplot as plt\n",
    "import torch\n",
    "import torch.nn as nn\n",
    "\n",
    "sys.path.append(\"../../..\")\n",
    "from batchflow import *\n",
    "from batchflow.opensets import MNIST\n",
    "from batchflow.models.eager_torch import EagerTorch\n",
    "from batchflow.models.eager_torch.layers import ConvBlock\n",
    "\n",
    "# Set GPU\n",
    "# %env CUDA_VISIBLE_DEVICES=6"
   ]
  },
  {
   "cell_type": "code",
   "execution_count": 2,
   "metadata": {
    "ExecuteTime": {
     "end_time": "2019-11-01T12:17:38.386844Z",
     "start_time": "2019-11-01T12:17:38.356675Z"
    }
   },
   "outputs": [
    {
     "data": {
      "text/plain": [
       "(6, 3, 28, 28)"
      ]
     },
     "execution_count": 2,
     "metadata": {},
     "output_type": "execute_result"
    }
   ],
   "source": [
    "inputs = 2*np.ones((6, 3, 28, 28), dtype=np.float32)\n",
    "inputs = torch.from_numpy(inputs)\n",
    "tuple(inputs.shape)"
   ]
  },
  {
   "cell_type": "code",
   "execution_count": 3,
   "metadata": {
    "ExecuteTime": {
     "end_time": "2019-11-01T12:17:38.442226Z",
     "start_time": "2019-11-01T12:17:38.388791Z"
    }
   },
   "outputs": [],
   "source": [
    "s = ConvBlock(inputs=inputs, layout='Rca.ccav', filters=[6, 12, 18], activation='sigmoid')"
   ]
  },
  {
   "cell_type": "code",
   "execution_count": 4,
   "metadata": {
    "ExecuteTime": {
     "end_time": "2019-11-01T12:17:38.489834Z",
     "start_time": "2019-11-01T12:17:38.451101Z"
    }
   },
   "outputs": [
    {
     "data": {
      "text/plain": [
       "ConvBlock(\n",
       "  (block_modules): ModuleList(\n",
       "    (0): Sequential(\n",
       "      (Layer 1, letter \"c\"; (None, 3, 28, 28) -> (None, 6, 28, 28)): Conv(\n",
       "        (layer): Conv2d(3, 6, kernel_size=(3, 3), stride=(1, 1))\n",
       "      )\n",
       "      (Layer 2, letter \"a\"; (None, 6, 28, 28) -> (None, 6, 28, 28)): Activation(\n",
       "        (activation): Sigmoid()\n",
       "      )\n",
       "    )\n",
       "    (1): Sequential(\n",
       "      (Layer 4, letter \"c\"; (None, 9, 28, 28) -> (None, 12, 28, 28)): Conv(\n",
       "        (layer): Conv2d(9, 12, kernel_size=(3, 3), stride=(1, 1))\n",
       "      )\n",
       "      (Layer 5, letter \"c\"; (None, 12, 28, 28) -> (None, 18, 28, 28)): Conv(\n",
       "        (layer): Conv2d(12, 18, kernel_size=(3, 3), stride=(1, 1))\n",
       "      )\n",
       "      (Layer 6, letter \"a\"; (None, 18, 28, 28) -> (None, 18, 28, 28)): Activation(\n",
       "        (activation): Sigmoid()\n",
       "      )\n",
       "      (Layer 7, letter \"v\"; (None, 18, 28, 28) -> (None, 18, 14, 14)): Pool(\n",
       "        (layer): AvgPool(\n",
       "          (layer): AvgPool2d(kernel_size=2, stride=2, padding=0)\n",
       "        )\n",
       "      )\n",
       "    )\n",
       "  )\n",
       "  (skip_modules): ModuleList(\n",
       "    (0): Sequential(\n",
       "      (Layer 0, letter \"R\"): Sequential()\n",
       "    )\n",
       "  )\n",
       "  (combine_modules): ModuleList(\n",
       "    (0): Sequential(\n",
       "      (Layer 3: (None, 6, 28, 28) -> (None, 9, 28, 28)): Combine(op=.)\n",
       "    )\n",
       "  )\n",
       ")"
      ]
     },
     "execution_count": 4,
     "metadata": {},
     "output_type": "execute_result"
    }
   ],
   "source": [
    "s"
   ]
  },
  {
   "cell_type": "code",
   "execution_count": null,
   "metadata": {},
   "outputs": [],
   "source": []
  },
  {
   "cell_type": "markdown",
   "metadata": {},
   "source": [
    "# Setup"
   ]
  },
  {
   "cell_type": "code",
   "execution_count": 5,
   "metadata": {
    "ExecuteTime": {
     "end_time": "2019-11-01T12:17:39.880797Z",
     "start_time": "2019-11-01T12:17:38.492151Z"
    }
   },
   "outputs": [
    {
     "name": "stdout",
     "output_type": "stream",
     "text": [
      "\n",
      "Microbatching is: None\n",
      "\n",
      "Device is: None\n"
     ]
    }
   ],
   "source": [
    "mnist = MNIST(batch_class=ImagesBatch)\n",
    "\n",
    "if __name__ == '__main__':\n",
    "    MICROBATCH = None\n",
    "    DEVICE = None\n",
    "\n",
    "print('\\nMicrobatching is: {}'.format(MICROBATCH))\n",
    "print('\\nDevice is: {}'.format(DEVICE))    "
   ]
  },
  {
   "cell_type": "code",
   "execution_count": 6,
   "metadata": {
    "ExecuteTime": {
     "end_time": "2019-11-01T12:17:39.932094Z",
     "start_time": "2019-11-01T12:17:39.883201Z"
    }
   },
   "outputs": [],
   "source": [
    "IMAGE_SHAPE = (1, 28, 28)\n",
    "\n",
    "def get_classification_config(model_class, config):\n",
    "    default_config = {\n",
    "#         'inputs/images/shape': IMAGE_SHAPE,\n",
    "#         'inputs/labels/classes': 10,\n",
    "#         'initial_block/inputs': 'images',\n",
    "        'loss': 'ce',\n",
    "        'microbatch': MICROBATCH,\n",
    "        'device': DEVICE,\n",
    "    }\n",
    "\n",
    "    pipeline_config = {\n",
    "        'model': model_class,\n",
    "        'model_config': {**default_config, **config},\n",
    "        'feed_dict': {'images': B('images'),\n",
    "                      'labels': B('labels')},\n",
    "    }\n",
    "    return pipeline_config\n",
    "\n",
    "def get_segmentation_config(model_class, config):\n",
    "    default_config = {\n",
    "        'inputs/images/shape': IMAGE_SHAPE,\n",
    "        'inputs/masks/shape': IMAGE_SHAPE,\n",
    "        'initial_block/inputs': 'images',\n",
    "        'body/decoder/blocks/combine_op': 'concat', # for some reason `concat` is not working from within pytest \n",
    "        'loss': 'mse',\n",
    "        'microbatch': MICROBATCH,\n",
    "        'device': DEVICE,\n",
    "    }\n",
    "    \n",
    "    pipeline_config = {\n",
    "        'model': model_class,\n",
    "        'model_config': {**default_config, **config},\n",
    "        'feed_dict': {'images': B('images'),\n",
    "                      'masks': B('images')},\n",
    "    }\n",
    "    return pipeline_config"
   ]
  },
  {
   "cell_type": "code",
   "execution_count": 7,
   "metadata": {
    "ExecuteTime": {
     "end_time": "2019-11-01T12:17:39.987832Z",
     "start_time": "2019-11-01T12:17:39.934948Z"
    }
   },
   "outputs": [],
   "source": [
    "def get_pipeline(pipeline_config):\n",
    "    \"\"\" Pipeline config must contain 'model', 'model_config', 'feed_dict' keys. \"\"\"\n",
    "    vals = pipeline_config['feed_dict'].values()\n",
    "\n",
    "    pipeline = (Pipeline(config=pipeline_config)\n",
    "                .init_variable('loss_history', [])\n",
    "#                 .multiply(multiplier=1/255., preserve_type=False)\n",
    "                .to_array(channels='first', dtype='float32')\n",
    "                .init_model('dynamic', C('model'),\n",
    "                            'MODEL', config=C('model_config'))\n",
    "                .train_model('MODEL', *vals,\n",
    "                             fetches='loss',\n",
    "                             save_to=V('loss_history', mode='a'))\n",
    "                )\n",
    "    return pipeline"
   ]
  },
  {
   "cell_type": "code",
   "execution_count": 8,
   "metadata": {
    "ExecuteTime": {
     "end_time": "2019-11-01T12:17:40.041259Z",
     "start_time": "2019-11-01T12:17:39.993474Z"
    }
   },
   "outputs": [],
   "source": [
    "def run(task, model_class, config, description, batch_size=16, n_iters=10):\n",
    "    if task.startswith('c'):\n",
    "        pipeline_config = get_classification_config(model_class, config)\n",
    "    elif task.startswith('s'):\n",
    "        pipeline_config = get_segmentation_config(model_class, config)\n",
    "        \n",
    "    train_pipeline = get_pipeline(pipeline_config) << mnist.train\n",
    "    _ = train_pipeline.run(batch_size, n_iters=n_iters, bar=True,\n",
    "                           bar_desc=W(V('loss_history')[-1].format('Loss is {:7.7}')))\n",
    "    \n",
    "    print('{} {} is done'.format(task, description))\n",
    "    return train_pipeline"
   ]
  },
  {
   "cell_type": "markdown",
   "metadata": {},
   "source": [
    "# Classification"
   ]
  },
  {
   "cell_type": "code",
   "execution_count": 9,
   "metadata": {
    "ExecuteTime": {
     "end_time": "2019-11-01T12:17:42.464776Z",
     "start_time": "2019-11-01T12:17:40.043611Z"
    }
   },
   "outputs": [
    {
     "name": "stderr",
     "output_type": "stream",
     "text": [
      "Loss is 2.143291:   6%|▌         | 6/99 [00:00<00:03, 25.07it/s]"
     ]
    },
    {
     "name": "stdout",
     "output_type": "stream",
     "text": [
      "_BUILD IN TRAIN\n"
     ]
    },
    {
     "name": "stderr",
     "output_type": "stream",
     "text": [
      "Loss is 0.6862236: 100%|██████████| 99/99 [00:02<00:00, 41.65it/s]"
     ]
    },
    {
     "name": "stdout",
     "output_type": "stream",
     "text": [
      "classification simple fc is done\n"
     ]
    },
    {
     "name": "stderr",
     "output_type": "stream",
     "text": [
      "\n"
     ]
    }
   ],
   "source": [
    "config = {\n",
    "#     'inputs/images/shape': IMAGE_SHAPE,\n",
    "#     'inputs/labels/classes': 10,\n",
    "#     'initial_block/inputs': 'images',\n",
    "    'loss': ['ce', 'ce'],\n",
    "    'decay': 'exp',\n",
    "    'n_iters': 25,\n",
    "    'train_steps': {'a': {}, 'b': {}},\n",
    "    'initial_block': {'layout': 'fafaf', 'units': [128, 256, 10]},\n",
    "    'order': ['initial_block', ('ib_2', 'initial_block', EagerTorch.initial_block)],\n",
    "}\n",
    "\n",
    "\n",
    "ppl = run('classification', EagerTorch, config, 'simple fc', n_iters=99, batch_size=64)"
   ]
  },
  {
   "cell_type": "code",
   "execution_count": 10,
   "metadata": {
    "ExecuteTime": {
     "end_time": "2019-11-01T12:17:42.743803Z",
     "start_time": "2019-11-01T12:17:42.467433Z"
    }
   },
   "outputs": [
    {
     "data": {
      "text/plain": [
       "[<matplotlib.lines.Line2D at 0x7f8bfd4cbd30>]"
      ]
     },
     "execution_count": 10,
     "metadata": {},
     "output_type": "execute_result"
    },
    {
     "data": {
      "image/png": "[encoded data removed]",
      "text/plain": [
       "<Figure size 432x288 with 1 Axes>"
      ]
     },
     "metadata": {
      "needs_background": "light"
     },
     "output_type": "display_data"
    }
   ],
   "source": [
    "plt.plot(ppl.v('loss_history'))"
   ]
  },
  {
   "cell_type": "code",
   "execution_count": 11,
   "metadata": {
    "ExecuteTime": {
     "end_time": "2019-11-01T12:17:42.767179Z",
     "start_time": "2019-11-01T12:17:42.746242Z"
    }
   },
   "outputs": [
    {
     "data": {
      "text/plain": [
       "[]"
      ]
     },
     "execution_count": 11,
     "metadata": {},
     "output_type": "execute_result"
    }
   ],
   "source": [
    "ppl.get_model_by_name('MODEL').devices"
   ]
  },
  {
   "cell_type": "code",
   "execution_count": 12,
   "metadata": {
    "ExecuteTime": {
     "end_time": "2019-11-01T12:17:42.802722Z",
     "start_time": "2019-11-01T12:17:42.769627Z"
    }
   },
   "outputs": [
    {
     "data": {
      "text/plain": [
       "{'a': {'loss': ['ce', 'ce'],\n",
       "  'optimizer': ('Adam', {}),\n",
       "  'decay': 'exp',\n",
       "  'n_iters': 25},\n",
       " 'b': {'loss': ['ce', 'ce'],\n",
       "  'optimizer': ('Adam', {}),\n",
       "  'decay': 'exp',\n",
       "  'n_iters': 25}}"
      ]
     },
     "execution_count": 12,
     "metadata": {},
     "output_type": "execute_result"
    }
   ],
   "source": [
    "ppl.get_model_by_name('MODEL').full_config['train_steps']"
   ]
  },
  {
   "cell_type": "code",
   "execution_count": 13,
   "metadata": {
    "ExecuteTime": {
     "end_time": "2019-11-01T12:17:42.847147Z",
     "start_time": "2019-11-01T12:17:42.805837Z"
    }
   },
   "outputs": [
    {
     "data": {
      "text/plain": [
       "{'a': {'loss': [CrossEntropyLoss(), CrossEntropyLoss()], 'optimizer': Adam (\n",
       "  Parameter Group 0\n",
       "      amsgrad: False\n",
       "      betas: (0.9, 0.999)\n",
       "      eps: 1e-08\n",
       "      initial_lr: 0.001\n",
       "      lr: 0.0008847359999999999\n",
       "      weight_decay: 0\n",
       "  ), 'decay': <torch.optim.lr_scheduler.ExponentialLR at 0x7f8bffe8f6a0>, 'n_iters': 25, 'current_iter': 24},\n",
       " 'b': {'loss': [CrossEntropyLoss(), CrossEntropyLoss()], 'optimizer': Adam (\n",
       "  Parameter Group 0\n",
       "      amsgrad: False\n",
       "      betas: (0.9, 0.999)\n",
       "      eps: 1e-08\n",
       "      initial_lr: 0.001\n",
       "      lr: 0.0008847359999999999\n",
       "      weight_decay: 0\n",
       "  ), 'decay': <torch.optim.lr_scheduler.ExponentialLR at 0x7f8bffe8f240>, 'n_iters': 25, 'current_iter': 24}}"
      ]
     },
     "execution_count": 13,
     "metadata": {},
     "output_type": "execute_result"
    }
   ],
   "source": [
    "ppl.get_model_by_name('MODEL').train_steps"
   ]
  },
  {
   "cell_type": "code",
   "execution_count": 14,
   "metadata": {
    "ExecuteTime": {
     "end_time": "2019-11-01T12:17:47.083332Z",
     "start_time": "2019-11-01T12:17:42.850232Z"
    },
    "scrolled": true
   },
   "outputs": [
    {
     "name": "stderr",
     "output_type": "stream",
     "text": [
      "Loss is 2.321985:   2%|▏         | 1/50 [00:00<00:08,  5.56it/s]"
     ]
    },
    {
     "name": "stdout",
     "output_type": "stream",
     "text": [
      "_BUILD IN TRAIN\n"
     ]
    },
    {
     "name": "stderr",
     "output_type": "stream",
     "text": [
      "Loss is 0.4035181: 100%|██████████| 50/50 [00:04<00:00, 11.95it/s]"
     ]
    },
    {
     "name": "stdout",
     "output_type": "stream",
     "text": [
      "classification simple fc is done\n"
     ]
    },
    {
     "name": "stderr",
     "output_type": "stream",
     "text": [
      "\n"
     ]
    }
   ],
   "source": [
    "\n",
    "config = {\n",
    "    'initial_block': {'layout': 'Rcna. p cnap',\n",
    "                      'filters': [16, 32], 'scale_factor': 2,},\n",
    "#     'body': {'layout': 'fa'*2,\n",
    "#              'units': [256, 10]},\n",
    "    'head': {'layout': 'Dnfaf',\n",
    "             'units': [600,10], 'dropout_rate': 0.3},\n",
    "}\n",
    "\n",
    "ppl = run('classification', EagerTorch, config, 'simple fc', n_iters=50, batch_size=64)"
   ]
  },
  {
   "cell_type": "code",
   "execution_count": 15,
   "metadata": {
    "ExecuteTime": {
     "end_time": "2019-11-01T12:17:50.902372Z",
     "start_time": "2019-11-01T12:17:47.091319Z"
    }
   },
   "outputs": [
    {
     "name": "stderr",
     "output_type": "stream",
     "text": [
      "WARNING:root:`init_on_each_run` in `metrics` is obsolete. Use `default` instead.\n",
      "100%|██████████| 157/157 [00:03<00:00, 41.85it/s]\n"
     ]
    }
   ],
   "source": [
    "test_pipeline = (mnist.test.p\n",
    "                .import_model('MODEL', ppl)\n",
    "                .init_variable('predictions')\n",
    "                .init_variable('metrics', init_on_each_run=None) \n",
    "                .to_array(channels='first', dtype='float32')\n",
    "                .predict_model('MODEL', B.images,\n",
    "                               fetches='predictions', save_to=V('predictions'))\n",
    "                .gather_metrics('class', targets=B.labels, predictions=V('predictions'),\n",
    "                                fmt='logits', axis=-1, save_to=V('metrics', mode='w'))\n",
    "                .run(64, shuffle=True, n_epochs=1, drop_last=False, bar=True)\n",
    ")"
   ]
  },
  {
   "cell_type": "code",
   "execution_count": 16,
   "metadata": {
    "ExecuteTime": {
     "end_time": "2019-11-01T12:17:51.147547Z",
     "start_time": "2019-11-01T12:17:50.905129Z"
    }
   },
   "outputs": [
    {
     "data": {
      "text/plain": [
       "[<matplotlib.lines.Line2D at 0x7f8bfb457518>]"
      ]
     },
     "execution_count": 16,
     "metadata": {},
     "output_type": "execute_result"
    },
    {
     "data": {
      "image/png": "[encoded data removed]",
      "text/plain": [
       "<Figure size 432x288 with 1 Axes>"
      ]
     },
     "metadata": {
      "needs_background": "light"
     },
     "output_type": "display_data"
    }
   ],
   "source": [
    "plt.plot(ppl.v('loss_history'))"
   ]
  },
  {
   "cell_type": "code",
   "execution_count": 17,
   "metadata": {
    "ExecuteTime": {
     "end_time": "2019-11-01T12:17:51.182853Z",
     "start_time": "2019-11-01T12:17:51.149935Z"
    }
   },
   "outputs": [
    {
     "data": {
      "text/plain": [
       "0.875"
      ]
     },
     "execution_count": 17,
     "metadata": {},
     "output_type": "execute_result"
    }
   ],
   "source": [
    "metrics = test_pipeline.get_variable('metrics')\n",
    "metrics.evaluate('accuracy')"
   ]
  },
  {
   "cell_type": "code",
   "execution_count": 18,
   "metadata": {
    "ExecuteTime": {
     "end_time": "2019-11-01T12:17:51.213059Z",
     "start_time": "2019-11-01T12:17:51.184827Z"
    }
   },
   "outputs": [
    {
     "data": {
      "text/plain": [
       "Sequential(\n",
       "  (initial_block): ConvBlock(\n",
       "    (block_modules): ModuleList(\n",
       "      (0): Sequential(\n",
       "        (Layer 1, letter \"c\"; (None, 1, 28, 28) -> (None, 16, 28, 28)): Conv(\n",
       "          (layer): Conv2d(1, 16, kernel_size=(3, 3), stride=(1, 1))\n",
       "        )\n",
       "        (Layer 2, letter \"n\"; (None, 16, 28, 28) -> (None, 16, 28, 28)): BatchNorm(\n",
       "          (layer): BatchNorm2d(16, eps=1e-05, momentum=0.1, affine=True, track_running_stats=True)\n",
       "        )\n",
       "        (Layer 3, letter \"a\"; (None, 16, 28, 28) -> (None, 16, 28, 28)): Activation(\n",
       "          (activation): ReLU(inplace=True)\n",
       "        )\n",
       "      )\n",
       "      (1): Sequential(\n",
       "        (Layer 5, letter \"p\"; (None, 17, 28, 28) -> (None, 17, 14, 14)): Pool(\n",
       "          (layer): MaxPool(\n",
       "            (layer): MaxPool2d(kernel_size=2, stride=2, padding=0, dilation=1, ceil_mode=False)\n",
       "          )\n",
       "        )\n",
       "        (Layer 6, letter \"c\"; (None, 17, 14, 14) -> (None, 32, 14, 14)): Conv(\n",
       "          (layer): Conv2d(17, 32, kernel_size=(3, 3), stride=(1, 1))\n",
       "        )\n",
       "        (Layer 7, letter \"n\"; (None, 32, 14, 14) -> (None, 32, 14, 14)): BatchNorm(\n",
       "          (layer): BatchNorm2d(32, eps=1e-05, momentum=0.1, affine=True, track_running_stats=True)\n",
       "        )\n",
       "        (Layer 8, letter \"a\"; (None, 32, 14, 14) -> (None, 32, 14, 14)): Activation(\n",
       "          (activation): ReLU(inplace=True)\n",
       "        )\n",
       "        (Layer 9, letter \"p\"; (None, 32, 14, 14) -> (None, 32, 7, 7)): Pool(\n",
       "          (layer): MaxPool(\n",
       "            (layer): MaxPool2d(kernel_size=2, stride=2, padding=0, dilation=1, ceil_mode=False)\n",
       "          )\n",
       "        )\n",
       "      )\n",
       "    )\n",
       "    (skip_modules): ModuleList(\n",
       "      (0): Sequential(\n",
       "        (Layer 0, letter \"R\"): Sequential()\n",
       "      )\n",
       "    )\n",
       "    (combine_modules): ModuleList(\n",
       "      (0): Sequential(\n",
       "        (Layer 4: (None, 16, 28, 28) -> (None, 17, 28, 28)): Combine(op=.)\n",
       "      )\n",
       "    )\n",
       "  )\n",
       "  (head): ConvBlock(\n",
       "    (block_modules): ModuleList(\n",
       "      (0): Sequential(\n",
       "        (Layer 0, letter \"D\"; (None, 32, 7, 7) -> (None, 32, 7, 7)): AlphaDropout(\n",
       "          (layer): AlphaDropout(p=0.3, inplace=False)\n",
       "        )\n",
       "        (Layer 1, letter \"n\"; (None, 32, 7, 7) -> (None, 32, 7, 7)): BatchNorm(\n",
       "          (layer): BatchNorm2d(32, eps=1e-05, momentum=0.1, affine=True, track_running_stats=True)\n",
       "        )\n",
       "        (Layer 2, letter \"f\"; (None, 32, 7, 7) -> (None, 600)): Dense(\n",
       "          (linear): Linear(in_features=1568, out_features=600, bias=True)\n",
       "        )\n",
       "        (Layer 3, letter \"a\"; (None, 600) -> (None, 600)): Activation(\n",
       "          (activation): ReLU(inplace=True)\n",
       "        )\n",
       "        (Layer 4, letter \"f\"; (None, 600) -> (None, 10)): Dense(\n",
       "          (linear): Linear(in_features=600, out_features=10, bias=True)\n",
       "        )\n",
       "      )\n",
       "    )\n",
       "  )\n",
       ")"
      ]
     },
     "execution_count": 18,
     "metadata": {},
     "output_type": "execute_result"
    }
   ],
   "source": [
    "ppl.get_model_by_name('MODEL').model"
   ]
  },
  {
   "cell_type": "markdown",
   "metadata": {},
   "source": [
    "# Segmentation"
   ]
  },
  {
   "cell_type": "code",
   "execution_count": 19,
   "metadata": {
    "ExecuteTime": {
     "end_time": "2019-11-01T12:19:15.537370Z",
     "start_time": "2019-11-01T12:17:51.215748Z"
    },
    "scrolled": true
   },
   "outputs": [
    {
     "name": "stderr",
     "output_type": "stream",
     "text": [
      "Loss is 7060.338:   0%|          | 1/1000 [00:00<01:47,  9.26it/s]"
     ]
    },
    {
     "name": "stdout",
     "output_type": "stream",
     "text": [
      "_BUILD IN BUILD\n"
     ]
    },
    {
     "name": "stderr",
     "output_type": "stream",
     "text": [
      "Loss is 463.3188: 100%|██████████| 1000/1000 [01:24<00:00, 12.46it/s]"
     ]
    },
    {
     "name": "stdout",
     "output_type": "stream",
     "text": [
      "segmentation unet? is done\n"
     ]
    },
    {
     "name": "stderr",
     "output_type": "stream",
     "text": [
      "\n"
     ]
    }
   ],
   "source": [
    "# config = {\n",
    "#     'initial_block/filters': 4,\n",
    "#     'body/encoder': {'num_stages': 3},\n",
    "# }\n",
    "\n",
    "config = {\n",
    "    'initial_block': {\n",
    "#         'layout': 'cnap AAbcna++ c',\n",
    "        'layout': 'cnaRp cnaRp tna+ tna+ cnac',\n",
    "        'filters': [16, 32, 32, 16, 8, 1],\n",
    "        'kernel_size': [3, 3, 2, 2, 3, 3],\n",
    "        'strides':     [1, 1, 2, 2, 1, 1],\n",
    "        'scale_factor': 2, 'mode': 'bicubic'},\n",
    "}\n",
    "\n",
    "ppl = run('segmentation', EagerTorch, config, 'unet?', n_iters=1000, batch_size=32)"
   ]
  },
  {
   "cell_type": "code",
   "execution_count": 20,
   "metadata": {
    "ExecuteTime": {
     "end_time": "2019-11-01T12:19:15.838420Z",
     "start_time": "2019-11-01T12:19:15.544611Z"
    }
   },
   "outputs": [
    {
     "data": {
      "text/plain": [
       "[<matplotlib.lines.Line2D at 0x7f8bf97c2898>]"
      ]
     },
     "execution_count": 20,
     "metadata": {},
     "output_type": "execute_result"
    },
    {
     "data": {
      "image/png": "[encoded data removed]",
      "text/plain": [
       "<Figure size 432x288 with 1 Axes>"
      ]
     },
     "metadata": {
      "needs_background": "light"
     },
     "output_type": "display_data"
    }
   ],
   "source": [
    "plt.plot(ppl.v('loss_history'))"
   ]
  },
  {
   "cell_type": "code",
   "execution_count": 21,
   "metadata": {
    "ExecuteTime": {
     "end_time": "2019-11-01T12:19:15.874360Z",
     "start_time": "2019-11-01T12:19:15.840822Z"
    }
   },
   "outputs": [
    {
     "data": {
      "text/plain": [
       "Sequential(\n",
       "  (initial_block): ConvBlock(\n",
       "    (block_modules): ModuleList(\n",
       "      (0): Sequential(\n",
       "        (Layer 0, letter \"c\"; (None, 1, 28, 28) -> (None, 16, 28, 28)): Conv(\n",
       "          (layer): Conv2d(1, 16, kernel_size=(3, 3), stride=(1, 1))\n",
       "        )\n",
       "        (Layer 1, letter \"n\"; (None, 16, 28, 28) -> (None, 16, 28, 28)): BatchNorm(\n",
       "          (layer): BatchNorm2d(16, eps=1e-05, momentum=0.1, affine=True, track_running_stats=True)\n",
       "        )\n",
       "        (Layer 2, letter \"a\"; (None, 16, 28, 28) -> (None, 16, 28, 28)): Activation(\n",
       "          (activation): ReLU(inplace=True)\n",
       "        )\n",
       "      )\n",
       "      (1): Sequential(\n",
       "        (Layer 4, letter \"p\"; (None, 16, 28, 28) -> (None, 16, 14, 14)): Pool(\n",
       "          (layer): MaxPool(\n",
       "            (layer): MaxPool2d(kernel_size=2, stride=2, padding=0, dilation=1, ceil_mode=False)\n",
       "          )\n",
       "        )\n",
       "        (Layer 5, letter \"c\"; (None, 16, 14, 14) -> (None, 32, 14, 14)): Conv(\n",
       "          (layer): Conv2d(16, 32, kernel_size=(3, 3), stride=(1, 1))\n",
       "        )\n",
       "        (Layer 6, letter \"n\"; (None, 32, 14, 14) -> (None, 32, 14, 14)): BatchNorm(\n",
       "          (layer): BatchNorm2d(32, eps=1e-05, momentum=0.1, affine=True, track_running_stats=True)\n",
       "        )\n",
       "        (Layer 7, letter \"a\"; (None, 32, 14, 14) -> (None, 32, 14, 14)): Activation(\n",
       "          (activation): ReLU(inplace=True)\n",
       "        )\n",
       "      )\n",
       "      (2): Sequential(\n",
       "        (Layer 9, letter \"p\"; (None, 32, 14, 14) -> (None, 32, 7, 7)): Pool(\n",
       "          (layer): MaxPool(\n",
       "            (layer): MaxPool2d(kernel_size=2, stride=2, padding=0, dilation=1, ceil_mode=False)\n",
       "          )\n",
       "        )\n",
       "        (Layer 10, letter \"t\"; (None, 32, 7, 7) -> (None, 32, 14, 14)): ConvTranspose(\n",
       "          (layer): ConvTranspose2d(32, 32, kernel_size=(2, 2), stride=(2, 2))\n",
       "        )\n",
       "        (Layer 11, letter \"n\"; (None, 32, 14, 14) -> (None, 32, 14, 14)): BatchNorm(\n",
       "          (layer): BatchNorm2d(32, eps=1e-05, momentum=0.1, affine=True, track_running_stats=True)\n",
       "        )\n",
       "        (Layer 12, letter \"a\"; (None, 32, 14, 14) -> (None, 32, 14, 14)): Activation(\n",
       "          (activation): ReLU(inplace=True)\n",
       "        )\n",
       "      )\n",
       "      (3): Sequential(\n",
       "        (Layer 14, letter \"t\"; (None, 32, 14, 14) -> (None, 16, 28, 28)): ConvTranspose(\n",
       "          (layer): ConvTranspose2d(32, 16, kernel_size=(2, 2), stride=(2, 2))\n",
       "        )\n",
       "        (Layer 15, letter \"n\"; (None, 16, 28, 28) -> (None, 16, 28, 28)): BatchNorm(\n",
       "          (layer): BatchNorm2d(16, eps=1e-05, momentum=0.1, affine=True, track_running_stats=True)\n",
       "        )\n",
       "        (Layer 16, letter \"a\"; (None, 16, 28, 28) -> (None, 16, 28, 28)): Activation(\n",
       "          (activation): ReLU(inplace=True)\n",
       "        )\n",
       "      )\n",
       "      (4): Sequential(\n",
       "        (Layer 18, letter \"c\"; (None, 16, 28, 28) -> (None, 8, 28, 28)): Conv(\n",
       "          (layer): Conv2d(16, 8, kernel_size=(3, 3), stride=(1, 1))\n",
       "        )\n",
       "        (Layer 19, letter \"n\"; (None, 8, 28, 28) -> (None, 8, 28, 28)): BatchNorm(\n",
       "          (layer): BatchNorm2d(8, eps=1e-05, momentum=0.1, affine=True, track_running_stats=True)\n",
       "        )\n",
       "        (Layer 20, letter \"a\"; (None, 8, 28, 28) -> (None, 8, 28, 28)): Activation(\n",
       "          (activation): ReLU(inplace=True)\n",
       "        )\n",
       "        (Layer 21, letter \"c\"; (None, 8, 28, 28) -> (None, 1, 28, 28)): Conv(\n",
       "          (layer): Conv2d(8, 1, kernel_size=(3, 3), stride=(1, 1))\n",
       "        )\n",
       "      )\n",
       "    )\n",
       "    (skip_modules): ModuleList(\n",
       "      (0): Sequential(\n",
       "        (Layer 3, letter \"R\"): Sequential()\n",
       "      )\n",
       "      (1): Sequential(\n",
       "        (Layer 8, letter \"R\"): Sequential()\n",
       "      )\n",
       "    )\n",
       "    (combine_modules): ModuleList(\n",
       "      (0): Sequential(\n",
       "        (Layer 13: (None, 32, 14, 14) -> (None, 32, 14, 14)): Combine(op=+)\n",
       "      )\n",
       "      (1): Sequential(\n",
       "        (Layer 17: (None, 16, 28, 28) -> (None, 16, 28, 28)): Combine(op=+)\n",
       "      )\n",
       "    )\n",
       "  )\n",
       ")"
      ]
     },
     "execution_count": 21,
     "metadata": {},
     "output_type": "execute_result"
    }
   ],
   "source": [
    "ppl.get_model_by_name('MODEL').model"
   ]
  }
 ],
 "metadata": {
  "kernelspec": {
   "display_name": "Python 3",
   "language": "python",
   "name": "python3"
  },
  "language_info": {
   "codemirror_mode": {
    "name": "ipython",
    "version": 3
   },
   "file_extension": ".py",
   "mimetype": "text/x-python",
   "name": "python",
   "nbconvert_exporter": "python",
   "pygments_lexer": "ipython3",
   "version": "3.7.3"
  },
  "varInspector": {
   "cols": {
    "lenName": 16,
    "lenType": 16,
    "lenVar": 40
   },
   "kernels_config": {
    "python": {
     "delete_cmd_postfix": "",
     "delete_cmd_prefix": "del ",
     "library": "var_list.py",
     "varRefreshCmd": "print(var_dic_list())"
    },
    "r": {
     "delete_cmd_postfix": ") ",
     "delete_cmd_prefix": "rm(",
     "library": "var_list.r",
     "varRefreshCmd": "cat(var_dic_list()) "
    }
   },
   "types_to_exclude": [
    "module",
    "function",
    "builtin_function_or_method",
    "instance",
    "_Feature"
   ],
   "window_display": false
  }
 },
 "nbformat": 4,
 "nbformat_minor": 2
}
