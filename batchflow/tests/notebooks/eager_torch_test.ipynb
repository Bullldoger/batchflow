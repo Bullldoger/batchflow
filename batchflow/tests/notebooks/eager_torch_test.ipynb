{
 "cells": [
  {
   "cell_type": "code",
   "execution_count": null,
   "metadata": {
    "ExecuteTime": {
     "end_time": "2019-11-22T15:29:47.591393Z",
     "start_time": "2019-11-22T15:29:44.861840Z"
    }
   },
   "outputs": [],
   "source": [
    "%load_ext autoreload\n",
    "%autoreload 2\n",
    "import os\n",
    "import sys\n",
    "import warnings\n",
    "\n",
    "import numpy as np\n",
    "import matplotlib.pyplot as plt\n",
    "import torch\n",
    "import torch.nn as nn\n",
    "\n",
    "sys.path.append(\"../../..\")\n",
    "from batchflow import *\n",
    "from batchflow.opensets import MNIST\n",
    "from batchflow.models.eager_torch import *\n",
    "from batchflow.models.eager_torch.layers import ConvBlock, update_layers, ConvGroup\n",
    "\n",
    "# Set GPU\n",
    "# %env CUDA_VISIBLE_DEVICES=6"
   ]
  },
  {
   "cell_type": "code",
   "execution_count": null,
   "metadata": {
    "ExecuteTime": {
     "end_time": "2019-11-22T15:29:47.623603Z",
     "start_time": "2019-11-22T15:29:47.594476Z"
    }
   },
   "outputs": [],
   "source": [
    "inputs = np.ones((5, 5, 5, 5), dtype=np.float32)\n",
    "value = torch.from_numpy(inputs)\n",
    "\n",
    "inputs = value"
   ]
  },
  {
   "cell_type": "code",
   "execution_count": null,
   "metadata": {
    "ExecuteTime": {
     "end_time": "2019-11-22T15:29:47.673230Z",
     "start_time": "2019-11-22T15:29:47.626923Z"
    }
   },
   "outputs": [],
   "source": [
    "layer = ConvBlock(layout='cna', filters='same', inputs=inputs)"
   ]
  },
  {
   "cell_type": "code",
   "execution_count": null,
   "metadata": {
    "ExecuteTime": {
     "end_time": "2019-11-22T15:29:47.722927Z",
     "start_time": "2019-11-22T15:29:47.675455Z"
    },
    "scrolled": true
   },
   "outputs": [],
   "source": [
    "layer"
   ]
  },
  {
   "cell_type": "code",
   "execution_count": null,
   "metadata": {},
   "outputs": [],
   "source": []
  },
  {
   "cell_type": "code",
   "execution_count": null,
   "metadata": {
    "ExecuteTime": {
     "end_time": "2019-11-22T15:29:47.782595Z",
     "start_time": "2019-11-22T15:29:47.728525Z"
    }
   },
   "outputs": [],
   "source": [
    "group = ConvGroup(nn.Identity(), {}, {}, inputs=inputs, n_repeats=2, n_branches=2, combine='+',\n",
    "                  layout='cna', filters='same+1')"
   ]
  },
  {
   "cell_type": "code",
   "execution_count": null,
   "metadata": {
    "ExecuteTime": {
     "end_time": "2019-11-22T15:29:47.827586Z",
     "start_time": "2019-11-22T15:29:47.785635Z"
    },
    "scrolled": true
   },
   "outputs": [],
   "source": [
    "group"
   ]
  },
  {
   "cell_type": "code",
   "execution_count": null,
   "metadata": {
    "ExecuteTime": {
     "end_time": "2019-11-22T15:29:47.872150Z",
     "start_time": "2019-11-22T15:29:47.833880Z"
    }
   },
   "outputs": [],
   "source": [
    "get_shape(group(inputs))"
   ]
  },
  {
   "cell_type": "code",
   "execution_count": null,
   "metadata": {
    "ExecuteTime": {
     "end_time": "2019-11-22T15:29:48.020213Z",
     "start_time": "2019-11-22T15:29:47.878142Z"
    }
   },
   "outputs": [],
   "source": [
    "multiplied = group * 2"
   ]
  },
  {
   "cell_type": "code",
   "execution_count": null,
   "metadata": {
    "ExecuteTime": {
     "end_time": "2019-11-22T15:29:48.086581Z",
     "start_time": "2019-11-22T15:29:48.022578Z"
    }
   },
   "outputs": [],
   "source": [
    "get_shape(multiplied(inputs))"
   ]
  },
  {
   "cell_type": "code",
   "execution_count": null,
   "metadata": {
    "ExecuteTime": {
     "end_time": "2019-11-22T15:29:48.272933Z",
     "start_time": "2019-11-22T15:29:48.089672Z"
    }
   },
   "outputs": [],
   "source": [
    "branched = group % 2"
   ]
  },
  {
   "cell_type": "code",
   "execution_count": null,
   "metadata": {
    "ExecuteTime": {
     "end_time": "2019-11-22T15:29:48.351936Z",
     "start_time": "2019-11-22T15:29:48.275971Z"
    }
   },
   "outputs": [],
   "source": [
    "branched"
   ]
  },
  {
   "cell_type": "code",
   "execution_count": null,
   "metadata": {
    "ExecuteTime": {
     "end_time": "2019-11-22T15:29:48.442464Z",
     "start_time": "2019-11-22T15:29:48.354991Z"
    }
   },
   "outputs": [],
   "source": [
    "get_shape(branched(inputs))"
   ]
  },
  {
   "cell_type": "code",
   "execution_count": null,
   "metadata": {
    "ExecuteTime": {
     "end_time": "2019-11-22T15:29:48.615221Z",
     "start_time": "2019-11-22T15:29:48.447937Z"
    }
   },
   "outputs": [],
   "source": [
    "super_group = ConvGroup(group, {}, nn.Identity(), {'filters': '5'},\n",
    "                        inputs=inputs, n_repeats=2, n_branches=2,\n",
    "                        branch_combine='+', layout='cna', filters='same+1')"
   ]
  },
  {
   "cell_type": "code",
   "execution_count": null,
   "metadata": {
    "ExecuteTime": {
     "end_time": "2019-11-22T15:29:48.685787Z",
     "start_time": "2019-11-22T15:29:48.621696Z"
    }
   },
   "outputs": [],
   "source": [
    "super_group"
   ]
  },
  {
   "cell_type": "code",
   "execution_count": null,
   "metadata": {
    "ExecuteTime": {
     "end_time": "2019-11-22T15:29:48.789907Z",
     "start_time": "2019-11-22T15:29:48.692550Z"
    }
   },
   "outputs": [],
   "source": [
    "get_shape(super_group(inputs))"
   ]
  },
  {
   "cell_type": "markdown",
   "metadata": {},
   "source": [
    "# Setup"
   ]
  },
  {
   "cell_type": "code",
   "execution_count": null,
   "metadata": {
    "ExecuteTime": {
     "end_time": "2019-11-22T15:29:50.303485Z",
     "start_time": "2019-11-22T15:29:48.797241Z"
    }
   },
   "outputs": [],
   "source": [
    "mnist = MNIST(batch_class=ImagesBatch)\n",
    "\n",
    "if __name__ == '__main__':\n",
    "    MICROBATCH = None\n",
    "    DEVICE = None\n",
    "\n",
    "print('\\nMicrobatching is: {}'.format(MICROBATCH))\n",
    "print('\\nDevice is: {}'.format(DEVICE))    "
   ]
  },
  {
   "cell_type": "code",
   "execution_count": null,
   "metadata": {
    "ExecuteTime": {
     "end_time": "2019-11-22T15:29:50.356553Z",
     "start_time": "2019-11-22T15:29:50.305895Z"
    }
   },
   "outputs": [],
   "source": [
    "IMAGE_SHAPE = (1, 28, 28)\n",
    "\n",
    "def get_classification_config(model_class, config):\n",
    "    default_config = {\n",
    "#         'inputs/images/shape': IMAGE_SHAPE,\n",
    "#         'inputs/labels/classes': 10,\n",
    "#         'initial_block/inputs': 'images',\n",
    "        'loss': 'ce',\n",
    "        'microbatch': MICROBATCH,\n",
    "        'device': DEVICE,\n",
    "    }\n",
    "\n",
    "    pipeline_config = {\n",
    "        'model': model_class,\n",
    "        'model_config': {**default_config, **config},\n",
    "        'feed_dict': {'images': B('images'),\n",
    "                      'labels': B('labels')},\n",
    "    }\n",
    "    return pipeline_config\n",
    "\n",
    "def get_segmentation_config(model_class, config):\n",
    "    default_config = {\n",
    "#         'inputs/images/shape': IMAGE_SHAPE,\n",
    "#         'inputs/masks/shape': IMAGE_SHAPE,\n",
    "#         'initial_block/inputs': 'images',\n",
    "        'body/decoder/blocks/combine_op': 'concat', # for some reason `concat` is not working from within pytest \n",
    "        'loss': 'mse',\n",
    "        'microbatch': MICROBATCH,\n",
    "        'device': DEVICE,\n",
    "    }\n",
    "    \n",
    "    pipeline_config = {\n",
    "        'model': model_class,\n",
    "        'model_config': {**default_config, **config},\n",
    "        'feed_dict': {'images': B('images'),\n",
    "                      'masks': B('images')},\n",
    "    }\n",
    "    return pipeline_config"
   ]
  },
  {
   "cell_type": "code",
   "execution_count": null,
   "metadata": {
    "ExecuteTime": {
     "end_time": "2019-11-22T15:29:50.406218Z",
     "start_time": "2019-11-22T15:29:50.359057Z"
    }
   },
   "outputs": [],
   "source": [
    "def get_pipeline(pipeline_config):\n",
    "    \"\"\" Pipeline config must contain 'model', 'model_config', 'feed_dict' keys. \"\"\"\n",
    "    vals = pipeline_config['feed_dict'].pop('images'), list(pipeline_config['feed_dict'].values())[0]\n",
    "\n",
    "    pipeline = (Pipeline(config=pipeline_config)\n",
    "                .init_variable('loss_history', [])\n",
    "#                 .multiply(multiplier=1/255., preserve_type=False)\n",
    "                .to_array(channels='first', dtype='float32')\n",
    "                .init_model('dynamic', C('model'),\n",
    "                            'MODEL', config=C('model_config'))\n",
    "                .train_model('MODEL', *vals,\n",
    "                             fetches='loss',\n",
    "                             save_to=V('loss_history', mode='a'))\n",
    "                )\n",
    "    return pipeline"
   ]
  },
  {
   "cell_type": "code",
   "execution_count": null,
   "metadata": {
    "ExecuteTime": {
     "end_time": "2019-11-22T15:29:50.445420Z",
     "start_time": "2019-11-22T15:29:50.408193Z"
    }
   },
   "outputs": [],
   "source": [
    "def run(task, model_class, config, description, batch_size=16, n_iters=10):\n",
    "    if task.startswith('c'):\n",
    "        pipeline_config = get_classification_config(model_class, config)\n",
    "    elif task.startswith('s'):\n",
    "        pipeline_config = get_segmentation_config(model_class, config)\n",
    "        \n",
    "    train_pipeline = get_pipeline(pipeline_config) << mnist.train\n",
    "    _ = train_pipeline.run(batch_size, n_iters=n_iters, bar=True,\n",
    "                           bar_desc=W(V('loss_history')[-1].format('Loss is {:7.7}')))\n",
    "    \n",
    "    print('{} {} is done'.format(task, description))\n",
    "    return train_pipeline"
   ]
  },
  {
   "cell_type": "markdown",
   "metadata": {},
   "source": [
    "# Classification"
   ]
  },
  {
   "cell_type": "code",
   "execution_count": null,
   "metadata": {
    "ExecuteTime": {
     "end_time": "2019-11-22T15:30:07.170575Z",
     "start_time": "2019-11-22T15:29:50.447796Z"
    },
    "scrolled": true
   },
   "outputs": [],
   "source": [
    "config = {\n",
    "#     'inputs/images/shape': IMAGE_SHAPE,\n",
    "    'inputs/labels/classes': 10,\n",
    "#     'initial_block/inputs': 'images',\n",
    "    'initial_block': {'layout': 'cna', 'filters': 8},\n",
    "    'body/encoder': {'num_stages': 5},\n",
    "    'head': {'layout': 'faf', 'units': [50, 10]}\n",
    "}\n",
    "\n",
    "\n",
    "ppl = run('classification', Encoder, config, 'simple fc', n_iters=100, batch_size=64)"
   ]
  },
  {
   "cell_type": "code",
   "execution_count": null,
   "metadata": {
    "ExecuteTime": {
     "end_time": "2019-11-22T15:30:07.487755Z",
     "start_time": "2019-11-22T15:30:07.184471Z"
    }
   },
   "outputs": [],
   "source": [
    "plt.plot(ppl.v('loss_history'))"
   ]
  },
  {
   "cell_type": "code",
   "execution_count": null,
   "metadata": {
    "ExecuteTime": {
     "end_time": "2019-11-22T15:30:10.995255Z",
     "start_time": "2019-11-22T15:30:07.490162Z"
    }
   },
   "outputs": [],
   "source": [
    "config = {\n",
    "#     'inputs/images/shape': IMAGE_SHAPE,\n",
    "#     'inputs/labels/classes': 10,\n",
    "#     'initial_block/inputs': 'images',\n",
    "    'loss': ['ce', 'ce'],\n",
    "    'decay': 'exp',\n",
    "    'n_iters': 25,\n",
    "    'train_steps': {'a': {}, 'b': {}},\n",
    "    'initial_block': {'layout': 'fafaf', 'units': [128, 256, 10]},\n",
    "    'order': ['initial_block', ('ib_2', 'initial_block', EagerTorch.initial_block)],\n",
    "}\n",
    "\n",
    "\n",
    "ppl = run('classification', EagerTorch, config, 'simple fc', n_iters=99, batch_size=64)"
   ]
  },
  {
   "cell_type": "code",
   "execution_count": null,
   "metadata": {
    "ExecuteTime": {
     "end_time": "2019-11-22T15:30:11.507387Z",
     "start_time": "2019-11-22T15:30:11.006438Z"
    }
   },
   "outputs": [],
   "source": [
    "plt.plot(ppl.v('loss_history'))"
   ]
  },
  {
   "cell_type": "code",
   "execution_count": null,
   "metadata": {
    "ExecuteTime": {
     "end_time": "2019-11-22T15:30:11.543583Z",
     "start_time": "2019-11-22T15:30:11.510141Z"
    }
   },
   "outputs": [],
   "source": [
    "from batchflow.models.eager_torch.layers import Combine\n",
    "\n",
    "class TestModel(EagerTorch):\n",
    "    @classmethod\n",
    "    def body(cls, inputs, **kwargs):\n",
    "        \"\"\" Truly amazing docstring. \"\"\"\n",
    "        kwargs = cls.get_defaults('body', kwargs)\n",
    "        return BodyModule(inputs=inputs, **kwargs)\n",
    "    \n",
    "class BodyModule(nn.Module):\n",
    "    def __init__(self, inputs=None, **kwargs):\n",
    "        super().__init__()\n",
    "        self.x1 = ConvBlock(inputs=inputs, **kwargs)\n",
    "        self.x2 = ConvBlock(inputs=inputs, **kwargs)\n",
    "        \n",
    "        self.combine = Combine(op='concat')\n",
    "        \n",
    "    def forward(self, x):\n",
    "        x1 = self.x1(x)\n",
    "        x2 = self.x2(x)\n",
    "        return self.combine([x1, x2])"
   ]
  },
  {
   "cell_type": "code",
   "execution_count": null,
   "metadata": {
    "ExecuteTime": {
     "end_time": "2019-11-22T15:30:20.968734Z",
     "start_time": "2019-11-22T15:30:11.545320Z"
    },
    "scrolled": true
   },
   "outputs": [],
   "source": [
    "config = {\n",
    "    'initial_block': {'layout': 'Rcna. p cnap',\n",
    "                      'filters': [16, 32], 'scale_factor': 2,},\n",
    "#     'body': {'layout': 'ca'*2,\n",
    "#              'filters': [32, 32]},\n",
    "    'body': {'module': BodyModule, 'module_kwargs': {'layout': 'cnacna',\n",
    "                                                     'filters': [32, 32]}\n",
    "             },\n",
    "    'head': {'layout': 'Dnfaf',\n",
    "             'units': [600,10], 'dropout_rate': 0.3},\n",
    "}\n",
    "\n",
    "ppl = run('classification', TestModel, config, 'simple fc', n_iters=50, batch_size=64)"
   ]
  },
  {
   "cell_type": "code",
   "execution_count": null,
   "metadata": {
    "ExecuteTime": {
     "end_time": "2019-11-22T15:30:21.254244Z",
     "start_time": "2019-11-22T15:30:20.982460Z"
    }
   },
   "outputs": [],
   "source": [
    "plt.plot(ppl.v('loss_history'))"
   ]
  },
  {
   "cell_type": "code",
   "execution_count": null,
   "metadata": {
    "ExecuteTime": {
     "end_time": "2019-11-22T15:30:26.572416Z",
     "start_time": "2019-11-22T15:30:21.257053Z"
    },
    "scrolled": true
   },
   "outputs": [],
   "source": [
    "test_pipeline = (mnist.test.p\n",
    "                .import_model('MODEL', ppl)\n",
    "                .init_variable('predictions')\n",
    "                .init_variable('metrics', init_on_each_run=None) \n",
    "                .to_array(channels='first', dtype='float32')\n",
    "#                 .train_model('MODEL', B.images, B.labels,\n",
    "#                                fetches='predictions', save_to=V('predictions'))\n",
    "                .predict_model('MODEL', B.images,\n",
    "                               fetches='predictions', save_to=V('predictions'))\n",
    "                .gather_metrics('class', targets=B.labels, predictions=V('predictions'),\n",
    "                                fmt='logits', axis=-1, save_to=V('metrics', mode='w'))\n",
    "                .run(64, shuffle=True, n_epochs=1, drop_last=False, bar=True)\n",
    ")"
   ]
  },
  {
   "cell_type": "code",
   "execution_count": null,
   "metadata": {
    "ExecuteTime": {
     "end_time": "2019-11-22T15:30:26.627089Z",
     "start_time": "2019-11-22T15:30:26.575379Z"
    }
   },
   "outputs": [],
   "source": [
    "metrics = test_pipeline.get_variable('metrics')\n",
    "metrics.evaluate('accuracy')"
   ]
  },
  {
   "cell_type": "code",
   "execution_count": null,
   "metadata": {
    "ExecuteTime": {
     "end_time": "2019-11-22T15:30:26.685661Z",
     "start_time": "2019-11-22T15:30:26.629824Z"
    }
   },
   "outputs": [],
   "source": [
    "ppl.get_model_by_name('MODEL').model"
   ]
  },
  {
   "cell_type": "markdown",
   "metadata": {},
   "source": [
    "# Segmentation"
   ]
  },
  {
   "cell_type": "code",
   "execution_count": null,
   "metadata": {
    "ExecuteTime": {
     "end_time": "2019-11-22T15:30:28.031969Z",
     "start_time": "2019-11-22T15:30:26.688766Z"
    }
   },
   "outputs": [],
   "source": [
    "config = {\n",
    "    'initial_block': {'layout': 'cna', 'filters': 8},\n",
    "#     'body/encoder/num_stages': 3,\n",
    "#     'body/encoder/single_return': False,\n",
    "    'body/decoder/num_stages': 3,\n",
    "#     'body/decoder/filters': [32, 48, 64],\n",
    "    'body/decoder/factor': [1, 1, 1],\n",
    "#     'head': {'layout': 'c', 'filters': 1,}\n",
    "}\n",
    "\n",
    "ppl = run('segmentation', Decoder, config, 'unet?', n_iters=10, batch_size=64)"
   ]
  },
  {
   "cell_type": "code",
   "execution_count": null,
   "metadata": {
    "ExecuteTime": {
     "end_time": "2019-11-22T15:30:28.094292Z",
     "start_time": "2019-11-22T15:30:28.035223Z"
    }
   },
   "outputs": [],
   "source": [
    "ppl.get_model_by_name('MODEL').model"
   ]
  },
  {
   "cell_type": "code",
   "execution_count": null,
   "metadata": {
    "ExecuteTime": {
     "end_time": "2019-11-22T15:30:28.430636Z",
     "start_time": "2019-11-22T15:30:28.096889Z"
    }
   },
   "outputs": [],
   "source": [
    "plt.plot(ppl.v('loss_history'))"
   ]
  },
  {
   "cell_type": "code",
   "execution_count": null,
   "metadata": {},
   "outputs": [],
   "source": []
  },
  {
   "cell_type": "code",
   "execution_count": null,
   "metadata": {},
   "outputs": [],
   "source": []
  },
  {
   "cell_type": "code",
   "execution_count": null,
   "metadata": {
    "ExecuteTime": {
     "end_time": "2019-11-22T15:31:06.407173Z",
     "start_time": "2019-11-22T15:30:28.435426Z"
    },
    "scrolled": true
   },
   "outputs": [],
   "source": [
    "config = {\n",
    "    'initial_block': {'layout': 'cna', 'filters': 8},\n",
    "    'body/encoder/num_stages': 3,\n",
    "#     'body/decoder/num_stages': 3,\n",
    "#     'head': {'layout': 'c', 'filters': 1,}\n",
    "}\n",
    "\n",
    "ppl = run('segmentation', EncoderDecoder, config, 'unet?', n_iters=100, batch_size=64)"
   ]
  },
  {
   "cell_type": "code",
   "execution_count": null,
   "metadata": {
    "ExecuteTime": {
     "end_time": "2019-11-22T15:31:06.987100Z",
     "start_time": "2019-11-22T15:31:06.409973Z"
    }
   },
   "outputs": [],
   "source": [
    "plt.plot(ppl.v('loss_history'))"
   ]
  },
  {
   "cell_type": "code",
   "execution_count": null,
   "metadata": {},
   "outputs": [],
   "source": []
  },
  {
   "cell_type": "code",
   "execution_count": null,
   "metadata": {
    "ExecuteTime": {
     "end_time": "2019-11-22T15:31:29.115633Z",
     "start_time": "2019-11-22T15:31:06.991817Z"
    },
    "scrolled": true
   },
   "outputs": [],
   "source": [
    "config = {\n",
    "    'step_on_each': 1,\n",
    "    'initial_block': {\n",
    "#         'layout': 'cnap AAbcna++ c',\n",
    "        'layout': 'cnaRp cnaRp tna+ tna+ BScna*+ cnac',\n",
    "        'filters': [16, 32, 32, 16, 'same', 8, 1],\n",
    "        'transposed_conv': {'kernel_size': 2, 'strides': 2},\n",
    "#         'kernel_size': [3, 3, 2, 2, 3, 3, 3],\n",
    "#         'strides':     [1, 1, 2, 2, 1, 1, 1],\n",
    "        'side_branch': {'layout': 'ca', 'filters': 'same'}\n",
    "    },\n",
    "}\n",
    "\n",
    "ppl = run('segmentation', EagerTorch, config, 'unet?', n_iters=100, batch_size=64)"
   ]
  },
  {
   "cell_type": "code",
   "execution_count": null,
   "metadata": {
    "ExecuteTime": {
     "end_time": "2019-11-22T15:31:29.328680Z",
     "start_time": "2019-11-22T15:31:29.118085Z"
    }
   },
   "outputs": [],
   "source": [
    "plt.plot(ppl.v('loss_history'))"
   ]
  },
  {
   "cell_type": "code",
   "execution_count": null,
   "metadata": {
    "ExecuteTime": {
     "end_time": "2019-11-22T15:31:29.353021Z",
     "start_time": "2019-11-22T15:31:29.331267Z"
    },
    "scrolled": true
   },
   "outputs": [],
   "source": [
    "ppl.get_model_by_name('MODEL').model"
   ]
  },
  {
   "cell_type": "code",
   "execution_count": null,
   "metadata": {},
   "outputs": [],
   "source": []
  },
  {
   "cell_type": "code",
   "execution_count": null,
   "metadata": {
    "ExecuteTime": {
     "end_time": "2019-11-22T15:33:52.432583Z",
     "start_time": "2019-11-22T15:33:52.393127Z"
    }
   },
   "outputs": [],
   "source": [
    "class UNet(EncoderDecoder):\n",
    "    @classmethod\n",
    "    def default_config(cls):\n",
    "        config = super().default_config()\n",
    "\n",
    "        config['body/encoder/num_stages'] = 4\n",
    "        config['body/encoder/order'] = ['block', 'skip', 'downsampling']\n",
    "        config['body/encoder/blocks'] += dict(layout='cna cna', kernel_size=3, filters=[64, 128, 256, 512])\n",
    "        config['body/embedding'] += dict(layout='cna cna', kernel_size=3, filters=1024)\n",
    "        config['body/decoder/order'] = ['upsampling', 'combine', 'block']\n",
    "        config['body/decoder/blocks'] += dict(layout='cna cna', kernel_size=3, filters=[512, 256, 128, 64])\n",
    "\n",
    "        config['loss'] = 'ce'\n",
    "        return config\n",
    "\n",
    "    def build_config(self):\n",
    "        config = super().build_config()\n",
    "\n",
    "        num_stages = config.get('body/encoder/num_stages')\n",
    "\n",
    "        if config.get('body/encoder/blocks/filters') is None:\n",
    "            config['body/encoder/blocks/filters'] = [2 * 2**i for i in range(num_stages)]\n",
    "\n",
    "        if config.get('body/embedding/filters') is None:\n",
    "            config['body/embedding/filters'] = 2 * 2**num_stages\n",
    "\n",
    "        if config.get('body/decoder/blocks/filters') is None:\n",
    "            enc_filters = config.get('body/encoder/blocks/filters')\n",
    "            config['body/decoder/blocks/filters'] = enc_filters[::-1]\n",
    "\n",
    "        if config.get('body/decoder/upsample/filters') is None:\n",
    "            config['body/decoder/upsample/filters'] = config.get('body/decoder/blocks/filters')\n",
    "\n",
    "        return config"
   ]
  },
  {
   "cell_type": "code",
   "execution_count": null,
   "metadata": {
    "ExecuteTime": {
     "start_time": "2019-11-22T15:34:32.013Z"
    }
   },
   "outputs": [],
   "source": [
    "config = {\n",
    "    'initial_block/filters': 2,\n",
    "    'body/encoder': {'num_stages': 3},\n",
    "}\n",
    "\n",
    "ppl = run('segmentation', UNet, config, 'unet', n_iters=100, batch_size=64)"
   ]
  },
  {
   "cell_type": "code",
   "execution_count": null,
   "metadata": {},
   "outputs": [],
   "source": []
  }
 ],
 "metadata": {
  "kernelspec": {
   "display_name": "Python 3",
   "language": "python",
   "name": "python3"
  },
  "language_info": {
   "codemirror_mode": {
    "name": "ipython",
    "version": 3
   },
   "file_extension": ".py",
   "mimetype": "text/x-python",
   "name": "python",
   "nbconvert_exporter": "python",
   "pygments_lexer": "ipython3",
   "version": "3.7.3"
  },
  "varInspector": {
   "cols": {
    "lenName": 16,
    "lenType": 16,
    "lenVar": 40
   },
   "kernels_config": {
    "python": {
     "delete_cmd_postfix": "",
     "delete_cmd_prefix": "del ",
     "library": "var_list.py",
     "varRefreshCmd": "print(var_dic_list())"
    },
    "r": {
     "delete_cmd_postfix": ") ",
     "delete_cmd_prefix": "rm(",
     "library": "var_list.r",
     "varRefreshCmd": "cat(var_dic_list()) "
    }
   },
   "types_to_exclude": [
    "module",
    "function",
    "builtin_function_or_method",
    "instance",
    "_Feature"
   ],
   "window_display": false
  }
 },
 "nbformat": 4,
 "nbformat_minor": 2
}
