{
 "cells": [
  {
   "cell_type": "code",
   "execution_count": 1,
   "metadata": {},
   "outputs": [
    {
     "name": "stderr",
     "output_type": "stream",
     "text": [
      "WARNING: Logging before flag parsing goes to stderr.\n",
      "W0913 10:18:43.043675 140241434658624 deprecation_wrapper.py:119] From /media/data/Data/source/github/analysiscenter/batchflow/batchflow/models/tf/losses/dice.py:6: The name tf.GraphKeys is deprecated. Please use tf.compat.v1.GraphKeys instead.\n",
      "\n",
      "W0913 10:18:43.045180 140241434658624 deprecation_wrapper.py:119] From /media/data/Data/source/github/analysiscenter/batchflow/batchflow/models/tf/losses/dice.py:6: The name tf.losses.Reduction is deprecated. Please use tf.compat.v1.losses.Reduction instead.\n",
      "\n",
      "W0913 10:18:43.048959 140241434658624 deprecation_wrapper.py:119] From /media/data/Data/source/github/analysiscenter/batchflow/batchflow/models/tf/base.py:22: The name tf.losses.mean_squared_error is deprecated. Please use tf.compat.v1.losses.mean_squared_error instead.\n",
      "\n",
      "W0913 10:18:43.049779 140241434658624 deprecation_wrapper.py:119] From /media/data/Data/source/github/analysiscenter/batchflow/batchflow/models/tf/base.py:23: The name tf.losses.sigmoid_cross_entropy is deprecated. Please use tf.compat.v1.losses.sigmoid_cross_entropy instead.\n",
      "\n",
      "W0913 10:18:43.050498 140241434658624 deprecation_wrapper.py:119] From /media/data/Data/source/github/analysiscenter/batchflow/batchflow/models/tf/base.py:26: The name tf.losses.absolute_difference is deprecated. Please use tf.compat.v1.losses.absolute_difference instead.\n",
      "\n",
      "W0913 10:18:43.051222 140241434658624 deprecation_wrapper.py:119] From /media/data/Data/source/github/analysiscenter/batchflow/batchflow/models/tf/base.py:30: The name tf.losses.hinge_loss is deprecated. Please use tf.compat.v1.losses.hinge_loss instead.\n",
      "\n",
      "W0913 10:18:43.051912 140241434658624 deprecation_wrapper.py:119] From /media/data/Data/source/github/analysiscenter/batchflow/batchflow/models/tf/base.py:37: The name tf.train.exponential_decay is deprecated. Please use tf.compat.v1.train.exponential_decay instead.\n",
      "\n",
      "W0913 10:18:43.052607 140241434658624 deprecation_wrapper.py:119] From /media/data/Data/source/github/analysiscenter/batchflow/batchflow/models/tf/base.py:38: The name tf.train.inverse_time_decay is deprecated. Please use tf.compat.v1.train.inverse_time_decay instead.\n",
      "\n",
      "W0913 10:18:43.053314 140241434658624 deprecation_wrapper.py:119] From /media/data/Data/source/github/analysiscenter/batchflow/batchflow/models/tf/base.py:39: The name tf.train.natural_exp_decay is deprecated. Please use tf.compat.v1.train.natural_exp_decay instead.\n",
      "\n",
      "W0913 10:18:43.054011 140241434658624 deprecation_wrapper.py:119] From /media/data/Data/source/github/analysiscenter/batchflow/batchflow/models/tf/base.py:41: The name tf.train.polynomial_decay is deprecated. Please use tf.compat.v1.train.polynomial_decay instead.\n",
      "\n"
     ]
    }
   ],
   "source": [
    "import os\n",
    "import shutil\n",
    "from time import sleep\n",
    "from pprint import pprint\n",
    "\n",
    "import tensorflow as tf\n",
    "import numpy as np\n",
    "\n",
    "from batchflow.models.tf import EfficientNetB0, EfficientNetB1, EfficientNetB2\n",
    "\n",
    "from batchflow import Pipeline, B, V, C, D, ImagesBatch\n",
    "from batchflow.opensets import CIFAR10\n",
    "from batchflow.research import Option, Research, Results\n"
   ]
  },
  {
   "cell_type": "code",
   "execution_count": 2,
   "metadata": {},
   "outputs": [
    {
     "name": "stderr",
     "output_type": "stream",
     "text": [
      "7it [02:52, 20.61s/it]                        \n"
     ]
    }
   ],
   "source": [
    "cifar = CIFAR10(batch_class=ImagesBatch, bar=True)\n"
   ]
  },
  {
   "cell_type": "code",
   "execution_count": 3,
   "metadata": {},
   "outputs": [],
   "source": [
    "# new_res = EfficientNetB0.resolution\n",
    "# im_shape = (new_res, new_res, 3)\n",
    "\n",
    "model_config = {\n",
    "    'inputs/images/shape': B('image_shape'), #im_shape,\n",
    "    'inputs/labels/classes': D('num_classes'),\n",
    "    'initial_block/inputs': 'images',\n",
    "    'loss': 'ce'\n",
    "}\n",
    "\n",
    "train_ppl = (cifar.train.p\n",
    "#                   .resize((new_res, new_res))\n",
    "                  .init_variable('loss_history', default=[])\n",
    "                  .init_model('dynamic', EfficientNetB1, 'model', config=model_config)\n",
    "                  .to_array()\n",
    "                  .train_model('model', fetches='loss', images=B('images'), labels=B('labels'), \n",
    "                               save_to=V('loss_history', mode='a'))\n",
    "                  .run_later(64, shuffle=True, n_epochs=1, drop_last=True))"
   ]
  },
  {
   "cell_type": "code",
   "execution_count": 4,
   "metadata": {},
   "outputs": [
    {
     "name": "stderr",
     "output_type": "stream",
     "text": [
      "  0%|          | 0/781 [00:00<?, ?it/s]W0913 10:21:36.074784 140241434658624 deprecation_wrapper.py:119] From /media/data/Data/source/github/analysiscenter/batchflow/batchflow/models/tf/base.py:319: The name tf.variable_scope is deprecated. Please use tf.compat.v1.variable_scope instead.\n",
      "\n",
      "W0913 10:21:36.075752 140241434658624 deprecation_wrapper.py:119] From /media/data/Data/source/github/analysiscenter/batchflow/batchflow/models/tf/base.py:321: The name tf.placeholder is deprecated. Please use tf.compat.v1.placeholder instead.\n",
      "\n",
      "W0913 10:21:36.083170 140241434658624 deprecation_wrapper.py:119] From /media/data/Data/source/github/analysiscenter/batchflow/batchflow/models/tf/base.py:380: The name tf.get_variable_scope is deprecated. Please use tf.compat.v1.get_variable_scope instead.\n",
      "\n",
      "W0913 10:21:36.096940 140241434658624 deprecation.py:323] From /media/data/Data/source/github/analysiscenter/batchflow/batchflow/models/tf/layers/conv.py:26: conv2d (from tensorflow.python.layers.convolutional) is deprecated and will be removed in a future version.\n",
      "Instructions for updating:\n",
      "Use `tf.keras.layers.Conv2D` instead.\n",
      "W0913 10:21:36.100105 140241434658624 deprecation.py:506] From /home/antonina/miniconda3/lib/python3.7/site-packages/tensorflow/python/ops/init_ops.py:1251: calling VarianceScaling.__init__ (from tensorflow.python.ops.init_ops) with dtype is deprecated and will be removed in a future version.\n",
      "Instructions for updating:\n",
      "Call initializer instance with the dtype argument instead of passing it to the constructor\n",
      "W0913 10:21:36.352541 140241434658624 deprecation.py:323] From /media/data/Data/source/github/analysiscenter/batchflow/batchflow/models/tf/layers/block.py:221: batch_normalization (from tensorflow.python.layers.normalization) is deprecated and will be removed in a future version.\n",
      "Instructions for updating:\n",
      "Use keras.layers.BatchNormalization instead.  In particular, `tf.control_dependencies(tf.GraphKeys.UPDATE_OPS)` should not be used (consult the `tf.keras.layers.batch_normalization` documentation).\n",
      "W0913 10:21:36.670502 140241434658624 deprecation.py:323] From /media/data/Data/source/github/analysiscenter/batchflow/batchflow/models/tf/layers/block.py:221: dense (from tensorflow.python.layers.core) is deprecated and will be removed in a future version.\n",
      "Instructions for updating:\n",
      "Use keras.layers.dense instead.\n",
      "W0913 10:21:42.362681 140241434658624 deprecation.py:323] From /media/data/Data/source/github/analysiscenter/batchflow/batchflow/models/tf/layers/block.py:221: dropout (from tensorflow.python.layers.core) is deprecated and will be removed in a future version.\n",
      "Instructions for updating:\n",
      "Use keras.layers.dropout instead.\n",
      "W0913 10:21:42.468359 140241434658624 deprecation_wrapper.py:119] From /media/data/Data/source/github/analysiscenter/batchflow/batchflow/models/tf/base.py:347: The name tf.Session is deprecated. Please use tf.compat.v1.Session instead.\n",
      "\n",
      "W0913 10:21:42.469969 140241434658624 deprecation_wrapper.py:119] From /media/data/Data/source/github/analysiscenter/batchflow/batchflow/models/tf/base.py:764: The name tf.train.AdamOptimizer is deprecated. Please use tf.compat.v1.train.AdamOptimizer instead.\n",
      "\n",
      "W0913 10:21:42.557916 140241434658624 deprecation.py:323] From /home/antonina/miniconda3/lib/python3.7/site-packages/tensorflow/python/ops/losses/losses_impl.py:121: add_dispatch_support.<locals>.wrapper (from tensorflow.python.ops.array_ops) is deprecated and will be removed in a future version.\n",
      "Instructions for updating:\n",
      "Use tf.where in 2.0, which has the same broadcast rule as np.where\n",
      "100%|██████████| 781/781 [23:16<00:00,  1.38s/it] \n"
     ]
    }
   ],
   "source": [
    "train_ppl = train_ppl.run(bar=True)"
   ]
  },
  {
   "cell_type": "code",
   "execution_count": 5,
   "metadata": {},
   "outputs": [
    {
     "data": {
      "text/plain": [
       "[<matplotlib.lines.Line2D at 0x7f8ad533d630>]"
      ]
     },
     "execution_count": 5,
     "metadata": {},
     "output_type": "execute_result"
    },
    {
     "data": {
      "image/png": "[encoded data removed]",
      "text/plain": [
       "<Figure size 432x288 with 1 Axes>"
      ]
     },
     "metadata": {
      "needs_background": "light"
     },
     "output_type": "display_data"
    }
   ],
   "source": [
    "from matplotlib import pyplot as plt\n",
    "plt.plot(train_ppl.get_variable('loss_history'))"
   ]
  },
  {
   "cell_type": "code",
   "execution_count": 6,
   "metadata": {},
   "outputs": [
    {
     "name": "stderr",
     "output_type": "stream",
     "text": [
      "100%|██████████| 157/157 [01:07<00:00,  1.57it/s]\n"
     ]
    }
   ],
   "source": [
    "test_pipeline = (cifar.test.p\n",
    "                .import_model('model', train_ppl)\n",
    "                .init_variable('predictions') \n",
    "                .init_variable('metrics') \n",
    "                .to_array()\n",
    "                .predict_model('model', fetches='predictions', \n",
    "                               images=B('images'),\n",
    "                               save_to=V('predictions'))\n",
    "                .gather_metrics('class', targets=B('labels'), predictions=V('predictions'),\n",
    "                                fmt='logits', axis=-1, save_to=V('metrics', mode='u'))\n",
    "                .run(64, shuffle=True, n_epochs=1, drop_last=False, bar=True)\n",
    ")"
   ]
  },
  {
   "cell_type": "code",
   "execution_count": 7,
   "metadata": {},
   "outputs": [
    {
     "data": {
      "text/plain": [
       "0.1"
      ]
     },
     "execution_count": 7,
     "metadata": {},
     "output_type": "execute_result"
    }
   ],
   "source": [
    "metrics = test_pipeline.get_variable('metrics')\n",
    "\n",
    "metrics.evaluate('accuracy')"
   ]
  },
  {
   "cell_type": "code",
   "execution_count": 8,
   "metadata": {},
   "outputs": [
    {
     "ename": "NameError",
     "evalue": "name 'boom' is not defined",
     "output_type": "error",
     "traceback": [
      "\u001b[0;31m---------------------------------------------------------------------------\u001b[0m",
      "\u001b[0;31mNameError\u001b[0m                                 Traceback (most recent call last)",
      "\u001b[0;32m<ipython-input-8-2269d611b1d7>\u001b[0m in \u001b[0;36m<module>\u001b[0;34m\u001b[0m\n\u001b[0;32m----> 1\u001b[0;31m \u001b[0mboom\u001b[0m\u001b[0;34m\u001b[0m\u001b[0m\n\u001b[0m",
      "\u001b[0;31mNameError\u001b[0m: name 'boom' is not defined"
     ]
    }
   ],
   "source": [
    "boom"
   ]
  },
  {
   "cell_type": "code",
   "execution_count": 10,
   "metadata": {},
   "outputs": [],
   "source": [
    "from batchflow.models.tf import MobileNet_v2, VGG7\n"
   ]
  },
  {
   "cell_type": "code",
   "execution_count": 9,
   "metadata": {},
   "outputs": [],
   "source": [
    "train_ppl = (cifar.train.p\n",
    "                  .init_variable('loss') \n",
    "                  .init_model('dynamic', VGG7, 'efficientnet', config=model_config)\n",
    "                  .to_array()\n",
    "                  .train_model('efficientnet', fetches='loss',\n",
    "                               images=B('images'), labels=B('labels'), \n",
    "                               save_to=V('loss'))\n",
    "             .run_later(64, shuffle=True, n_epochs=None))\n",
    "\n",
    "test_ppl = (cifar.test.p\n",
    "                 .import_model('efficientnet', C('import_from'))\n",
    "                 .init_variable('loss')\n",
    "                 .init_variable('predictions')\n",
    "                 .init_variable('metrics')\n",
    "                 .to_array()\n",
    "                 .predict_model('efficientnet', fetches=['loss', 'predictions'],\n",
    "                                images=B('images'), labels=B('labels'), \n",
    "                                save_to=[V('loss'), V('predictions')])\n",
    "                 .gather_metrics('class', targets=B('labels'), predictions=V('predictions'),\n",
    "                                 fmt='logits', axis=-1, save_to=V('metrics', mode='u'))\n",
    "            .run_later(64, shuffle=True, n_epochs=1))\n"
   ]
  },
  {
   "cell_type": "code",
   "execution_count": 11,
   "metadata": {},
   "outputs": [
    {
     "data": {
      "text/plain": [
       "[ConfigAlias({'model': 'MobileNet_v2'}), ConfigAlias({'model': 'VGG7'})]"
      ]
     },
     "execution_count": 11,
     "metadata": {},
     "output_type": "execute_result"
    }
   ],
   "source": [
    "grid = Option('model', [MobileNet_v2, VGG7])\n",
    "\n",
    "list(grid.gen_configs())"
   ]
  },
  {
   "cell_type": "code",
   "execution_count": 12,
   "metadata": {},
   "outputs": [],
   "source": [
    "research = (Research()\n",
    "            .add_pipeline(train_ppl, variables='loss', name='train')\n",
    "            .add_pipeline(test_ppl, variables='loss', name='test', execute=10,\n",
    "                          run=True, import_from='train')\n",
    "            .get_metrics(pipeline='test', metrics_var='metrics', metrics_name='accuracy',\n",
    "                         returns='accuracy', execute=10)\n",
    "            .add_grid(grid))"
   ]
  },
  {
   "cell_type": "code",
   "execution_count": 13,
   "metadata": {},
   "outputs": [],
   "source": [
    "!rm -r efficient_net_research"
   ]
  },
  {
   "cell_type": "code",
   "execution_count": null,
   "metadata": {},
   "outputs": [
    {
     "name": "stdout",
     "output_type": "stream",
     "text": [
      "Research efficient_net_research is starting...\n"
     ]
    },
    {
     "name": "stderr",
     "output_type": "stream",
     "text": [
      "  0%|          | 0/600 [00:00<?, ?it/s]"
     ]
    },
    {
     "name": "stdout",
     "output_type": "stream",
     "text": [
      "Distributor has 6 jobs with 100 iterations. Totally: 600\n"
     ]
    },
    {
     "name": "stderr",
     "output_type": "stream",
     "text": [
      "  0%|          | 2/600 [05:24<26:55:15, 162.07s/it]"
     ]
    }
   ],
   "source": [
    "NUM_REPEATS = 1\n",
    "NUM_ITERS = 10\n",
    "research_name = 'efficient_net_research'\n",
    "\n",
    "research.run(n_reps=NUM_REPEATS, n_iters=NUM_ITERS, name=research_name, bar=True, workers=2, gpu=[6,7])\n"
   ]
  },
  {
   "cell_type": "code",
   "execution_count": null,
   "metadata": {},
   "outputs": [],
   "source": [
    "res = research.load_results(use_alias=True)\n",
    "res.info()"
   ]
  },
  {
   "cell_type": "code",
   "execution_count": null,
   "metadata": {},
   "outputs": [],
   "source": [
    "from batchflow.utils import plot_results_by_config\n",
    "\n",
    "plot_results_by_config(res, (('train', 'loss'), ('test', 'loss'), ('test_metrics', 'accuracy')))"
   ]
  },
  {
   "cell_type": "code",
   "execution_count": null,
   "metadata": {},
   "outputs": [],
   "source": []
  }
 ],
 "metadata": {
  "kernelspec": {
   "display_name": "Python 3",
   "language": "python",
   "name": "python3"
  },
  "language_info": {
   "codemirror_mode": {
    "name": "ipython",
    "version": 3
   },
   "file_extension": ".py",
   "mimetype": "text/x-python",
   "name": "python",
   "nbconvert_exporter": "python",
   "pygments_lexer": "ipython3",
   "version": "3.7.3"
  }
 },
 "nbformat": 4,
 "nbformat_minor": 4
}
