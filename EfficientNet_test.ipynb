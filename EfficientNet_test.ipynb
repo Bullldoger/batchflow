{
 "cells": [
  {
   "cell_type": "code",
   "execution_count": 1,
   "metadata": {},
   "outputs": [
    {
     "name": "stdout",
     "output_type": "stream",
     "text": [
      "env: CUDA_VISIBLE_DEVICES='6,7'\n"
     ]
    }
   ],
   "source": [
    "import os\n",
    "import shutil\n",
    "from time import sleep\n",
    "from pprint import pprint\n",
    "\n",
    "import warnings\n",
    "warnings.filterwarnings('ignore')\n",
    "from tensorflow import logging\n",
    "logging.set_verbosity(logging.ERROR)\n",
    "os.environ['TF_CPP_MIN_LOG_LEVEL'] = '3'\n",
    "\n",
    "import tensorflow as tf\n",
    "import numpy as np\n",
    "\n",
    "from batchflow.models.tf import EfficientNetB0, EfficientNetB1, EfficientNetB2, MobileNet_v2\n",
    "\n",
    "from batchflow import Pipeline, B, V, C, D, ImagesBatch\n",
    "from batchflow.opensets import Imagenette320\n",
    "from batchflow.research import Option, Research\n",
    "\n",
    "%env CUDA_VISIBLE_DEVICES='6,7'"
   ]
  },
  {
   "cell_type": "code",
   "execution_count": 2,
   "metadata": {},
   "outputs": [
    {
     "name": "stderr",
     "output_type": "stream",
     "text": [
      "100%|██████████| 2/2 [00:33<00:00, 16.73s/it]\n"
     ]
    }
   ],
   "source": [
    "data = Imagenette160(batch_class=ImagesBatch, bar=True)\n"
   ]
  },
  {
   "cell_type": "code",
   "execution_count": 3,
   "metadata": {},
   "outputs": [],
   "source": [
    "new_res = 160\n",
    "im_shape = (new_res, new_res, 3)\n",
    "\n",
    "model_config = {\n",
    "    'inputs/images/shape': im_shape,\n",
    "    'inputs/labels/classes': D('num_classes'),\n",
    "    'initial_block/inputs': 'images',\n",
    "    'loss': 'ce'\n",
    "}\n",
    "\n",
    "train_ppl = (data.train.p\n",
    "                  .crop('center', (new_res, new_res))\n",
    "                  .init_variable('loss_history', default=[])\n",
    "                  .init_model('dynamic', EfficientNetB0, 'model', config=model_config)\n",
    "                  .to_array()\n",
    "                  .train_model('model', fetches='loss', images=B('images'), labels=B('labels'), \n",
    "                               save_to=V('loss_history', mode='a'))\n",
    "                  .run_later(64, shuffle=True, n_iters=10, drop_last=True))"
   ]
  },
  {
   "cell_type": "code",
   "execution_count": 4,
   "metadata": {},
   "outputs": [
    {
     "name": "stderr",
     "output_type": "stream",
     "text": [
      "100%|██████████| 10/10 [02:39<00:00, 15.93s/it]\n"
     ]
    }
   ],
   "source": [
    "train_ppl = train_ppl.run(bar=True)"
   ]
  },
  {
   "cell_type": "code",
   "execution_count": 5,
   "metadata": {},
   "outputs": [
    {
     "data": {
      "image/png": "[encoded data removed]",
      "text/plain": [
       "<Figure size 432x288 with 1 Axes>"
      ]
     },
     "metadata": {
      "needs_background": "light"
     },
     "output_type": "display_data"
    }
   ],
   "source": [
    "from matplotlib import pyplot as plt\n",
    "plt.plot(train_ppl.get_variable('loss_history'))\n",
    "plt.title('ImageNette resize 160x160 ENB0 batchsize 64');"
   ]
  },
  {
   "cell_type": "code",
   "execution_count": 8,
   "metadata": {},
   "outputs": [
    {
     "name": "stderr",
     "output_type": "stream",
     "text": [
      "100%|██████████| 8/8 [00:03<00:00,  2.00it/s]\n"
     ]
    }
   ],
   "source": [
    "test_pipeline = (data.test.p\n",
    "                 .resize((new_res, new_res))\n",
    "                 .import_model('model', train_ppl)\n",
    "                 .init_variable('predictions') \n",
    "                 .init_variable('metrics') \n",
    "                 .to_array()\n",
    "                 .predict_model('model', fetches='predictions', \n",
    "                                images=B('images'),\n",
    "                                save_to=V('predictions'))\n",
    "                 .gather_metrics('class', targets=B('labels'), predictions=V('predictions'),\n",
    "                                 fmt='logits', axis=-1, save_to=V('metrics', mode='u'))\n",
    "                 .run(64, shuffle=True, n_epochs=1, drop_last=False, bar=True)\n",
    ")"
   ]
  },
  {
   "cell_type": "code",
   "execution_count": 9,
   "metadata": {},
   "outputs": [
    {
     "data": {
      "text/plain": [
       "0.784394250513347"
      ]
     },
     "execution_count": 9,
     "metadata": {},
     "output_type": "execute_result"
    }
   ],
   "source": [
    "metrics = test_pipeline.get_variable('metrics')\n",
    "\n",
    "metrics.evaluate('accuracy')"
   ]
  },
  {
   "cell_type": "code",
   "execution_count": 11,
   "metadata": {},
   "outputs": [
    {
     "name": "stderr",
     "output_type": "stream",
     "text": [
      "100%|██████████| 2/2 [00:13<00:00,  6.86s/it]\n"
     ]
    }
   ],
   "source": [
    "from batchflow.opensets import ImageWoof160\n",
    "data = ImageWoof160(batch_class=ImagesBatch, bar=True)\n"
   ]
  },
  {
   "cell_type": "code",
   "execution_count": 12,
   "metadata": {},
   "outputs": [],
   "source": [
    "new_res = 160 \n",
    "im_shape = (new_res, new_res, 3)\n",
    "\n",
    "model_config = {\n",
    "    'inputs/images/shape': im_shape,\n",
    "    'inputs/labels/classes': D('num_classes'),\n",
    "    'initial_block/inputs': 'images',\n",
    "    'loss': 'ce'\n",
    "}\n",
    "\n",
    "train_ppl = (data.train.p\n",
    "                  .resize((new_res, new_res))\n",
    "                  .init_variable('loss_history', default=[])\n",
    "                  .init_model('dynamic', EfficientNetB0, 'model', config=model_config)\n",
    "                  .to_array()\n",
    "                  .train_model('model', fetches='loss', images=B('images'), labels=B('labels'), \n",
    "                               save_to=V('loss_history', mode='a'))\n",
    "                  .run_later(64, shuffle=True, n_epochs=10, drop_last=True))"
   ]
  },
  {
   "cell_type": "code",
   "execution_count": 13,
   "metadata": {},
   "outputs": [
    {
     "name": "stderr",
     "output_type": "stream",
     "text": [
      "100%|██████████| 1920/1920 [2:50:07<00:00,  5.32s/it]  \n"
     ]
    }
   ],
   "source": [
    "train_ppl = train_ppl.run(bar=True)"
   ]
  },
  {
   "cell_type": "code",
   "execution_count": 14,
   "metadata": {},
   "outputs": [
    {
     "data": {
      "image/png": "[encoded data removed]",
      "text/plain": [
       "<Figure size 432x288 with 1 Axes>"
      ]
     },
     "metadata": {
      "needs_background": "light"
     },
     "output_type": "display_data"
    }
   ],
   "source": [
    "plt.plot(train_ppl.get_variable('loss_history'))\n",
    "plt.title('ImageWoof resize 160x160 ENB0 batchsize 64');"
   ]
  },
  {
   "cell_type": "code",
   "execution_count": 17,
   "metadata": {},
   "outputs": [
    {
     "name": "stderr",
     "output_type": "stream",
     "text": [
      "100%|██████████| 8/8 [00:04<00:00,  2.00it/s]\n"
     ]
    }
   ],
   "source": [
    "test_pipeline = (data.test.p\n",
    "                 .resize((new_res, new_res))\n",
    "                 .import_model('model', train_ppl)\n",
    "                 .init_variable('predictions') \n",
    "                 .init_variable('metrics') \n",
    "                 .to_array()\n",
    "                 .predict_model('model', fetches='predictions', \n",
    "                                images=B('images'),\n",
    "                                save_to=V('predictions'))\n",
    "                 .gather_metrics('class', targets=B('labels'), predictions=V('predictions'),\n",
    "                                 fmt='logits', axis=-1, save_to=V('metrics', mode='u'))\n",
    "                 .run(64, shuffle=True, n_epochs=1, drop_last=False, bar=True)\n",
    ")"
   ]
  },
  {
   "cell_type": "code",
   "execution_count": 18,
   "metadata": {},
   "outputs": [
    {
     "data": {
      "text/plain": [
       "0.5412474849094567"
      ]
     },
     "execution_count": 18,
     "metadata": {},
     "output_type": "execute_result"
    }
   ],
   "source": [
    "metrics = test_pipeline.get_variable('metrics')\n",
    "\n",
    "metrics.evaluate('accuracy')"
   ]
  },
  {
   "cell_type": "code",
   "execution_count": null,
   "metadata": {},
   "outputs": [],
   "source": []
  },
  {
   "cell_type": "code",
   "execution_count": 19,
   "metadata": {},
   "outputs": [
    {
     "name": "stderr",
     "output_type": "stream",
     "text": [
      " 50%|█████     | 1/2 [00:08<00:08,  8.73s/it]\n"
     ]
    }
   ],
   "source": [
    "data = Imagenette160(batch_class=ImagesBatch, bar=True)\n"
   ]
  },
  {
   "cell_type": "code",
   "execution_count": 20,
   "metadata": {},
   "outputs": [],
   "source": [
    "new_res = 160 #EfficientNetB0.resolution\n",
    "im_shape = (new_res, new_res, 3)\n",
    "\n",
    "model_config = {\n",
    "    'inputs/images/shape': im_shape,\n",
    "    'inputs/labels/classes': D('num_classes'),\n",
    "    'initial_block/inputs': 'images',\n",
    "    'loss': 'ce'\n",
    "}\n",
    "\n",
    "train_ppl = (data.train.p\n",
    "                  .resize((new_res, new_res))\n",
    "                  .init_variable('loss_history', default=[])\n",
    "                  .init_model('dynamic', EfficientNetB1, 'model', config=model_config)\n",
    "                  .to_array()\n",
    "                  .train_model('model', fetches='loss', images=B('images'), labels=B('labels'), \n",
    "                               save_to=V('loss_history', mode='a'))\n",
    "                  .run_later(64, shuffle=True, n_epochs=10, drop_last=True))"
   ]
  },
  {
   "cell_type": "code",
   "execution_count": 21,
   "metadata": {},
   "outputs": [
    {
     "name": "stderr",
     "output_type": "stream",
     "text": [
      "100%|██████████| 1970/1970 [2:51:36<00:00,  5.23s/it]  \n"
     ]
    }
   ],
   "source": [
    "train_ppl = train_ppl.run(bar=True)"
   ]
  },
  {
   "cell_type": "code",
   "execution_count": 22,
   "metadata": {},
   "outputs": [
    {
     "data": {
      "image/png": "[encoded data removed]",
      "text/plain": [
       "<Figure size 432x288 with 1 Axes>"
      ]
     },
     "metadata": {
      "needs_background": "light"
     },
     "output_type": "display_data"
    }
   ],
   "source": [
    "from matplotlib import pyplot as plt\n",
    "plt.plot(train_ppl.get_variable('loss_history'))\n",
    "plt.title('ImageNette resize 160x160 ENB1 batchsize 64');"
   ]
  },
  {
   "cell_type": "code",
   "execution_count": 23,
   "metadata": {},
   "outputs": [
    {
     "name": "stderr",
     "output_type": "stream",
     "text": [
      "100%|██████████| 8/8 [00:05<00:00,  1.36it/s]\n"
     ]
    }
   ],
   "source": [
    "test_pipeline = (data.test.p\n",
    "                 .resize((new_res, new_res))\n",
    "                 .import_model('model', train_ppl)\n",
    "                 .init_variable('predictions') \n",
    "                 .init_variable('metrics') \n",
    "                 .to_array()\n",
    "                 .predict_model('model', fetches='predictions', \n",
    "                                images=B('images'),\n",
    "                                save_to=V('predictions'))\n",
    "                 .gather_metrics('class', targets=B('labels'), predictions=V('predictions'),\n",
    "                                 fmt='logits', axis=-1, save_to=V('metrics', mode='u'))\n",
    "                 .run(64, shuffle=True, n_epochs=1, drop_last=False, bar=True)\n",
    ")"
   ]
  },
  {
   "cell_type": "code",
   "execution_count": 24,
   "metadata": {},
   "outputs": [
    {
     "data": {
      "text/plain": [
       "0.7741273100616016"
      ]
     },
     "execution_count": 24,
     "metadata": {},
     "output_type": "execute_result"
    }
   ],
   "source": [
    "metrics = test_pipeline.get_variable('metrics')\n",
    "\n",
    "metrics.evaluate('accuracy')"
   ]
  },
  {
   "cell_type": "code",
   "execution_count": null,
   "metadata": {},
   "outputs": [],
   "source": []
  }
 ],
 "metadata": {
  "kernelspec": {
   "display_name": "Python 3",
   "language": "python",
   "name": "python3"
  },
  "language_info": {
   "codemirror_mode": {
    "name": "ipython",
    "version": 3
   },
   "file_extension": ".py",
   "mimetype": "text/x-python",
   "name": "python",
   "nbconvert_exporter": "python",
   "pygments_lexer": "ipython3",
   "version": "3.5.2"
  }
 },
 "nbformat": 4,
 "nbformat_minor": 4
}
